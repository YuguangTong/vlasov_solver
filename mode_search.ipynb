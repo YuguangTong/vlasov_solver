{
 "metadata": {
  "name": "",
  "signature": "sha256:b5b722e924aa6ad2166b5268ab29fac255e98fd7c4bcd4e98009d5157cf2c757"
 },
 "nbformat": 3,
 "nbformat_minor": 0,
 "worksheets": [
  {
   "cells": [
    {
     "cell_type": "code",
     "collapsed": false,
     "input": [
      "import numpy as np\n",
      "import scipy.special, scipy.optimize\n",
      "from py_vlasov.dispersion_tensor import dt_wrapper\n",
      "from py_vlasov.util import (real_imag, list_to_complex)\n",
      "import matplotlib.pyplot as plt\n",
      "%matplotlib inline"
     ],
     "language": "python",
     "metadata": {},
     "outputs": [],
     "prompt_number": 28
    },
    {
     "cell_type": "heading",
     "level": 6,
     "metadata": {},
     "source": [
      "To find the dispersion relation of Alfven or slow mode, we first adjust beta, then adjust angle, and finally deal with the right k"
     ]
    },
    {
     "cell_type": "heading",
     "level": 6,
     "metadata": {},
     "source": [
      "seed"
     ]
    },
    {
     "cell_type": "heading",
     "level": 6,
     "metadata": {},
     "source": [
      "angle = 85\n",
      "k = 0.1\n",
      "beta = 0.2\n",
      "freq = 0.01190802-0.00635779j"
     ]
    },
    {
     "cell_type": "code",
     "collapsed": false,
     "input": [
      "seed_angle = 85\n",
      "seed_beta = 0.2\n",
      "seed_k = 0.1\n",
      "seed_freq = 0.01190802-0.00635779j\n",
      "target_angle = 89.9\n",
      "target_beta = 0.6\n",
      "target_k = 1.2"
     ],
     "language": "python",
     "metadata": {},
     "outputs": [],
     "prompt_number": 40
    },
    {
     "cell_type": "heading",
     "level": 6,
     "metadata": {},
     "source": [
      "now lets first adjust angle to 89.9 degrees"
     ]
    },
    {
     "cell_type": "code",
     "collapsed": false,
     "input": [
      "beta = seed_beta\n",
      "k = seed_k\n",
      "theta = seed_angle\n",
      "start = seed_angle\n",
      "stop = target_angle\n",
      "num = 10\n",
      "angle_list_1 = np.linspace(start, stop, num, endpoint=True)\n",
      "print(angle_list_1)"
     ],
     "language": "python",
     "metadata": {},
     "outputs": [
      {
       "output_type": "stream",
       "stream": "stdout",
       "text": [
        "[ 85.          85.54444444  86.08888889  86.63333333  87.17777778\n",
        "  87.72222222  88.26666667  88.81111111  89.35555556  89.9       ]\n"
       ]
      }
     ],
     "prompt_number": 41
    },
    {
     "cell_type": "code",
     "collapsed": false,
     "input": [
      "theta = seed_angle\n",
      "theta = theta * np.pi/180.\n",
      "result_1 = [seed_freq]\n",
      "for i in list(range(num))[1:]:\n",
      "    theta = angle_list_1[i]\n",
      "    theta = theta * np.pi/180.\n",
      "    kz = k * np.cos(theta)\n",
      "    kp = k * np.sin(theta)\n",
      "    f = lambda wrel: real_imag(dt_wrapper(wrel[0] + 1j * wrel[1], kp, kz, beta, tetp = 1, method = 'numpy'))\n",
      "    prev_angle = angle_list_1[i-1]\n",
      "    guess = result_1[-1] * np.cos(theta)/ np.cos( prev_angle * np.pi/180)\n",
      "    freq = scipy.optimize.fsolve(f, real_imag(guess))\n",
      "    result_1 += [list_to_complex(freq)]"
     ],
     "language": "python",
     "metadata": {},
     "outputs": [],
     "prompt_number": 43
    },
    {
     "cell_type": "code",
     "collapsed": false,
     "input": [
      "result_1"
     ],
     "language": "python",
     "metadata": {},
     "outputs": [
      {
       "metadata": {},
       "output_type": "pyout",
       "prompt_number": 44,
       "text": [
        "[(0.01190802-0.00635779j),\n",
        " (0.010613953326415886-0.0056680463213436439j),\n",
        " (0.0093189932165883074-0.0049774239928960292j),\n",
        " (0.0080232503090153194-0.0042860282375113412j),\n",
        " (0.0067268330742338645-0.003593966470392757j),\n",
        " (0.0054298502063908002-0.0029013462192311718j),\n",
        " (0.0041324105871603095-0.0022082751055903407j),\n",
        " (0.0028346232497368021-0.0015148608263531548j),\n",
        " (0.0015365973423776965-0.00082121113593083177j),\n",
        " (0.00023844209231574398-0.00012743382805434684j)]"
       ]
      }
     ],
     "prompt_number": 44
    },
    {
     "cell_type": "heading",
     "level": 6,
     "metadata": {},
     "source": [
      "then we adjust beta value"
     ]
    },
    {
     "cell_type": "code",
     "collapsed": false,
     "input": [
      "theta = target_angle\n",
      "theta = theta * np.pi/180\n",
      "kz = 0.1 * np.cos(theta)\n",
      "kp = 0.1 * np.sin(theta)\n",
      "beta = seed_beta"
     ],
     "language": "python",
     "metadata": {},
     "outputs": [],
     "prompt_number": 45
    },
    {
     "cell_type": "code",
     "collapsed": false,
     "input": [
      "start = np.log10(beta)\n",
      "stop = np.log10(target_beta)\n",
      "num = 10\n",
      "beta_list = np.logspace(start, stop, num, endpoint = True)\n",
      "print(beta_list)"
     ],
     "language": "python",
     "metadata": {},
     "outputs": [
      {
       "output_type": "stream",
       "stream": "stdout",
       "text": [
        "[ 0.2         0.22596619  0.2553036   0.28844991  0.32589964  0.36821151\n",
        "  0.41601676  0.47002862  0.53105289  0.6       ]\n"
       ]
      }
     ],
     "prompt_number": 46
    },
    {
     "cell_type": "code",
     "collapsed": false,
     "input": [
      "result_2 = [result_1[-1]]\n",
      "for beta in beta_list[1:]:\n",
      "    f = lambda wrel: real_imag(dt_wrapper(wrel[0] + 1j * wrel[1], kp, kz, beta, tetp = 1, method = 'numpy'))\n",
      "    freq = scipy.optimize.fsolve(f, real_imag(result_2[-1]))\n",
      "    print(result_2[-1])\n",
      "    result_2 += [list_to_complex(freq)]"
     ],
     "language": "python",
     "metadata": {},
     "outputs": [
      {
       "output_type": "stream",
       "stream": "stdout",
       "text": [
        "(0.000238442092316-0.000127433828054j)\n",
        "(0.000237024997866-0.000129175750508j)\n",
        "(0.000235543231937-0.000131017056143j)"
       ]
      },
      {
       "output_type": "stream",
       "stream": "stdout",
       "text": [
        "\n",
        "(0.000234007401372-0.000132945506013j)\n",
        "(0.000232430313025-0.000134944502856j)"
       ]
      },
      {
       "output_type": "stream",
       "stream": "stdout",
       "text": [
        "\n",
        "(0.000230826735708-0.000136993182775j)\n",
        "(0.000229213081321-0.000139067052708j)"
       ]
      },
      {
       "output_type": "stream",
       "stream": "stdout",
       "text": [
        "\n",
        "(0.000227606940691-0.000141139261062j)\n",
        "(0.00022602635445-0.00014318239971j)"
       ]
      },
      {
       "output_type": "stream",
       "stream": "stdout",
       "text": [
        "\n"
       ]
      }
     ],
     "prompt_number": 47
    },
    {
     "cell_type": "heading",
     "level": 6,
     "metadata": {},
     "source": [
      "then we extend to larger k value"
     ]
    },
    {
     "cell_type": "code",
     "collapsed": false,
     "input": [
      "beta = target_beta\n",
      "theta = target_angle\n",
      "theta = theta * np.pi/180"
     ],
     "language": "python",
     "metadata": {},
     "outputs": [],
     "prompt_number": 48
    },
    {
     "cell_type": "code",
     "collapsed": false,
     "input": [
      "start = np.log10(seed_k)\n",
      "stop = np.log10(target_k)\n",
      "num = 20\n",
      "klist = np.logspace(start, stop, num=num, endpoint=True)\n",
      "print(klist)"
     ],
     "language": "python",
     "metadata": {},
     "outputs": [
      {
       "output_type": "stream",
       "stream": "stdout",
       "text": [
        "[ 0.1         0.11397222  0.12989667  0.14804612  0.16873146  0.19230699\n",
        "  0.21917655  0.24980038  0.28470304  0.32448238  0.36981977  0.42149181\n",
        "  0.48038358  0.54750384  0.62400229  0.71118927  0.81055821  0.92381119\n",
        "  1.05288814  1.2       ]\n"
       ]
      }
     ],
     "prompt_number": 49
    },
    {
     "cell_type": "code",
     "collapsed": false,
     "input": [
      "result_3 = [result_2[-1]]\n",
      "for k in klist[1:]:\n",
      "    kz = k * np.cos(theta)\n",
      "    kp = k * np.sin(theta)\n",
      "    f = lambda wrel: real_imag(dt_wrapper(wrel[0] + 1j * wrel[1], kp, kz, beta, tetp = 1, method = 'numpy'))\n",
      "    freq = scipy.optimize.fsolve(f, real_imag(result_3[-1]))\n",
      "    result_3 += [list_to_complex(freq)]"
     ],
     "language": "python",
     "metadata": {},
     "outputs": [],
     "prompt_number": 50
    },
    {
     "cell_type": "code",
     "collapsed": false,
     "input": [
      "result_3"
     ],
     "language": "python",
     "metadata": {},
     "outputs": [
      {
       "metadata": {},
       "output_type": "pyout",
       "prompt_number": 51,
       "text": [
        "[(0.00022448884905019287-0.00014517047583873343j),\n",
        " (0.00025579108267332267-0.0001655000221257876j),\n",
        " (0.00029143632649025275-0.00018869216315901417j),\n",
        " (0.00033201675337400253-0.00021515748915204257j),\n",
        " (0.00037820029905164687-0.0002453690654395861j),\n",
        " (0.00043073795372798146-0.00027987361400554512j),\n",
        " (0.00049047053761423916-0.00031930544483904037j),\n",
        " (0.00055833420917955102-0.00036440408520795709j),\n",
        " (0.0006353635668165773-0.00041603697224993648j),\n",
        " (0.0007226906770947956-0.00047522918904452697j),\n",
        " (0.00082153771208996024-0.00054320311183311777j),\n",
        " (0.000933200140037476-0.00062143214962272783j),\n",
        " (0.0010590168053921853-0.00071171471715698517j),\n",
        " (0.0012003234269204889-0.00081627720630411465j),\n",
        " (0.0013583883107802773-0.00093791805797115418j),\n",
        " (0.001534336109504648-0.0010802076263534298j),\n",
        " (0.0017290808404370759-0.0012477563501544914j),\n",
        " (0.0019433150687055488-0.0014465465729792948j),\n",
        " (0.0021776292705116074-0.0016842771418066236j),\n",
        " (0.0024328351084586036-0.0019705929841405318j)]"
       ]
      }
     ],
     "prompt_number": 51
    },
    {
     "cell_type": "heading",
     "level": 6,
     "metadata": {},
     "source": [
      "normalize to dimensionless frequency: $\\bar{\\omega}\\equiv \\omega/k_z v_A$"
     ]
    },
    {
     "cell_type": "code",
     "collapsed": false,
     "input": [
      "theta = target_angle * np.pi/180\n",
      "kz = target_k * np.cos(theta)\n",
      "print(kz)\n",
      "w = result_3[-1]\n",
      "w_bar = w/kz/np.sqrt(target_beta)\n",
      "print(w_bar)"
     ],
     "language": "python",
     "metadata": {},
     "outputs": [
      {
       "output_type": "stream",
       "stream": "stdout",
       "text": [
        "0.00209439403908\n",
        "(1.49961113387-1.21468288955j)\n"
       ]
      }
     ],
     "prompt_number": 85
    },
    {
     "cell_type": "code",
     "collapsed": false,
     "input": [],
     "language": "python",
     "metadata": {},
     "outputs": []
    }
   ],
   "metadata": {}
  }
 ]
}