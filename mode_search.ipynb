{
 "metadata": {
  "name": "",
  "signature": "sha256:a88766613ba89a1766a1345c6532f8af15ae37d8419cf6874891a0933d16189f"
 },
 "nbformat": 3,
 "nbformat_minor": 0,
 "worksheets": [
  {
   "cells": [
    {
     "cell_type": "heading",
     "level": 1,
     "metadata": {},
     "source": [
      "Script to find MHD modes"
     ]
    },
    {
     "cell_type": "code",
     "collapsed": false,
     "input": [
      "import numpy as np\n",
      "import scipy.special, scipy.optimize\n",
      "from py_vlasov.dispersion_tensor import dt_wrapper\n",
      "from py_vlasov.util import (real_imag, list_to_complex)\n",
      "import matplotlib.pyplot as plt\n",
      "%matplotlib inline"
     ],
     "language": "python",
     "metadata": {},
     "outputs": [],
     "prompt_number": 1
    },
    {
     "cell_type": "heading",
     "level": 6,
     "metadata": {},
     "source": [
      "To find the dispersion relation of Alfven or slow mode, we first adjust beta, then adjust angle, and finally deal with the right k"
     ]
    },
    {
     "cell_type": "heading",
     "level": 6,
     "metadata": {},
     "source": [
      "seed"
     ]
    },
    {
     "cell_type": "heading",
     "level": 6,
     "metadata": {},
     "source": [
      "angle = 85\n",
      "k = 0.1\n",
      "beta = 0.2\n",
      "freq = 0.01190802-0.00635779j"
     ]
    },
    {
     "cell_type": "code",
     "collapsed": false,
     "input": [
      "mass_ratio = 100\n",
      "seed_angle = 85\n",
      "seed_beta = 0.2\n",
      "seed_k = 0.1\n",
      "#seed_freq = 0.01190802-0.00635779j # slow mode\n",
      "#seed_freq = 0.26147871 -0.00747444j # fast mode\n",
      "seed_freq = 1.95444741e-02 -6.32084029e-06j # alfven mode\n",
      "target_angle = 89.99\n",
      "target_beta = 0.6\n",
      "target_k = 0.6"
     ],
     "language": "python",
     "metadata": {},
     "outputs": [],
     "prompt_number": 155
    },
    {
     "cell_type": "heading",
     "level": 6,
     "metadata": {},
     "source": [
      "now lets first adjust angle to 89.9 degrees"
     ]
    },
    {
     "cell_type": "code",
     "collapsed": false,
     "input": [
      "beta = seed_beta\n",
      "k = seed_k\n",
      "theta = seed_angle\n",
      "start = seed_angle\n",
      "stop = target_angle\n",
      "num = 10\n",
      "angle_list_1 = np.linspace(start, stop, num, endpoint=True)\n",
      "print(angle_list_1)"
     ],
     "language": "python",
     "metadata": {},
     "outputs": [
      {
       "output_type": "stream",
       "stream": "stdout",
       "text": [
        "[ 85.          85.55444444  86.10888889  86.66333333  87.21777778\n",
        "  87.77222222  88.32666667  88.88111111  89.43555556  89.99      ]\n"
       ]
      }
     ],
     "prompt_number": 156
    },
    {
     "cell_type": "code",
     "collapsed": false,
     "input": [
      "theta = seed_angle\n",
      "theta = theta * np.pi/180.\n",
      "result_1 = [seed_freq]\n",
      "for i in list(range(num))[1:]:\n",
      "    theta = angle_list_1[i]\n",
      "    theta = theta * np.pi/180.\n",
      "    kz = k * np.cos(theta)\n",
      "    kp = k * np.sin(theta)\n",
      "    f = lambda wrel: real_imag(dt_wrapper(wrel[0] + 1j * wrel[1], kp, kz, beta, tetp = 1, method = 'numpy', mratio=mass_ratio))\n",
      "    prev_angle = angle_list_1[i-1]\n",
      "    guess = result_1[-1] * np.cos(theta)/ np.cos( prev_angle * np.pi/180)\n",
      "    freq = scipy.optimize.fsolve(f, real_imag(guess))\n",
      "    result_1 += [list_to_complex(freq)]"
     ],
     "language": "python",
     "metadata": {},
     "outputs": [],
     "prompt_number": 157
    },
    {
     "cell_type": "code",
     "collapsed": false,
     "input": [
      "result_1"
     ],
     "language": "python",
     "metadata": {},
     "outputs": [
      {
       "metadata": {},
       "output_type": "pyout",
       "prompt_number": 158,
       "text": [
        "[(0.0195444741-6.32084029e-06j),\n",
        " (0.01729691752682419-2.1261778615184248e-05j),\n",
        " (0.015143741097102328-1.8631948351510963e-05j),\n",
        " (0.012988938659436051-1.5993430307109803e-05j),\n",
        " (0.010832741925948243-1.3347422031246434e-05j),\n",
        " (0.0086753825980187618-1.0695139657036497e-05j),\n",
        " (0.0065170923685267399-8.0378148142848912e-06j),\n",
        " (0.00435810292382483-5.3766915357752893e-06j),\n",
        " (0.0021986459457265439-2.7130231705597601e-06j),\n",
        " (3.8953181109838116e-05-4.8069064596864201e-08j)]"
       ]
      }
     ],
     "prompt_number": 158
    },
    {
     "cell_type": "heading",
     "level": 6,
     "metadata": {},
     "source": [
      "then we adjust beta value"
     ]
    },
    {
     "cell_type": "code",
     "collapsed": false,
     "input": [
      "theta = target_angle\n",
      "theta = theta * np.pi/180\n",
      "kz = 0.1 * np.cos(theta)\n",
      "kp = 0.1 * np.sin(theta)\n",
      "beta = seed_beta"
     ],
     "language": "python",
     "metadata": {},
     "outputs": [],
     "prompt_number": 159
    },
    {
     "cell_type": "code",
     "collapsed": false,
     "input": [
      "start = np.log10(seed_beta)\n",
      "stop = np.log10(target_beta)\n",
      "num = 10\n",
      "beta_list = np.logspace(start, stop, num, endpoint = True)\n",
      "print(beta_list)"
     ],
     "language": "python",
     "metadata": {},
     "outputs": [
      {
       "output_type": "stream",
       "stream": "stdout",
       "text": [
        "[ 0.2         0.22596619  0.2553036   0.28844991  0.32589964  0.36821151\n",
        "  0.41601676  0.47002862  0.53105289  0.6       ]\n"
       ]
      }
     ],
     "prompt_number": 160
    },
    {
     "cell_type": "code",
     "collapsed": false,
     "input": [
      "result_2 = [result_1[-1]]\n",
      "for beta in beta_list[1:]:\n",
      "    f = lambda wrel: real_imag(dt_wrapper(wrel[0] + 1j * wrel[1], kp, kz, beta, tetp = 1, method = 'numpy', mratio=mass_ratio))\n",
      "    freq = scipy.optimize.fsolve(f, real_imag(result_2[-1]))\n",
      "    print(result_2[-1])\n",
      "    result_2 += [list_to_complex(freq)]"
     ],
     "language": "python",
     "metadata": {},
     "outputs": [
      {
       "output_type": "stream",
       "stream": "stdout",
       "text": [
        "(3.89531811098e-05-4.80690645969e-08j)\n",
        "(3.66428355713e-05-4.39651605658e-08j)"
       ]
      },
      {
       "output_type": "stream",
       "stream": "stdout",
       "text": [
        "\n",
        "(3.44687756795e-05-4.01387582837e-08j)"
       ]
      },
      {
       "output_type": "stream",
       "stream": "stdout",
       "text": [
        "\n",
        "(3.24234411622e-05-3.64712251274e-08j)"
       ]
      },
      {
       "output_type": "stream",
       "stream": "stdout",
       "text": [
        "\n",
        "(3.0499187269e-05-3.29056696391e-08j)"
       ]
      },
      {
       "output_type": "stream",
       "stream": "stdout",
       "text": [
        "\n",
        "(2.86890243396e-05-2.94544651494e-08j)"
       ]
      },
      {
       "output_type": "stream",
       "stream": "stdout",
       "text": [
        "\n",
        "(2.69861534616e-05-2.61861193049e-08j)"
       ]
      },
      {
       "output_type": "stream",
       "stream": "stdout",
       "text": [
        "\n",
        "(2.53848145125e-05-2.31910828642e-08j)"
       ]
      },
      {
       "output_type": "stream",
       "stream": "stdout",
       "text": [
        "\n",
        "(2.38785075138e-05-2.05537618852e-08j)\n"
       ]
      }
     ],
     "prompt_number": 161
    },
    {
     "cell_type": "heading",
     "level": 6,
     "metadata": {},
     "source": [
      "then we extend to larger k value"
     ]
    },
    {
     "cell_type": "code",
     "collapsed": false,
     "input": [
      "beta = target_beta\n",
      "theta = target_angle\n",
      "theta = theta * np.pi/180"
     ],
     "language": "python",
     "metadata": {},
     "outputs": [],
     "prompt_number": 162
    },
    {
     "cell_type": "code",
     "collapsed": false,
     "input": [
      "start = np.log10(seed_k)\n",
      "stop = np.log10(target_k)\n",
      "num = 40\n",
      "klist = np.logspace(start, stop, num=num, endpoint=True)\n",
      "print(klist)"
     ],
     "language": "python",
     "metadata": {},
     "outputs": [
      {
       "output_type": "stream",
       "stream": "stdout",
       "text": [
        "[ 0.1         0.10470143  0.10962389  0.11477777  0.12017396  0.12582385\n",
        "  0.13173937  0.137933    0.14441781  0.15120751  0.15831642  0.16575955\n",
        "  0.17355261  0.18171206  0.19025512  0.19919982  0.20856505  0.21837058\n",
        "  0.22863711  0.23938632  0.25064089  0.26242459  0.27476228  0.28768003\n",
        "  0.30120509  0.31536602  0.33019272  0.34571649  0.3619701   0.37898785\n",
        "  0.39680568  0.41546121  0.43499381  0.45544472  0.47685712  0.4992762\n",
        "  0.5227493   0.54732597  0.5730581   0.6       ]\n"
       ]
      }
     ],
     "prompt_number": 163
    },
    {
     "cell_type": "code",
     "collapsed": false,
     "input": [
      "result_3 = [result_2[-1]]\n",
      "for k in klist[1:]:\n",
      "    kz = k * np.cos(theta)\n",
      "    kp = k * np.sin(theta)\n",
      "    f = lambda wrel: real_imag(dt_wrapper(wrel[0] + 1j * wrel[1], kp, kz, beta, tetp = 1, method = 'numpy', mratio=mass_ratio))\n",
      "    freq = scipy.optimize.fsolve(f, real_imag(result_3[-1]))\n",
      "    result_3 += [list_to_complex(freq)]"
     ],
     "language": "python",
     "metadata": {},
     "outputs": [],
     "prompt_number": 164
    },
    {
     "cell_type": "code",
     "collapsed": false,
     "input": [
      "result_3"
     ],
     "language": "python",
     "metadata": {},
     "outputs": [
      {
       "metadata": {},
       "output_type": "pyout",
       "prompt_number": 165,
       "text": [
        "[(2.2461750867990493e-05-1.8327090082438539e-08j),\n",
        " (2.3521952769280467e-05-2.1034843963573017e-08j),\n",
        " (2.4632617912735296e-05-2.4141884737838206e-08j),\n",
        " (2.5796203318255297e-05-2.7708143430523089e-08j),\n",
        " (2.7015319254092155e-05-3.1801029461186736e-08j),\n",
        " (2.8292676586046181e-05-3.6498838582330872e-08j),\n",
        " (2.963104159577379e-05-4.1889755296289509e-08j),\n",
        " (3.1033750284680527e-05-4.8076222727486063e-08j),\n",
        " (3.250371759824421e-05-5.5176591332145194e-08j),\n",
        " (3.4044552921997319e-05-6.3326171746967922e-08j),\n",
        " (3.5659589625692664e-05-7.2675383064059719e-08j),\n",
        " (3.7352693011230417e-05-8.3406409840143169e-08j),\n",
        " (3.9127850362109084e-05-9.572096425237564e-08j),\n",
        " (4.0989284614527052e-05-1.0985245045046926e-07j),\n",
        " (4.2941462195281879e-05-1.2606866012095615e-07j),\n",
        " (4.4989134756172196e-05-1.4467668354754894e-07j),\n",
        " (4.7137339098866465e-05-1.6602880025707596e-07j),\n",
        " (4.9391432580792498e-05-1.9052902123353921e-07j),\n",
        " (5.1757038526624165e-05-2.1862316732332956e-07j),\n",
        " (5.4240471533716765e-05-2.5089504252989573e-07j),\n",
        " (5.6847952573696212e-05-2.8790169998231221e-07j),\n",
        " (5.9586606301375942e-05-3.3035754273168022e-07j),\n",
        " (6.2463677469500937e-05-3.7906385855022712e-07j),\n",
        " (6.5487308656492527e-05-4.3494085136308403e-07j),\n",
        " (6.8665873794319582e-05-4.9903764374054881e-07j),\n",
        " (7.200876544762822e-05-5.7255734250189125e-07j),\n",
        " (7.5525738529114091e-05-6.5688331034730758e-07j),\n",
        " (7.9227552733930598e-05-7.5359549794145292e-07j),\n",
        " (8.3125768665538122e-05-8.6450495363560612e-07j),\n",
        " (8.7232980424429801e-05-9.9168341141647936e-07j),\n",
        " (9.1562885225583064e-05-1.1375011486459461e-06j),\n",
        " (9.6130200865632507e-05-1.3046764052335916e-06j),\n",
        " (0.00010095129323160798-1.4963077228571425e-06j),\n",
        " (0.00010604385433666288-1.7159440698039753e-06j),\n",
        " (0.00011142723758835481-1.9676433040000042e-06j),\n",
        " (0.00011712292494168295-2.2560291717788503e-06j),\n",
        " (0.00012315430271756932-2.5863917365643188e-06j),\n",
        " (0.00012954743430795501-2.9647511385306805e-06j),\n",
        " (0.00013633088407894736-3.3979828763570592e-06j),\n",
        " (0.00014353654036369481-3.8939016701515177e-06j)]"
       ]
      }
     ],
     "prompt_number": 165
    },
    {
     "cell_type": "heading",
     "level": 6,
     "metadata": {},
     "source": [
      "normalize to dimensionless frequency: $\\bar{\\omega}\\equiv \\omega/k_z v_A$"
     ]
    },
    {
     "cell_type": "code",
     "collapsed": false,
     "input": [
      "theta = target_angle * np.pi/180\n",
      "kz = target_k * np.cos(theta)\n",
      "print(kz)\n",
      "w = result_3[-1]\n",
      "print(w)\n",
      "w_bar = w/kz * np.sqrt(target_beta)\n",
      "print(w_bar)"
     ],
     "language": "python",
     "metadata": {},
     "outputs": [
      {
       "output_type": "stream",
       "stream": "stdout",
       "text": [
        "0.000104719754588\n",
        "(0.000143536540364-3.89390167015e-06j)\n",
        "(1.06171874177-0.0288026196768j)\n"
       ]
      }
     ],
     "prompt_number": 166
    },
    {
     "cell_type": "heading",
     "level": 3,
     "metadata": {},
     "source": [
      "Reference: Alfven mode guess"
     ]
    },
    {
     "cell_type": "code",
     "collapsed": false,
     "input": [
      "theta = target_angle * np.pi/180\n",
      "kz = target_k * np.cos(theta)\n",
      "kp = target_k * np.sin(theta)\n",
      "beta = target_beta\n",
      "alfven = kz/np.sqrt(beta)\n",
      "print(alfven)"
     ],
     "language": "python",
     "metadata": {},
     "outputs": [
      {
       "output_type": "stream",
       "stream": "stdout",
       "text": [
        "9.01284145642e-06\n"
       ]
      }
     ],
     "prompt_number": 205
    },
    {
     "cell_type": "code",
     "collapsed": false,
     "input": [
      "f = lambda wrel: real_imag(dt_wrapper(wrel[0] + 1j * wrel[1], kp, kz, beta, tetp = 1, method = 'numpy'))\n",
      "freq = scipy.optimize.fsolve(f, [alfven, 0])\n",
      "print(freq)"
     ],
     "language": "python",
     "metadata": {},
     "outputs": [
      {
       "output_type": "stream",
       "stream": "stdout",
       "text": [
        "[  9.00662345e-06  -5.61887815e-10]\n"
       ]
      }
     ],
     "prompt_number": 206
    },
    {
     "cell_type": "code",
     "collapsed": false,
     "input": [],
     "language": "python",
     "metadata": {},
     "outputs": []
    }
   ],
   "metadata": {}
  }
 ]
}