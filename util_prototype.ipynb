{
 "metadata": {
  "name": "",
  "signature": "sha256:1279aad3612a0cbdf59da866586c577cd77c03a7be4d58f284b65a6169f1e4e7"
 },
 "nbformat": 3,
 "nbformat_minor": 0,
 "worksheets": [
  {
   "cells": [
    {
     "cell_type": "heading",
     "level": 3,
     "metadata": {},
     "source": [
      "Pade approximations to plasma dispersion function"
     ]
    },
    {
     "cell_type": "code",
     "collapsed": false,
     "input": [
      "import numpy as np\n",
      "import mpmath as mp\n",
      "import scipy.special"
     ],
     "language": "python",
     "metadata": {},
     "outputs": [],
     "prompt_number": 30
    },
    {
     "cell_type": "code",
     "collapsed": false,
     "input": [
      "c_arr = np.array([\n",
      "2.237687789201900 - 1.625940856173727j,\n",
      "-2.237687789201900 - 1.625940856173727j,\n",
      "1.465234126106004 - 1.789620129162444j,\n",
      "-1.465234126106004 - 1.789620129162444j,\n",
      "0.8392539817232638 - 1.891995045765206j,\n",
      "-0.8392539817232638 - 1.891995045765206j,\n",
      "0.2739362226285564 - 1.941786875844713j,\n",
      "-0.2739362226285564 -1.941786875844713j])"
     ],
     "language": "python",
     "metadata": {},
     "outputs": [],
     "prompt_number": 2
    },
    {
     "cell_type": "code",
     "collapsed": false,
     "input": [
      "b_arr = np.array([-0.01734012457471826 - 0.04630639291680322j,\n",
      "-0.01734012457471826 + 0.04630639291680322j,\n",
      "-0.7399169923225014 + 0.8395179978099844j,\n",
      "-0.7399169923225014 - 0.8395179978099844j,\n",
      "5.840628642184073 + 0.9536009057643667j,\n",
      "5.840628642184073 - 0.9536009057643667j,\n",
      "-5.583371525286853 - 11.20854319126599j,\n",
      "-5.583371525286853 + 11.20854319126599j])"
     ],
     "language": "python",
     "metadata": {},
     "outputs": [],
     "prompt_number": 4
    },
    {
     "cell_type": "code",
     "collapsed": false,
     "input": [
      "def pade(z):\n",
      "    \"\"\"\n",
      "    Pade approximations to plasma dispersion function.\n",
      "    \n",
      "    Keyword arguments:\n",
      "    z: dimensionless argument of the plasma dispersion function.\n",
      "    \n",
      "    Return the value of Zp(z) using Pade approximations.\n",
      "    \"\"\"\n",
      "    return np.sum(b_arr/(z-c_arr))\n",
      "    "
     ],
     "language": "python",
     "metadata": {},
     "outputs": [],
     "prompt_number": 21
    },
    {
     "cell_type": "code",
     "collapsed": false,
     "input": [
      "def zp_mp(z):\n",
      "    \"\"\"\n",
      "    Plasma dispersion function to user-defined precison.                              \n",
      "    Utilize the complementary error function in mpmath library.                       \n",
      "\n",
      "    Keyword arguments:\n",
      "    z: dimensionless argument of the plasma dispersion function.\n",
      "    \n",
      "    Return the value of Zp(z) to arbitrary precision.\n",
      "    'import mpmath' and 'mpmath.mp.dps=n' set the precison to n digit.\n",
      "    \"\"\"\n",
      "    return -mp.sqrt(mp.pi) * mp.exp(-z**2) * mp.erfi(z) + mp.mpc(0, 1) * mp.sqrt(mp.pi) * mp.exp(-z**2)"
     ],
     "language": "python",
     "metadata": {},
     "outputs": [],
     "prompt_number": 22
    },
    {
     "cell_type": "code",
     "collapsed": false,
     "input": [
      "def zp(z):\n",
      "    \"\"\"\n",
      "    Plasma dispersion function\n",
      "    Utilize the Dawnson function, dawsn, in scipy.special module.\n",
      "\n",
      "    Keyword arguments:\n",
      "    z: dimensionless argument of the plasma dispersion function.\n",
      "    \n",
      "    Return the value of Zp(z)\n",
      "    \"\"\"\n",
      "    return -2. * scipy.special.dawsn(z) + 1.j * np.sqrt(np.pi) * np.exp(- z **2)\n",
      "    \n",
      "def zpd(x):\n",
      "    \"\"\"\n",
      "    Derivative of the plasma dispersion function\n",
      "    \n",
      "    \"\"\"\n",
      "    return -2 * (1 + x * zp(x))"
     ],
     "language": "python",
     "metadata": {},
     "outputs": [],
     "prompt_number": 31
    }
   ],
   "metadata": {}
  }
 ]
}