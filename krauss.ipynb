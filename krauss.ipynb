{
 "metadata": {
  "name": "",
  "signature": "sha256:7d729fb5c03119b02aba7cf352d3507b161651064fcdcec1b24a1b9c3402d39d"
 },
 "nbformat": 3,
 "nbformat_minor": 0,
 "worksheets": [
  {
   "cells": [
    {
     "cell_type": "heading",
     "level": 1,
     "metadata": {},
     "source": [
      "Reproducing some results from Krauss-Verban 1994"
     ]
    },
    {
     "cell_type": "code",
     "collapsed": false,
     "input": [
      "import numpy as np\n",
      "import scipy.special, scipy.optimize\n",
      "from py_vlasov.dispersion_tensor import dt_wrapper\n",
      "from py_vlasov.util import (real_imag, list_to_complex)\n",
      "import matplotlib.pyplot as plt\n",
      "%matplotlib inline"
     ],
     "language": "python",
     "metadata": {},
     "outputs": [],
     "prompt_number": 2
    },
    {
     "cell_type": "heading",
     "level": 6,
     "metadata": {},
     "source": [
      "To find the dispersion relation of Alfven or slow mode, we first adjust beta, then adjust angle, and finally deal with the right k"
     ]
    },
    {
     "cell_type": "heading",
     "level": 6,
     "metadata": {},
     "source": [
      "seed"
     ]
    },
    {
     "cell_type": "heading",
     "level": 6,
     "metadata": {},
     "source": [
      "angle = 85\n",
      "k = 0.1\n",
      "beta = 0.2\n",
      "freq = 0.01190802-0.00635779j"
     ]
    },
    {
     "cell_type": "code",
     "collapsed": false,
     "input": [
      "mass_ratio = 1836\n",
      "seed_angle = 85\n",
      "seed_beta = 0.2\n",
      "seed_k = 0.1\n",
      "#seed_freq = 0.01190802-0.00635779j # slow mode\n",
      "#seed_freq = 0.26147871 -0.00747444j # fast mode\n",
      "seed_freq = 1.95444741e-02 -6.32084029e-06j # alfven mode\n",
      "target_angle = 30\n",
      "target_beta = 1.5\n",
      "target_k = 10 * np.sqrt(target_beta)"
     ],
     "language": "python",
     "metadata": {},
     "outputs": [],
     "prompt_number": 177
    },
    {
     "cell_type": "heading",
     "level": 6,
     "metadata": {},
     "source": [
      "now lets first adjust angle to 89.9 degrees"
     ]
    },
    {
     "cell_type": "code",
     "collapsed": false,
     "input": [
      "beta = seed_beta\n",
      "k = seed_k\n",
      "theta = seed_angle\n",
      "start = seed_angle\n",
      "stop = target_angle\n",
      "num = 10\n",
      "angle_list_1 = np.linspace(start, stop, num, endpoint=True)\n",
      "print(angle_list_1)"
     ],
     "language": "python",
     "metadata": {},
     "outputs": [
      {
       "output_type": "stream",
       "stream": "stdout",
       "text": [
        "[ 85.          78.88888889  72.77777778  66.66666667  60.55555556\n",
        "  54.44444444  48.33333333  42.22222222  36.11111111  30.        ]\n"
       ]
      }
     ],
     "prompt_number": 178
    },
    {
     "cell_type": "code",
     "collapsed": false,
     "input": [
      "theta = seed_angle\n",
      "theta = theta * np.pi/180.\n",
      "result_1 = [seed_freq]\n",
      "for i in list(range(num))[1:]:\n",
      "    theta = angle_list_1[i]\n",
      "    theta = theta * np.pi/180.\n",
      "    kz = k * np.cos(theta)\n",
      "    kp = k * np.sin(theta)\n",
      "    f = lambda wrel: real_imag(dt_wrapper(wrel[0] + 1j * wrel[1], kp, kz, beta, tetp = 1, method = 'numpy', mratio=mass_ratio))\n",
      "    prev_angle = angle_list_1[i-1]\n",
      "    guess = result_1[-1] * np.cos(theta)/ np.cos( prev_angle * np.pi/180) # this line is for slow/alfven wave\n",
      "    #guess = result_1[-1]\n",
      "    freq = scipy.optimize.fsolve(f, real_imag(guess))\n",
      "    result_1 += [list_to_complex(freq)]"
     ],
     "language": "python",
     "metadata": {},
     "outputs": [],
     "prompt_number": 179
    },
    {
     "cell_type": "code",
     "collapsed": false,
     "input": [
      "result_1"
     ],
     "language": "python",
     "metadata": {},
     "outputs": [
      {
       "metadata": {},
       "output_type": "pyout",
       "prompt_number": 180,
       "text": [
        "[(0.0195444741-6.32084029e-06j),\n",
        " (0.043182654779477921-1.3862775327955504e-05j),\n",
        " (0.066252404606775006-2.1143118126975968e-05j),\n",
        " (0.088438710346508756-2.8460523619488516e-05j),\n",
        " (0.10942099733551901-3.6728059872194386e-05j),\n",
        " (0.12886647182324298-4.7758185307433012e-05j),\n",
        " (0.14641958014632042-6.4520295271338154e-05j),\n",
        " (0.16169124126685744-9.0938653257244037e-05j),\n",
        " (0.17426769810214618-0.0001296974354045323j),\n",
        " (0.18379405393988474-0.00017520263942363612j)]"
       ]
      }
     ],
     "prompt_number": 180
    },
    {
     "cell_type": "heading",
     "level": 6,
     "metadata": {},
     "source": [
      "then we adjust beta value"
     ]
    },
    {
     "cell_type": "code",
     "collapsed": false,
     "input": [
      "theta = target_angle\n",
      "theta = theta * np.pi/180\n",
      "kz = 0.1 * np.cos(theta)\n",
      "kp = 0.1 * np.sin(theta)\n",
      "beta = seed_beta"
     ],
     "language": "python",
     "metadata": {},
     "outputs": [],
     "prompt_number": 184
    },
    {
     "cell_type": "code",
     "collapsed": false,
     "input": [
      "start = np.log10(seed_beta)\n",
      "stop = np.log10(target_beta)\n",
      "num = 20\n",
      "beta_list = np.logspace(start, stop, num, endpoint = True)\n",
      "print(beta_list)"
     ],
     "language": "python",
     "metadata": {},
     "outputs": [
      {
       "output_type": "stream",
       "stream": "stdout",
       "text": [
        "[ 0.2         0.22237494  0.24725308  0.27491445  0.30567042  0.33986722\n",
        "  0.37788977  0.42016608  0.46717204  0.51943678  0.57754863  0.64216172\n",
        "  0.71400338  0.79388231  0.88269767  0.98144922  1.09124858  1.21333171\n",
        "  1.34907285  1.5       ]\n"
       ]
      }
     ],
     "prompt_number": 185
    },
    {
     "cell_type": "code",
     "collapsed": false,
     "input": [
      "result_2 = [result_1[-1]]\n",
      "for beta in beta_list[1:]:\n",
      "    f = lambda wrel: real_imag(dt_wrapper(wrel[0] + 1j * wrel[1], kp, kz, beta, tetp = 1, method = 'numpy', mratio=mass_ratio))\n",
      "    freq = scipy.optimize.fsolve(f, real_imag(result_2[-1]))\n",
      "    print(result_2[-1])\n",
      "    result_2 += [list_to_complex(freq)]"
     ],
     "language": "python",
     "metadata": {},
     "outputs": [
      {
       "output_type": "stream",
       "stream": "stdout",
       "text": [
        "(0.18379405394-0.000175202639424j)\n",
        "(0.175163380547-0.000225374240167j)\n",
        "(0.166879811918-0.000285735702952j)"
       ]
      },
      {
       "output_type": "stream",
       "stream": "stdout",
       "text": [
        "\n",
        "(0.158928942197-0.000353345381397j)\n",
        "(0.151297374618-0.000423322537598j)"
       ]
      },
      {
       "output_type": "stream",
       "stream": "stdout",
       "text": [
        "\n",
        "(0.143973805178-0.00048951301772j)\n",
        "(0.136949618391-0.00054571721247j)"
       ]
      },
      {
       "output_type": "stream",
       "stream": "stdout",
       "text": [
        "\n",
        "(0.130218673914-0.000587075542196j)\n",
        "(0.12377633629-0.000611051283832j)"
       ]
      },
      {
       "output_type": "stream",
       "stream": "stdout",
       "text": [
        "\n",
        "(0.11761818644-0.000617642740472j)\n",
        "(0.11173895683-0.000608870674765j)"
       ]
      },
      {
       "output_type": "stream",
       "stream": "stdout",
       "text": [
        "\n",
        "(0.106132005472-0.000587904547907j)\n",
        "(0.100789314893-0.000558224092442j)"
       ]
      },
      {
       "output_type": "stream",
       "stream": "stdout",
       "text": [
        "\n",
        "(0.0957018067254-0.000523040166792j)\n",
        "(0.0908597500339-0.000485006578691j)"
       ]
      },
      {
       "output_type": "stream",
       "stream": "stdout",
       "text": [
        "\n",
        "(0.0862531244906-0.000446148750737j)\n",
        "(0.081871886841-0.000407914745962j)"
       ]
      },
      {
       "output_type": "stream",
       "stream": "stdout",
       "text": [
        "\n",
        "(0.0777061423889-0.000371276316152j)\n",
        "(0.0737462439414-0.000336837501426j)"
       ]
      },
      {
       "output_type": "stream",
       "stream": "stdout",
       "text": [
        "\n"
       ]
      }
     ],
     "prompt_number": 186
    },
    {
     "cell_type": "heading",
     "level": 6,
     "metadata": {},
     "source": [
      "then we extend to larger k value"
     ]
    },
    {
     "cell_type": "code",
     "collapsed": false,
     "input": [
      "beta = target_beta\n",
      "theta = target_angle\n",
      "theta = theta * np.pi/180"
     ],
     "language": "python",
     "metadata": {},
     "outputs": [],
     "prompt_number": 187
    },
    {
     "cell_type": "code",
     "collapsed": false,
     "input": [
      "start = np.log10(seed_k)\n",
      "stop = np.log10(target_k)\n",
      "num = 200\n",
      "klist = np.logspace(start, stop, num=num, endpoint=True)\n",
      "print(klist)"
     ],
     "language": "python",
     "metadata": {},
     "outputs": [
      {
       "output_type": "stream",
       "stream": "stdout",
       "text": [
        "[  0.1          0.10244545   0.10495071   0.10751723   0.11014652\n",
        "   0.1128401    0.11559955   0.11842649   0.12132255   0.12428944\n",
        "   0.12732888   0.13044265   0.13363256   0.13690049   0.14024832\n",
        "   0.14367803   0.14719161   0.15079112   0.15447864   0.15825635\n",
        "   0.16212643   0.16609116   0.17015285   0.17431385   0.17857662\n",
        "   0.18294363   0.18741743   0.19200064   0.19669593   0.20150603\n",
        "   0.20643377   0.21148202   0.21665371   0.22195188   0.22737961\n",
        "   0.23294007   0.23863651   0.24447226   0.25045072   0.25657538\n",
        "   0.26284981   0.26927768   0.27586274   0.28260884   0.28951991\n",
        "   0.29659998   0.3038532    0.31128379   0.31889609   0.32669455\n",
        "   0.33468371   0.34286825   0.35125294   0.35984267   0.36864245\n",
        "   0.37765743   0.38689287   0.39635416   0.40604682   0.41597651\n",
        "   0.42614902   0.4365703    0.44724643   0.45818363   0.4693883\n",
        "   0.48086698   0.49262636   0.50467331   0.51701486   0.52965823\n",
        "   0.54261077   0.55588007   0.56947386   0.58340008   0.59766686\n",
        "   0.61228253   0.62725562   0.64259487   0.65830923   0.67440788\n",
        "   0.69090022   0.70779586   0.72510469   0.74283679   0.76100252\n",
        "   0.77961249   0.79867755   0.81820884   0.83821777   0.858716     0.8797155\n",
        "   0.90122854   0.92326767   0.94584576   0.96897598   0.99267184\n",
        "   1.01694717   1.04181615   1.06729329   1.09339345   1.12013189\n",
        "   1.1475242    1.17558637   1.2043348    1.23378625   1.26395793\n",
        "   1.29486744   1.32653283   1.35897258   1.39220563   1.42625138\n",
        "   1.4611297    1.49686095   1.533466     1.57096621   1.60938346\n",
        "   1.6487402    1.68905938   1.73036455   1.77267982   1.81602989\n",
        "   1.86044007   1.90593627   1.95254507   2.00029366   2.04920993\n",
        "   2.09932241   2.15066038   2.20325379   2.25713335   2.31233051\n",
        "   2.36887749   2.4268073    2.48615375   2.5469515    2.60923603\n",
        "   2.6730437    2.73841175   2.80537835   2.87398259   2.94426452\n",
        "   3.01626515   3.09002653   3.16559171   3.2430048    3.32231099\n",
        "   3.40355658   3.48678899   3.57205681   3.65940982   3.74889901\n",
        "   3.84057661   3.93449614   4.03071244   4.12928166   4.23026135\n",
        "   4.33371044   4.43968934   4.5482599    4.65948551   4.77343108\n",
        "   4.89016315   5.00974984   5.13226097   5.25776805   5.38634436\n",
        "   5.51806493   5.65300667   5.79124835   5.93287067   6.0779563\n",
        "   6.22658992   6.37885832   6.53485037   6.69465713   6.85837189\n",
        "   7.02609023   7.19791003   7.37393162   7.55425773   7.73899363\n",
        "   7.92824716   8.1221288    8.32075173   8.52423189   8.73268806\n",
        "   8.94624193   9.16501817   9.38914448   9.61875169   9.85397384\n",
        "  10.09494824  10.34181556  10.59471991  10.85380892  11.11923383\n",
        "  11.39114958  11.66971491  11.95509242  12.24744871]\n"
       ]
      }
     ],
     "prompt_number": 202
    },
    {
     "cell_type": "code",
     "collapsed": false,
     "input": [
      "result_3 = [result_2[-1]]\n",
      "for k in klist[1:]:\n",
      "    kz = k * np.cos(theta)\n",
      "    kp = k * np.sin(theta)\n",
      "    f = lambda wrel: real_imag(dt_wrapper(wrel[0] + 1j * wrel[1], kp, kz, beta, tetp = 1, method = 'numpy', mratio=mass_ratio))\n",
      "    freq = scipy.optimize.fsolve(f, real_imag(result_3[-1]))\n",
      "    if np.real(freq[0]) < 0:\n",
      "        freq = -freq\n",
      "    result_3 += [list_to_complex(freq)]"
     ],
     "language": "python",
     "metadata": {},
     "outputs": [],
     "prompt_number": 203
    },
    {
     "cell_type": "code",
     "collapsed": false,
     "input": [
      "result_3"
     ],
     "language": "python",
     "metadata": {},
     "outputs": [
      {
       "metadata": {},
       "output_type": "pyout",
       "prompt_number": 204,
       "text": [
        "[(0.06998284284355577-0.00030493112141348613j),\n",
        " (0.071657555661839067-0.00032744254732009756j),\n",
        " (0.073370387468276177-0.00035159191563477612j),\n",
        " (0.075122047345925119-0.00037749511334722054j),\n",
        " (0.076913243677480161-0.00040527576104566244j),\n",
        " (0.078744682594260096-0.00043506566330846306j),\n",
        " (0.080617066271915686-0.00046700526976870487j),\n",
        " (0.082531091020986894-0.00050124415494387574j),\n",
        " (0.084487445187894264-0.00053794150426149118j),\n",
        " (0.086486806799207769-0.00057726661631862461j),\n",
        " (0.088529840974005056-0.00061939940507350737j),\n",
        " (0.09061719704056112-0.0006645309113334643j),\n",
        " (0.09274950536305758-0.00071286380623728537j),\n",
        " (0.094927373807251372-0.00076461289212733719j),\n",
        " (0.097151383841793434-0.00082000558719187776j),\n",
        " (0.099422086231511456-0.00087928238626908063j),\n",
        " (0.10173999625272898-0.00094269729377214272j),\n",
        " (0.10410558841567025-0.0010105182085966063j),\n",
        " (0.10651929061393754-0.001083027256615302j),\n",
        " (0.10898147764766161-0.0011605210473391364j),\n",
        " (0.11149246404448183-0.0012433108434349233j),\n",
        " (0.11405249609946205-0.0013317226156691296j),\n",
        " (0.11666174303247978-0.0014260969634736006j),\n",
        " (0.11932028716090851-0.0015267888730022892j),\n",
        " (0.12202811295226511-0.0016341672761995606j),\n",
        " (0.12478509479868048-0.001748614379999478j),\n",
        " (0.12759098333665961-0.0018705247187642176j),\n",
        " (0.13044539008793776-0.0020003038857854733j),\n",
        " (0.13334777011293164-0.0021383668921263772j),\n",
        " (0.13629740235073595-0.0022851360936215395j),\n",
        " (0.13929336713828985-0.0024410386408597112j),\n",
        " (0.14233452028514071-0.0026065034216359705j),\n",
        " (0.14541946282072699-0.0027819575405726355j),\n",
        " (0.14854650521869303-0.002967822534546864j),\n",
        " (0.151713624458541-0.0031645108576810036j),\n",
        " (0.15491841180994409-0.0033724237825473176j),\n",
        " (0.15815800876653222-0.0035919529063545242j),\n",
        " (0.16142902832849174-0.0038234890666484986j),\n",
        " (0.16472745930588434-0.0040674446908777924j),\n",
        " (0.16804855280176145-0.004324298308449089j),\n",
        " (0.1713866932747477-0.0045946726691887662j),\n",
        " (0.17473526182787777-0.0048794597428742344j),\n",
        " (0.17808650660596301-0.0051800055430381749j),\n",
        " (0.18143144364337327-0.0054983636914097533j),\n",
        " (0.18475981918452455-0.0058376177142638467j),\n",
        " (0.18806016860790792-0.0062022579669161453j),\n",
        " (0.1913200042259075-0.0065985814127963831j),\n",
        " (0.19452615182244043-0.0070350649409047982j),\n",
        " (0.19766523350532378-0.0075226513135928227j),\n",
        " (0.2007242657489669-0.0080748867273555524j),\n",
        " (0.20369131333694956-0.0087078641665254072j),\n",
        " (0.20655612110637123-0.0094399555698045524j),\n",
        " (0.20931064287491521-0.010291351879210776j),\n",
        " (0.21194940251913036-0.011283463151466569j),\n",
        " (0.21446965146706504-0.012438251871350775j),\n",
        " (0.21687132097853901-0.013777576611047336j),\n",
        " (0.21915679723508344-0.015322611423580058j),\n",
        " (0.22133056608164756-0.017093384616015901j),\n",
        " (0.22339878058997992-0.019108456102631049j),\n",
        " (0.22536880060442893-0.021384731372132995j),\n",
        " (0.22724874322164068-0.023937395434856935j),\n",
        " (0.22904707084490239-0.026779942478308876j),\n",
        " (0.23077223212099213-0.029924275134173575j),\n",
        " (0.23243236216141866-0.033380849331318511j),\n",
        " (0.23403504246008264-0.037158844849436178j),\n",
        " (0.23558711740222538-0.041266346507294362j),\n",
        " (0.23709456260561312-0.045710525571991852j),\n",
        " (0.23856239979362406-0.050497815002203995j),\n",
        " (0.23999465294110039-0.055634075392690135j),\n",
        " (0.24139434058449108-0.061124750943885121j),\n",
        " (0.24276349927601715-0.066975016493735454j),\n",
        " (0.24410323303788006-0.073189917681452235j),\n",
        " (0.2454137834150964-0.079774506729462596j),\n",
        " (0.24669461440049423-0.086733976204167562j),\n",
        " (0.2479445062661729-0.094073792534971917j),\n",
        " (0.24916165234180765-0.10179983016164411j),\n",
        " (0.25034375311108448-0.10991850608699776j),\n",
        " (0.25148810274286765-0.11843691351775151j),\n",
        " (0.25259166428262775-0.12736295235088491j),\n",
        " (0.2536511311235754-0.13670545365590284j),\n",
        " (0.25466297389872017-0.14647429510697138j),\n",
        " (0.25562347340162128-0.15668050455286814j),\n",
        " (0.25652874139205056-0.16733634952519499j),\n",
        " (0.25737473203643096-0.17845541135857759j),\n",
        " (0.2581572472169591-0.19005264360670135j),\n",
        " (0.2588719390176874-0.20214441527559462j),\n",
        " (0.25951431239752332-0.21474854053967452j),\n",
        " (0.26007973056741035-0.22788429661229209j),\n",
        " (0.26056342488735901-0.24157243227328662j),\n",
        " (0.2609605104268421-0.25583516928152678j),\n",
        " (0.26126600768047209-0.27069619883002627j),\n",
        " (0.26147487039264-0.28618067486861731j),\n",
        " (0.26158201903445005-0.30231520571895715j),\n",
        " (0.26158237919739391-0.31912784498458424j),\n",
        " (0.26147092399802674-0.33664808235504107j),\n",
        " (0.26124271951586397-0.35490683455708838j),\n",
        " (0.26089297227119967-0.3739364364243557j),\n",
        " (0.2604170777825594-0.39377063185613226j),\n",
        " (0.25981066929182445-0.41444456430465865j),\n",
        " (0.25906966580550161-0.43599476636920109j),\n",
        " (0.25819031865845338-0.45845914807036586j),\n",
        " (0.25716925585845185-0.4818769834199097j),\n",
        " (0.25600352351990141-0.50628889498345653j),\n",
        " (0.25469062373396628-0.53173683623754486j),\n",
        " (0.25322854826920838-0.55826407165364234j),\n",
        " (0.25161580753518459-0.5859151545747443j),\n",
        " (0.24985145430242492-0.6147359031068349j),\n",
        " (0.24793510170456123-0.64477337435337922j),\n",
        " (0.2458669351633419-0.67607583751962574j),\n",
        " (0.24364771791111267-0.70869274646513691j),\n",
        " (0.24127878991177912-0.74267471243622996j),\n",
        " (0.23876206007502865-0.77807347777532099j),\n",
        " (0.23609999177731-0.81494189146853602j),\n",
        " (0.2332955818252275-0.8533338874232741j),\n",
        " (0.23035233311472256-0.89330446637091587j),\n",
        " (0.22727422137353412-0.93490968226404325j),\n",
        " (0.22406565647422408-0.97820663398042951j),\n",
        " (0.22073143891839708-1.0232534630637555j),\n",
        " (0.21727671217400929-1.0701093581236909j),\n",
        " (0.21370691161303557-1.1188345663897254j),\n",
        " (0.21002771083996752-1.1694904127730179j),\n",
        " (0.20624496621479463-1.2221393266370157j),\n",
        " (0.20236466036450668-1.2768448763260734j),\n",
        " (0.19839284543692426-1.3336718113495536j),\n",
        " (0.19433558678630505-1.3926861119786063j),\n",
        " (0.190198907691286-1.4539550458860782j),\n",
        " (0.18598873559675885-1.5175472313531453j),\n",
        " (0.18171085023718195-1.5835327065182132j),\n",
        " (0.17737083384980701-1.6519830038155294j),\n",
        " (0.17297402359089278-1.7229712295877984j),\n",
        " (0.16852546592780043-1.7965721471678557j),\n",
        " (0.1640298728436326-1.8728622637704031j),\n",
        " (0.15949157927988472-1.9519199199686925j),\n",
        " (0.15491450113976071-2.0338253813589997j),\n",
        " (0.15030209287587543-2.1186609317342602j),\n",
        " (0.1456573035383372-2.2065109678524046j),\n",
        " (0.14098252946258757-2.2974620941989312j),\n",
        " (0.13627956185836734-2.3916032191972594j),\n",
        " (0.13154952648853449-2.4890256503321724j),\n",
        " (0.12679281217408017-2.5898231907072908j),\n",
        " (0.12200898358689187-2.6940922344965426j),\n",
        " (0.11719667238029001-2.8019318626635221j),\n",
        " (0.11235343826099072-2.9134439383748294j),\n",
        " (0.107475588815006-3.0287332027674343j),\n",
        " (0.10255794031114496-3.14790736978971j),\n",
        " (0.097593496296949911-3.271077222032416j),\n",
        " (0.092573005436643402-3.3983567068956013j),\n",
        " (0.087484339803097333-3.5298630320039219j),\n",
        " (0.082311599341934633-3.6657167628612299j),\n",
        " (0.07703378086456486-3.806041919868894j),\n",
        " (0.071622727435160655-3.9509660775417621j),\n",
        " (0.066039824934366886-4.1006204641031152j),\n",
        " (0.060230373271047299-4.2551400638420196j),\n",
        " (0.054113276921820594-4.4146637208652919j),\n",
        " (0.047560235607329582-4.5793342478121151j),\n",
        " (0.040347509171330259-4.7492985431015473j),\n",
        " (0.032017037369771378-4.9247077423970227j),\n",
        " (0.021269898273399555+5.1057112345702729j),\n",
        " (0.10554321821507605+21.994984890757923j),\n",
        " (0.10554324102968986+21.994983334833073j),\n",
        " (0.1055432554976164+21.994983649400908j),\n",
        " (0.10554342227187245+21.995002761234851j),\n",
        " (0.10554272979447009+21.995256031851934j),\n",
        " (0.10553637387343162+21.99591153910858j),\n",
        " (0.10243804120294434+26.076537674131824j),\n",
        " (0.10243804455218115+26.076539895997225j),\n",
        " (0.10243803064931653+26.076529258075833j),\n",
        " (0.10244435297763532+26.067304295899955j),\n",
        " (0.10244361089957853+26.067419125842918j),\n",
        " (0.10244440493025896+26.063393034829655j),\n",
        " (0.10244454719801879+26.063784633794285j),\n",
        " (0.083886422897178264+30.882299254129553j),\n",
        " (0.083886409113013871+30.882300351250532j),\n",
        " (0.083886409113013871+30.882300351250532j),\n",
        " (0.083886614390515882+30.882133187591737j),\n",
        " (0.083886614908171772+30.882133791143648j),\n",
        " (0.083949813408238511+30.882744855137897j),\n",
        " (0.083948282960729204+30.884158731042298j),\n",
        " (0.079782145852714231+35.95861449442517j),\n",
        " (0.079782160086619119+35.958619979568894j),\n",
        " (0.079782160086619119+35.958619979568894j),\n",
        " (0.079783030028907756+35.958780059497514j),\n",
        " (0.079783030028907756+35.958780059497514j),\n",
        " (0.079783780804701457+35.960392618509339j),\n",
        " (0.079569954092534714+40.490773152083321j),\n",
        " (0.079570090721515246+40.490767253364282j),\n",
        " (0.079555883667948468+40.497545425017272j),\n",
        " (0.079554603583774502+40.497448921617739j),\n",
        " (0.079473266633054235+40.499042536101285j),\n",
        " (0.079487692547819774+40.553229544281002j),\n",
        " (0.072060085891157075+47.250143032452641j),\n",
        " (0.072059988021704019+47.250966945266605j),\n",
        " (0.072060294519699572+47.250991060429335j),\n",
        " (0.072056159440727852+47.25351870953574j),\n",
        " (0.072053013115400993+47.254729976354824j),\n",
        " (0.072019534515545353+47.264890321162035j),\n",
        " (0.07324914330829882+53.397885195328982j),\n",
        " (0.073249098904128659+53.398177859718253j),\n",
        " (0.073237807942269126+53.434245810248818j),\n",
        " (0.073251325595485847+53.434196987819732j)]"
       ]
      }
     ],
     "prompt_number": 204
    },
    {
     "cell_type": "code",
     "collapsed": false,
     "input": [
      "#fast_upper = result_3\n",
      "#slow_upper = result_3\n",
      "#alfven_upper = result_3"
     ],
     "language": "python",
     "metadata": {},
     "outputs": [],
     "prompt_number": 196
    },
    {
     "cell_type": "code",
     "collapsed": false,
     "input": [
      "fig = plt.figure(figsize=[6,6])\n",
      "plt.plot(klist/np.sqrt(target_beta), np.real(alfven_upper), 'o-', markersize= 1, label='alfven')\n",
      "plt.plot(klist/np.sqrt(target_beta), np.real(slow_upper),'o-', markersize = 1, label='slow')\n",
      "plt.plot(klist/np.sqrt(target_beta), np.real(fast_upper),'o-', markersize = 1, label='fast')\n",
      "plt.xscale('log')\n",
      "plt.yscale('log')\n",
      "plt.xlim([0.1, 10])\n",
      "plt.ylim([0.1, 10])\n",
      "plt.legend(loc='best')\n",
      "plt.xlabel(r'$kc/\\omega_{pi}$')\n",
      "plt.ylabel(r'$\\omega/\\Omega_{ci}$')\n",
      "plt.title(r'Krauss-Varban(1994) fig 1-2,' + r'$\\beta_{tot}=3.0$')\n",
      "plt.show()\n"
     ],
     "language": "python",
     "metadata": {},
     "outputs": [
      {
       "metadata": {},
       "output_type": "display_data",
       "png": "[encoded data removed]",
       "text": [
        "<matplotlib.figure.Figure at 0x112df0f28>"
       ]
      }
     ],
     "prompt_number": 211
    },
    {
     "cell_type": "code",
     "collapsed": false,
     "input": [
      "#fig.savefig('krauss_fig_1_4_massratio=1836.png', dpi=300)"
     ],
     "language": "python",
     "metadata": {},
     "outputs": [],
     "prompt_number": 212
    },
    {
     "cell_type": "code",
     "collapsed": false,
     "input": [],
     "language": "python",
     "metadata": {},
     "outputs": []
    }
   ],
   "metadata": {}
  }
 ]
}