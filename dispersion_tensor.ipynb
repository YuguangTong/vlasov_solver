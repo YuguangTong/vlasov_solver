{
 "metadata": {
  "name": "",
  "signature": "sha256:f04966e58e311a81ad0c11315b1b8aac6df8c8364ed4d37f38f2f7f1a8006494"
 },
 "nbformat": 3,
 "nbformat_minor": 0,
 "worksheets": [
  {
   "cells": [
    {
     "cell_type": "heading",
     "level": 3,
     "metadata": {},
     "source": [
      "Dispersion tensor"
     ]
    },
    {
     "cell_type": "code",
     "collapsed": false,
     "input": [
      "from py_vlasov.util import zp, pade, zp_mp\n",
      "import numpy as np\n",
      "import scipy.special, scipy.optimize"
     ],
     "language": "python",
     "metadata": {},
     "outputs": [],
     "prompt_number": 7
    },
    {
     "cell_type": "code",
     "collapsed": false,
     "input": [
      "class VlasovException(Exception):\n",
      "    def __init__(self, msg):\n",
      "        self.msg = msg\n",
      "    def __str__(self):\n",
      "        return self.msg"
     ],
     "language": "python",
     "metadata": {},
     "outputs": [],
     "prompt_number": 2
    },
    {
     "cell_type": "code",
     "collapsed": false,
     "input": [
      "def f_zeta(w, kz, vz, Omega, vthz, n):\n",
      "    \"\"\"\n",
      "    Calculate the argument of plasma dispersion function.\n",
      "    \n",
      "    Keyword arguments\n",
      "    -----------------\n",
      "    w: frequency (unit rad)\n",
      "    kz: parallel wavenumber\n",
      "    vz: parallel drift of the particle species\n",
      "    Omega: gyrofrequency of the species\n",
      "    vthz: parallel thermal speed\n",
      "    n: resonance number\n",
      "    \n",
      "    Return\n",
      "    ------\n",
      "    \\zeta_{ns}\n",
      "    \"\"\"\n",
      "    return (w-kz*vz-n*Omega)/(kz*vthz)\n",
      "\n",
      "def f_abn(n, w, kz, tp, tz, vthz, Omega, vz, method='pade'):\n",
      "    \"\"\"\n",
      "    Calculate the coefficient \\A_n and \\B_n, as defined in Stix(1992).\n",
      "    \n",
      "    Keyword arguments\n",
      "    -----------------\n",
      "    n: resonance number\n",
      "    w: frequency\n",
      "    kz: parallel wavenumber\n",
      "    tp: perpendicular temperature (of the species)\n",
      "    tz: parallel temperature\n",
      "    vthz: parallel thermal temperature\n",
      "    Omega: gyrofrequency\n",
      "    vz: parallel drift\n",
      "    \n",
      "    Return\n",
      "    ------\n",
      "    A_n and B_n\n",
      "    \"\"\"\n",
      "    if method == 'pade':\n",
      "        f_zp = pade\n",
      "    elif method == 'numpy':\n",
      "        f_zp = zp\n",
      "    elif method == 'mpmath':\n",
      "        f_zp = zp_mp\n",
      "    else:\n",
      "        raise VlasovException(\"Unreconized method.\\n\" +\n",
      "            \"Please choose between 'pade', 'numpy' and 'mpmath'\")\n",
      "    zeta = f_zeta(w, kz, vz, Omega, vthz, n)\n",
      "    zp_zeta = f_zp(zeta)\n",
      "    an_1 = 1/w * (tp-tz)/tz\n",
      "    an_2 = 1/(kz * vthz) * ((w - kz*vz - n*Omega)*tp + n*Omega*tz)/(w*tz)\n",
      "    an = an_1 + an_2 * zp_zeta\n",
      "    bn_1 = 1/kz * ((w-n*Omega)*tp - (kz*vz-n*Omega)*tz)/(w*tz)\n",
      "    bn_2 = 1/kz * (w-n*Omega)/(kz*vthz)*((w-kz*vz-n*Omega)*tp + n*Omega*tz)/(w*tz)\n",
      "    bn = bn_1 + bn_2 * zp_zeta\n",
      "    return an, bn    "
     ],
     "language": "python",
     "metadata": {},
     "outputs": [],
     "prompt_number": 3
    },
    {
     "cell_type": "code",
     "collapsed": false,
     "input": [
      "def f_lambda(kp, vthp, Omega):\n",
      "    \"\"\"\n",
      "    Calculate the square of the dimensionless perpendicular wavenumber.\n",
      "    \n",
      "    Keyword arguments\n",
      "    -----------------\n",
      "    kp: perpendicular wavenumber\n",
      "    vthp: perpendicular thermal speed\n",
      "    Omega: gyrofrequency\n",
      "    \n",
      "    Return\n",
      "    ------\n",
      "    return \\lambda = 0.5 * (k_{\\perp} * \\rho_p)^2\n",
      "    \"\"\"\n",
      "    return (kp * vthp/Omega)**2 / 2"
     ],
     "language": "python",
     "metadata": {},
     "outputs": [],
     "prompt_number": 4
    },
    {
     "cell_type": "code",
     "collapsed": false,
     "input": [
      "def f_yn(n, w, kz, kp, tp, tz, vthz, vthp, Omega, vz, method = 'pade'):\n",
      "    \"\"\"\n",
      "    Calculate tensor Y_n as defined in 'Waves in plamas' (p 258, Stix 1992)\n",
      "    \n",
      "    Keyword arguments\n",
      "    -----------------\n",
      "    n: order of expansion\n",
      "    w: frequency\n",
      "    kz: parallel wavenumber\n",
      "    kp: perpendicular wavenumber\n",
      "    tp: perpendicular temperature\n",
      "    tz: parallel temperature\n",
      "    vthz: parallel thermal speed\n",
      "    vthp: perpendicular thermal speed\n",
      "    Omega: gyrofrequency\n",
      "    vz: species drift\n",
      "    \n",
      "    Return\n",
      "    ------\n",
      "    return tensore Y_n\n",
      "    \"\"\"\n",
      "    \n",
      "    lamb = f_lambda(kp, vthz, Omega)\n",
      "    i_n = scipy.special.iv(n, lamb)\n",
      "    i_np = 0.5 * (scipy.special.iv(n-1, lamb) + scipy.special.iv(n+1, lamb))\n",
      "    an, bn = f_abn(n, w, kz, tp, tz, vthz, Omega, vz, method)\n",
      "    y = np.zeros((3, 3), dtype = np.cfloat)\n",
      "    y[0, 0] = n**2 * i_n/lamb * an\n",
      "    y[0, 1] = -1j * n * (i_n - i_np) * an\n",
      "    y[0, 2] = kp/Omega * n * i_n/lamb * bn\n",
      "    y[1, 0] = -y[0, 1]\n",
      "    y[1, 1] = (n**2/lamb * i_n + 2*lamb * (i_n - i_np)) * an\n",
      "    y[1, 2] = 1j * kp/Omega * (i_n - i_np) * bn\n",
      "    y[2, 0] = y[0, 2]\n",
      "    y[2, 1] = -y[1, 2]\n",
      "    y[2, 2] = 2*(w - n*Omega)/(kz * vthp**2) * i_n * bn\n",
      "    return y"
     ],
     "language": "python",
     "metadata": {},
     "outputs": [],
     "prompt_number": 13
    },
    {
     "cell_type": "code",
     "collapsed": false,
     "input": [
      "def f_chi(n, w, kz, kp, wp, tz, tp, vthz, vthp, Omega, vz, method = 'pade'):\n",
      "    \"\"\"\n",
      "    Calculate the susceptibility tensor \\chi\n",
      "    \n",
      "    Keyword arguments\n",
      "    -----------------\n",
      "    n: number of terms to sum over\n",
      "    w: frequency\n",
      "    kz: parallel wavenumber\n",
      "    kp: perpendicular wavenumber\n",
      "    wp: plasma frequency of the species\n",
      "    tz: parallel temperature\n",
      "    tp: perpendicular temperature\n",
      "    vthz: parallel thermal speed\n",
      "    vthp: perpendicular thermal speed\n",
      "    Omega: gyrofrequency\n",
      "    vz: parallel drift\n",
      "    \n",
      "    Return\n",
      "    ------\n",
      "    Return the susceptibility tensor \\chi for the species\n",
      "    \"\"\"\n",
      "    chi_tensor = np.zeros((3, 3), dtype = np.cfloat)\n",
      "    chi_tensor[2, 2] = 2 * wp**2/ (w * kz * vthp**2)\n",
      "    lamb = f_lambda(kp, vthz, Omega)\n",
      "    y_sum = np.sum(np.array([f_yn(i, w, kz, kp, tp, tz, vthz, vthp, Omega, vz, method)\n",
      "                             +f_yn(-i, w, kz, kp, tp, tz, vthz, vthp, Omega, vz, method) for i in np.arange(1, n+1)]),\n",
      "                            axis=0)\n",
      "    y_sum += f_yn(0, w, kz, kp, tp, tz, vthz, vthp, Omega, vz, method)\n",
      "    chi_tensor += wp**2 / w * np.exp(-lamb) * y_sum\n",
      "    return chi_tensor"
     ],
     "language": "python",
     "metadata": {},
     "outputs": [],
     "prompt_number": 14
    },
    {
     "cell_type": "code",
     "collapsed": false,
     "input": [
      "def f_epsilon(param):\n",
      "    \"\"\"\n",
      "    Calculate the dielectric tensor \\epsilon of the plasma.\n",
      "    \\epsilon = identity_matrix + \\sum_s \\chi_s\n",
      "    \n",
      "    Keyword arguments\n",
      "    -----------------\n",
      "    param: a 2D list, where param[:, j] = [n_j, w, kz, kp, wp_j, tz_j, tp_j, vthz_j, vthp_j, Omega_j, vz_j, method = 'pade']\n",
      "    \n",
      "    Return\n",
      "    ------\n",
      "    Return the dielectric tensor\n",
      "    \"\"\"\n",
      "    \n",
      "    return np.identity(3, dtype = np.cfloat) + np.sum(np.array(list(map(f_chi, *param))), axis = 0)"
     ],
     "language": "python",
     "metadata": {},
     "outputs": [],
     "prompt_number": 15
    },
    {
     "cell_type": "code",
     "collapsed": false,
     "input": [
      "def f_d(param):\n",
      "    \"\"\"\n",
      "    Calculate the dispersion tensor of the plasma.\n",
      "    See Eq. 73 in 'Waves in plasmas' (Stix, 1992)\n",
      "     \n",
      "    Keyword arguments\n",
      "    -----------------\n",
      "    param: a 2D list, where param[:, j] = [n_j, w, kz, kp, wp_j, tz_j, tp_j, vthz_j, vthp_j, Omega_j, vz_j, method = 'pade']\n",
      "    \n",
      "    Return\n",
      "    ------\n",
      "    Return the dispersion tensor    \n",
      "    \"\"\"\n",
      "    w = param[1][0]\n",
      "    kz = param[2][0]\n",
      "    kp = param[3][0]\n",
      "    nz = kz * cspeed/ w\n",
      "    nx = kp * cspeed/ w\n",
      "    return f_epsilon(param) + np.array([[-nz**2, 0, nx*nz], [0, -nx**2-nz**2, 0], [nz*nx, 0, -nx**2]])"
     ],
     "language": "python",
     "metadata": {},
     "outputs": [],
     "prompt_number": 20
    },
    {
     "cell_type": "code",
     "collapsed": false,
     "input": [
      "import numpy as np\n",
      "import scipy.special, scipy.optimize\n",
      "from py_vlasov.dispersion_tensor import f_epsilon, f_d\n",
      "from py_vlasov.util import (pmass, emass, echarge, permittivity, permeability, cspeed, boltzmann)\n",
      "from scipy import linalg\n",
      "import matplotlib.pyplot as plt\n",
      "%matplotlib inline"
     ],
     "language": "python",
     "metadata": {},
     "outputs": [],
     "prompt_number": 157
    },
    {
     "cell_type": "heading",
     "level": 4,
     "metadata": {},
     "source": [
      "Wrapper for proton electron plasma with dimensionless input"
     ]
    },
    {
     "cell_type": "code",
     "collapsed": false,
     "input": [
      "def dt_wrapper(wrel, kperp, kpar, betap, tetp = 1, method = 'pade'):\n",
      "    \"\"\"\n",
      "    Wrapper for dispersion tensor whose input are dimensionless parameters.\n",
      "    Assume that there are only protons and electrons.\n",
      "    No temperature anisotropy or bulk drifts. \n",
      "    \n",
      "    Keyword arguments\n",
      "    -----------------\n",
      "    kperp: k * rho_perp\n",
      "    kpar: k * rho_parallel\n",
      "    betap: proton plasma beta\n",
      "    tetp: electron proton temperature ratio\n",
      "    aol: va/c, where c = lightspeed\n",
      "    \n",
      "    Return\n",
      "    ------\n",
      "    dispersion tensor\n",
      "    \n",
      "    \"\"\"\n",
      "    n = 10 # by default add over 10 terms\n",
      "    b0 = 1e-8 # 10nT by default\n",
      "    vz = 0 # no bulk drift\n",
      "    aol = 1/5000.\n",
      "    va = cspeed * aol\n",
      "    nproton = (b0/va)**2 / (permeability * pmass)\n",
      "    tp = betap * b0**2 / (2 * permeability * nproton * boltzmann)\n",
      "    te = tp * tetp\n",
      "    wpp = np.sqrt(nproton * echarge**2 / (pmass * permittivity))\n",
      "    wpe = np.sqrt(nproton * echarge**2 / (emass * permittivity))\n",
      "    omega_p = echarge * b0/ pmass # proton gyro-freqeuncy\n",
      "    omega_e = -echarge * b0/emass\n",
      "    vthp = np.sqrt(2 * boltzmann * tp/pmass) # proton thermal speed\n",
      "    vthe = np.sqrt(2 * boltzmann * te/emass) # proton thermal speed\n",
      "    rhop = vthp/omega_p # proton gyroradius\n",
      "    w = wrel * omega_p\n",
      "    kz = kpar/rhop\n",
      "    kp = kperp/rhop\n",
      "    vthz = vthp # assume no temperature anisotropy\n",
      "    \n",
      "    proton = [n, w, kz, kp, wpp, tp, tp, vthp, vthp, omega_p, 0, method]\n",
      "    electron = [n, w, kz, kp, wpe, te, te, vthe, vthe, omega_e, 0, method]\n",
      "    \n",
      "    inp = [proton, electron]\n",
      "    param = list(map(list, zip(*inp)))\n",
      "    \"\"\"\n",
      "    res = linalg.det(f_d(param))*1e-40\n",
      "    print(res)\n",
      "    return res\n",
      "    \"\"\"\n",
      "\n",
      "    return linalg.det(f_d(param))*1e-40\n",
      "    #return f_d(param) * 1e-40\n",
      "    "
     ],
     "language": "python",
     "metadata": {},
     "outputs": [],
     "prompt_number": 81
    },
    {
     "cell_type": "code",
     "collapsed": false,
     "input": [
      "theta = 85 \n",
      "theta = 85 * np.pi/180\n",
      "kz = 0.1 * np.cos(theta)\n",
      "kp = 0.1 * np.sin(theta)\n",
      "beta = 0.2\n",
      "alfven = kz / np.sqrt(beta)\n",
      "print(alfven)\n",
      "print(kz)\n",
      "print(kp)"
     ],
     "language": "python",
     "metadata": {},
     "outputs": [
      {
       "output_type": "stream",
       "stream": "stdout",
       "text": [
        "0.0194886165413\n",
        "0.00871557427477\n",
        "0.0996194698092\n"
       ]
      }
     ],
     "prompt_number": 107
    },
    {
     "cell_type": "code",
     "collapsed": false,
     "input": [
      "def real_imag(val):\n",
      "    \"\"\"\n",
      "    Return the list [real(val), imag(val)]\n",
      "    \n",
      "    \"\"\"\n",
      "    return [np.real(val), np.imag(val)]\n",
      "\n",
      "def list_to_complex(x):\n",
      "    \"\"\"\n",
      "    Convert a list of two numbers to a complex number:\n",
      "    x -> x[0] + x[1] * j\n",
      "    \"\"\"\n",
      "    return x[0] + x[1] * 1j"
     ],
     "language": "python",
     "metadata": {},
     "outputs": [],
     "prompt_number": 134
    },
    {
     "cell_type": "heading",
     "level": 5,
     "metadata": {},
     "source": [
      "Anolymous function for root finding"
     ]
    },
    {
     "cell_type": "code",
     "collapsed": false,
     "input": [
      "f = lambda wrel: real_imag(dt_wrapper(wrel[0] + 1j * wrel[1], kp, kz, beta, tetp = 1, method = 'numpy'))"
     ],
     "language": "python",
     "metadata": {},
     "outputs": [],
     "prompt_number": 109
    },
    {
     "cell_type": "heading",
     "level": 5,
     "metadata": {},
     "source": [
      "Alfven mode"
     ]
    },
    {
     "cell_type": "code",
     "collapsed": false,
     "input": [
      "scipy.optimize.fsolve(f, [alfven, 0])"
     ],
     "language": "python",
     "metadata": {},
     "outputs": [
      {
       "metadata": {},
       "output_type": "pyout",
       "prompt_number": 110,
       "text": [
        "array([  1.95444741e-02,  -6.32084029e-06])"
       ]
      }
     ],
     "prompt_number": 110
    },
    {
     "cell_type": "heading",
     "level": 4,
     "metadata": {},
     "source": [
      "fast mode"
     ]
    },
    {
     "cell_type": "code",
     "collapsed": false,
     "input": [
      "scipy.optimize.fsolve(real_dt, [0.25, 0])"
     ],
     "language": "python",
     "metadata": {},
     "outputs": [
      {
       "metadata": {},
       "output_type": "pyout",
       "prompt_number": 111,
       "text": [
        "array([ 0.26147871, -0.00747444])"
       ]
      }
     ],
     "prompt_number": 111
    },
    {
     "cell_type": "heading",
     "level": 4,
     "metadata": {},
     "source": [
      "slow mode ?"
     ]
    },
    {
     "cell_type": "code",
     "collapsed": false,
     "input": [
      "scipy.optimize.fsolve(real_dt, [0.013, -0.006])"
     ],
     "language": "python",
     "metadata": {},
     "outputs": [
      {
       "metadata": {},
       "output_type": "pyout",
       "prompt_number": 112,
       "text": [
        "array([ 0.01190802, -0.00635779])"
       ]
      }
     ],
     "prompt_number": 112
    },
    {
     "cell_type": "heading",
     "level": 2,
     "metadata": {},
     "source": [
      "Plot dispersion plane"
     ]
    },
    {
     "cell_type": "heading",
     "level": 3,
     "metadata": {},
     "source": [
      "First step, starting from $k\\rho_p=0.1$ and extends to larger $k$"
     ]
    },
    {
     "cell_type": "heading",
     "level": 4,
     "metadata": {},
     "source": [
      "Alfven mode"
     ]
    },
    {
     "cell_type": "code",
     "collapsed": false,
     "input": [
      "start = np.log10(0.1)\n",
      "stop = np.log10(10)\n",
      "num = 200\n",
      "klist = np.logspace(start, stop, num=num, endpoint=True)\n",
      "\n",
      "theta = 85\n",
      "theta = theta * np.pi/180.\n",
      "result = [1.95444741e-02-6.32084029e-06j]\n",
      "for k in klist[1:]:\n",
      "    kz = k * np.cos(theta)\n",
      "    kp = k * np.sin(theta)\n",
      "    f = lambda wrel: real_imag(dt_wrapper(wrel[0] + 1j * wrel[1], kp, kz, beta, tetp = 1, method = 'numpy'))\n",
      "    freq = scipy.optimize.fsolve(f, real_imag(result[-1]))\n",
      "    result += [list_to_complex(freq)]"
     ],
     "language": "python",
     "metadata": {},
     "outputs": [],
     "prompt_number": 210
    },
    {
     "cell_type": "code",
     "collapsed": false,
     "input": [
      "wlist = np.array(list(map(real_imag, result)))"
     ],
     "language": "python",
     "metadata": {},
     "outputs": [],
     "prompt_number": 211
    },
    {
     "cell_type": "code",
     "collapsed": false,
     "input": [
      "plt.plot(klist, wlist[:, 0])\n",
      "plt.plot(klist, -wlist[:, 1])\n",
      "plt.xscale('log')\n",
      "plt.yscale('log')\n",
      "plt.show()"
     ],
     "language": "python",
     "metadata": {},
     "outputs": [
      {
       "metadata": {},
       "output_type": "display_data",
       "png": "[encoded data removed]",
       "text": [
        "<matplotlib.figure.Figure at 0x1093ad9e8>"
       ]
      }
     ],
     "prompt_number": 212
    },
    {
     "cell_type": "heading",
     "level": 4,
     "metadata": {},
     "source": [
      "fast mode"
     ]
    },
    {
     "cell_type": "code",
     "collapsed": false,
     "input": [
      "start = np.log10(0.1)\n",
      "stop = np.log10(0.5)\n",
      "num = 40\n",
      "klist = np.logspace(start, stop, num=num, endpoint=True)"
     ],
     "language": "python",
     "metadata": {},
     "outputs": [],
     "prompt_number": 175
    },
    {
     "cell_type": "code",
     "collapsed": false,
     "input": [
      "theta = 85\n",
      "theta = theta * np.pi/180.\n",
      "result = [0.26147871-0.00747444j]\n",
      "for k in klist[1:]:\n",
      "    kz = k * np.cos(theta)\n",
      "    kp = k * np.sin(theta)\n",
      "    f = lambda wrel: real_imag(dt_wrapper(wrel[0] + 1j * wrel[1], kp, kz, beta, tetp = 1, method = 'numpy'))\n",
      "    freq = scipy.optimize.fsolve(f, real_imag(result[-1]))\n",
      "    result += [list_to_complex(freq)]"
     ],
     "language": "python",
     "metadata": {},
     "outputs": [],
     "prompt_number": 176
    },
    {
     "cell_type": "code",
     "collapsed": false,
     "input": [
      "wlist = np.array(list(map(real_imag, result)))\n",
      "plt.plot(klist, wlist[:, 0])\n",
      "plt.plot(klist, -wlist[:, 1])\n",
      "plt.xscale('log')\n",
      "plt.yscale('log')\n",
      "plt.show()"
     ],
     "language": "python",
     "metadata": {},
     "outputs": [
      {
       "metadata": {},
       "output_type": "display_data",
       "png": "[encoded data removed]",
       "text": [
        "<matplotlib.figure.Figure at 0x109344748>"
       ]
      }
     ],
     "prompt_number": 177
    },
    {
     "cell_type": "heading",
     "level": 4,
     "metadata": {},
     "source": [
      "slow mode"
     ]
    },
    {
     "cell_type": "code",
     "collapsed": false,
     "input": [
      "start = np.log10(0.1)\n",
      "stop = np.log10(10.)\n",
      "num = 100\n",
      "klist = np.logspace(start, stop, num=num, endpoint=True)"
     ],
     "language": "python",
     "metadata": {},
     "outputs": [],
     "prompt_number": 188
    },
    {
     "cell_type": "code",
     "collapsed": false,
     "input": [
      "theta = 85\n",
      "theta = theta * np.pi/180.\n",
      "result = [0.01190802-0.00635779j]\n",
      "for k in klist[1:]:\n",
      "    kz = k * np.cos(theta)\n",
      "    kp = k * np.sin(theta)\n",
      "    f = lambda wrel: real_imag(dt_wrapper(wrel[0] + 1j * wrel[1], kp, kz, beta, tetp = 1, method = 'numpy'))\n",
      "    freq = scipy.optimize.fsolve(f, real_imag(result[-1]))\n",
      "    result += [list_to_complex(freq)]"
     ],
     "language": "python",
     "metadata": {},
     "outputs": [],
     "prompt_number": 189
    },
    {
     "cell_type": "code",
     "collapsed": true,
     "input": [
      "wlist = np.array(list(map(real_imag, result)))\n",
      "fig = plt.figure(figsize=[6, 4])\n",
      "plt.plot(klist, wlist[:, 0], 'o-', markersize = 1, label=r'$\\Re(\\omega)$')\n",
      "plt.plot(klist, -wlist[:, 1], 'o-', markersize = 1, label = r'$\\Im(\\omega)$')\n",
      "plt.xscale('log')\n",
      "plt.yscale('log')\n",
      "plt.xlabel(r'$k\\rho_p$')\n",
      "plt.ylabel(r'$\\omega$')\n",
      "plt.legend(loc='best')\n",
      "plt.show()"
     ],
     "language": "python",
     "metadata": {},
     "outputs": [
      {
       "metadata": {},
       "output_type": "display_data",
       "png": "[encoded data removed]",
       "text": [
        "<matplotlib.figure.Figure at 0x109d9f978>"
       ]
      }
     ],
     "prompt_number": 213
    },
    {
     "cell_type": "code",
     "collapsed": false,
     "input": [
      "fig.savefig('slow_mode.png',dpi=300 )"
     ],
     "language": "python",
     "metadata": {},
     "outputs": [],
     "prompt_number": 217
    },
    {
     "cell_type": "heading",
     "level": 3,
     "metadata": {},
     "source": [
      "Second steps, change angles"
     ]
    },
    {
     "cell_type": "heading",
     "level": 6,
     "metadata": {},
     "source": [
      "For Alfven and slow mode, $\\omega \\propto k_\\parallel$. Hence for close angles, the ratio $\\omega/k_\\parallel$ should remain close"
     ]
    },
    {
     "cell_type": "heading",
     "level": 4,
     "metadata": {},
     "source": [
      "slow mode"
     ]
    },
    {
     "cell_type": "code",
     "collapsed": false,
     "input": [
      "start = 85\n",
      "stop = 89.5\n",
      "num = 10\n",
      "angle_list_1 = np.linspace(start, stop, num, endpoint=True)\n",
      "print(angle_list_1)"
     ],
     "language": "python",
     "metadata": {},
     "outputs": [
      {
       "output_type": "stream",
       "stream": "stdout",
       "text": [
        "[ 85.   85.5  86.   86.5  87.   87.5  88.   88.5  89.   89.5]\n"
       ]
      }
     ],
     "prompt_number": 337
    },
    {
     "cell_type": "code",
     "collapsed": false,
     "input": [
      "theta = theta * np.pi/180.\n",
      "result_1 = [0.01190802-0.00635779j]\n",
      "k = 0.1\n",
      "for i in list(range(num))[1:]:\n",
      "    theta = angle_list_1[i]\n",
      "    theta = theta * np.pi/180.\n",
      "    kz = k * np.cos(theta)\n",
      "    kp = k * np.sin(theta)\n",
      "    f = lambda wrel: real_imag(dt_wrapper(wrel[0] + 1j * wrel[1], kp, kz, beta, tetp = 1, method = 'numpy'))\n",
      "    prev_angle = angle_list_1[i-1]\n",
      "    guess = result_1[-1] * np.cos(theta)/ np.cos( prev_angle * np.pi/180)\n",
      "    freq = scipy.optimize.fsolve(f, real_imag(guess))\n",
      "    result_1 += [list_to_complex(freq)]"
     ],
     "language": "python",
     "metadata": {},
     "outputs": [],
     "prompt_number": 331
    },
    {
     "cell_type": "code",
     "collapsed": false,
     "input": [
      "start = 85\n",
      "stop = 1\n",
      "num = 85\n",
      "angle_list_2 = np.linspace(start, stop, num, endpoint=True)\n",
      "print(angle_list)"
     ],
     "language": "python",
     "metadata": {},
     "outputs": [
      {
       "output_type": "stream",
       "stream": "stdout",
       "text": [
        "[ 85.  84.  83.  82.  81.  80.  79.  78.  77.  76.  75.  74.  73.  72.  71.\n",
        "  70.  69.  68.  67.  66.  65.  64.  63.  62.  61.  60.  59.  58.  57.  56.\n",
        "  55.  54.  53.  52.  51.  50.  49.  48.  47.  46.  45.  44.  43.  42.  41.\n",
        "  40.  39.  38.  37.  36.  35.  34.  33.  32.  31.  30.  29.  28.  27.  26.\n",
        "  25.  24.  23.  22.  21.  20.  19.  18.  17.  16.  15.  14.  13.  12.  11.\n",
        "  10.   9.   8.   7.   6.   5.   4.   3.   2.   1.]\n"
       ]
      }
     ],
     "prompt_number": 332
    },
    {
     "cell_type": "code",
     "collapsed": false,
     "input": [
      "theta = theta * np.pi/180.\n",
      "result_2 = [0.01190802-0.00635779j]\n",
      "k = 0.1\n",
      "for i in list(range(num))[1:]:\n",
      "    theta = angle_list_2[i]\n",
      "    theta = theta * np.pi/180.\n",
      "    kz = k * np.cos(theta)\n",
      "    kp = k * np.sin(theta)\n",
      "    f = lambda wrel: real_imag(dt_wrapper(wrel[0] + 1j * wrel[1], kp, kz, beta, tetp = 1, method = 'numpy'))\n",
      "    prev_angle = angle_list_2[i-1]\n",
      "    guess = result_2[-1] * np.cos(theta)/ np.cos( prev_angle * np.pi/180)\n",
      "    freq = scipy.optimize.fsolve(f, real_imag(guess))\n",
      "    result_2 += [list_to_complex(freq)]"
     ],
     "language": "python",
     "metadata": {},
     "outputs": [],
     "prompt_number": 333
    },
    {
     "cell_type": "code",
     "collapsed": false,
     "input": [
      "result = result_1 + result_2"
     ],
     "language": "python",
     "metadata": {},
     "outputs": [],
     "prompt_number": 334
    },
    {
     "cell_type": "code",
     "collapsed": false,
     "input": [
      "wlist = np.array(list(map(real_imag, result)))"
     ],
     "language": "python",
     "metadata": {},
     "outputs": [],
     "prompt_number": 335
    },
    {
     "cell_type": "code",
     "collapsed": false,
     "input": [
      "angle_list = np.append(angle_list_1, angle_list_2)"
     ],
     "language": "python",
     "metadata": {},
     "outputs": [],
     "prompt_number": 340
    },
    {
     "cell_type": "code",
     "collapsed": false,
     "input": [
      "plt.plot(angle_list, wlist[:, 0],'o', markersize=1)\n",
      "plt.plot(angle_list, -wlist[:, 1],'o', markersize = 1)\n",
      "plt.plot(angle_list, -wlist[:, 1]/ wlist[:, 0], 'o', markersize=1)\n",
      "plt.yscale('log')"
     ],
     "language": "python",
     "metadata": {},
     "outputs": [
      {
       "metadata": {},
       "output_type": "display_data",
       "png": "[encoded data removed]",
       "text": [
        "<matplotlib.figure.Figure at 0x10936b2e8>"
       ]
      }
     ],
     "prompt_number": 351
    },
    {
     "cell_type": "heading",
     "level": 3,
     "metadata": {},
     "source": [
      "step 3, change $\\beta$ values"
     ]
    },
    {
     "cell_type": "code",
     "collapsed": false,
     "input": [
      "theta = 85 \n",
      "theta = 85 * np.pi/180\n",
      "kz = 0.1 * np.cos(theta)\n",
      "kp = 0.1 * np.sin(theta)\n",
      "beta = 0.2"
     ],
     "language": "python",
     "metadata": {},
     "outputs": [],
     "prompt_number": 362
    },
    {
     "cell_type": "code",
     "collapsed": false,
     "input": [
      "start = np.log10(0.2)\n",
      "stop = np.log10(10.)\n",
      "num = 20\n",
      "beta_list = np.logspace(start, stop, num, endpoint = True)\n",
      "print(beta_list)"
     ],
     "language": "python",
     "metadata": {},
     "outputs": [
      {
       "output_type": "stream",
       "stream": "stdout",
       "text": [
        "[  0.2          0.24572507   0.30190405   0.37092697   0.45573029\n",
        "   0.55992179   0.6879341    0.84521328   1.03845047   1.27586658\n",
        "   1.56756203   1.92594645   2.36626665   2.9072552    3.57192746\n",
        "   4.38856065   5.39189689   6.62462123   8.13917762  10.        ]\n"
       ]
      }
     ],
     "prompt_number": 379
    },
    {
     "cell_type": "code",
     "collapsed": false,
     "input": [
      "result = [0.01190802-0.00635779j]\n",
      "for beta in beta_list[1:]:\n",
      "    f = lambda wrel: real_imag(dt_wrapper(wrel[0] + 1j * wrel[1], kp, kz, beta, tetp = 1, method = 'numpy'))\n",
      "    freq = scipy.optimize.fsolve(f, real_imag(result[-1]))\n",
      "    result += [list_to_complex(freq)]"
     ],
     "language": "python",
     "metadata": {},
     "outputs": [],
     "prompt_number": 380
    },
    {
     "cell_type": "code",
     "collapsed": false,
     "input": [
      "result"
     ],
     "language": "python",
     "metadata": {},
     "outputs": [
      {
       "metadata": {},
       "output_type": "pyout",
       "prompt_number": 381,
       "text": [
        "[(0.01190802-0.00635779j),\n",
        " (0.011786028886689816-0.0065066686894663783j),\n",
        " (0.011655606175306119-0.0066684768761044889j),\n",
        " (0.011519836473666898-0.0068392586874315327j),\n",
        " (0.0113825857903548-0.0070134694868745264j),\n",
        " (0.011248192599898061-0.007184694372961418j),\n",
        " (0.01112089457240706-0.0073468544745970664j),\n",
        " (0.011004124385454443-0.0074953080468602188j),\n",
        " (0.010900028357834352-0.0076273596631861633j),\n",
        " (0.010809401574022711-0.0077421504106345383j),\n",
        " (0.010731948823702741-0.0078401954532432375j),\n",
        " (0.01066666763158613-0.0079228507526390522j),\n",
        " (0.010612198279424875-0.0079918722413805463j),\n",
        " (0.010567076605009775-0.0080491148276246784j),\n",
        " (0.010529888131287361-0.0080963551768997912j),\n",
        " (0.010499347381314776-0.0081352028489473094j),\n",
        " (0.010474328849086877-0.0081670668605268865j),\n",
        " (0.010453870189275022-0.0081931536937559571j),\n",
        " (0.010437161213999407-0.0082144813240645556j),\n",
        " (0.010423526834279084-0.0082319001181337947j)]"
       ]
      }
     ],
     "prompt_number": 381
    },
    {
     "cell_type": "code",
     "collapsed": false,
     "input": [],
     "language": "python",
     "metadata": {},
     "outputs": []
    }
   ],
   "metadata": {}
  }
 ]
}