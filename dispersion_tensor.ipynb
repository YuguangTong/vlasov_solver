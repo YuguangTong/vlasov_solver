{
 "metadata": {
  "name": "",
  "signature": "sha256:ef853977dca3066105dc1f5316cb34accb5307ecfb6a18918d1fcb8d98a0f1ed"
 },
 "nbformat": 3,
 "nbformat_minor": 0,
 "worksheets": [
  {
   "cells": [
    {
     "cell_type": "heading",
     "level": 3,
     "metadata": {},
     "source": [
      "Dispersion tensor"
     ]
    },
    {
     "cell_type": "code",
     "collapsed": false,
     "input": [
      "from py_vlasov.util import zp, pade, zp_mp\n",
      "import numpy as np\n",
      "import scipy.special, scipy.optimize"
     ],
     "language": "python",
     "metadata": {},
     "outputs": [],
     "prompt_number": 7
    },
    {
     "cell_type": "code",
     "collapsed": false,
     "input": [
      "class VlasovException(Exception):\n",
      "    def __init__(self, msg):\n",
      "        self.msg = msg\n",
      "    def __str__(self):\n",
      "        return self.msg"
     ],
     "language": "python",
     "metadata": {},
     "outputs": [],
     "prompt_number": 2
    },
    {
     "cell_type": "code",
     "collapsed": false,
     "input": [
      "def f_zeta(w, kz, vz, Omega, vthz, n):\n",
      "    \"\"\"\n",
      "    Calculate the argument of plasma dispersion function.\n",
      "    \n",
      "    Keyword arguments\n",
      "    -----------------\n",
      "    w: frequency (unit rad)\n",
      "    kz: parallel wavenumber\n",
      "    vz: parallel drift of the particle species\n",
      "    Omega: gyrofrequency of the species\n",
      "    vthz: parallel thermal speed\n",
      "    n: resonance number\n",
      "    \n",
      "    Return\n",
      "    ------\n",
      "    \\zeta_{ns}\n",
      "    \"\"\"\n",
      "    return (w-kz*vz-n*Omega)/(kz*vthz)\n",
      "\n",
      "def f_abn(n, w, kz, tp, tz, vthz, Omega, vz, method='pade'):\n",
      "    \"\"\"\n",
      "    Calculate the coefficient \\A_n and \\B_n, as defined in Stix(1992).\n",
      "    \n",
      "    Keyword arguments\n",
      "    -----------------\n",
      "    n: resonance number\n",
      "    w: frequency\n",
      "    kz: parallel wavenumber\n",
      "    tp: perpendicular temperature (of the species)\n",
      "    tz: parallel temperature\n",
      "    vthz: parallel thermal temperature\n",
      "    Omega: gyrofrequency\n",
      "    vz: parallel drift\n",
      "    \n",
      "    Return\n",
      "    ------\n",
      "    A_n and B_n\n",
      "    \"\"\"\n",
      "    if method == 'pade':\n",
      "        f_zp = pade\n",
      "    elif method == 'numpy':\n",
      "        f_zp = zp\n",
      "    elif method == 'mpmath':\n",
      "        f_zp = zp_mp\n",
      "    else:\n",
      "        raise VlasovException(\"Unreconized method.\\n\" +\n",
      "            \"Please choose between 'pade', 'numpy' and 'mpmath'\")\n",
      "    zeta = f_zeta(w, kz, vz, Omega, vthz, n)\n",
      "    zp_zeta = f_zp(zeta)\n",
      "    an_1 = 1/w * (tp-tz)/tz\n",
      "    an_2 = 1/(kz * vthz) * ((w - kz*vz - n*Omega)*tp + n*Omega*tz)/(w*tz)\n",
      "    an = an_1 + an_2 * zp_zeta\n",
      "    bn_1 = 1/kz * ((w-n*Omega)*tp - (kz*vz-n*Omega)*tz)/(w*tz)\n",
      "    bn_2 = 1/kz * (w-n*Omega)/(kz*vthz)*((w-kz*vz-n*Omega)*tp + n*Omega*tz)/(w*tz)\n",
      "    bn = bn_1 + bn_2 * zp_zeta\n",
      "    return an, bn    "
     ],
     "language": "python",
     "metadata": {},
     "outputs": [],
     "prompt_number": 3
    },
    {
     "cell_type": "code",
     "collapsed": false,
     "input": [
      "def f_lambda(kp, vthp, Omega):\n",
      "    \"\"\"\n",
      "    Calculate the square of the dimensionless perpendicular wavenumber.\n",
      "    \n",
      "    Keyword arguments\n",
      "    -----------------\n",
      "    kp: perpendicular wavenumber\n",
      "    vthp: perpendicular thermal speed\n",
      "    Omega: gyrofrequency\n",
      "    \n",
      "    Return\n",
      "    ------\n",
      "    return \\lambda = 0.5 * (k_{\\perp} * \\rho_p)^2\n",
      "    \"\"\"\n",
      "    return (kp * vthp/Omega)**2 / 2"
     ],
     "language": "python",
     "metadata": {},
     "outputs": [],
     "prompt_number": 4
    },
    {
     "cell_type": "code",
     "collapsed": false,
     "input": [
      "def f_yn(n, w, kz, kp, tp, tz, vthz, vthp, Omega, vz, method = 'pade'):\n",
      "    \"\"\"\n",
      "    Calculate tensor Y_n as defined in 'Waves in plamas' (p 258, Stix 1992)\n",
      "    \n",
      "    Keyword arguments\n",
      "    -----------------\n",
      "    n: order of expansion\n",
      "    w: frequency\n",
      "    kz: parallel wavenumber\n",
      "    kp: perpendicular wavenumber\n",
      "    tp: perpendicular temperature\n",
      "    tz: parallel temperature\n",
      "    vthz: parallel thermal speed\n",
      "    vthp: perpendicular thermal speed\n",
      "    Omega: gyrofrequency\n",
      "    vz: species drift\n",
      "    \n",
      "    Return\n",
      "    ------\n",
      "    return tensore Y_n\n",
      "    \"\"\"\n",
      "    \n",
      "    lamb = f_lambda(kp, vthz, Omega)\n",
      "    i_n = scipy.special.iv(n, lamb)\n",
      "    i_np = 0.5 * (scipy.special.iv(n-1, lamb) + scipy.special.iv(n+1, lamb))\n",
      "    an, bn = f_abn(n, w, kz, tp, tz, vthz, Omega, vz, method)\n",
      "    y = np.zeros((3, 3), dtype = np.cfloat)\n",
      "    y[0, 0] = n**2 * i_n/lamb * an\n",
      "    y[0, 1] = -1j * n * (i_n - i_np) * an\n",
      "    y[0, 2] = kp/Omega * n * i_n/lamb * bn\n",
      "    y[1, 0] = -y[0, 1]\n",
      "    y[1, 1] = (n**2/lamb * i_n + 2*lamb * (i_n - i_np)) * an\n",
      "    y[1, 2] = 1j * kp/Omega * (i_n - i_np) * bn\n",
      "    y[2, 0] = y[0, 2]\n",
      "    y[2, 1] = -y[1, 2]\n",
      "    y[2, 2] = 2*(w - n*Omega)/(kz * vthp**2) * i_n * bn\n",
      "    return y"
     ],
     "language": "python",
     "metadata": {},
     "outputs": [],
     "prompt_number": 13
    },
    {
     "cell_type": "code",
     "collapsed": false,
     "input": [
      "def f_chi(n, w, kz, kp, wp, tz, tp, vthz, vthp, Omega, vz, method = 'pade'):\n",
      "    \"\"\"\n",
      "    Calculate the susceptibility tensor \\chi\n",
      "    \n",
      "    Keyword arguments\n",
      "    -----------------\n",
      "    n: number of terms to sum over\n",
      "    w: frequency\n",
      "    kz: parallel wavenumber\n",
      "    kp: perpendicular wavenumber\n",
      "    wp: plasma frequency of the species\n",
      "    tz: parallel temperature\n",
      "    tp: perpendicular temperature\n",
      "    vthz: parallel thermal speed\n",
      "    vthp: perpendicular thermal speed\n",
      "    Omega: gyrofrequency\n",
      "    vz: parallel drift\n",
      "    \n",
      "    Return\n",
      "    ------\n",
      "    Return the susceptibility tensor \\chi for the species\n",
      "    \"\"\"\n",
      "    chi_tensor = np.zeros((3, 3), dtype = np.cfloat)\n",
      "    chi_tensor[2, 2] = 2 * wp**2/ (w * kz * vthp**2)\n",
      "    lamb = f_lambda(kp, vthz, Omega)\n",
      "    y_sum = np.sum(np.array([f_yn(i, w, kz, kp, tp, tz, vthz, vthp, Omega, vz, method)\n",
      "                             +f_yn(-i, w, kz, kp, tp, tz, vthz, vthp, Omega, vz, method) for i in np.arange(1, n+1)]),\n",
      "                            axis=0)\n",
      "    y_sum += f_yn(0, w, kz, kp, tp, tz, vthz, vthp, Omega, vz, method)\n",
      "    chi_tensor += wp**2 / w * np.exp(-lamb) * y_sum\n",
      "    return chi_tensor"
     ],
     "language": "python",
     "metadata": {},
     "outputs": [],
     "prompt_number": 14
    },
    {
     "cell_type": "code",
     "collapsed": false,
     "input": [
      "def f_epsilon(param):\n",
      "    \"\"\"\n",
      "    Calculate the dielectric tensor \\epsilon of the plasma.\n",
      "    \\epsilon = identity_matrix + \\sum_s \\chi_s\n",
      "    \n",
      "    Keyword arguments\n",
      "    -----------------\n",
      "    param: a 2D list, where param[:, j] = [n_j, w, kz, kp, wp_j, tz_j, tp_j, vthz_j, vthp_j, Omega_j, vz_j, method = 'pade']\n",
      "    \n",
      "    Return\n",
      "    ------\n",
      "    Return the dielectric tensor\n",
      "    \"\"\"\n",
      "    \n",
      "    return np.identity(3, dtype = np.cfloat) + np.sum(np.array(list(map(f_chi, *param))), axis = 0)"
     ],
     "language": "python",
     "metadata": {},
     "outputs": [],
     "prompt_number": 15
    },
    {
     "cell_type": "code",
     "collapsed": false,
     "input": [
      "def f_d(param):\n",
      "    \"\"\"\n",
      "    Calculate the dispersion tensor of the plasma.\n",
      "    See Eq. 73 in 'Waves in plasmas' (Stix, 1992)\n",
      "     \n",
      "    Keyword arguments\n",
      "    -----------------\n",
      "    param: a 2D list, where param[:, j] = [n_j, w, kz, kp, wp_j, tz_j, tp_j, vthz_j, vthp_j, Omega_j, vz_j, method = 'pade']\n",
      "    \n",
      "    Return\n",
      "    ------\n",
      "    Return the dispersion tensor    \n",
      "    \"\"\"\n",
      "    w = param[1][0]\n",
      "    kz = param[2][0]\n",
      "    kp = param[3][0]\n",
      "    nz = kz * cspeed/ w\n",
      "    nx = kp * cspeed/ w\n",
      "    return f_epsilon(param) + np.array([[-nz**2, 0, nx*nz], [0, -nx**2-nz**2, 0], [nz*nx, 0, -nx**2]])"
     ],
     "language": "python",
     "metadata": {},
     "outputs": [],
     "prompt_number": 20
    },
    {
     "cell_type": "code",
     "collapsed": false,
     "input": [
      "from py_vlasov.dispersion_tensor import f_epsilon, f_d\n",
      "from py_vlasov.util import (pmass, emass, echarge, permittivity, permeability, cspeed, boltzmann)\n",
      "from scipy import linalg"
     ],
     "language": "python",
     "metadata": {},
     "outputs": [],
     "prompt_number": 2
    },
    {
     "cell_type": "heading",
     "level": 4,
     "metadata": {},
     "source": [
      "Wrapper for proton electron plasma with dimensionless input"
     ]
    },
    {
     "cell_type": "code",
     "collapsed": false,
     "input": [
      "def dt_wrapper(wrel, kperp, kpar, betap, tetp = 1, method = 'pade'):\n",
      "    \"\"\"\n",
      "    Wrapper for dispersion tensor whose input are dimensionless parameters.\n",
      "    Assume that there are only protons and electrons.\n",
      "    No temperature anisotropy or bulk drifts. \n",
      "    \n",
      "    Keyword arguments\n",
      "    -----------------\n",
      "    kperp: k * rho_perp\n",
      "    kpar: k * rho_parallel\n",
      "    betap: proton plasma beta\n",
      "    tetp: electron proton temperature ratio\n",
      "    aol: va/c, where c = lightspeed\n",
      "    \n",
      "    Return\n",
      "    ------\n",
      "    dispersion tensor\n",
      "    \n",
      "    \"\"\"\n",
      "    n = 10 # by default add over 10 terms\n",
      "    b0 = 1e-8 # 10nT by default\n",
      "    vz = 0 # no bulk drift\n",
      "    aol = 1/5000.\n",
      "    va = cspeed * aol\n",
      "    nproton = (b0/va)**2 / (permeability * pmass)\n",
      "    tp = betap * b0**2 / (2 * permeability * nproton * boltzmann)\n",
      "    te = tp * tetp\n",
      "    wpp = np.sqrt(nproton * echarge**2 / (pmass * permittivity))\n",
      "    wpe = np.sqrt(nproton * echarge**2 / (emass * permittivity))\n",
      "    omega_p = echarge * b0/ pmass # proton gyro-freqeuncy\n",
      "    omega_e = -echarge * b0/emass\n",
      "    vthp = np.sqrt(2 * boltzmann * tp/pmass) # proton thermal speed\n",
      "    vthe = np.sqrt(2 * boltzmann * te/emass) # proton thermal speed\n",
      "    rhop = vthp/omega_p # proton gyroradius\n",
      "    w = wrel * omega_p\n",
      "    kz = kpar/rhop\n",
      "    kp = kperp/rhop\n",
      "    vthz = vthp # assume no temperature anisotropy\n",
      "    \n",
      "    proton = [n, w, kz, kp, wpp, tp, tp, vthp, vthp, omega_p, 0, method]\n",
      "    electron = [n, w, kz, kp, wpe, te, te, vthe, vthe, omega_e, 0, method]\n",
      "    \n",
      "    inp = [proton, electron]\n",
      "    param = list(map(list, zip(*inp)))\n",
      "    \n",
      "    return linalg.det(f_d(param) * 1e-40)\n",
      "    #return f_d(param) * 1e-40\n",
      "    "
     ],
     "language": "python",
     "metadata": {},
     "outputs": [],
     "prompt_number": 3
    },
    {
     "cell_type": "code",
     "collapsed": false,
     "input": [
      "kz = 0.001\n",
      "kp = 0.1\n",
      "beta = 0.2\n",
      "alfven = kz / np.sqrt(beta)\n",
      "print(alfven)"
     ],
     "language": "python",
     "metadata": {},
     "outputs": [
      {
       "output_type": "stream",
       "stream": "stdout",
       "text": [
        "0.0022360679775\n"
       ]
      }
     ],
     "prompt_number": 71
    },
    {
     "cell_type": "code",
     "collapsed": false,
     "input": [
      "def real_dt(wrel):\n",
      "    \"\"\"\n",
      "    Find the eigenmode of a magnetized plasma by providing an intial guess.\n",
      "    \n",
      "    \"\"\"\n",
      "    res = dt_wrapper(wrel[0] + 1j * wrel[1], kp, kz, beta, tetp = 1, method = 'numpy')\n",
      "    return [np.real(res), np.imag(res)]"
     ],
     "language": "python",
     "metadata": {},
     "outputs": [],
     "prompt_number": 64
    },
    {
     "cell_type": "code",
     "collapsed": false,
     "input": [
      "real_dt([alfven, 0])"
     ],
     "language": "python",
     "metadata": {},
     "outputs": [
      {
       "metadata": {},
       "output_type": "pyout",
       "prompt_number": 65,
       "text": [
        "[array(2.0998799940759337e-94), array(1.1627179559960513e-96)]"
       ]
      }
     ],
     "prompt_number": 65
    },
    {
     "cell_type": "code",
     "collapsed": false,
     "input": [
      "scipy.optimize.fsolve(real_dt, [alfven, 0])"
     ],
     "language": "python",
     "metadata": {},
     "outputs": [
      {
       "metadata": {},
       "output_type": "pyout",
       "prompt_number": 66,
       "text": [
        "array([  2.24241681e-02,  -7.31901701e-06])"
       ]
      }
     ],
     "prompt_number": 66
    },
    {
     "cell_type": "code",
     "collapsed": false,
     "input": [
      "scipy.optimize.fsolve(real_dt, [0.25, 0])"
     ],
     "language": "python",
     "metadata": {},
     "outputs": [
      {
       "metadata": {},
       "output_type": "pyout",
       "prompt_number": 67,
       "text": [
        "array([ 0.26142078, -0.00735972])"
       ]
      }
     ],
     "prompt_number": 67
    },
    {
     "cell_type": "code",
     "collapsed": false,
     "input": [
      "scipy.optimize.root(real_dt, [0.0015, -0.002])"
     ],
     "language": "python",
     "metadata": {},
     "outputs": [
      {
       "metadata": {},
       "output_type": "pyout",
       "prompt_number": 74,
       "text": [
        "       r: array([ -1.84800266e-83,   1.29193576e-84,  -1.73229724e-83])\n",
        "     fun: array([ -7.39599478e-98,   2.06527366e-97])\n",
        " success: True\n",
        "    nfev: 25\n",
        "     qtf: array([ -4.35086243e-96,   8.06729472e-96])\n",
        "    fjac: array([[ 0.98838183, -0.15199128],\n",
        "       [ 0.15199128,  0.98838183]])\n",
        "       x: array([ 0.0016414 , -0.00167022])\n",
        " message: 'The solution converged.'\n",
        "  status: 1"
       ]
      }
     ],
     "prompt_number": 74
    },
    {
     "cell_type": "code",
     "collapsed": false,
     "input": [
      "0.08 * np.sqrt(2)"
     ],
     "language": "python",
     "metadata": {},
     "outputs": [
      {
       "metadata": {},
       "output_type": "pyout",
       "prompt_number": 62,
       "text": [
        "0.11313708498984762"
       ]
      }
     ],
     "prompt_number": 62
    },
    {
     "cell_type": "code",
     "collapsed": false,
     "input": [],
     "language": "python",
     "metadata": {},
     "outputs": []
    }
   ],
   "metadata": {}
  }
 ]
}