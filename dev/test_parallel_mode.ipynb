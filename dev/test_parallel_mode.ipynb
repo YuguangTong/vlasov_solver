{
 "cells": [
  {
   "cell_type": "markdown",
   "metadata": {},
   "source": [
    "# Test parallel instabilities"
   ]
  },
  {
   "cell_type": "markdown",
   "metadata": {},
   "source": [
    "###### Gary et al. Proton temperature anisotropy instabilities in the solar wind, JGR 1976"
   ]
  },
  {
   "cell_type": "code",
   "execution_count": 130,
   "metadata": {
    "collapsed": false
   },
   "outputs": [],
   "source": [
    "import numpy as np\n",
    "import scipy.optimize\n",
    "from py_vlasov.parallel_mode import parallel_em_wave_wrapper\n",
    "from py_vlasov.util import real_imag, list_to_complex\n",
    "import matplotlib.pyplot as plt\n",
    "%matplotlib inline"
   ]
  },
  {
   "cell_type": "markdown",
   "metadata": {},
   "source": [
    "## Firehose instabilities"
   ]
  },
  {
   "cell_type": "code",
   "execution_count": 131,
   "metadata": {
    "collapsed": false
   },
   "outputs": [],
   "source": [
    "k=0.1\n",
    "betap = 1.\n",
    "t_list=[1.,1.]\n",
    "#a_list=[0.6,0.]\n",
    "a_list=[0., 0.]\n",
    "n_list=[1.,1.] \n",
    "q_list=[1.,-1.]\n",
    "m_list=[1., 1/1836]\n",
    "v_list=[0,0]"
   ]
  },
  {
   "cell_type": "code",
   "execution_count": 132,
   "metadata": {
    "collapsed": false
   },
   "outputs": [
    {
     "name": "stdout",
     "output_type": "stream",
     "text": [
      "[  1.07277486e-01  -5.77446472e-09]\n"
     ]
    }
   ],
   "source": [
    "# firehose instabilities\n",
    "\n",
    "f = lambda wrel: real_imag(parallel_em_wave_wrapper(wrel[0] + 1j * wrel[1], k, betap, t_list, \\\n",
    "                                                      a_list, n_list, q_list, \\\n",
    "                                                      m_list, v_list, method = 'pade', aol=1/5000, mode = 'r'))\n",
    "guess = 0.1\n",
    "freq = scipy.optimize.fsolve(f, real_imag(guess))\n",
    "print(freq)"
   ]
  },
  {
   "cell_type": "code",
   "execution_count": 133,
   "metadata": {
    "collapsed": true
   },
   "outputs": [],
   "source": [
    "def simple_follow_fn(prev_result, prev_param_val, cur_param_val):\n",
    "    \"\"\"\n",
    "    Follow a solution by using the previous result directly as a guess for \\\n",
    "    the new result.\n",
    "\n",
    "    \"\"\"\n",
    "    return prev_result"
   ]
  },
  {
   "cell_type": "code",
   "execution_count": 134,
   "metadata": {
    "collapsed": false
   },
   "outputs": [],
   "source": [
    "def change_k(seed_freq, param, target_k, num_step, follow_k_fn=simple_follow_fn, step_method = 'log',  show_plot=True):\n",
    "    \"\"\"\n",
    "    Follow the solution and incrementally change angles to the target_angle.\n",
    "    \n",
    "    Parameters\n",
    "    ----------\n",
    "    freq: w/proton_gyro_frequency\n",
    "    param: list (k, theta, beta, te/tp, method, mratio, n, aol)\n",
    "    wrel, k, betap, t_list, a_list, n_list, q_list,\n",
    "                             m_list, v_list, method = 'pade', aol=1/5000, mode='r'\n",
    "    target_angle: target propogation angle\n",
    "    num_step: number of steps\n",
    "    follow_beta_fn: how to follow from one beta to another beta\n",
    "    show_plot: whether to show a plot of intermediate steps\n",
    "    Return\n",
    "    ------\n",
    "    freq at the target angle\n",
    "    \"\"\"\n",
    "    seed_k, betap, t_list, a_list, n_list, q_list, \\\n",
    "    m_list, v_list, method, aol, mode = param\n",
    "    start = seed_k\n",
    "    stop = target_k\n",
    "    if step_method == 'log':\n",
    "        k_list = np.logspace(np.log10(start), np.log10(stop), num_step, endpoint=True)\n",
    "    else:\n",
    "        k_list = np.linspace(start, stop, num_step, endpoint=True)\n",
    "    result = [seed_freq]\n",
    "    for i in list(range(num_step))[1:]:\n",
    "        k = k_list[i]\n",
    "        prev_k = k_list[i-1]\n",
    "        prev_result = result[-1]\n",
    "        guess = follow_k_fn(prev_result, prev_k, k)\n",
    "        f = lambda wrel: real_imag(parallel_em_wave_wrapper(wrel[0] + 1j * wrel[1], k, betap, t_list, \\\n",
    "                                                            a_list, n_list, q_list, \\\n",
    "                                                            m_list, v_list, method = method, aol=aol, mode = mode))\n",
    "        freq = scipy.optimize.fsolve(f, real_imag(guess))\n",
    "        result += [list_to_complex(freq)]\n",
    "\n",
    "    if show_plot:\n",
    "        plt.plot(k_list, np.real(result), 'o-', markersize= 2)\n",
    "        plt.xscale('log')\n",
    "        plt.yscale('log')\n",
    "        plt.xlabel(r'$k\\rho_p$')\n",
    "        plt.ylabel(r'$\\omega/\\Omega_{ci}$')\n",
    "        plt.title(r'Change $k\\rho_p$ from {0} to {1}'.format(seed_k, target_k))\n",
    "        plt.show()\n",
    "    return k_list, result\n"
   ]
  },
  {
   "cell_type": "markdown",
   "metadata": {},
   "source": [
    "### Without anisotropy"
   ]
  },
  {
   "cell_type": "code",
   "execution_count": 147,
   "metadata": {
    "collapsed": true
   },
   "outputs": [],
   "source": [
    "seed_freq = 1.07277486e-01  - 5.77446472e-09j\n",
    "target_k = 1.0\n",
    "num_step = 100\n",
    "step_method = 'linear'\n",
    "#------------------------------\n",
    "betap = 1.\n",
    "t_list=[1.,1.]\n",
    "#a_list=[0,0.]\n",
    "a_list=[0.,0.]\n",
    "n_list=[1.,1.] \n",
    "q_list=[1.,-1.]\n",
    "m_list=[1., 1/1836]\n",
    "v_list=[0,0]\n",
    "method = 'numpy'\n",
    "aol = 1/5000.\n",
    "mode = 'r'\n",
    "param = [k, betap, t_list, a_list, n_list, q_list, m_list, v_list, method, aol, mode]"
   ]
  },
  {
   "cell_type": "code",
   "execution_count": 148,
   "metadata": {
    "collapsed": false
   },
   "outputs": [],
   "source": [
    "i_k_list, i_w_list = change_k(seed_freq, param, target_k, num_step, show_plot=False);\n",
    "i_w_list = np.array(i_w_list)"
   ]
  },
  {
   "cell_type": "markdown",
   "metadata": {},
   "source": [
    "### with anisotropy"
   ]
  },
  {
   "cell_type": "code",
   "execution_count": 149,
   "metadata": {
    "collapsed": false
   },
   "outputs": [],
   "source": [
    "seed_freq = 9.23496910e-02 + 3.52557188e-08j\n",
    "target_k = 1.0\n",
    "num_step = 100\n",
    "step_method = 'linear'\n",
    "#------------------------------\n",
    "betap = 1.\n",
    "t_list=[1.,1.]\n",
    "#a_list=[0,0.]\n",
    "a_list=[0.6,0.]\n",
    "n_list=[1.,1.] \n",
    "q_list=[1.,-1.]\n",
    "m_list=[1., 1/1836]\n",
    "v_list=[0,0]\n",
    "method = 'numpy'\n",
    "aol = 1/5000.\n",
    "mode = 'r'\n",
    "param = [k, betap, t_list, a_list, n_list, q_list, m_list, v_list, method, aol, mode]"
   ]
  },
  {
   "cell_type": "code",
   "execution_count": 150,
   "metadata": {
    "collapsed": false
   },
   "outputs": [],
   "source": [
    "a_k_list, a_w_list = change_k(seed_freq, param, target_k, num_step, show_plot=False);\n",
    "a_w_list = np.array(a_w_list)"
   ]
  },
  {
   "cell_type": "code",
   "execution_count": 151,
   "metadata": {
    "collapsed": false
   },
   "outputs": [
    {
     "data": {
      "text/plain": [
       "<matplotlib.text.Text at 0x10f1596a0>"
      ]
     },
     "execution_count": 151,
     "metadata": {},
     "output_type": "execute_result"
    },
    {
     "data": {
      "image/png": "[encoded data removed]",
      "text/plain": [
       "<matplotlib.figure.Figure at 0x10f280dd8>"
      ]
     },
     "metadata": {},
     "output_type": "display_data"
    }
   ],
   "source": [
    "fig, ax1 = plt.subplots(figsize=[5,6])\n",
    "ax1.plot(i_k_list/np.sqrt(2), np.real(i_w_list))\n",
    "ax1.plot(a_k_list/np.sqrt(2), np.real(a_w_list), '--')\n",
    "ax1.set_ylim([0,1.7])\n",
    "ax1.set_xlim([0, 0.7])\n",
    "ax1.set_xlabel(r'$k\\rho_p/\\sqrt{2}$')\n",
    "ax1.set_ylabel(r'$\\omega_r/\\Omega_p$')\n",
    "ax2 = ax1.twinx()\n",
    "ax2.plot(a_k_list/np.sqrt(2), np.imag(a_w_list), 'o', markersize=4)\n",
    "ax2.set_ylim([1e-6, 4e-4])\n",
    "ax1.set_xlim([0, 0.7])\n",
    "ax2.set_yscale('log')\n",
    "ax2.set_ylabel(r'$\\omega_i/\\Omega_p$')\n",
    "ax1.set_title('Firehose wave/instabilities \\n(Gary et al. 1976 Fig 1b)')"
   ]
  },
  {
   "cell_type": "code",
   "execution_count": 152,
   "metadata": {
    "collapsed": true
   },
   "outputs": [],
   "source": [
    "fig.savefig('fh_instabilities_1.png', dpi=300)"
   ]
  },
  {
   "cell_type": "code",
   "execution_count": 33,
   "metadata": {
    "collapsed": false
   },
   "outputs": [],
   "source": [
    "# inspect object method\n",
    "\n",
    "[method for method in dir(ax1) if callable(getattr(ax1, method))];"
   ]
  },
  {
   "cell_type": "markdown",
   "metadata": {
    "collapsed": true
   },
   "source": [
    "## ion cyclotron instabilities"
   ]
  },
  {
   "cell_type": "code",
   "execution_count": 112,
   "metadata": {
    "collapsed": true
   },
   "outputs": [],
   "source": [
    "k=0.1\n",
    "betap = 1.\n",
    "t_list=[1.,1.]\n",
    "a_list=[-1.5,0.]\n",
    "#a_list=[0., 0.]\n",
    "n_list=[1.,1.] \n",
    "q_list=[1.,-1.]\n",
    "m_list=[1., 1/1836]\n",
    "v_list=[0,0]"
   ]
  },
  {
   "cell_type": "code",
   "execution_count": 114,
   "metadata": {
    "collapsed": false
   },
   "outputs": [
    {
     "name": "stdout",
     "output_type": "stream",
     "text": [
      "[  1.28927702e-01   7.78764338e-32]\n"
     ]
    }
   ],
   "source": [
    "f = lambda wrel: real_imag(parallel_em_wave_wrapper(wrel[0] + 1j * wrel[1], k, betap, t_list, \\\n",
    "                                                      a_list, n_list, q_list, \\\n",
    "                                                      m_list, v_list, method = 'numpy', aol=1/5000, mode = 'l'))\n",
    "guess = .1\n",
    "freq = scipy.optimize.fsolve(f, real_imag(guess))\n",
    "print(freq)"
   ]
  },
  {
   "cell_type": "markdown",
   "metadata": {},
   "source": [
    "### Isotropic"
   ]
  },
  {
   "cell_type": "code",
   "execution_count": 144,
   "metadata": {
    "collapsed": true
   },
   "outputs": [],
   "source": [
    "seed_freq =  9.22162946e-02  + 1.10583914e-08j\n",
    "target_k = 1.0\n",
    "num_step = 50\n",
    "step_method = 'linear'\n",
    "#------------------------------\n",
    "betap = 1.\n",
    "t_list=[1.,1.]\n",
    "#a_list=[0,0.]\n",
    "a_list=[0.,0.]\n",
    "n_list=[1.,1.] \n",
    "q_list=[1.,-1.]\n",
    "m_list=[1., 1/1836]\n",
    "v_list=[0,0]\n",
    "method = 'numpy'\n",
    "aol = 1/5000.\n",
    "mode = 'l'\n",
    "param = [k, betap, t_list, a_list, n_list, q_list, m_list, v_list, method, aol, mode]"
   ]
  },
  {
   "cell_type": "code",
   "execution_count": 145,
   "metadata": {
    "collapsed": false
   },
   "outputs": [],
   "source": [
    "i_k_list, i_w_list = change_k(seed_freq, param, target_k, num_step, show_plot=False);\n",
    "i_w_list = np.array(i_w_list)"
   ]
  },
  {
   "cell_type": "markdown",
   "metadata": {},
   "source": [
    "### anisotropic"
   ]
  },
  {
   "cell_type": "code",
   "execution_count": 146,
   "metadata": {
    "collapsed": true
   },
   "outputs": [],
   "source": [
    "seed_freq =  1.28927702e-01 + 7.78764338e-32\n",
    "target_k = 1.0\n",
    "num_step = 50\n",
    "step_method = 'linear'\n",
    "#------------------------------\n",
    "betap = 1.\n",
    "t_list=[1.,1.]\n",
    "a_list=[-1.5,0.]\n",
    "#a_list=[0.,0.]\n",
    "n_list=[1.,1.] \n",
    "q_list=[1.,-1.]\n",
    "m_list=[1., 1/1836]\n",
    "v_list=[0,0]\n",
    "method = 'numpy'\n",
    "aol = 1/5000.\n",
    "mode = 'l'\n",
    "param = [k, betap, t_list, a_list, n_list, q_list, m_list, v_list, method, aol, mode]"
   ]
  },
  {
   "cell_type": "code",
   "execution_count": 143,
   "metadata": {
    "collapsed": false
   },
   "outputs": [],
   "source": [
    "a_k_list, a_w_list = change_k(seed_freq, param, target_k, num_step, show_plot=False);\n",
    "a_w_list = np.array(a_w_list)"
   ]
  },
  {
   "cell_type": "code",
   "execution_count": 129,
   "metadata": {
    "collapsed": false
   },
   "outputs": [
    {
     "data": {
      "text/plain": [
       "<matplotlib.text.Text at 0x10edbe358>"
      ]
     },
     "execution_count": 129,
     "metadata": {},
     "output_type": "execute_result"
    },
    {
     "data": {
      "image/png": "[encoded data removed]",
      "text/plain": [
       "<matplotlib.figure.Figure at 0x10eedb0b8>"
      ]
     },
     "metadata": {},
     "output_type": "display_data"
    }
   ],
   "source": [
    "fig, ax1 = plt.subplots(figsize=[5,5])\n",
    "ax1.plot(i_k_list/np.sqrt(2), np.real(i_w_list))\n",
    "ax1.plot(a_k_list/np.sqrt(2), np.real(a_w_list), '--')\n",
    "ax1.set_ylim([0,0.8])\n",
    "ax1.set_xlim([0, 0.7])\n",
    "ax1.set_xlabel(r'$k\\rho_p/\\sqrt{2}$')\n",
    "ax1.set_ylabel(r'$\\omega_r/\\Omega_p$')\n",
    "ax2 = ax1.twinx()\n",
    "ax2.plot(a_k_list/np.sqrt(2), np.imag(a_w_list), 'o', markersize=4)\n",
    "ax2.set_ylim([1e-3, 2e-1])\n",
    "ax1.set_xlim([0, 0.7])\n",
    "ax2.set_yscale('log')\n",
    "ax2.set_ylabel(r'$\\omega_i/\\Omega_p$')\n",
    "ax1.set_title('Ion-cyclotron wave/instabilities \\n(Gary et al. 1976 Fig 1b)')"
   ]
  },
  {
   "cell_type": "code",
   "execution_count": 141,
   "metadata": {
    "collapsed": false
   },
   "outputs": [],
   "source": [
    "fig.savefig('ic_instabilities_1.png', dpi=300)"
   ]
  },
  {
   "cell_type": "code",
   "execution_count": null,
   "metadata": {
    "collapsed": true
   },
   "outputs": [],
   "source": []
  }
 ],
 "metadata": {
  "kernelspec": {
   "display_name": "Python 3",
   "language": "python",
   "name": "python3"
  },
  "language_info": {
   "codemirror_mode": {
    "name": "ipython",
    "version": 3
   },
   "file_extension": ".py",
   "mimetype": "text/x-python",
   "name": "python",
   "nbconvert_exporter": "python",
   "pygments_lexer": "ipython3",
   "version": "3.4.3"
  }
 },
 "nbformat": 4,
 "nbformat_minor": 0
}
