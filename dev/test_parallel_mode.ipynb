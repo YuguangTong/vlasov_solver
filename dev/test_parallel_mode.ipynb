{
 "cells": [
  {
   "cell_type": "markdown",
   "metadata": {},
   "source": [
    "## Test parallel firehose instabilities"
   ]
  },
  {
   "cell_type": "markdown",
   "metadata": {},
   "source": [
    "###### Gary et al. Proton temperature anisotropy instabilities in the solar wind, JGR 1976"
   ]
  },
  {
   "cell_type": "code",
   "execution_count": 1,
   "metadata": {
    "collapsed": false
   },
   "outputs": [],
   "source": [
    "import numpy as np\n",
    "import scipy.optimize\n",
    "from py_vlasov.parallel_mode import parallel_em_wave_wrapper\n",
    "from py_vlasov.util import real_imag, list_to_complex\n",
    "import matplotlib.pyplot as plt\n",
    "%matplotlib inline"
   ]
  },
  {
   "cell_type": "code",
   "execution_count": 32,
   "metadata": {
    "collapsed": false
   },
   "outputs": [],
   "source": [
    "k=0.1\n",
    "betap = 1.\n",
    "t_list=[1.,1.]\n",
    "#a_list=[0.6,0.]\n",
    "a_list=[0., 0.]\n",
    "n_list=[1.,1.] \n",
    "q_list=[1.,-1.]\n",
    "m_list=[1., 1/1836]\n",
    "v_list=[0,0]"
   ]
  },
  {
   "cell_type": "code",
   "execution_count": 33,
   "metadata": {
    "collapsed": false
   },
   "outputs": [
    {
     "name": "stdout",
     "output_type": "stream",
     "text": [
      "[  1.07277486e-01  -5.77446472e-09]\n"
     ]
    }
   ],
   "source": [
    "f = lambda wrel: real_imag(parallel_em_wave_wrapper(wrel[0] + 1j * wrel[1], k, betap, t_list, \\\n",
    "                                                      a_list, n_list, q_list, \\\n",
    "                                                      m_list, v_list, method = 'pade', aol=1/5000, mode = 'r'))\n",
    "#guess = k * np.sqrt(abs(1/betap - a_list[0]/2 - t_list[1] * a_list[1]/2)) \n",
    "#print('guess = ', guess)\n",
    "guess = 0.1\n",
    "freq = scipy.optimize.fsolve(f, real_imag(guess))\n",
    "print(freq)"
   ]
  },
  {
   "cell_type": "code",
   "execution_count": 6,
   "metadata": {
    "collapsed": true
   },
   "outputs": [],
   "source": [
    "def simple_follow_fn(prev_result, prev_param_val, cur_param_val):\n",
    "    \"\"\"\n",
    "    Follow a solution by using the previous result directly as a guess for \\\n",
    "    the new result.\n",
    "\n",
    "    \"\"\"\n",
    "    return prev_result"
   ]
  },
  {
   "cell_type": "code",
   "execution_count": 7,
   "metadata": {
    "collapsed": false
   },
   "outputs": [],
   "source": [
    "def change_k(seed_freq, param, target_k, num_step, follow_k_fn=simple_follow_fn, step_method = 'log',  show_plot=True):\n",
    "    \"\"\"\n",
    "    Follow the solution and incrementally change angles to the target_angle.\n",
    "    \n",
    "    Parameters\n",
    "    ----------\n",
    "    freq: w/proton_gyro_frequency\n",
    "    param: list (k, theta, beta, te/tp, method, mratio, n, aol)\n",
    "    wrel, k, betap, t_list, a_list, n_list, q_list,\n",
    "                             m_list, v_list, method = 'pade', aol=1/5000, mode='r'\n",
    "    target_angle: target propogation angle\n",
    "    num_step: number of steps\n",
    "    follow_beta_fn: how to follow from one beta to another beta\n",
    "    show_plot: whether to show a plot of intermediate steps\n",
    "    Return\n",
    "    ------\n",
    "    freq at the target angle\n",
    "    \"\"\"\n",
    "    seed_k, betap, t_list, a_list, n_list, q_list, \\\n",
    "    m_list, v_list, method, aol, mode = param\n",
    "    start = seed_k\n",
    "    stop = target_k\n",
    "    if step_method == 'log':\n",
    "        k_list = np.logspace(np.log10(start), np.log10(stop), num_step, endpoint=True)\n",
    "    else:\n",
    "        k_list = np.linspace(start, stop, num_step, endpoint=True)\n",
    "    result = [seed_freq]\n",
    "    for i in list(range(num_step))[1:]:\n",
    "        k = k_list[i]\n",
    "        prev_k = k_list[i-1]\n",
    "        prev_result = result[-1]\n",
    "        guess = follow_k_fn(prev_result, prev_k, k)\n",
    "        f = lambda wrel: real_imag(parallel_em_wave_wrapper(wrel[0] + 1j * wrel[1], k, betap, t_list, \\\n",
    "                                                            a_list, n_list, q_list, \\\n",
    "                                                            m_list, v_list, method = method, aol=aol))\n",
    "        freq = scipy.optimize.fsolve(f, real_imag(guess))\n",
    "        result += [list_to_complex(freq)]\n",
    "\n",
    "    if show_plot:\n",
    "        plt.plot(k_list, np.real(result), 'o-', markersize= 2)\n",
    "        plt.xscale('log')\n",
    "        plt.yscale('log')\n",
    "        plt.xlabel(r'$k\\rho_p$')\n",
    "        plt.ylabel(r'$\\omega/\\Omega_{ci}$')\n",
    "        plt.title(r'Change $k\\rho_p$ from {0} to {1}'.format(seed_k, target_k))\n",
    "        plt.show()\n",
    "    return k_list, result\n"
   ]
  },
  {
   "cell_type": "markdown",
   "metadata": {},
   "source": [
    "### Without anisotropy"
   ]
  },
  {
   "cell_type": "code",
   "execution_count": 49,
   "metadata": {
    "collapsed": true
   },
   "outputs": [],
   "source": [
    "seed_freq = 1.07277486e-01  - 5.77446472e-09j\n",
    "target_k = 1.0\n",
    "num_step = 100\n",
    "step_method = 'linear'\n",
    "#------------------------------\n",
    "betap = 1.\n",
    "t_list=[1.,1.]\n",
    "#a_list=[0,0.]\n",
    "a_list=[0.,0.]\n",
    "n_list=[1.,1.] \n",
    "q_list=[1.,-1.]\n",
    "m_list=[1., 1/1836]\n",
    "v_list=[0,0]\n",
    "method = 'numpy'\n",
    "aol = 1/5000.\n",
    "mode = 'r'\n",
    "param = [k, betap, t_list, a_list, n_list, q_list, m_list, v_list, method, aol, mode]"
   ]
  },
  {
   "cell_type": "code",
   "execution_count": 50,
   "metadata": {
    "collapsed": false
   },
   "outputs": [],
   "source": [
    "i_k_list, i_w_list = change_k(seed_freq, param, target_k, num_step, show_plot=False);\n",
    "i_w_list = np.array(i_w_list)"
   ]
  },
  {
   "cell_type": "code",
   "execution_count": null,
   "metadata": {
    "collapsed": true
   },
   "outputs": [],
   "source": []
  },
  {
   "cell_type": "markdown",
   "metadata": {},
   "source": [
    "### with anisotropy"
   ]
  },
  {
   "cell_type": "code",
   "execution_count": 51,
   "metadata": {
    "collapsed": false
   },
   "outputs": [],
   "source": [
    "seed_freq = 9.23496910e-02 + 3.52557188e-08j\n",
    "target_k = 1.0\n",
    "num_step = 100\n",
    "step_method = 'linear'\n",
    "#------------------------------\n",
    "betap = 1.\n",
    "t_list=[1.,1.]\n",
    "#a_list=[0,0.]\n",
    "a_list=[0.6,0.]\n",
    "n_list=[1.,1.] \n",
    "q_list=[1.,-1.]\n",
    "m_list=[1., 1/1836]\n",
    "v_list=[0,0]\n",
    "method = 'numpy'\n",
    "aol = 1/5000.\n",
    "mode = 'r'\n",
    "param = [k, betap, t_list, a_list, n_list, q_list, m_list, v_list, method, aol, mode]"
   ]
  },
  {
   "cell_type": "code",
   "execution_count": 52,
   "metadata": {
    "collapsed": false
   },
   "outputs": [],
   "source": [
    "a_k_list, a_w_list = change_k(seed_freq, param, target_k, num_step, show_plot=False);\n",
    "a_w_list = np.array(w_list)"
   ]
  },
  {
   "cell_type": "code",
   "execution_count": 53,
   "metadata": {
    "collapsed": false
   },
   "outputs": [
    {
     "data": {
      "text/plain": [
       "(0, 1.7)"
      ]
     },
     "execution_count": 53,
     "metadata": {},
     "output_type": "execute_result"
    },
    {
     "data": {
      "image/png": "[encoded data removed]",
      "text/plain": [
       "<matplotlib.figure.Figure at 0x1129bb390>"
      ]
     },
     "metadata": {},
     "output_type": "display_data"
    }
   ],
   "source": [
    "plt.figure(figsize=[6,6])\n",
    "plt.plot(i_k_list/np.sqrt(2), np.real(i_w_list))\n",
    "plt.plot(a_k_list/np.sqrt(2), np.real(a_w_list), '--')\n",
    "plt.xlim([0, 0.7])\n",
    "plt.ylim([0, 1.7])"
   ]
  },
  {
   "cell_type": "code",
   "execution_count": 55,
   "metadata": {
    "collapsed": false
   },
   "outputs": [
    {
     "data": {
      "text/plain": [
       "(1e-06, 0.0004)"
      ]
     },
     "execution_count": 55,
     "metadata": {},
     "output_type": "execute_result"
    },
    {
     "data": {
      "image/png": "[encoded data removed]",
      "text/plain": [
       "<matplotlib.figure.Figure at 0x112ea8048>"
      ]
     },
     "metadata": {},
     "output_type": "display_data"
    }
   ],
   "source": [
    "plt.figure(figsize=[6,6])\n",
    "#plt.plot(k_list/np.sqrt(2), np.real(w_list))\n",
    "plt.plot(a_k_list/np.sqrt(2), np.imag(a_w_list), 'o')\n",
    "plt.xlim([0, 0.7])\n",
    "plt.yscale('log')\n",
    "plt.ylim([1e-6, 4e-4])\n",
    "#plt.ylim([0, 1.7])"
   ]
  },
  {
   "cell_type": "code",
   "execution_count": null,
   "metadata": {
    "collapsed": true
   },
   "outputs": [],
   "source": []
  }
 ],
 "metadata": {
  "kernelspec": {
   "display_name": "Python 3",
   "language": "python",
   "name": "python3"
  },
  "language_info": {
   "codemirror_mode": {
    "name": "ipython",
    "version": 3
   },
   "file_extension": ".py",
   "mimetype": "text/x-python",
   "name": "python",
   "nbconvert_exporter": "python",
   "pygments_lexer": "ipython3",
   "version": "3.5.0"
  }
 },
 "nbformat": 4,
 "nbformat_minor": 0
}
