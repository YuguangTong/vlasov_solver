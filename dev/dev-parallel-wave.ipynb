{
 "cells": [
  {
   "cell_type": "code",
   "execution_count": 3,
   "metadata": {
    "collapsed": false
   },
   "outputs": [],
   "source": [
    "from py_vlasov.util import zp, pade, zp_mp\n",
    "from py_vlasov.util import (pmass, emass, echarge, permittivity, permeability, cspeed, boltzmann)\n",
    "import numpy as np"
   ]
  },
  {
   "cell_type": "code",
   "execution_count": 4,
   "metadata": {
    "collapsed": true
   },
   "outputs": [],
   "source": [
    "def f_zeta(w, kz, vz, Omega, vthz, n):\n",
    "    \"\"\"\n",
    "    Calculate the argument of plasma dispersion function.\n",
    "    \n",
    "    Keyword arguments\n",
    "    -----------------\n",
    "    w: frequency (rad/s)\n",
    "    kz: parallel wavenumber (rad/m)\n",
    "    vz: parallel drift of the particle species (m/s)\n",
    "    Omega: gyrofrequency of the species (rad/s)\n",
    "    vthz: parallel thermal speed (m/s)\n",
    "    n: resonance number\n",
    "    \n",
    "    Return\n",
    "    ------\n",
    "    \\zeta_{ns}\n",
    "    \"\"\"\n",
    "    return (w-kz*vz-n*Omega)/(kz*vthz)"
   ]
  },
  {
   "cell_type": "code",
   "execution_count": 5,
   "metadata": {
    "collapsed": true
   },
   "outputs": [],
   "source": [
    "def choose_zp_fn(method):\n",
    "    \"\"\"\n",
    "    choose which function to calclate the plasma dispersion function.\n",
    "    \n",
    "    Keyword arguments\n",
    "    -----------------\n",
    "    method: a string in ['pade', 'numpy', 'mpmath']\n",
    "    \n",
    "    Return\n",
    "    ------\n",
    "    return the pointer to the function object.\n",
    "      \n",
    "    \"\"\"\n",
    "    if method == 'pade':\n",
    "        f_zp = pade\n",
    "    elif method == 'numpy':\n",
    "        f_zp = zp\n",
    "    elif method == 'mpmath':\n",
    "        f_zp = zp_mp\n",
    "    else:\n",
    "        raise VlasovException(\"Unreconized method.\\n\" +\n",
    "            \"Please choose between 'pade', 'numpy' and 'mpmath'\")\n",
    "    return f_zp"
   ]
  },
  {
   "cell_type": "code",
   "execution_count": 6,
   "metadata": {
    "collapsed": true
   },
   "outputs": [],
   "source": [
    "def r_wave_rhs(n, w, kz, kp, wp, tz, tp, vthz, vthp, Omega, vz, method = 'pade'):\n",
    "    \"\"\"\n",
    "\n",
    "    Keyword arguments\n",
    "    -----------------\n",
    "    n: number of terms to sum over. do not need for parallel propagation.\n",
    "    w: frequency\n",
    "    kz: parallel wavenumber\n",
    "    kp: perpendicular wavenumber. kp = 0 for parallel propagation.\n",
    "    wp: plasma frequency of the species\n",
    "    tz: parallel temperature\n",
    "    tp: perpendicular temperature\n",
    "    vthz: parallel thermal speed\n",
    "    vthp: perpendicular thermal speed\n",
    "    Omega: gyrofrequency\n",
    "    vz: parallel drift\n",
    "    \n",
    "    Return\n",
    "    ------\n",
    "    The value of the summed term on the RHS of Eq (2), P. 267, Stix (1992). \n",
    "    Eq (2) yields R wave.\n",
    "    \"\"\"\n",
    "    term_1 = -(tp-tz)/tz\n",
    "    term_2 = ((w - kz*vz + Omega)*tp - Omega*tz)/(kz * vthz * tz)\n",
    "    f_zp = choose_zp_fn(method)\n",
    "    zeta = f_zeta(w, kz, vz, Omega, vthz, -1)\n",
    "    term_3 = f_zp(zeta)\n",
    "    rhs = (wp/w)**2 * (term_1 + term_2 * term_3)\n",
    "    return rhs"
   ]
  },
  {
   "cell_type": "code",
   "execution_count": 7,
   "metadata": {
    "collapsed": true
   },
   "outputs": [],
   "source": [
    "def l_wave_rhs(n, w, kz, kp, wp, tz, tp, vthz, vthp, Omega, vz, method = 'pade'):\n",
    "    \"\"\"\n",
    "\n",
    "    Keyword arguments\n",
    "    -----------------\n",
    "    n: number of terms to sum over. do not need for parallel propagation.\n",
    "    w: frequency\n",
    "    kz: parallel wavenumber\n",
    "    kp: perpendicular wavenumber. kp = 0 for parallel propagation.\n",
    "    wp: plasma frequency of the species\n",
    "    tz: parallel temperature\n",
    "    tp: perpendicular temperature\n",
    "    vthz: parallel thermal speed\n",
    "    vthp: perpendicular thermal speed\n",
    "    Omega: gyrofrequency\n",
    "    vz: parallel drift\n",
    "    \n",
    "    Return\n",
    "    ------\n",
    "    The value of an the summed term in Eq (3), P. 267, Stix (1992). \n",
    "    Eq (3) yields L wave.\n",
    "    \"\"\"\n",
    "    term_1 = (tp-tz)/tz\n",
    "    term_2 = ((w - kz*vz - Omega)*tp - Omega*tz)/(kz * vthz * tz)\n",
    "    f_zp = choose_zp_fn(method)\n",
    "    zeta = f_zeta(w, kz, vz, Omega, vthz, 1)\n",
    "    term_3 = f_zp(zeta)\n",
    "    rhs = (wp/w)**2 * (term_1 + term_2 * term_3)\n",
    "    return rhs"
   ]
  },
  {
   "cell_type": "code",
   "execution_count": 8,
   "metadata": {
    "collapsed": true
   },
   "outputs": [],
   "source": [
    "def static_rhs(n, w, kz, kp, wp, tz, tp, vthz, vthp, Omega, vz, method = 'pade'):\n",
    "    \"\"\"\n",
    "\n",
    "    Keyword arguments\n",
    "    -----------------\n",
    "    n: number of terms to sum over. do not need for parallel propagation.\n",
    "    w: frequency\n",
    "    kz: parallel wavenumber\n",
    "    kp: perpendicular wavenumber. kp = 0 for parallel propagation.\n",
    "    wp: plasma frequency of the species\n",
    "    tz: parallel temperature\n",
    "    tp: perpendicular temperature\n",
    "    vthz: parallel thermal speed\n",
    "    vthp: perpendicular thermal speed\n",
    "    Omega: gyrofrequency\n",
    "    vz: parallel drift\n",
    "    \n",
    "    Return\n",
    "    ------\n",
    "    The value of an the summed term in Eq (4), P. 267, Stix (1992). \n",
    "    Eq (4) yields electrostatic wave.\n",
    "    \"\"\"\n",
    "    term_1 = 2 * (wp/ kz / vthz)**2\n",
    "    term_2 = (w - kz * vz)/ (kz * vthz)\n",
    "    f_zp = choose_zp_fn(method)\n",
    "    zeta = f_zeta(w, kz, vz, Omega, vthz, 0)\n",
    "    term_3 = f_zp(zeta)\n",
    "    rhs = term_1 * (1 + term_2 * term_3)\n",
    "    "
   ]
  },
  {
   "cell_type": "code",
   "execution_count": 9,
   "metadata": {
    "collapsed": true
   },
   "outputs": [],
   "source": [
    "def r_wave_eqn(param):\n",
    "    \"\"\"\n",
    "    Keyword arguments\n",
    "    -----------------\n",
    "    param: a 2D list, where param[:, j] = [n_j, w, kz, kp, wp_j, tz_j, tp_j, vthz_j, vthp_j, Omega_j, vz_j, method = 'pade']\n",
    "    \n",
    "    Return\n",
    "    ------\n",
    "    Return the value of dispersion equation for R wave.    \n",
    "    \"\"\"\n",
    "    w = param[1][0]\n",
    "    kz = param[2][0]\n",
    "    nz = kz * cspeed/ w\n",
    "    return 1 + np.sum(np.array(list(map(r_wave_rhs, *param))), axis = 0) - nz**2"
   ]
  },
  {
   "cell_type": "code",
   "execution_count": 10,
   "metadata": {
    "collapsed": true
   },
   "outputs": [],
   "source": [
    "def l_wave_eqn(param):\n",
    "    \"\"\"\n",
    "    Keyword arguments\n",
    "    -----------------\n",
    "    param: a 2D list, where param[:, j] = [n_j, w, kz, kp, wp_j, tz_j, tp_j, vthz_j, vthp_j, Omega_j, vz_j, method = 'pade']\n",
    "    \n",
    "    Return\n",
    "    ------\n",
    "    Return the value of dispersion equation for L wave.    \n",
    "    \"\"\"\n",
    "    w = param[1][0]\n",
    "    kz = param[2][0]\n",
    "    nz = kz * cspeed/ w\n",
    "    return 1 + np.sum(np.array(list(map(l_wave_rhs, *param))), axis = 0) - nz**2"
   ]
  },
  {
   "cell_type": "code",
   "execution_count": 11,
   "metadata": {
    "collapsed": true
   },
   "outputs": [],
   "source": [
    "def static_wave_eqn(param):\n",
    "    \"\"\"\n",
    "    Keyword arguments\n",
    "    -----------------\n",
    "    param: a 2D list, where param[:, j] = [n_j, w, kz, kp, wp_j, tz_j, tp_j, vthz_j, vthp_j, Omega_j, vz_j, method = 'pade']\n",
    "    \n",
    "    Return\n",
    "    ------\n",
    "    Return the value of dispersion equation for electrostatic waves.    \n",
    "    \"\"\"\n",
    "    return 1 + np.sum(np.array(list(map(static_rhs, *param))), axis = 0)"
   ]
  },
  {
   "cell_type": "code",
   "execution_count": null,
   "metadata": {
    "collapsed": true
   },
   "outputs": [],
   "source": []
  }
 ],
 "metadata": {
  "kernelspec": {
   "display_name": "Python 3",
   "language": "python",
   "name": "python3"
  },
  "language_info": {
   "codemirror_mode": {
    "name": "ipython",
    "version": 3
   },
   "file_extension": ".py",
   "mimetype": "text/x-python",
   "name": "python",
   "nbconvert_exporter": "python",
   "pygments_lexer": "ipython3",
   "version": "3.4.3"
  }
 },
 "nbformat": 4,
 "nbformat_minor": 0
}
