{
 "cells": [
  {
   "cell_type": "code",
   "execution_count": 2,
   "metadata": {
    "collapsed": false
   },
   "outputs": [],
   "source": [
    "from py_vlasov.util import zp, pade, zp_mp, VlasovException, real_imag\n",
    "from py_vlasov.util import (pmass, emass, echarge, permittivity, permeability, cspeed, boltzmann)\n",
    "import numpy as np\n",
    "import scipy.optimize"
   ]
  },
  {
   "cell_type": "code",
   "execution_count": null,
   "metadata": {
    "collapsed": true
   },
   "outputs": [],
   "source": [
    "def f_zeta(w, kz, vz, Omega, vthz, n):\n",
    "    \"\"\"\n",
    "    Calculate the argument of plasma dispersion function.\n",
    "    \n",
    "    Keyword arguments\n",
    "    -----------------\n",
    "    w: frequency (rad/s)\n",
    "    kz: parallel wavenumber (rad/m)\n",
    "    vz: parallel drift of the particle species (m/s)\n",
    "    Omega: gyrofrequency of the species (rad/s)\n",
    "    vthz: parallel thermal speed (m/s)\n",
    "    n: resonance number\n",
    "    \n",
    "    Return\n",
    "    ------\n",
    "    \\zeta_{ns}\n",
    "    \"\"\"\n",
    "    return (w-kz*vz-n*Omega)/(kz*vthz)"
   ]
  },
  {
   "cell_type": "code",
   "execution_count": null,
   "metadata": {
    "collapsed": true
   },
   "outputs": [],
   "source": [
    "def choose_zp_fn(method):\n",
    "    \"\"\"\n",
    "    choose which function to calclate the plasma dispersion function.\n",
    "    \n",
    "    Keyword arguments\n",
    "    -----------------\n",
    "    method: a string in ['pade', 'numpy', 'mpmath']\n",
    "    \n",
    "    Return\n",
    "    ------\n",
    "    return the pointer to the function object.\n",
    "      \n",
    "    \"\"\"\n",
    "    if method == 'pade':\n",
    "        f_zp = pade\n",
    "    elif method == 'numpy':\n",
    "        f_zp = zp\n",
    "    elif method == 'mpmath':\n",
    "        f_zp = zp_mp\n",
    "    else:\n",
    "        raise VlasovException(\"Unreconized method.\\n\" +\n",
    "            \"Please choose between 'pade', 'numpy' and 'mpmath'\")\n",
    "    return f_zp"
   ]
  },
  {
   "cell_type": "code",
   "execution_count": null,
   "metadata": {
    "collapsed": true
   },
   "outputs": [],
   "source": [
    "def r_wave_rhs(n, w, kz, kp, wp, tz, tp, vthz, vthp, Omega, vz, method = 'pade'):\n",
    "    \"\"\"\n",
    "\n",
    "    Keyword arguments\n",
    "    -----------------\n",
    "    n: number of terms to sum over. do not need for parallel propagation.\n",
    "    w: frequency\n",
    "    kz: parallel wavenumber\n",
    "    kp: perpendicular wavenumber. kp = 0 for parallel propagation.\n",
    "    wp: plasma frequency of the species\n",
    "    tz: parallel temperature\n",
    "    tp: perpendicular temperature\n",
    "    vthz: parallel thermal speed\n",
    "    vthp: perpendicular thermal speed\n",
    "    Omega: gyrofrequency\n",
    "    vz: parallel drift\n",
    "    \n",
    "    Return\n",
    "    ------\n",
    "    The value of the summed term on the RHS of Eq (2), P. 267, Stix (1992). \n",
    "    Eq (2) yields R wave.\n",
    "    \"\"\"\n",
    "    term_1 = -(tp-tz)/tz\n",
    "    term_2 = ((w - kz*vz + Omega)*tp - Omega*tz)/(kz * vthz * tz)\n",
    "    f_zp = choose_zp_fn(method)\n",
    "    zeta = f_zeta(w, kz, vz, Omega, vthz, -1)\n",
    "    term_3 = f_zp(zeta)\n",
    "    #print(\"zeta\", zeta, \"Z\", term_3)\n",
    "    rhs = wp**2 * (term_1 + term_2 * term_3)\n",
    "    return rhs"
   ]
  },
  {
   "cell_type": "code",
   "execution_count": null,
   "metadata": {
    "collapsed": true
   },
   "outputs": [],
   "source": [
    "def l_wave_rhs(n, w, kz, kp, wp, tz, tp, vthz, vthp, Omega, vz, method = 'pade'):\n",
    "    \"\"\"\n",
    "\n",
    "    Keyword arguments\n",
    "    -----------------\n",
    "    n: number of terms to sum over. do not need for parallel propagation.\n",
    "    w: frequency\n",
    "    kz: parallel wavenumber\n",
    "    kp: perpendicular wavenumber. kp = 0 for parallel propagation.\n",
    "    wp: plasma frequency of the species\n",
    "    tz: parallel temperature\n",
    "    tp: perpendicular temperature\n",
    "    vthz: parallel thermal speed\n",
    "    vthp: perpendicular thermal speed\n",
    "    Omega: gyrofrequency\n",
    "    vz: parallel drift\n",
    "    \n",
    "    Return\n",
    "    ------\n",
    "    The value of an the summed term in Eq (3), P. 267, Stix (1992). \n",
    "    Eq (3) yields L wave.\n",
    "    \"\"\"\n",
    "    term_1 = (tp-tz)/tz\n",
    "    term_2 = ((w - kz*vz - Omega)*tp + Omega*tz)/(kz * vthz * tz)\n",
    "    f_zp = choose_zp_fn(method)\n",
    "    zeta = f_zeta(w, kz, vz, Omega, vthz, 1)\n",
    "    term_3 = f_zp(zeta)\n",
    "    rhs = wp**2 * (term_1 + term_2 * term_3)\n",
    "    return rhs"
   ]
  },
  {
   "cell_type": "code",
   "execution_count": null,
   "metadata": {
    "collapsed": true
   },
   "outputs": [],
   "source": [
    "def static_rhs(n, w, kz, kp, wp, tz, tp, vthz, vthp, Omega, vz, method = 'pade'):\n",
    "    \"\"\"\n",
    "\n",
    "    Keyword arguments\n",
    "    -----------------\n",
    "    n: number of terms to sum over. do not need for parallel propagation.\n",
    "    w: frequency\n",
    "    kz: parallel wavenumber\n",
    "    kp: perpendicular wavenumber. kp = 0 for parallel propagation.\n",
    "    wp: plasma frequency of the species\n",
    "    tz: parallel temperature\n",
    "    tp: perpendicular temperature\n",
    "    vthz: parallel thermal speed\n",
    "    vthp: perpendicular thermal speed\n",
    "    Omega: gyrofrequency\n",
    "    vz: parallel drift\n",
    "    \n",
    "    Return\n",
    "    ------\n",
    "    The value of an the summed term in Eq (4), P. 267, Stix (1992). \n",
    "    Eq (4) yields electrostatic wave.\n",
    "    \"\"\"\n",
    "    term_1 = 2 * (wp/ kz / vthz)**2\n",
    "    term_2 = (w - kz * vz)/ (kz * vthz)\n",
    "    f_zp = choose_zp_fn(method)\n",
    "    zeta = f_zeta(w, kz, vz, Omega, vthz, 0)\n",
    "    term_3 = f_zp(zeta)\n",
    "    rhs = term_1 * (1 + term_2 * term_3)\n",
    "    return rhs"
   ]
  },
  {
   "cell_type": "code",
   "execution_count": null,
   "metadata": {
    "collapsed": true
   },
   "outputs": [],
   "source": [
    "def r_wave_eqn(param):\n",
    "    \"\"\"\n",
    "    Keyword arguments\n",
    "    -----------------\n",
    "    param: a 2D list, where param[:, j] = [n_j, w, kz, kp, wp_j, tz_j, tp_j, vthz_j, vthp_j, Omega_j, vz_j, method = 'pade']\n",
    "    \n",
    "    Return\n",
    "    ------\n",
    "    Return the value of dispersion equation for R wave.    \n",
    "    \"\"\"\n",
    "    w = param[1][0]\n",
    "    kz = param[2][0]\n",
    "    return w**2 + np.sum(np.array(list(map(r_wave_rhs, *param))), axis = 0) - (kz * cspeed)**2"
   ]
  },
  {
   "cell_type": "code",
   "execution_count": null,
   "metadata": {
    "collapsed": true
   },
   "outputs": [],
   "source": [
    "def l_wave_eqn(param):\n",
    "    \"\"\"\n",
    "    Keyword arguments\n",
    "    -----------------\n",
    "    param: a 2D list, where param[:, j] = [n_j, w, kz, kp, wp_j, tz_j, tp_j, vthz_j, vthp_j, Omega_j, vz_j, method = 'pade']\n",
    "    \n",
    "    Return\n",
    "    ------\n",
    "    Return the value of dispersion equation for L wave.    \n",
    "    \"\"\"\n",
    "    w = param[1][0]\n",
    "    kz = param[2][0]\n",
    "    return w**2 + np.sum(np.array(list(map(l_wave_rhs, *param))), axis = 0) - (kz * cspeed)**2"
   ]
  },
  {
   "cell_type": "code",
   "execution_count": null,
   "metadata": {
    "collapsed": true
   },
   "outputs": [],
   "source": [
    "def static_wave_eqn(param):\n",
    "    \"\"\"\n",
    "    Keyword arguments\n",
    "    -----------------\n",
    "    param: a 2D list, where param[:, j] = [n_j, w, kz, kp, wp_j, tz_j, tp_j, vthz_j, vthp_j, Omega_j, vz_j, method = 'pade']\n",
    "    \n",
    "    Return\n",
    "    ------\n",
    "    Return the value of dispersion equation for electrostatic waves.    \n",
    "    \"\"\"\n",
    "    return 1 + np.sum(np.array(list(map(static_rhs, *param))), axis = 0)"
   ]
  },
  {
   "cell_type": "code",
   "execution_count": null,
   "metadata": {
    "collapsed": false
   },
   "outputs": [],
   "source": [
    "def parallel_em_wave_wrapper(wrel, k, betap, tep, \n",
    "                             ap, ae, method = 'pade', \n",
    "                             mratio=1836, aol=1/5000):\n",
    "    \"\"\"\n",
    "    Consider a hydrogen plasma. Takes in dimensionless arguments \\\n",
    "    and return value of the dispersion equation of parallel-progating \\\n",
    "    EM waves.\n",
    "    \n",
    "    Keyword arguments\n",
    "    -----------------\n",
    "    tep: T_{e\\parallel}/T_{p\\parallel}\n",
    "    ap: ap\\equiv 1 - T_{p\\perp}/T_{p\\parallel}\n",
    "    ae: ae\\equiv 1 - T_{e\\perp}/T_{e\\parallel}\n",
    "    \n",
    "    Return\n",
    "    ------\n",
    "    Return the value of dispersion equation for R wave. \n",
    "    Eq (2), P. 267, Stix(1992)\n",
    "    \"\"\"\n",
    "    if mratio == 1836:\n",
    "        emass_local = emass\n",
    "    else:\n",
    "        emass_local = pmass/mratio\n",
    "        \n",
    "    # by default add over 10 terms\n",
    "    b0 = 1e-8      # 10nT by default\n",
    "    vz = 0         # no bulk drift\n",
    "    va = cspeed * aol\n",
    "    nproton = (b0/va)**2 / (permeability * pmass)\n",
    "    # T_{p\\parallel}\n",
    "    tp = betap * b0**2 / (2 * permeability * nproton * boltzmann)\n",
    "    tp_perp = tp * (1 - ap)\n",
    "    te = tp * tetp\n",
    "    te_perp = te * (1 - ae)\n",
    "    wpp = np.sqrt(nproton * echarge**2 / (pmass * permittivity))\n",
    "    wpe = np.sqrt(nproton * echarge**2 / (emass_local * permittivity))\n",
    "    omega_p = echarge * b0/ pmass # proton gyro-freqeuncy\n",
    "    omega_e = -echarge * b0/emass_local\n",
    "    vthp = np.sqrt(2 * boltzmann * tp/pmass) # proton parallel thermal speed\n",
    "    vthe = np.sqrt(2 * boltzmann * te/emass_local) # electron parallel thermal speed\n",
    "    rhop = vthp/omega_p # proton gyroradius (parallel)\n",
    "    w = wrel * omega_p\n",
    "    kz = k/rhop\n",
    "    kp = 0\n",
    "    vthp_perp = vthp * np.sqrt(1 - ap) \n",
    "    vthe_perp = vthe * np.sqrt(1 - ae)\n",
    "    \n",
    "    proton = [n, w, kz, kp, wpp, tp, tp_perp, vthp, vthp_perp, omega_p, 0, method]\n",
    "    electron = [n, w, kz, kp, wpe, te, te_perp, vthe, vthe_perp, omega_e, 0, method]\n",
    "    \n",
    "    inp = [proton, electron]\n",
    "    param = list(map(list, zip(*inp)))\n",
    "    return r_wave_eqn(param)"
   ]
  },
  {
   "cell_type": "code",
   "execution_count": null,
   "metadata": {
    "collapsed": false
   },
   "outputs": [],
   "source": [
    "def parallel_em_wave_wrapper_1(wrel, k, betap, t_list, a_list, n_list, q_list,\n",
    "                             m_list, v_list, method = 'pade', aol=1/5000, mode = 'r'):\n",
    "    \"\"\"\n",
    "    A more systematic way to consider multiple component plasmas.\n",
    "    Assume that THE FIRST COMPONENT IS ALWAYS PROTON.\n",
    "    \n",
    "    Kyeword arguments\n",
    "    -----------------\n",
    "    wrel: dimensionless wave frequency \n",
    "        \\omega/\\Omega_p\n",
    "    k: dimensionless wave number\n",
    "        k * \\rho_{p\\parallel}\n",
    "    betap: proton parallel beta\n",
    "        \\beta_{p\\parallel}, \n",
    "    t_list: temperature ratio T_{s\\parallel}/T_{p\\parallel}.\n",
    "        where s --> species. The first component by default represent proton.\n",
    "    a_list: temperature anisotropy\n",
    "        a_s \\equiv 1 - T_{s\\perp}/T_{s\\parallel}\n",
    "    n_list: density fraction\n",
    "        n_s \\equiv n_s/n_p, n_p --> proton density\n",
    "    q_list: charge in unit of proton charge.\n",
    "    m_list: mass ratio\n",
    "        m_s \\equiv m_s/m_p, m_p --> proton mass.\n",
    "    v_list: dimensionless bulk drift.\n",
    "        v_{ds} = v_{ds}/v_A, where v_A --> Alfven speed\n",
    "    \n",
    "    \"\"\"\n",
    "    b0 = 1e-8 # 10nT by default\n",
    "    va = cspeed * aol # Alfven speed\n",
    "    nproton = (b0/va)**2 / (permeability * pmass)\n",
    "    tp_par = betap * b0**2 / (2 * permeability * nproton * boltzmann)\n",
    "    omega_p = echarge * b0/pmass # proton gyrofrequency\n",
    "    vthp_par = np.sqrt(2 * boltzmann * tp_par/pmass) # proton parallel thermal speed\n",
    "    rhop_par = vthp_par/omega_p\n",
    "    w = wrel * omega_p\n",
    "    kz = k/rhop_par\n",
    "    kp = 0 # parallel propogation.\n",
    "    n = 0 # no summation for parallel modes. Unnecessary parameters\n",
    "    inp = []\n",
    "    \n",
    "    for i in range(len(t_list)):\n",
    "        ns = nproton * n_list[i]\n",
    "        ts_par = tp_par * t_list[i]\n",
    "        ts_perp = ts_par * (1 - a_list[i])\n",
    "        ms = pmass * m_list[i]\n",
    "        vds = va * v_list[i]\n",
    "        qs = echarge * q_list[i]\n",
    "        wps = np.sqrt(ns * qs**2 / (ms * permittivity))\n",
    "        omegas = qs * b0/ms\n",
    "        vths_par = np.sqrt(2 * boltzmann * ts_par/ms) \n",
    "        vths_perp = np.sqrt(2 * boltzmann * ts_perp/ms)\n",
    "        species = [n, w, kz, kp, wps, ts_par, ts_perp, vths_par, vths_perp, omegas, vds, method]\n",
    "        inp += [species]\n",
    "    param = list(map(list, zip(*inp)))\n",
    "    if mode == 'r':\n",
    "        res = r_wave_eqn(param) \n",
    "    elif mode == 'l':\n",
    "        res = l_wave_eqn(param) \n",
    "    elif mode == 's':\n",
    "        res = static_eqn(param)\n",
    "    #res = np.real(res) + 1e70j * np.imag(res)\n",
    "    print(res)\n",
    "    return res    "
   ]
  },
  {
   "cell_type": "markdown",
   "metadata": {},
   "source": [
    "## Below we start to test against whamp"
   ]
  },
  {
   "cell_type": "markdown",
   "metadata": {},
   "source": [
    "##### Whamp input file"
   ]
  },
  {
   "cell_type": "code",
   "execution_count": null,
   "metadata": {
    "collapsed": false
   },
   "outputs": [],
   "source": [
    "def fce(B):\n",
    "    \"\"\"\n",
    "    Return electron gyrofrequency in Hz\n",
    "    \"\"\"\n",
    "    return echarge * B/emass/2/np.pi"
   ]
  },
  {
   "cell_type": "code",
   "execution_count": null,
   "metadata": {
    "collapsed": true
   },
   "outputs": [],
   "source": [
    "def f_va(B, n):\n",
    "    \"\"\"\n",
    "    Return Alfven speed in SI unit.\n",
    "    \"\"\"\n",
    "    return np.sqrt(B**2 / permeability/ n/ pmass)"
   ]
  },
  {
   "cell_type": "markdown",
   "metadata": {},
   "source": [
    "##### Ex3\n",
    "$n_e = n_p = 1cc$,\n",
    "$B = 10nT$,\n",
    "$\\beta_{p\\parallel}=0.1$"
   ]
  },
  {
   "cell_type": "code",
   "execution_count": 3,
   "metadata": {
    "collapsed": false
   },
   "outputs": [
    {
     "name": "stdout",
     "output_type": "stream",
     "text": [
      "f_ce = 279.92\n",
      "va = 2.18e+05\n",
      "t_p_par = 2.88e+06\n",
      "t_p_par_ev = 248.34\n",
      "aol = 1374\n"
     ]
    }
   ],
   "source": [
    "b_0 = 1e-8 # 10nT\n",
    "n_p = 1e6 # 1cc\n",
    "beta_p_par = 1\n",
    "\n",
    "f_ce = echarge * b_0/emass/2/np.pi\n",
    "va = np.sqrt(b_0**2 / permeability/ n_p/ pmass)\n",
    "t_p_par = beta_p_par * b_0**2/(2 * permeability * n_p * boltzmann)\n",
    "t_p_par_ev = t_p_par * boltzmann / echarge\n",
    "\n",
    "print(\"f_ce = {0:.5g}\".format(f_ce))\n",
    "print(\"va = {0:.3g}\".format(va)) \n",
    "print(\"t_p_par = {0:.3g}\".format(t_p_par))\n",
    "print(\"t_p_par_ev = {0:.5g}\".format(t_p_par_ev))\n",
    "print(\"aol = {0:.4g}\".format(cspeed/va))"
   ]
  },
  {
   "cell_type": "code",
   "execution_count": null,
   "metadata": {
    "collapsed": false
   },
   "outputs": [],
   "source": [
    "kz = 0.001\n",
    "kz/np.sqrt(beta_p_par)"
   ]
  },
  {
   "cell_type": "code",
   "execution_count": 2,
   "metadata": {
    "collapsed": false
   },
   "outputs": [],
   "source": [
    "from py_vlasov.parallel_mode import parallel_em_wave_wrapper"
   ]
  },
  {
   "cell_type": "code",
   "execution_count": 122,
   "metadata": {
    "collapsed": false
   },
   "outputs": [],
   "source": [
    "k=0.1\n",
    "betap = .1\n",
    "t_list=[1.,1.]\n",
    "a_list=[0,0.]\n",
    "n_list=[1.,1.] \n",
    "q_list=[1.,-1.]\n",
    "m_list=[1., emass/pmass]\n",
    "v_list=[0,0]"
   ]
  },
  {
   "cell_type": "code",
   "execution_count": 123,
   "metadata": {
    "collapsed": false
   },
   "outputs": [],
   "source": [
    "wrel = 0\n",
    "res_r = parallel_em_wave_wrapper(wrel, k, betap, t_list, \\\n",
    "                           a_list, n_list, q_list, \\\n",
    "                           m_list, v_list, method = 'pade', aol=1/5000, mode = 'r')\n",
    "res_l = parallel_em_wave_wrapper(wrel, k, betap, t_list, \\\n",
    "                           a_list, n_list, q_list, \\\n",
    "                           m_list, v_list, method = 'numpy', aol=1/5000, mode = 'r')"
   ]
  },
  {
   "cell_type": "code",
   "execution_count": 124,
   "metadata": {
    "collapsed": false
   },
   "outputs": [
    {
     "name": "stdout",
     "output_type": "stream",
     "text": [
      "[  3.71544712e-01  -3.87055301e-09]\n"
     ]
    }
   ],
   "source": [
    "f = lambda wrel: real_imag(parallel_em_wave_wrapper(wrel[0] + 1j * wrel[1], k, betap, t_list, \\\n",
    "                                                      a_list, n_list, q_list, \\\n",
    "                                                      m_list, v_list, method = 'pade', aol=1/5000))\n",
    "#guess = k * np.sqrt(abs(1/betap - a_list[0]/2 - t_list[1] * a_list[1]/2)) \n",
    "#print('guess = ', guess)\n",
    "guess = 0.1\n",
    "freq = scipy.optimize.fsolve(f, real_imag(guess))\n",
    "print(freq)"
   ]
  },
  {
   "cell_type": "code",
   "execution_count": null,
   "metadata": {
    "collapsed": true
   },
   "outputs": [],
   "source": []
  }
 ],
 "metadata": {
  "kernelspec": {
   "display_name": "Python 3",
   "language": "python",
   "name": "python3"
  },
  "language_info": {
   "codemirror_mode": {
    "name": "ipython",
    "version": 3
   },
   "file_extension": ".py",
   "mimetype": "text/x-python",
   "name": "python",
   "nbconvert_exporter": "python",
   "pygments_lexer": "ipython3",
   "version": "3.5.0"
  }
 },
 "nbformat": 4,
 "nbformat_minor": 0
}
