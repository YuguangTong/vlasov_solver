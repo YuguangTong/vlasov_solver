{
 "cells": [
  {
   "cell_type": "markdown",
   "metadata": {},
   "source": [
    "# Reproduce Gary 1975 paper result of Alfven instabilities"
   ]
  },
  {
   "cell_type": "code",
   "execution_count": 1,
   "metadata": {},
   "outputs": [],
   "source": [
    "import numpy as np\n",
    "import scipy.optimize\n",
    "from py_vlasov.util import zp, kzkp, list_to_complex, real_imag\n",
    "from py_vlasov.wrapper import oblique_wrapper, disp_det, input_gen\n",
    "from py_vlasov.transport_ratios import transport_ratios\n",
    "from py_vlasov.follow_parameter import follow_k\n",
    "import matplotlib.pyplot as plt\n",
    "import matplotlib as mpl\n",
    "\n",
    "mpl.rcParams['axes.labelsize'] = 20\n",
    "mpl.rcParams['xtick.labelsize'] = 16\n",
    "mpl.rcParams['ytick.labelsize'] = 16\n",
    "mpl.rcParams['axes.titlesize'] = 20\n",
    "mpl.rcParams['xtick.top'] = True\n",
    "mpl.rcParams['ytick.right'] = True\n",
    "mpl.rcParams['xtick.major.size'] = 6\n",
    "mpl.rcParams['ytick.major.size'] = 6\n",
    "mpl.rcParams['xtick.minor.size'] = 3.5\n",
    "mpl.rcParams['ytick.minor.size'] = 3.5\n",
    "mpl.rcParams['xtick.major.width'] = 1.1\n",
    "mpl.rcParams['ytick.major.width'] = 1.1\n",
    "mpl.rcParams['xtick.minor.width'] = .8\n",
    "mpl.rcParams['ytick.minor.width'] = .8\n",
    "mpl.rcParams['legend.fontsize'] = 14\n",
    "#xtick.major.size     : 3.5      # major tick size in points\n",
    "#xtick.minor.size     : 2      # minor tick size in points\n",
    "#xtick.major.width    : 0.8    # major tick width in points\n",
    "#xtick.minor.width    : 0.6    # minor tick width in points\n",
    "%matplotlib inline"
   ]
  },
  {
   "cell_type": "code",
   "execution_count": 4,
   "metadata": {},
   "outputs": [],
   "source": [
    "def generate_k_arr(start_k, target_k, log_incrmt = None, lin_incrmt = None):\n",
    "    assert log_incrmt or lin_incrmt\n",
    "    if log_incrmt:\n",
    "        n = int(np.log(target_k/start_k) / np.log(1 + log_incrmt))\n",
    "        ret = np.arange(n + 1) * np.log(1 + log_incrmt)\n",
    "        return np.exp(ret)  * start_k\n",
    "    else:\n",
    "        n = (target_k - start_k) / lin_incrmt\n",
    "        if n - int(n) > 1 - 1e-5:\n",
    "            n = int(n) + 1\n",
    "        return start_k + np.arange(n + 1) * lin_incrmt\n",
    "    \n",
    "def fast_freq(k, theta, betap):\n",
    "    kz, kp = kzkp(k, theta)\n",
    "    cos_theta = kz / k\n",
    "    kdi = k / np.sqrt(betap)\n",
    "    return kdi * np.sqrt(1 + kdi**2 * cos_theta**2)\n",
    "\n",
    "def whistler_freq(k, theta, betap):\n",
    "    kz, kp = kzkp(k, theta)\n",
    "    cos_theta = kz / k\n",
    "    kdi = k / np.sqrt(betap)\n",
    "    return 1836 * kdi**2 / (1836 + kdi**2) * cos_theta   \n",
    "\n",
    "def alfven_freq(k, theta, betap):\n",
    "    kz, kp = kzkp(k, theta)\n",
    "    return kz / np.sqrt(betap)\n",
    "\n",
    "def kdi_2_krhoi(kdi, betap):\n",
    "    return kdi * np.sqrt(betap)"
   ]
  },
  {
   "cell_type": "code",
   "execution_count": 5,
   "metadata": {},
   "outputs": [
    {
     "name": "stdout",
     "output_type": "stream",
     "text": [
      "aol =  0.000162788205961\n",
      "vh_va = 0\n"
     ]
    }
   ],
   "source": [
    "aol = np.sqrt(2.65e-8)\n",
    "print('aol = ', aol)\n",
    "tc_tp = 2\n",
    "th_tc = 6\n",
    "nc_np = 0.95\n",
    "nh_np = 1 - nc_np\n",
    "vc_va = 0#2.42\n",
    "vh_va = -vc_va * nc_np / nh_np\n",
    "print('vh_va = {0:.3g}'.format(vh_va))\n",
    "\n",
    "betap = 0.25\n",
    "theta = 80\n",
    "\n",
    "\n",
    "t_list=[1., tc_tp, th_tc * tc_tp]\n",
    "a_list=[1., 1., 1.]\n",
    "n_list=[1., nc_np, nh_np] \n",
    "q_list=[1.,-1., -1.]\n",
    "m_list=[1., 1./1836., 1./1836]\n",
    "v_list=[0., vc_va, vh_va]\n",
    "n = 6\n",
    "method = 'pade'\n",
    "\n",
    "k = 0.2\n",
    "kz, kp = kzkp(k, theta)\n",
    "\n",
    "param = [kz, kp, betap, t_list, a_list, n_list, q_list,\n",
    "         m_list, v_list, n, method, aol]"
   ]
  },
  {
   "cell_type": "code",
   "execution_count": 7,
   "metadata": {},
   "outputs": [
    {
     "name": "stdout",
     "output_type": "stream",
     "text": [
      "seed_freq = 0.401\n",
      "0.0707387571061\n",
      "-0.000252066958991\n"
     ]
    }
   ],
   "source": [
    "# seed_freq = kz / np.sqrt(betap)\n",
    "seed_freq = fast_freq(k, theta, betap)\n",
    "f = lambda wrel:\\\n",
    "    real_imag(oblique_wrapper(list_to_complex(wrel), kz, kp, betap,\n",
    "                              t_list, a_list, n_list, q_list, \\\n",
    "                              m_list, v_list, method = method, n = n, \\\n",
    "                              aol=aol))\n",
    "guess = seed_freq \n",
    "print('seed_freq = {0:.3g}'.format(guess))\n",
    "\n",
    "wr, wi = scipy.optimize.fsolve(f, real_imag(guess))\n",
    "print(wr)\n",
    "print(wi)"
   ]
  },
  {
   "cell_type": "code",
   "execution_count": null,
   "metadata": {},
   "outputs": [],
   "source": []
  }
 ],
 "metadata": {
  "kernelspec": {
   "display_name": "Python 3.6 (science)",
   "language": "python",
   "name": "science"
  },
  "language_info": {
   "codemirror_mode": {
    "name": "ipython",
    "version": 3
   },
   "file_extension": ".py",
   "mimetype": "text/x-python",
   "name": "python",
   "nbconvert_exporter": "python",
   "pygments_lexer": "ipython3",
   "version": "3.6.0"
  }
 },
 "nbformat": 4,
 "nbformat_minor": 2
}
