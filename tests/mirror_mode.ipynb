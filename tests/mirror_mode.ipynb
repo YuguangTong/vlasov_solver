{
 "cells": [
  {
   "cell_type": "code",
   "execution_count": 2,
   "metadata": {
    "collapsed": false
   },
   "outputs": [],
   "source": [
    "import numpy as np\n",
    "from py_vlasov.dispersion_tensor import dt_wrapper, f_d, f_chi\n",
    "from py_vlasov.util import real_imag, list_to_complex\n",
    "from py_vlasov.wrapper import oblique_wrapper\n",
    "import matplotlib.pyplot as plt\n",
    "import scipy.optimize\n",
    "%matplotlib inline\n",
    "\n",
    "from py_vlasov.util import (pmass, emass, echarge, permittivity, permeability, cspeed, boltzmann)\n",
    "\n",
    "\n",
    "\n",
    "# np.set_printoptions(precision=2)"
   ]
  },
  {
   "cell_type": "code",
   "execution_count": 32,
   "metadata": {
    "collapsed": false
   },
   "outputs": [
    {
     "name": "stdout",
     "output_type": "stream",
     "text": [
      "0.6 1.03923048454\n"
     ]
    }
   ],
   "source": [
    "betap = 4.\n",
    "k = 0.6 * np.sqrt(betap)\n",
    "#t_list=[1.,0.05]\n",
    "t_list=[1.,1]\n",
    "a_list=[0., 0.]\n",
    "n_list=[1.,1.] \n",
    "q_list=[1.,-1.]\n",
    "m_list=[1., 1/1836]\n",
    "v_list=[0,0]\n",
    "\n",
    "theta = 60.\n",
    "#theta = 89.\n",
    "kz = k * np.cos(theta * np.pi/ 180.)\n",
    "kp = k * np.sin(theta * np.pi/ 180.)\n",
    "print(kz, kp)"
   ]
  },
  {
   "cell_type": "code",
   "execution_count": 34,
   "metadata": {
    "collapsed": false
   },
   "outputs": [
    {
     "name": "stdout",
     "output_type": "stream",
     "text": [
      "[ -1.50337418e-07  -1.92217298e-01]\n"
     ]
    }
   ],
   "source": [
    "f = lambda wrel: real_imag(oblique_wrapper(list_to_complex(wrel), kz, kp, betap, t_list, \\\n",
    "                                                      a_list, n_list, q_list, \\\n",
    "                                                      m_list, v_list, method = 'pade', aol=1/5000))\n",
    "guess = -.2j\n",
    "freq = scipy.optimize.fsolve(f, real_imag(guess))\n",
    "print(freq)"
   ]
  },
  {
   "cell_type": "markdown",
   "metadata": {},
   "source": [
    "### Krauss-Varban 1994 Fig 8a"
   ]
  },
  {
   "cell_type": "code",
   "execution_count": 10,
   "metadata": {
    "collapsed": false
   },
   "outputs": [],
   "source": [
    "a_target = -3\n",
    "num_step = 40\n",
    "a_steps = np.linspace(0, a_target, num_step)\n",
    "a_steps = np.array([a_steps, np.zeros(num_step)]).T"
   ]
  },
  {
   "cell_type": "code",
   "execution_count": 13,
   "metadata": {
    "collapsed": false
   },
   "outputs": [],
   "source": [
    "freq = [-1.08856480e-08, -1.90443810e-01]\n",
    "freq_list = []\n",
    "for a_list in a_steps:\n",
    "    f = lambda wrel: real_imag(oblique_wrapper(list_to_complex(wrel), kz, kp, betap, t_list, \\\n",
    "                                                      a_list, n_list, q_list, \\\n",
    "                                                      m_list, v_list, method = 'numpy', aol=1/5000))\n",
    "    guess = [0, freq[1]]\n",
    "    \n",
    "    freq = scipy.optimize.fsolve(f, guess)\n",
    "    freq_list += [list_to_complex(freq)]"
   ]
  },
  {
   "cell_type": "code",
   "execution_count": 14,
   "metadata": {
    "collapsed": false
   },
   "outputs": [
    {
     "data": {
      "text/plain": [
       "[(-1.0874398508848827e-08-0.19044380983293716j),\n",
       " (-1.8484265249188828e-08-0.16515720670515985j),\n",
       " (-2.8294565576128339e-08-0.14247993550503912j),\n",
       " (-4.1180829470220982e-08-0.12208344098076679j),\n",
       " (-5.9195437888680762e-08-0.10361967696502811j),\n",
       " (-8.7155657512049604e-08-0.086794803442957855j),\n",
       " (-1.386180627503338e-07-0.071403800182919072j),\n",
       " (-2.6649202897583934e-07-0.057415430144001314j),\n",
       " (-8.0309274407843168e-07-0.045600192338196677j),\n",
       " (-2.2292238267227088e-06-0.040769826715857521j),\n",
       " (-2.5407664636316971e-06-0.042401099984760285j),\n",
       " (-2.5780548989655206e-06-0.045189199318922506j),\n",
       " (-2.5878711214176431e-06-0.048172491801028165j),\n",
       " (-2.5940823564908795e-06-0.05117861480816667j),\n",
       " (-2.6003254128087049e-06-0.054160212666495275j),\n",
       " (-2.6072484498659706e-06-0.057101772643166106j),\n",
       " (-2.6149129169903801e-06-0.059998493291696327j),\n",
       " (-2.6233090609008778e-06-0.062849795884097892j),\n",
       " (-2.6322499688761327e-06-0.065656911663013587j),\n",
       " (-2.6417410553329521e-06-0.06842186280749922j),\n",
       " (-2.6517286820428468e-06-0.071146993598947272j),\n",
       " (-2.6621721488513095e-06-0.073834742722010002j),\n",
       " (-2.6730408694784859e-06-0.076487529774158833j),\n",
       " (-2.6843120526691632e-06-0.079107699067947346j),\n",
       " (-2.6959690577752219e-06-0.081697493382348316j),\n",
       " (-2.7080000017409862e-06-0.084259043789392557j),\n",
       " (-2.7203967510248744e-06-0.086794368208126138j),\n",
       " (-2.7331543356178237e-06-0.089305374663378193j),\n",
       " (-2.7462702636367804e-06-0.091793866993092721j),\n",
       " (-2.7597441589599805e-06-0.09426155172020563j),\n",
       " (-2.7735775273364427e-06-0.096710045354121824j),\n",
       " (-2.7877734117067169e-06-0.099140881703565858j),\n",
       " (-2.8023363232313395e-06-0.10155551897047289j),\n",
       " (-2.8172720269865203e-06-0.10395534650449854j),\n",
       " (-2.832587507405428e-06-0.10634169116363382j),\n",
       " (-2.8482909015526736e-06-0.10871582326625644j),\n",
       " (-2.8643913781944562e-06-0.1110789621424549j),\n",
       " (-2.8808992263912684e-06-0.11343228130564902j),\n",
       " (-2.8978257634399222e-06-0.11577691327247762j),\n",
       " (-2.9151833518732888e-06-0.11811395406217071j)]"
      ]
     },
     "execution_count": 14,
     "metadata": {},
     "output_type": "execute_result"
    }
   ],
   "source": [
    "freq_list"
   ]
  },
  {
   "cell_type": "code",
   "execution_count": 1,
   "metadata": {
    "collapsed": true
   },
   "outputs": [],
   "source": [
    "### compare with whamp"
   ]
  },
  {
   "cell_type": "code",
   "execution_count": 3,
   "metadata": {
    "collapsed": false
   },
   "outputs": [
    {
     "name": "stdout",
     "output_type": "stream",
     "text": [
      "f_ce = 279.92\n",
      "va = 2.18e+05\n",
      "t_p_par = 2.88e+06\n",
      "t_p_par_ev = 248.34\n",
      "t_e_par_ev = 248.34\n",
      "aol = 1374\n"
     ]
    }
   ],
   "source": [
    "b_0 = 1e-8 # 10nT\n",
    "n_p = 1e6 # 1cc\n",
    "beta_p_par = 1.\n",
    "tep = 1\n",
    "\n",
    "f_ce = echarge * b_0/emass/2/np.pi\n",
    "va = np.sqrt(b_0**2 / permeability/ n_p/ pmass)\n",
    "t_p_par = beta_p_par * b_0**2/(2 * permeability * n_p * boltzmann)\n",
    "t_p_par_ev = t_p_par * boltzmann / echarge\n",
    "\n",
    "print(\"f_ce = {0:.5g}\".format(f_ce))\n",
    "print(\"va = {0:.3g}\".format(va)) \n",
    "print(\"t_p_par = {0:.3g}\".format(t_p_par))\n",
    "print(\"t_p_par_ev = {0:.5g}\".format(t_p_par_ev))\n",
    "print(\"t_e_par_ev = {0:.5g}\".format(t_p_par_ev * tep))\n",
    "print(\"aol = {0:.4g}\".format(cspeed/va))"
   ]
  },
  {
   "cell_type": "code",
   "execution_count": null,
   "metadata": {
    "collapsed": true
   },
   "outputs": [],
   "source": []
  }
 ],
 "metadata": {
  "kernelspec": {
   "display_name": "Python 3",
   "language": "python",
   "name": "python3"
  },
  "language_info": {
   "codemirror_mode": {
    "name": "ipython",
    "version": 3
   },
   "file_extension": ".py",
   "mimetype": "text/x-python",
   "name": "python",
   "nbconvert_exporter": "python",
   "pygments_lexer": "ipython3",
   "version": "3.4.3"
  }
 },
 "nbformat": 4,
 "nbformat_minor": 0
}
