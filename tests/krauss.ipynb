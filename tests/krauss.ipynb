{
 "metadata": {
  "name": "",
  "signature": "sha256:40350bd78718de3fc00f48b653ab9a70f335ab703f455d7128937c54b3fda790"
 },
 "nbformat": 3,
 "nbformat_minor": 0,
 "worksheets": [
  {
   "cells": [
    {
     "cell_type": "heading",
     "level": 1,
     "metadata": {},
     "source": [
      "Reproducing some results from Krauss-Verban 1994"
     ]
    },
    {
     "cell_type": "code",
     "collapsed": false,
     "input": [
      "import numpy as np\n",
      "import scipy.special, scipy.optimize\n",
      "from py_vlasov.dispersion_tensor import dt_wrapper\n",
      "from py_vlasov.util import (real_imag, list_to_complex)\n",
      "import matplotlib.pyplot as plt\n",
      "%matplotlib inline"
     ],
     "language": "python",
     "metadata": {},
     "outputs": [],
     "prompt_number": 1
    },
    {
     "cell_type": "heading",
     "level": 6,
     "metadata": {},
     "source": [
      "To find the dispersion relation of Alfven or slow mode, we first adjust beta, then adjust angle, and finally deal with the right k"
     ]
    },
    {
     "cell_type": "heading",
     "level": 6,
     "metadata": {},
     "source": [
      "seed"
     ]
    },
    {
     "cell_type": "heading",
     "level": 6,
     "metadata": {},
     "source": [
      "angle = 85\n",
      "k = 0.1\n",
      "beta = 0.2\n",
      "freq = 0.01190802-0.00635779j"
     ]
    },
    {
     "cell_type": "code",
     "collapsed": false,
     "input": [
      "mass_ratio = 1836\n",
      "seed_angle = 85\n",
      "seed_beta = 0.2\n",
      "seed_k = 0.1\n",
      "#seed_freq = 0.01190802-0.00635779j # slow mode\n",
      "#seed_freq = 0.26147871 -0.00747444j # fast mode\n",
      "seed_freq = 1.95444741e-02 -6.32084029e-06j # alfven mode\n",
      "target_angle = 89\n",
      "target_beta = 0.4\n",
      "target_k = 10 * np.sqrt(target_beta)"
     ],
     "language": "python",
     "metadata": {},
     "outputs": [],
     "prompt_number": 124
    },
    {
     "cell_type": "heading",
     "level": 6,
     "metadata": {},
     "source": [
      "now lets first adjust angle to 89.9 degrees"
     ]
    },
    {
     "cell_type": "code",
     "collapsed": false,
     "input": [
      "beta = seed_beta\n",
      "k = seed_k\n",
      "theta = seed_angle\n",
      "start = seed_angle\n",
      "stop = target_angle\n",
      "num = 10\n",
      "angle_list_1 = np.linspace(start, stop, num, endpoint=True)\n",
      "print(angle_list_1)"
     ],
     "language": "python",
     "metadata": {},
     "outputs": [
      {
       "output_type": "stream",
       "stream": "stdout",
       "text": [
        "[ 85.          85.44444444  85.88888889  86.33333333  86.77777778\n",
        "  87.22222222  87.66666667  88.11111111  88.55555556  89.        ]\n"
       ]
      }
     ],
     "prompt_number": 125
    },
    {
     "cell_type": "code",
     "collapsed": false,
     "input": [
      "theta = seed_angle\n",
      "theta = theta * np.pi/180.\n",
      "result_1 = [seed_freq]\n",
      "for i in list(range(num))[1:]:\n",
      "    theta = angle_list_1[i]\n",
      "    theta = theta * np.pi/180.\n",
      "    kz = k * np.cos(theta)\n",
      "    kp = k * np.sin(theta)\n",
      "    f = lambda wrel: real_imag(dt_wrapper(wrel[0] + 1j * wrel[1], kp, kz, beta, tetp = 1, method = 'numpy', mratio=mass_ratio))\n",
      "    prev_angle = angle_list_1[i-1]\n",
      "    guess = result_1[-1] * np.cos(theta)/ np.cos( prev_angle * np.pi/180) # this line is for slow/alfven wave\n",
      "    #guess = result_1[-1]\n",
      "    freq = scipy.optimize.fsolve(f, real_imag(guess))\n",
      "    result_1 += [list_to_complex(freq)]"
     ],
     "language": "python",
     "metadata": {},
     "outputs": [],
     "prompt_number": 126
    },
    {
     "cell_type": "code",
     "collapsed": false,
     "input": [
      "result_1"
     ],
     "language": "python",
     "metadata": {},
     "outputs": [
      {
       "metadata": {},
       "output_type": "pyout",
       "prompt_number": 127,
       "text": [
        "[(0.0195444741-6.32084029e-06j),\n",
        " (0.017811599065242861-5.7626114213490719e-06j),\n",
        " (0.016077492833653201-5.2033954357822549e-06j),\n",
        " (0.014342275556609918-4.6432769468980922e-06j),\n",
        " (0.012606067378684836-4.0823440480180159e-06j),\n",
        " (0.010868988407658301-3.5206881202887469e-06j),\n",
        " (0.0091311587948679114-2.958403346616803e-06j),\n",
        " (0.0073926986249148209-2.3955863868447891e-06j),\n",
        " (0.005653728038109449-1.8323359712336032e-06j),\n",
        " (0.0039143670935277604-1.2687525369885355e-06j)]"
       ]
      }
     ],
     "prompt_number": 127
    },
    {
     "cell_type": "heading",
     "level": 6,
     "metadata": {},
     "source": [
      "then we adjust beta value"
     ]
    },
    {
     "cell_type": "code",
     "collapsed": false,
     "input": [
      "theta = target_angle\n",
      "theta = theta * np.pi/180\n",
      "kz = 0.1 * np.cos(theta)\n",
      "kp = 0.1 * np.sin(theta)\n",
      "beta = seed_beta"
     ],
     "language": "python",
     "metadata": {},
     "outputs": [],
     "prompt_number": 128
    },
    {
     "cell_type": "code",
     "collapsed": false,
     "input": [
      "start = np.log10(seed_beta)\n",
      "stop = np.log10(target_beta)\n",
      "num = 20\n",
      "beta_list = np.logspace(start, stop, num, endpoint = True)\n",
      "print(beta_list)"
     ],
     "language": "python",
     "metadata": {},
     "outputs": [
      {
       "output_type": "stream",
       "stream": "stdout",
       "text": [
        "[ 0.2         0.21190521  0.2245191   0.23788383  0.25204412  0.26704732\n",
        "  0.28294359  0.29978611  0.3176312   0.33653854  0.35657135  0.37779664\n",
        "  0.40028539  0.4241128   0.44935857  0.47610711  0.5044479   0.53447569\n",
        "  0.56629093  0.6       ]\n"
       ]
      }
     ],
     "prompt_number": 129
    },
    {
     "cell_type": "code",
     "collapsed": false,
     "input": [
      "result_2 = [result_1[-1]]\n",
      "for beta in beta_list[1:]:\n",
      "    f = lambda wrel: real_imag(dt_wrapper(wrel[0] + 1j * wrel[1], kp, kz, beta, tetp = 1, method = 'numpy', mratio=mass_ratio))\n",
      "    freq = scipy.optimize.fsolve(f, real_imag(result_2[-1]))\n",
      "    print(result_2[-1])\n",
      "    result_2 += [list_to_complex(freq)]"
     ],
     "language": "python",
     "metadata": {},
     "outputs": [
      {
       "output_type": "stream",
       "stream": "stdout",
       "text": [
        "(0.00391436709353-1.26875253699e-06j)\n",
        "(0.00380263348385-1.246536123e-06j)\n",
        "(0.003694078853-1.22859242846e-06j)"
       ]
      },
      {
       "output_type": "stream",
       "stream": "stdout",
       "text": [
        "\n",
        "(0.00358861232814-1.21403924277e-06j)\n",
        "(0.00348614583477-1.20187538226e-06j)"
       ]
      },
      {
       "output_type": "stream",
       "stream": "stdout",
       "text": [
        "\n",
        "(0.00338659399008-1.19102392165e-06j)\n",
        "(0.00328987415506-1.18039015369e-06j)"
       ]
      },
      {
       "output_type": "stream",
       "stream": "stdout",
       "text": [
        "\n",
        "(0.00319590627594-1.16893042045e-06j)\n",
        "(0.00310461282209-1.15572935337e-06j)"
       ]
      },
      {
       "output_type": "stream",
       "stream": "stdout",
       "text": [
        "\n",
        "(0.00301591869863-1.14006317854e-06j)\n",
        "(0.00292975122592-1.12146191579e-06j)"
       ]
      },
      {
       "output_type": "stream",
       "stream": "stdout",
       "text": [
        "\n",
        "(0.00284603980817-1.0997438644e-06j)"
       ]
      },
      {
       "output_type": "stream",
       "stream": "stdout",
       "text": [
        "\n",
        "(0.00276471593427-1.0750226701e-06j)\n",
        "(0.00268571294238-1.04769015685e-06j)"
       ]
      },
      {
       "output_type": "stream",
       "stream": "stdout",
       "text": [
        "\n",
        "(0.00260896606721-1.01837251163e-06j)\n",
        "(0.00253441201758-9.87870283306e-07j)"
       ]
      },
      {
       "output_type": "stream",
       "stream": "stdout",
       "text": [
        "\n",
        "(0.00246198919643-9.57088383007e-07j)"
       ]
      },
      {
       "output_type": "stream",
       "stream": "stdout",
       "text": [
        "\n",
        "(0.0023916375415-9.26966619572e-07j)\n",
        "(0.00232329841196-8.98419533751e-07j)"
       ]
      },
      {
       "output_type": "stream",
       "stream": "stdout",
       "text": [
        "\n"
       ]
      }
     ],
     "prompt_number": 130
    },
    {
     "cell_type": "heading",
     "level": 6,
     "metadata": {},
     "source": [
      "then we extend to larger k value"
     ]
    },
    {
     "cell_type": "code",
     "collapsed": false,
     "input": [
      "beta = target_beta\n",
      "theta = target_angle\n",
      "theta = theta * np.pi/180"
     ],
     "language": "python",
     "metadata": {},
     "outputs": [],
     "prompt_number": 131
    },
    {
     "cell_type": "code",
     "collapsed": false,
     "input": [
      "start = np.log10(seed_k)\n",
      "stop = np.log10(target_k)\n",
      "num = 100\n",
      "klist = np.logspace(start, stop, num=num, endpoint=True)\n",
      "klist = np.sort(klist)\n",
      "print(klist)"
     ],
     "language": "python",
     "metadata": {},
     "outputs": [
      {
       "output_type": "stream",
       "stream": "stdout",
       "text": [
        "[ 0.1         0.10449165  0.10918504  0.11408925  0.11921373  0.12456839\n",
        "  0.13016356  0.13601005  0.14211914  0.14850263  0.15517284  0.16214266\n",
        "  0.16942553  0.17703553  0.18498734  0.19329632  0.2019785   0.21105066\n",
        "  0.22053031  0.23043576  0.24078611  0.25160138  0.26290242  0.27471107\n",
        "  0.28705012  0.29994339  0.31341579  0.32749332  0.34220316  0.35757372\n",
        "  0.37363466  0.39041701  0.40795316  0.42627697  0.44542383  0.46543069\n",
        "  0.48633619  0.5081807   0.53100637  0.5548573   0.57977953  0.60582118\n",
        "  0.63303252  0.6614661   0.69117682  0.72222204  0.7546617   0.78855844\n",
        "  0.82397769  0.86098786  0.89966039  0.94006995  0.98229457  1.02641577\n",
        "  1.07251873  1.12069248  1.17103002  1.22362855  1.27858962  1.33601934\n",
        "  1.39602861  1.45873328  1.52425442  1.59271854  1.66425782  1.7390104\n",
        "  1.81712059  1.89873922  1.98402388  2.07313921  2.16625729  2.26355791\n",
        "  2.36522893  2.47146665  2.58247619  2.69847189  2.8196777   2.94632765\n",
        "  3.07866627  3.21694907  3.36144305  3.51242718  3.67019299  3.83504508\n",
        "  4.00730175  4.18729557  4.37537408  4.57190041  4.77725401  4.99183136\n",
        "  5.21604678  5.45033315  5.69514284  5.95094852  6.21824408  6.49754562\n",
        "  6.78939239  7.09434789  7.41300091  7.74596669]\n"
       ]
      }
     ],
     "prompt_number": 132
    },
    {
     "cell_type": "code",
     "collapsed": false,
     "input": [
      "result_3 = [result_2[-1]]\n",
      "for k in klist[1:]:\n",
      "    kz = k * np.cos(theta)\n",
      "    kp = k * np.sin(theta)\n",
      "    f = lambda wrel: real_imag(dt_wrapper(wrel[0] + 1j * wrel[1], kp, kz, beta, tetp = 1, method = 'numpy', mratio=mass_ratio, n = 10))\n",
      "    freq = scipy.optimize.fsolve(f, real_imag(result_3[-1]))\n",
      "    if np.real(freq[0]) < 0:\n",
      "        freq = -freq\n",
      "    result_3 += [list_to_complex(freq)]"
     ],
     "language": "python",
     "metadata": {},
     "outputs": [],
     "prompt_number": 133
    },
    {
     "cell_type": "code",
     "collapsed": false,
     "input": [
      "#fast_upper = result_3\n",
      "#slow_upper = result_3\n",
      "alfven_upper = result_3"
     ],
     "language": "python",
     "metadata": {},
     "outputs": [],
     "prompt_number": 134
    },
    {
     "cell_type": "code",
     "collapsed": false,
     "input": [
      "fig = plt.figure(figsize=[6,6])\n",
      "plt.plot(klist/np.sqrt(target_beta), np.real(alfven_upper), 'o-', markersize= 1, label='alfven')\n",
      "#plt.plot(klist/np.sqrt(target_beta), np.real(slow_upper),'o-', markersize = 1, label='slow')\n",
      "#plt.plot(klist/np.sqrt(target_beta), np.real(fast_upper),'o-', markersize = 1, label='fast')\n",
      "plt.xscale('log')\n",
      "plt.yscale('log')\n",
      "#plt.xlim([0.1, 10])\n",
      "#plt.ylim([0.1, 10])\n",
      "plt.legend(loc='best')\n",
      "plt.xlabel(r'$kc/\\omega_{pi}$')\n",
      "plt.ylabel(r'$\\omega/\\Omega_{ci}$')\n",
      "plt.title(r'Krauss-Varban(1994) fig 1-2,' + r'$\\beta_{tot}=3.0$')\n",
      "plt.show()\n"
     ],
     "language": "python",
     "metadata": {},
     "outputs": [
      {
       "metadata": {},
       "output_type": "display_data",
       "png": "[encoded data removed]",
       "text": [
        "<matplotlib.figure.Figure at 0x114f0d668>"
       ]
      }
     ],
     "prompt_number": 135
    },
    {
     "cell_type": "code",
     "collapsed": false,
     "input": [
      "#fig.savefig('krauss_fig_1_4_massratio=1836.png', dpi=300)"
     ],
     "language": "python",
     "metadata": {},
     "outputs": [],
     "prompt_number": 136
    },
    {
     "cell_type": "code",
     "collapsed": false,
     "input": [
      "print('this is {0} and {1}'.format('who', 5))"
     ],
     "language": "python",
     "metadata": {},
     "outputs": [
      {
       "output_type": "stream",
       "stream": "stdout",
       "text": [
        "this is who and 5\n"
       ]
      }
     ],
     "prompt_number": 139
    },
    {
     "cell_type": "code",
     "collapsed": false,
     "input": [],
     "language": "python",
     "metadata": {},
     "outputs": []
    }
   ],
   "metadata": {}
  }
 ]
}