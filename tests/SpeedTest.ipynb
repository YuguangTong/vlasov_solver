{
 "cells": [
  {
   "cell_type": "code",
   "execution_count": 6,
   "metadata": {
    "collapsed": true
   },
   "outputs": [],
   "source": [
    "import sys\n",
    "sys.path.append('/Users/ygtong/research/vlasov_solver/')"
   ]
  },
  {
   "cell_type": "code",
   "execution_count": 7,
   "metadata": {
    "collapsed": false
   },
   "outputs": [],
   "source": [
    "import numpy as np\n",
    "import scipy.optimize\n",
    "from py_vlasov.util import zp, kzkp, list_to_complex, real_imag, do_cprofile\n",
    "from py_vlasov.wrapper import oblique_wrapper, disp_det, input_gen\n",
    "from py_vlasov.transport_ratios import transport_ratios\n",
    "from py_vlasov.follow_parameter import follow_k\n",
    "import matplotlib.pyplot as plt\n",
    "import matplotlib as mpl\n",
    "\n",
    "mpl.rcParams['axes.labelsize'] = 20\n",
    "mpl.rcParams['xtick.labelsize'] = 16\n",
    "mpl.rcParams['ytick.labelsize'] = 16\n",
    "mpl.rcParams['axes.titlesize'] = 20\n",
    "mpl.rcParams['xtick.top'] = True\n",
    "mpl.rcParams['ytick.right'] = True\n",
    "mpl.rcParams['xtick.major.size'] = 6\n",
    "mpl.rcParams['ytick.major.size'] = 6\n",
    "mpl.rcParams['xtick.minor.size'] = 3.5\n",
    "mpl.rcParams['ytick.minor.size'] = 3.5\n",
    "mpl.rcParams['xtick.major.width'] = 1.1\n",
    "mpl.rcParams['ytick.major.width'] = 1.1\n",
    "mpl.rcParams['xtick.minor.width'] = .8\n",
    "mpl.rcParams['ytick.minor.width'] = .8\n",
    "mpl.rcParams['legend.fontsize'] = 14\n",
    "#xtick.major.size     : 3.5      # major tick size in points\n",
    "#xtick.minor.size     : 2      # minor tick size in points\n",
    "#xtick.major.width    : 0.8    # major tick width in points\n",
    "#xtick.minor.width    : 0.6    # minor tick width in points\n",
    "%matplotlib inline"
   ]
  },
  {
   "cell_type": "code",
   "execution_count": 8,
   "metadata": {
    "collapsed": true
   },
   "outputs": [],
   "source": [
    "def do_cprofile(func):\n",
    "    \"\"\"\n",
    "    wrapper of func to do profile \n",
    "    \"\"\"\n",
    "\n",
    "    import cProfile, pstats\n",
    "    \n",
    "    def profiled_func(*args, **kwargs):\n",
    "        profile = cProfile.Profile()\n",
    "        try:\n",
    "            profile.enable()\n",
    "            result = func(*args, **kwargs)\n",
    "            profile.disable()\n",
    "            return result\n",
    "        finally:\n",
    "            ps = pstats.Stats(profile)\n",
    "            ps.strip_dirs().sort_stats('time').print_stats(20)\n",
    "    return profiled_func"
   ]
  },
  {
   "cell_type": "code",
   "execution_count": 9,
   "metadata": {
    "collapsed": false
   },
   "outputs": [
    {
     "name": "stdout",
     "output_type": "stream",
     "text": [
      "aol =  0.000162788205961\n",
      "vh_va = -46\n"
     ]
    }
   ],
   "source": [
    "aol = np.sqrt(2.65e-8)\n",
    "print('aol = ', aol)\n",
    "tc_tp = 2\n",
    "th_tc = 6\n",
    "nc_np = 0.95\n",
    "nh_np = 1 - nc_np\n",
    "vc_va = 2.42\n",
    "vh_va = -vc_va * nc_np / nh_np\n",
    "print('vh_va = {0:.3g}'.format(vh_va))\n",
    "\n",
    "betap = 0.25\n",
    "theta = 85\n",
    "\n",
    "\n",
    "t_list=[1., tc_tp, th_tc * tc_tp]\n",
    "a_list=[1., 1., 1.]\n",
    "n_list=[1., nc_np, nh_np] \n",
    "q_list=[1.,-1., -1.]\n",
    "m_list=[1., 1./1836., 1./1836]\n",
    "v_list=[0., vc_va, vh_va]\n",
    "n = 6\n",
    "method = 'numpy'\n",
    "\n",
    "k = 0.2\n",
    "kz, kp = kzkp(k, theta)\n",
    "\n",
    "param = [kz, kp, betap, t_list, a_list, n_list, q_list,\n",
    "         m_list, v_list, n, method, aol]"
   ]
  },
  {
   "cell_type": "code",
   "execution_count": 10,
   "metadata": {
    "collapsed": false
   },
   "outputs": [
    {
     "name": "stdout",
     "output_type": "stream",
     "text": [
      "seed_freq = 0.0349\n",
      "0.0345575003836\n",
      "-2.27067334544e-05\n"
     ]
    }
   ],
   "source": [
    "seed_freq = kz / np.sqrt(betap)\n",
    "f = lambda wrel:\\\n",
    "    real_imag(oblique_wrapper(list_to_complex(wrel), kz, kp, betap,\n",
    "                              t_list, a_list, n_list, q_list, \\\n",
    "                              m_list, v_list, method = method, n = n, \\\n",
    "                              aol=aol))\n",
    "guess = seed_freq \n",
    "print('seed_freq = {0:.3g}'.format(guess))\n",
    "\n",
    "# wr, wi = scipy.optimize.fsolve(f, real_imag(guess))\n",
    "wr, wi = scipy.optimize.root(f, real_imag(guess))['x']\n",
    "\n",
    "print(wr)\n",
    "print(wi)"
   ]
  },
  {
   "cell_type": "code",
   "execution_count": 11,
   "metadata": {
    "collapsed": false
   },
   "outputs": [
    {
     "data": {
      "text/plain": [
       "array([  3.45575004e-02,  -2.27067335e-05])"
      ]
     },
     "execution_count": 11,
     "metadata": {},
     "output_type": "execute_result"
    }
   ],
   "source": [
    "scipy.optimize.root(f, real_imag(guess))['x']"
   ]
  },
  {
   "cell_type": "code",
   "execution_count": 12,
   "metadata": {
    "collapsed": true
   },
   "outputs": [],
   "source": [
    "@do_cprofile\n",
    "def find_w():\n",
    "    seed_freq = kz / np.sqrt(betap)\n",
    "    f = lambda wrel:\\\n",
    "        real_imag(oblique_wrapper(list_to_complex(wrel), kz, kp, betap,\n",
    "                                  t_list, a_list, n_list, q_list, \\\n",
    "                                  m_list, v_list, method = method, n = n, \\\n",
    "                                  aol=aol))\n",
    "    guess = seed_freq \n",
    "    print('seed_freq = {0:.3g}'.format(guess))\n",
    "\n",
    "    wr, wi = scipy.optimize.fsolve(f, real_imag(guess))\n",
    "    print(wr)\n",
    "    print(wi)\n",
    "    return\n",
    "\n",
    "@do_cprofile\n",
    "def find_w():\n",
    "    seed_freq = kz / np.sqrt(betap)\n",
    "    f = lambda wrel:\\\n",
    "        real_imag(oblique_wrapper(list_to_complex(wrel), kz, kp, betap,\n",
    "                                  t_list, a_list, n_list, q_list, \\\n",
    "                                  m_list, v_list, method = method, n = n, \\\n",
    "                                  aol=aol))\n",
    "    guess = seed_freq \n",
    "    print('seed_freq = {0:.3g}'.format(guess))\n",
    "\n",
    "    wr, wi = scipy.optimize.fsolve(f, real_imag(guess))\n",
    "    print(wr)\n",
    "    print(wi)\n",
    "    return"
   ]
  },
  {
   "cell_type": "code",
   "execution_count": 14,
   "metadata": {
    "collapsed": false
   },
   "outputs": [
    {
     "name": "stdout",
     "output_type": "stream",
     "text": [
      "seed_freq = 0.0349\n",
      "0.0345575003836\n",
      "-2.27067334544e-05\n",
      "         2106 function calls in 0.021 seconds\n",
      "\n",
      "   Ordered by: internal time\n",
      "   List reduced from 70 to 20 due to restriction <20>\n",
      "\n",
      "   ncalls  tottime  percall  cumtime  percall filename:lineno(function)\n",
      "       30    0.004    0.000    0.017    0.001 dispersion_tensor.py:176(f_yn_arr)\n",
      "       30    0.004    0.000    0.004    0.000 dispersion_tensor.py:200(<listcomp>)\n",
      "       30    0.002    0.000    0.005    0.000 dispersion_tensor.py:81(f_abn_arr)\n",
      "       30    0.002    0.000    0.002    0.000 dispersion_tensor.py:199(<listcomp>)\n",
      "      390    0.001    0.000    0.001    0.000 util.py:53(zp)\n",
      "      200    0.001    0.000    0.001    0.000 {method 'reduce' of 'numpy.ufunc' objects}\n",
      "       30    0.001    0.000    0.018    0.001 dispersion_tensor.py:243(f_chi_vec)\n",
      "       30    0.001    0.000    0.001    0.000 dispersion_tensor.py:26(f_zeta_arr)\n",
      "      190    0.001    0.000    0.002    0.000 fromnumeric.py:1730(sum)\n",
      "      122    0.001    0.000    0.001    0.000 {built-in method numpy.core.multiarray.array}\n",
      "       10    0.001    0.000    0.001    0.000 wrapper.py:8(input_gen)\n",
      "       30    0.000    0.000    0.002    0.000 dispersion_tensor.py:108(<listcomp>)\n",
      "       10    0.000    0.000    0.020    0.002 wrapper.py:82(oblique_wrapper)\n",
      "       10    0.000    0.000    0.019    0.002 dispersion_tensor.py:289(f_epsilon_vec)\n",
      "       10    0.000    0.000    0.001    0.000 basic.py:828(det)\n",
      "       30    0.000    0.000    0.000    0.000 {built-in method numpy.core.multiarray.arange}\n",
      "       70    0.000    0.000    0.000    0.000 {built-in method numpy.core.multiarray.zeros}\n",
      "       10    0.000    0.000    0.000    0.000 _util.py:192(_asarray_validated)\n",
      "       10    0.000    0.000    0.000    0.000 util.py:80(list_to_complex)\n",
      "       10    0.000    0.000    0.019    0.002 dispersion_tensor.py:326(f_d_vec)\n",
      "\n",
      "\n"
     ]
    }
   ],
   "source": [
    "find_w()"
   ]
  },
  {
   "cell_type": "code",
   "execution_count": null,
   "metadata": {
    "collapsed": true
   },
   "outputs": [],
   "source": []
  }
 ],
 "metadata": {
  "kernelspec": {
   "display_name": "Python 3",
   "language": "python",
   "name": "python3"
  },
  "language_info": {
   "codemirror_mode": {
    "name": "ipython",
    "version": 3
   },
   "file_extension": ".py",
   "mimetype": "text/x-python",
   "name": "python",
   "nbconvert_exporter": "python",
   "pygments_lexer": "ipython3",
   "version": "3.5.1"
  }
 },
 "nbformat": 4,
 "nbformat_minor": 2
}
