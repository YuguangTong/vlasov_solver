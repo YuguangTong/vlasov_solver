{
 "cells": [
  {
   "cell_type": "markdown",
   "metadata": {},
   "source": [
    "# Reproduce Gary 1975 paper result of Alfven instabilities"
   ]
  },
  {
   "cell_type": "markdown",
   "metadata": {},
   "source": [
    "<img src=\"figure/gary_1975_fig4.png\" width=400>"
   ]
  },
  {
   "cell_type": "code",
   "execution_count": 1,
   "metadata": {},
   "outputs": [],
   "source": [
    "import numpy as np\n",
    "import scipy.optimize\n",
    "from py_vlasov.util import zp, kzkp, list_to_complex, real_imag\n",
    "from py_vlasov.wrapper import oblique_wrapper, disp_det, input_gen\n",
    "from py_vlasov.transport_ratios import transport_ratios\n",
    "from py_vlasov.follow_parameter import follow_k\n",
    "import matplotlib.pyplot as plt\n",
    "import matplotlib as mpl\n",
    "\n",
    "mpl.rcParams['axes.labelsize'] = 20\n",
    "mpl.rcParams['xtick.labelsize'] = 16\n",
    "mpl.rcParams['ytick.labelsize'] = 16\n",
    "mpl.rcParams['axes.titlesize'] = 20\n",
    "mpl.rcParams['xtick.top'] = True\n",
    "mpl.rcParams['ytick.right'] = True\n",
    "mpl.rcParams['xtick.major.size'] = 6\n",
    "mpl.rcParams['ytick.major.size'] = 6\n",
    "mpl.rcParams['xtick.minor.size'] = 3.5\n",
    "mpl.rcParams['ytick.minor.size'] = 3.5\n",
    "mpl.rcParams['xtick.major.width'] = 1.1\n",
    "mpl.rcParams['ytick.major.width'] = 1.1\n",
    "mpl.rcParams['xtick.minor.width'] = .8\n",
    "mpl.rcParams['ytick.minor.width'] = .8\n",
    "mpl.rcParams['legend.fontsize'] = 14\n",
    "#xtick.major.size     : 3.5      # major tick size in points\n",
    "#xtick.minor.size     : 2      # minor tick size in points\n",
    "#xtick.major.width    : 0.8    # major tick width in points\n",
    "#xtick.minor.width    : 0.6    # minor tick width in points\n",
    "%matplotlib inline"
   ]
  },
  {
   "cell_type": "code",
   "execution_count": 2,
   "metadata": {},
   "outputs": [],
   "source": [
    "def generate_k_arr(start_k, target_k, log_incrmt = None, lin_incrmt = None):\n",
    "    assert log_incrmt or lin_incrmt\n",
    "    if log_incrmt:\n",
    "        n = int(np.log(target_k/start_k) / np.log(1 + log_incrmt))\n",
    "        ret = np.arange(n + 1) * np.log(1 + log_incrmt)\n",
    "        return np.exp(ret)  * start_k\n",
    "    else:\n",
    "        n = (target_k - start_k) / lin_incrmt\n",
    "        if n - int(n) > 1 - 1e-5:\n",
    "            n = int(n) + 1\n",
    "        return start_k + np.arange(n + 1) * lin_incrmt"
   ]
  },
  {
   "cell_type": "code",
   "execution_count": 88,
   "metadata": {},
   "outputs": [
    {
     "name": "stdout",
     "output_type": "stream",
     "text": [
      "aol =  0.000162788205961\n",
      "vh_va = -46\n"
     ]
    }
   ],
   "source": [
    "aol = np.sqrt(2.65e-8)\n",
    "print('aol = ', aol)\n",
    "tc_tp = 2\n",
    "th_tc = 6\n",
    "nc_np = 0.95\n",
    "nh_np = 1 - nc_np\n",
    "vc_va = 2.42\n",
    "vh_va = -vc_va * nc_np / nh_np\n",
    "print('vh_va = {0:.3g}'.format(vh_va))\n",
    "\n",
    "betap = 0.25\n",
    "theta = 80\n",
    "\n",
    "\n",
    "t_list=[1., tc_tp, th_tc * tc_tp]\n",
    "a_list=[1., 1., 1.]\n",
    "n_list=[1., nc_np, nh_np] \n",
    "q_list=[1.,-1., -1.]\n",
    "m_list=[1., 1./1836., 1./1836]\n",
    "v_list=[0., vc_va, vh_va]\n",
    "n = 6\n",
    "method = 'pade'\n",
    "\n",
    "k = 0.2\n",
    "kz, kp = kzkp(k, theta)\n",
    "\n",
    "param = [kz, kp, betap, t_list, a_list, n_list, q_list,\n",
    "         m_list, v_list, n, method, aol]"
   ]
  },
  {
   "cell_type": "code",
   "execution_count": 89,
   "metadata": {},
   "outputs": [
    {
     "name": "stdout",
     "output_type": "stream",
     "text": [
      "seed_freq = 0.0695\n",
      "0.0687445716234\n",
      "-4.77380046564e-05\n"
     ]
    }
   ],
   "source": [
    "seed_freq = kz / np.sqrt(betap)\n",
    "f = lambda wrel:\\\n",
    "    real_imag(oblique_wrapper(list_to_complex(wrel), kz, kp, betap,\n",
    "                              t_list, a_list, n_list, q_list, \\\n",
    "                              m_list, v_list, method = method, n = n, \\\n",
    "                              aol=aol))\n",
    "guess = seed_freq \n",
    "print('seed_freq = {0:.3g}'.format(guess))\n",
    "\n",
    "wr, wi = scipy.optimize.fsolve(f, real_imag(guess))\n",
    "print(wr)\n",
    "print(wi)"
   ]
  },
  {
   "cell_type": "code",
   "execution_count": 90,
   "metadata": {},
   "outputs": [],
   "source": [
    "target_k = 2\n",
    "\n",
    "# freq = follow_k(guess, target_k, param,\n",
    "#                 log_incrmt = 0.05, incrmt_method = 'log')\n",
    "freq = follow_k(guess, target_k, param,\n",
    "                lin_incrmt = 0.02, incrmt_method = 'linear')               "
   ]
  },
  {
   "cell_type": "code",
   "execution_count": 91,
   "metadata": {},
   "outputs": [],
   "source": [
    "k_arr = generate_k_arr(k, target_k, lin_incrmt=0.02)\n",
    "# k_arr = generate_k_arr(k, target_k, log_incrmt=0.05)"
   ]
  },
  {
   "cell_type": "code",
   "execution_count": 92,
   "metadata": {},
   "outputs": [],
   "source": [
    "wrel = np.array(freq[-1])"
   ]
  },
  {
   "cell_type": "code",
   "execution_count": 93,
   "metadata": {},
   "outputs": [
    {
     "data": {
      "text/plain": [
       "(-0.1, 0.01)"
      ]
     },
     "execution_count": 93,
     "metadata": {},
     "output_type": "execute_result"
    },
    {
     "data": {
      "image/png": "[encoded data removed]",
      "text/plain": [
       "<matplotlib.figure.Figure at 0x117b41c88>"
      ]
     },
     "metadata": {},
     "output_type": "display_data"
    }
   ],
   "source": [
    "plt.plot(k_arr, wrel.imag)\n",
    "plt.ylim([-.1,  .01])"
   ]
  },
  {
   "cell_type": "code",
   "execution_count": 94,
   "metadata": {},
   "outputs": [
    {
     "data": {
      "text/plain": [
       "[<matplotlib.lines.Line2D at 0x11830b4e0>]"
      ]
     },
     "execution_count": 94,
     "metadata": {},
     "output_type": "execute_result"
    },
    {
     "data": {
      "image/png": "[encoded data removed]",
      "text/plain": [
       "<matplotlib.figure.Figure at 0x1182a3a20>"
      ]
     },
     "metadata": {},
     "output_type": "display_data"
    }
   ],
   "source": [
    "plt.plot(k_arr, wrel.real)\n",
    "plt.plot(k_arr, k_arr * np.cos(np.deg2rad(theta))/np.sqrt(betap))\n",
    "# plt.ylim([-1e-3,  .01])"
   ]
  },
  {
   "cell_type": "markdown",
   "metadata": {},
   "source": [
    "# approximate KAW dispersion"
   ]
  },
  {
   "cell_type": "code",
   "execution_count": 95,
   "metadata": {},
   "outputs": [],
   "source": [
    "from scipy.special import iv\n",
    "from py_vlasov.util import zp"
   ]
  },
  {
   "cell_type": "markdown",
   "metadata": {},
   "source": [
    "$$\\left(\\frac{\\omega}{k_\\parallel v_A}\\right)^2 = \\frac{1+k_\\perp^2\\rho_i^2 \\left(T_e/T_i + 3/4\\right)}{1+k_\\perp^2\\rho_i^2\\frac{m_i}{m_e}\\frac{1}{\\beta_i}}$$\n",
    "\n",
    "Lysak & Lotko 1996 Eq (4)"
   ]
  },
  {
   "cell_type": "code",
   "execution_count": 96,
   "metadata": {},
   "outputs": [],
   "source": [
    "def kaw_f(kp, teti, betap):\n",
    "    num = 1 + kp**2 * (teti + 0.75)\n",
    "    denom = 1 + kp**2 / 1836 / betap\n",
    "    return np.sqrt(num/denom)\n",
    "\n",
    "def kaw_f2(kz, kp, teti, betap):\n",
    "    b = kz**2 * 2/betap * kp**2 * (1 + teti)\n",
    "    a = 1 + b\n",
    "    a = 1/np.sqrt(a)\n",
    "    b = np.sqrt(b)\n",
    "    return a * b"
   ]
  },
  {
   "cell_type": "code",
   "execution_count": 97,
   "metadata": {},
   "outputs": [],
   "source": [
    "# teti = tc_tp * nc_np + th_tc * tc_tp * nh_np\n",
    "teti = tc_tp\n",
    "kp_arr = k_arr * np.sin(np.deg2rad(theta))\n",
    "kz_arr = k_arr * np.cos(np.deg2rad(theta))\n",
    "w_kaw = np.array([kaw_f(kp, teti, betap) for kp in kp_arr])\n",
    "# w_kaw_2 = np.array([kaw_f2(kz, kp, teti, betap) for kz, kp in zip(kz_arr, kp_arr)]) / np.sqrt(betap)\n",
    "kzva = kz_arr / np.sqrt(betap)"
   ]
  },
  {
   "cell_type": "code",
   "execution_count": null,
   "metadata": {},
   "outputs": [],
   "source": []
  },
  {
   "cell_type": "code",
   "execution_count": 98,
   "metadata": {},
   "outputs": [
    {
     "data": {
      "text/plain": [
       "<matplotlib.legend.Legend at 0x11852abe0>"
      ]
     },
     "execution_count": 98,
     "metadata": {},
     "output_type": "execute_result"
    },
    {
     "data": {
      "image/png": "[encoded data removed]",
      "text/plain": [
       "<matplotlib.figure.Figure at 0x11846f0f0>"
      ]
     },
     "metadata": {},
     "output_type": "display_data"
    }
   ],
   "source": [
    "plt.plot(k_arr, wrel.real / kzva, label = 'vlasov')\n",
    "plt.plot(k_arr, w_kaw, label = 'analytic')\n",
    "plt.ylim([0.8, 2])\n",
    "plt.legend()"
   ]
  },
  {
   "cell_type": "markdown",
   "metadata": {},
   "source": [
    "## Conclusion: \n",
    "Approximated expression don't work well in the parameters of interest"
   ]
  },
  {
   "cell_type": "code",
   "execution_count": null,
   "metadata": {},
   "outputs": [],
   "source": []
  }
 ],
 "metadata": {
  "kernelspec": {
   "display_name": "Python 3.6 (science)",
   "language": "python",
   "name": "science"
  },
  "language_info": {
   "codemirror_mode": {
    "name": "ipython",
    "version": 3
   },
   "file_extension": ".py",
   "mimetype": "text/x-python",
   "name": "python",
   "nbconvert_exporter": "python",
   "pygments_lexer": "ipython3",
   "version": "3.6.0"
  }
 },
 "nbformat": 4,
 "nbformat_minor": 2
}
