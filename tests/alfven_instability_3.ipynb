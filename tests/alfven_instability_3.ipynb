{
 "cells": [
  {
   "cell_type": "markdown",
   "metadata": {},
   "source": [
    "# Plot instability threshold"
   ]
  },
  {
   "cell_type": "code",
   "execution_count": 1,
   "metadata": {},
   "outputs": [],
   "source": [
    "import numpy as np\n",
    "import scipy.optimize\n",
    "import scipy.interpolate\n",
    "import matplotlib.pyplot as plt\n",
    "import matplotlib as mpl\n",
    "import os\n",
    "import pandas as pd\n",
    "\n",
    "mpl.rcParams['axes.labelsize'] = 20\n",
    "mpl.rcParams['xtick.labelsize'] = 16\n",
    "mpl.rcParams['ytick.labelsize'] = 16\n",
    "mpl.rcParams['axes.titlesize'] = 20\n",
    "mpl.rcParams['xtick.top'] = True\n",
    "mpl.rcParams['ytick.right'] = True\n",
    "mpl.rcParams['xtick.major.size'] = 6\n",
    "mpl.rcParams['ytick.major.size'] = 6\n",
    "mpl.rcParams['xtick.minor.size'] = 3.5\n",
    "mpl.rcParams['ytick.minor.size'] = 3.5\n",
    "mpl.rcParams['xtick.major.width'] = 1.1\n",
    "mpl.rcParams['ytick.major.width'] = 1.1\n",
    "mpl.rcParams['xtick.minor.width'] = .8\n",
    "mpl.rcParams['ytick.minor.width'] = .8\n",
    "mpl.rcParams['legend.fontsize'] = 14\n",
    "#xtick.major.size     : 3.5      # major tick size in points\n",
    "#xtick.minor.size     : 2      # minor tick size in points\n",
    "#xtick.major.width    : 0.8    # major tick width in points\n",
    "#xtick.minor.width    : 0.6    # minor tick width in points\n",
    "%matplotlib inline"
   ]
  },
  {
   "cell_type": "code",
   "execution_count": 2,
   "metadata": {},
   "outputs": [],
   "source": [
    "result_db_file = 'data/alfven_instability.csv'\n",
    "column_list = ['betap', 'vcva', 'tctp', 'thtc', 'vac', \n",
    "               'max_growth_rate', 'kz_peak', 'kp_peak', 'theta_peak']\n",
    "if os.path.exists(result_db_file):\n",
    "    df = pd.read_csv(result_db_file)\n",
    "else:\n",
    "    df = pd.DataFrame(columns= column_list)"
   ]
  },
  {
   "cell_type": "code",
   "execution_count": 4,
   "metadata": {},
   "outputs": [
    {
     "data": {
      "text/html": [
       "<div>\n",
       "<table border=\"1\" class=\"dataframe\">\n",
       "  <thead>\n",
       "    <tr style=\"text-align: right;\">\n",
       "      <th></th>\n",
       "      <th>betap</th>\n",
       "      <th>vcva</th>\n",
       "      <th>tctp</th>\n",
       "      <th>thtc</th>\n",
       "      <th>vac</th>\n",
       "      <th>max_growth_rate</th>\n",
       "      <th>kz_peak</th>\n",
       "      <th>kp_peak</th>\n",
       "      <th>theta_peak</th>\n",
       "    </tr>\n",
       "  </thead>\n",
       "  <tbody>\n",
       "    <tr>\n",
       "      <th>0</th>\n",
       "      <td>0.1</td>\n",
       "      <td>1.0</td>\n",
       "      <td>2</td>\n",
       "      <td>6</td>\n",
       "      <td>0.0001</td>\n",
       "      <td>0.000031</td>\n",
       "      <td>0.157</td>\n",
       "      <td>0.270</td>\n",
       "      <td>59.9</td>\n",
       "    </tr>\n",
       "    <tr>\n",
       "      <th>1</th>\n",
       "      <td>0.1</td>\n",
       "      <td>1.2</td>\n",
       "      <td>2</td>\n",
       "      <td>6</td>\n",
       "      <td>0.0001</td>\n",
       "      <td>0.000528</td>\n",
       "      <td>0.163</td>\n",
       "      <td>0.393</td>\n",
       "      <td>67.5</td>\n",
       "    </tr>\n",
       "    <tr>\n",
       "      <th>2</th>\n",
       "      <td>0.1</td>\n",
       "      <td>1.3</td>\n",
       "      <td>2</td>\n",
       "      <td>6</td>\n",
       "      <td>0.0001</td>\n",
       "      <td>0.000906</td>\n",
       "      <td>0.161</td>\n",
       "      <td>0.445</td>\n",
       "      <td>70.1</td>\n",
       "    </tr>\n",
       "    <tr>\n",
       "      <th>3</th>\n",
       "      <td>0.1</td>\n",
       "      <td>1.4</td>\n",
       "      <td>2</td>\n",
       "      <td>6</td>\n",
       "      <td>0.0001</td>\n",
       "      <td>0.001390</td>\n",
       "      <td>0.164</td>\n",
       "      <td>0.481</td>\n",
       "      <td>71.1</td>\n",
       "    </tr>\n",
       "    <tr>\n",
       "      <th>4</th>\n",
       "      <td>0.1</td>\n",
       "      <td>1.8</td>\n",
       "      <td>2</td>\n",
       "      <td>6</td>\n",
       "      <td>0.0001</td>\n",
       "      <td>0.004380</td>\n",
       "      <td>0.153</td>\n",
       "      <td>0.745</td>\n",
       "      <td>78.4</td>\n",
       "    </tr>\n",
       "  </tbody>\n",
       "</table>\n",
       "</div>"
      ],
      "text/plain": [
       "   betap  vcva  tctp  thtc     vac  max_growth_rate  kz_peak  kp_peak  \\\n",
       "0    0.1   1.0     2     6  0.0001         0.000031    0.157    0.270   \n",
       "1    0.1   1.2     2     6  0.0001         0.000528    0.163    0.393   \n",
       "2    0.1   1.3     2     6  0.0001         0.000906    0.161    0.445   \n",
       "3    0.1   1.4     2     6  0.0001         0.001390    0.164    0.481   \n",
       "4    0.1   1.8     2     6  0.0001         0.004380    0.153    0.745   \n",
       "\n",
       "   theta_peak  \n",
       "0        59.9  \n",
       "1        67.5  \n",
       "2        70.1  \n",
       "3        71.1  \n",
       "4        78.4  "
      ]
     },
     "execution_count": 4,
     "metadata": {},
     "output_type": "execute_result"
    }
   ],
   "source": [
    "df.head()"
   ]
  },
  {
   "cell_type": "code",
   "execution_count": 50,
   "metadata": {},
   "outputs": [],
   "source": [
    "betap_arr = df.betap.unique()\n",
    "vcva_arr = np.zeros_like(betap_arr)\n",
    "target_gamma = 1e-3"
   ]
  },
  {
   "cell_type": "code",
   "execution_count": 51,
   "metadata": {},
   "outputs": [
    {
     "data": {
      "text/plain": [
       "<matplotlib.text.Text at 0x10d443630>"
      ]
     },
     "execution_count": 51,
     "metadata": {},
     "output_type": "execute_result"
    },
    {
     "data": {
      "image/png": "[encoded data removed]",
      "text/plain": [
       "<matplotlib.figure.Figure at 0x114a15c18>"
      ]
     },
     "metadata": {},
     "output_type": "display_data"
    }
   ],
   "source": [
    "for i, betap in enumerate(betap_arr):\n",
    "    vc_gamma = df[df.betap == betap][['vcva', 'max_growth_rate']]\n",
    "    vc = vc_gamma.vcva.get_values()\n",
    "    gamma = vc_gamma.max_growth_rate.get_values()\n",
    "    # interpolate drift-growth rate curve\n",
    "    f = scipy.interpolate.interp1d(gamma, vc, kind='slinear')\n",
    "    plt.plot(vc, gamma, 'o-', markersize = 3)\n",
    "    plt.plot(f(target_gamma), target_gamma, 'o')\n",
    "    vcva_arr[i] = f(target_gamma)\n",
    "plt.xlabel(r'$v_c/v_A$')\n",
    "plt.ylabel(r'$\\omega_i/\\Omega_p$')"
   ]
  },
  {
   "cell_type": "code",
   "execution_count": 59,
   "metadata": {},
   "outputs": [
    {
     "data": {
      "text/plain": [
       "(0, 5)"
      ]
     },
     "execution_count": 59,
     "metadata": {},
     "output_type": "execute_result"
    },
    {
     "data": {
      "image/png": "[encoded data removed]",
      "text/plain": [
       "<matplotlib.figure.Figure at 0x1165507b8>"
      ]
     },
     "metadata": {},
     "output_type": "display_data"
    }
   ],
   "source": [
    "plt.plot(betap_arr, vcva_arr, 'ko-')\n",
    "plt.xlabel(r'$\\beta_p$')\n",
    "plt.ylabel(r'$v_c/v_A$')\n",
    "plt.xlim([0, 3])\n",
    "plt.ylim([0, 5])"
   ]
  },
  {
   "cell_type": "code",
   "execution_count": 64,
   "metadata": {},
   "outputs": [],
   "source": [
    "np.save('data/alfven_instability_threhold_tctp=2_thtc=6_vac=0.0001', np.array([betap_arr, vcva_arr]))"
   ]
  },
  {
   "cell_type": "code",
   "execution_count": null,
   "metadata": {},
   "outputs": [],
   "source": []
  }
 ],
 "metadata": {
  "kernelspec": {
   "display_name": "Python 3.6 (science)",
   "language": "python",
   "name": "science"
  },
  "language_info": {
   "codemirror_mode": {
    "name": "ipython",
    "version": 3
   },
   "file_extension": ".py",
   "mimetype": "text/x-python",
   "name": "python",
   "nbconvert_exporter": "python",
   "pygments_lexer": "ipython3",
   "version": "3.6.0"
  }
 },
 "nbformat": 4,
 "nbformat_minor": 2
}
