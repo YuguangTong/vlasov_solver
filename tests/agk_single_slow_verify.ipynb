{
 "cells": [
  {
   "cell_type": "markdown",
   "metadata": {},
   "source": [
    "## Verify single slow mode excited by Legevin antenna in agk"
   ]
  },
  {
   "cell_type": "markdown",
   "metadata": {},
   "source": [
    "###### $k_\\perp\\rho_p = 0.1$, $\\beta_p = 1.0$"
   ]
  },
  {
   "cell_type": "code",
   "execution_count": 12,
   "metadata": {
    "collapsed": true
   },
   "outputs": [],
   "source": [
    "import numpy as np\n",
    "from py_vlasov.follow_parameter import change_angle, change_beta, change_k, change_tetp\n",
    "from py_vlasov.transport_ratios import input_gen, transport_ratios\n",
    "import matplotlib.pyplot as plt\n",
    "%matplotlib inline"
   ]
  },
  {
   "cell_type": "code",
   "execution_count": 13,
   "metadata": {
    "collapsed": true
   },
   "outputs": [],
   "source": [
    "#---------------#\n",
    "# Rotate angle  #\n",
    "#---------------#\n",
    "k = 0.1\n",
    "theta = 85\n",
    "beta = 0.2\n",
    "tetp = 1\n",
    "method = 'numpy'\n",
    "mratio = 1836\n",
    "n = 10\n",
    "aol = 1/5000\n",
    "\"-------------------\"\n",
    "target_angle = 89.95\n",
    "# freq = 0.01190802-0.00635779j # slow mode\n",
    "freq = 1.95444741e-02 -6.32084029e-06j # Alfven mode\n",
    "param = (k, theta, beta, tetp, method, mratio, n, aol)\n",
    "num = 50\n",
    "show_plot = True\n",
    "def follow_angle_fn(prev_freq, prev_angle, cur_angle):\n",
    "    cos_prev = np.cos(prev_angle * np.pi/180)\n",
    "    cos_cur = np.cos(cur_angle * np.pi/180)\n",
    "    return prev_freq * cos_cur/cos_prev"
   ]
  },
  {
   "cell_type": "code",
   "execution_count": 14,
   "metadata": {
    "collapsed": false
   },
   "outputs": [
    {
     "data": {
      "image/png": "[encoded data removed]",
      "text/plain": [
       "<matplotlib.figure.Figure at 0x107234f60>"
      ]
     },
     "metadata": {},
     "output_type": "display_data"
    }
   ],
   "source": [
    "freq_angle = change_angle(freq, param, target_angle, num, follow_angle_fn, show_plot=True)"
   ]
  },
  {
   "cell_type": "code",
   "execution_count": 17,
   "metadata": {
    "collapsed": false
   },
   "outputs": [],
   "source": [
    "#---------------#\n",
    "# increase beta #\n",
    "#---------------#\n",
    "k = 0.1\n",
    "theta = target_angle\n",
    "\"-------------------\"\n",
    "target_beta = 1.0\n",
    "freq = freq_angle\n",
    "param = (k, theta, beta, tetp, method, mratio, n, aol)\n",
    "num = 20"
   ]
  },
  {
   "cell_type": "code",
   "execution_count": 18,
   "metadata": {
    "collapsed": false
   },
   "outputs": [
    {
     "data": {
      "image/png": "[encoded data removed]",
      "text/plain": [
       "<matplotlib.figure.Figure at 0x106e3f2e8>"
      ]
     },
     "metadata": {},
     "output_type": "display_data"
    }
   ],
   "source": [
    "freq_beta = change_beta(freq, param, target_beta, num, show_plot=True)"
   ]
  },
  {
   "cell_type": "code",
   "execution_count": 19,
   "metadata": {
    "collapsed": false
   },
   "outputs": [
    {
     "name": "stdout",
     "output_type": "stream",
     "text": [
      "eigen E = [ -2.54e+04 +3.06e+03j  -0.00e+00 -1.00e+00j   4.85e-02 -1.80e-02j]\n",
      "p_e_b0 = 2.5e+04-3.1e+03j\n",
      "p_b_b0 = 2.5e+04-3.1e+03j\n",
      "p_b_k = 0.044+0.0054j\n",
      "c_bb = 1.5e-09\n",
      "helicy = 0.089\n",
      "E_L/E_tot = 1\n",
      "compressibility = [ 0.  0.]\n",
      "parallel compressibility = [-0.98+0.28j -0.98+0.28j]\n",
      "cross helicty = [-1.    0.05]\n"
     ]
    }
   ],
   "source": [
    "theta_rad = np.pi * target_angle/180\n",
    "kperp = k * np.sin(theta_rad)\n",
    "kpar = k * np.cos(theta_rad)\n",
    "inp = input_gen(freq_beta, kperp, kpar, target_beta, tetp)\n",
    "res = transport_ratios(inp, True);"
   ]
  },
  {
   "cell_type": "code",
   "execution_count": 23,
   "metadata": {
    "collapsed": false
   },
   "outputs": [
    {
     "data": {
      "text/plain": [
       "0.0019955529697664636"
      ]
     },
     "execution_count": 23,
     "metadata": {},
     "output_type": "execute_result"
    }
   ],
   "source": [
    "res['c_bb'] * np.tan(target_angle * np.pi/180.)**2"
   ]
  },
  {
   "cell_type": "code",
   "execution_count": null,
   "metadata": {
    "collapsed": true
   },
   "outputs": [],
   "source": []
  }
 ],
 "metadata": {
  "kernelspec": {
   "display_name": "Python 3",
   "language": "python",
   "name": "python3"
  },
  "language_info": {
   "codemirror_mode": {
    "name": "ipython",
    "version": 3
   },
   "file_extension": ".py",
   "mimetype": "text/x-python",
   "name": "python",
   "nbconvert_exporter": "python",
   "pygments_lexer": "ipython3",
   "version": "3.4.3"
  }
 },
 "nbformat": 4,
 "nbformat_minor": 0
}
