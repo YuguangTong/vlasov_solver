{
 "cells": [
  {
   "cell_type": "markdown",
   "metadata": {},
   "source": [
    "# Electrostatic Ion acoustic mode"
   ]
  },
  {
   "cell_type": "code",
   "execution_count": 30,
   "metadata": {
    "collapsed": true
   },
   "outputs": [],
   "source": [
    "import numpy as np\n",
    "import scipy.optimize\n",
    "from py_vlasov.util import zp, kzkp, list_to_complex, real_imag, nullspace\n",
    "from py_vlasov.wrapper import disp_det, input_gen\n",
    "from py_vlasov.transport_ratios import transport_ratios\n",
    "from py_vlasov.follow_parameter import follow_k\n",
    "from py_vlasov.dispersion_tensor import f_d\n",
    "\n",
    "import matplotlib.pyplot as plt\n",
    "import matplotlib as mpl\n",
    "\n",
    "mpl.rcParams['axes.labelsize'] = 20\n",
    "mpl.rcParams['xtick.labelsize'] = 16\n",
    "mpl.rcParams['ytick.labelsize'] = 16\n",
    "mpl.rcParams['axes.titlesize'] = 20\n",
    "mpl.rcParams['xtick.top'] = True\n",
    "mpl.rcParams['ytick.right'] = True\n",
    "mpl.rcParams['xtick.major.size'] = 6\n",
    "mpl.rcParams['ytick.major.size'] = 6\n",
    "mpl.rcParams['xtick.minor.size'] = 3.5\n",
    "mpl.rcParams['ytick.minor.size'] = 3.5\n",
    "mpl.rcParams['xtick.major.width'] = 1.1\n",
    "mpl.rcParams['ytick.major.width'] = 1.1\n",
    "mpl.rcParams['xtick.minor.width'] = .8\n",
    "mpl.rcParams['ytick.minor.width'] = .8\n",
    "#xtick.major.size     : 3.5      # major tick size in points\n",
    "#xtick.minor.size     : 2      # minor tick size in points\n",
    "#xtick.major.width    : 0.8    # major tick width in points\n",
    "#xtick.minor.width    : 0.6    # minor tick width in points\n",
    "%matplotlib inline"
   ]
  },
  {
   "cell_type": "code",
   "execution_count": 7,
   "metadata": {
    "collapsed": true
   },
   "outputs": [],
   "source": [
    "def ia_freq_fn(k, te_ti):\n",
    "    return k * np.sqrt(0.5*(te_ti + 3))"
   ]
  },
  {
   "cell_type": "code",
   "execution_count": 93,
   "metadata": {
    "collapsed": false
   },
   "outputs": [
    {
     "name": "stdout",
     "output_type": "stream",
     "text": [
      "Guess ion acoustic wave freq = 0.72-0.072j\n",
      "found w =  [ 0.71766701 -0.01033099]\n"
     ]
    }
   ],
   "source": [
    "k = 0.1\n",
    "kz = k\n",
    "kp = 0        \n",
    "betap = 10.\n",
    "te_ti = 100.\n",
    "t_list=[1., te_ti, te_ti]\n",
    "a_list=[1., 1., 1.]\n",
    "n_list=[1., .5, .5] \n",
    "q_list=[1., -1., -1.]\n",
    "m_list=[1., 1/1836, 1/1836]\n",
    "v_list=[0, 0, 0]\n",
    "aol = 1/5000.\n",
    "n = 6 # number of Bessel fn to keep\n",
    "method = 'numpy'\n",
    "pol = 's' # electrostatic\n",
    "param = [kz, kp, betap, t_list, a_list, n_list, q_list,\n",
    "         m_list, v_list, n, method, aol]\n",
    "\n",
    "f = lambda wrel: real_imag(disp_det(\n",
    "    list_to_complex(wrel), kz, kp, betap, t_list, a_list, n_list,\n",
    "    q_list, m_list, v_list, method = method, aol=aol, pol = pol))\n",
    "guess = ia_freq_fn(kz, te_ti) * (1 - .1j)\n",
    "print('Guess ion acoustic wave freq = {0:.2g}'.format(guess))\n",
    "freq = scipy.optimize.fsolve(f, real_imag(guess))\n",
    "print('found w = ', freq)"
   ]
  },
  {
   "cell_type": "code",
   "execution_count": 87,
   "metadata": {
    "collapsed": false
   },
   "outputs": [],
   "source": [
    "target_k = np.sqrt(2)\n",
    "freq = follow_k(guess, target_k, param, pol = pol,\n",
    "                log_incrmt = 0.02, incrmt_method = 'log')"
   ]
  },
  {
   "cell_type": "code",
   "execution_count": 88,
   "metadata": {
    "collapsed": false
   },
   "outputs": [
    {
     "name": "stdout",
     "output_type": "stream",
     "text": [
      "[ 0.71766701-0.01033099j  0.79223248-0.01140438j  0.87454529-0.01258929j\n",
      "  0.96541039-0.01389732j  1.06571636-0.01534125j  1.17644409-0.0169352j\n",
      "  1.29867642-0.01869476j  1.43360866-0.02063714j  1.58256034-0.02278134j\n",
      "  1.74698806-0.02514832j  1.92849979-0.02776122j  2.12887054-0.0306456j\n",
      "  2.35005977-0.03382967j  2.59423051-0.03734457j  2.86377052-0.04122466j\n",
      "  3.16131567-0.04550789j  3.48977567-0.05023614j  3.85236256-0.05545565j\n",
      "  4.25262209-0.06121747j  4.69446843-0.06757793j  5.18222240-0.07459924j\n",
      "  5.72065376-0.08235005j  6.31502783-0.09090616j  6.97115697-0.10035122j\n",
      "  7.69545742-0.11077761j  8.49501203-0.12228726j  9.37763950-0.13499272j]\n"
     ]
    }
   ],
   "source": [
    "freq_arr = np.array(freq[-1])\n",
    "print(freq_arr[::5])"
   ]
  },
  {
   "cell_type": "code",
   "execution_count": 89,
   "metadata": {
    "collapsed": false
   },
   "outputs": [],
   "source": [
    "krhoi_list = np.logspace(np.log10(k), np.log10(target_k), len(freq_arr))"
   ]
  },
  {
   "cell_type": "code",
   "execution_count": 90,
   "metadata": {
    "collapsed": false
   },
   "outputs": [
    {
     "data": {
      "text/plain": [
       "[<matplotlib.lines.Line2D at 0x116a9a1d0>]"
      ]
     },
     "execution_count": 90,
     "metadata": {},
     "output_type": "execute_result"
    },
    {
     "data": {
      "image/png": "[encoded data removed]",
      "text/plain": [
       "<matplotlib.figure.Figure at 0x116a4bc18>"
      ]
     },
     "metadata": {},
     "output_type": "display_data"
    }
   ],
   "source": [
    "fig, axes = plt.subplots(2, 1, figsize=[6, 9], sharex=True, gridspec_kw={'height_ratios':[2,1]})\n",
    "ax0, ax1 = axes\n",
    "ax0.plot(krhoi_list, freq_arr.real, '.-')\n",
    "ax1.plot(krhoi_list, freq_arr.imag)"
   ]
  },
  {
   "cell_type": "code",
   "execution_count": null,
   "metadata": {
    "collapsed": true
   },
   "outputs": [],
   "source": []
  },
  {
   "cell_type": "code",
   "execution_count": null,
   "metadata": {
    "collapsed": true
   },
   "outputs": [],
   "source": []
  }
 ],
 "metadata": {
  "kernelspec": {
   "display_name": "Python 3.6 (science)",
   "language": "python",
   "name": "science"
  },
  "language_info": {
   "codemirror_mode": {
    "name": "ipython",
    "version": 3
   },
   "file_extension": ".py",
   "mimetype": "text/x-python",
   "name": "python",
   "nbconvert_exporter": "python",
   "pygments_lexer": "ipython3",
   "version": "3.6.0"
  }
 },
 "nbformat": 4,
 "nbformat_minor": 2
}
