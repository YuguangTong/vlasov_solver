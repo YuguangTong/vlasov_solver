{
 "cells": [
  {
   "cell_type": "code",
   "execution_count": 1,
   "metadata": {
    "collapsed": true,
    "deletable": true,
    "editable": true
   },
   "outputs": [],
   "source": [
    "import numpy as np\n",
    "import scipy.optimize\n",
    "from py_vlasov.util import zp, kzkp, list_to_complex, real_imag\n",
    "from py_vlasov.wrapper import oblique_wrapper\n",
    "from py_vlasov.transport_ratios import input_gen, transport_ratios\n",
    "from py_vlasov.follow_parameter import follow_k\n",
    "import matplotlib.pyplot as plt\n",
    "import matplotlib as mpl\n",
    "\n",
    "mpl.rcParams['axes.labelsize'] = 16\n",
    "mpl.rcParams['xtick.labelsize'] = 14\n",
    "mpl.rcParams['ytick.labelsize'] = 14\n",
    "\n",
    "\n",
    "%matplotlib inline"
   ]
  },
  {
   "cell_type": "code",
   "execution_count": 2,
   "metadata": {
    "collapsed": false,
    "deletable": true,
    "editable": true
   },
   "outputs": [],
   "source": [
    "def fast_freq(k, theta, betap):\n",
    "    kz, kp = kzkp(k, theta)\n",
    "    cos_theta = kz / k\n",
    "    kdi = k / np.sqrt(betap)\n",
    "    return kdi * np.sqrt(1 + kdi**2 * cos_theta**2)\n",
    "\n",
    "def kdi_2_krhoi(kdi, betap):\n",
    "    return kdi * np.sqrt(betap)"
   ]
  },
  {
   "cell_type": "markdown",
   "metadata": {},
   "source": [
    "# single k"
   ]
  },
  {
   "cell_type": "code",
   "execution_count": 7,
   "metadata": {
    "collapsed": false,
    "deletable": true,
    "editable": true
   },
   "outputs": [
    {
     "ename": "NameError",
     "evalue": "name 'n' is not defined",
     "output_type": "error",
     "traceback": [
      "\u001b[0;31m---------------------------------------------------------------------------\u001b[0m",
      "\u001b[0;31mNameError\u001b[0m                                 Traceback (most recent call last)",
      "\u001b[0;32m<ipython-input-7-0909cda6be56>\u001b[0m in \u001b[0;36m<module>\u001b[0;34m()\u001b[0m\n\u001b[1;32m     10\u001b[0m \u001b[0;34m\u001b[0m\u001b[0m\n\u001b[1;32m     11\u001b[0m param = [kz, kp, betap, t_list, a_list, n_list, q_list,\n\u001b[0;32m---> 12\u001b[0;31m          m_list, v_list, n, method, aol]\n\u001b[0m",
      "\u001b[0;31mNameError\u001b[0m: name 'n' is not defined"
     ]
    }
   ],
   "source": [
    "betap = .1\n",
    "t_list=[1.,1]\n",
    "a_list=[1., 1.]\n",
    "n_list=[1.,1.] \n",
    "q_list=[1.,-1.]\n",
    "m_list=[1., 1./1836.]\n",
    "v_list=[0.,0.]\n",
    "n = 5\n",
    "theta = 20.\n",
    "\n",
    "param = [kz, kp, betap, t_list, a_list, n_list, q_list,\n",
    "         m_list, v_list, n, method, aol]"
   ]
  },
  {
   "cell_type": "code",
   "execution_count": 4,
   "metadata": {
    "collapsed": false,
    "deletable": true,
    "editable": true
   },
   "outputs": [
    {
     "name": "stdout",
     "output_type": "stream",
     "text": [
      "guess fast mode freq = 846.26\n",
      "556.142177385\n",
      "-4.46095472232\n"
     ]
    }
   ],
   "source": [
    "kdi = 30\n",
    "k = kdi_2_krhoi(kdi, betap)\n",
    "kz, kp = kzkp(k, theta)\n",
    "fast = fast_freq(k, theta, betap)\n",
    "print('guess fast mode freq = {0:.2f}'.format(fast))\n",
    "\n",
    "f = lambda wrel:\\\n",
    "    real_imag(oblique_wrapper(list_to_complex(wrel), kz, kp, betap,\n",
    "                              t_list, a_list, n_list, q_list, \\\n",
    "                              m_list, v_list, method = 'numpy', n = 10, \\\n",
    "                              aol=1e-4))\n",
    "# guess = 1.55 - 0.01j\n",
    "guess = fast\n",
    "wr, wi = scipy.optimize.fsolve(f, real_imag(guess))\n",
    "\n",
    "print(wr)\n",
    "print(wi)"
   ]
  },
  {
   "cell_type": "code",
   "execution_count": null,
   "metadata": {
    "collapsed": false,
    "deletable": true,
    "editable": true
   },
   "outputs": [],
   "source": [
    "inp = input_gen(list_to_complex([wr, wi]), kp, kz, betap)\n",
    "\n",
    "tr = transport_ratios(inp, print_result = True);"
   ]
  },
  {
   "cell_type": "code",
   "execution_count": null,
   "metadata": {
    "collapsed": false,
    "deletable": true,
    "editable": true
   },
   "outputs": [],
   "source": [
    "tr['eigen_e']"
   ]
  },
  {
   "cell_type": "markdown",
   "metadata": {
    "collapsed": false,
    "deletable": true,
    "editable": true
   },
   "source": [
    "# Follow $k$"
   ]
  },
  {
   "cell_type": "code",
   "execution_count": 3,
   "metadata": {
    "collapsed": false,
    "deletable": true,
    "editable": true
   },
   "outputs": [],
   "source": [
    "betap = 1.\n",
    "t_list=[1.,1]\n",
    "a_list=[1., 1.]\n",
    "n_list=[1.,1.] \n",
    "q_list=[1.,-1.]\n",
    "m_list=[1., 1./1836.]\n",
    "v_list=[0.,0.]\n",
    "n = 6\n",
    "aol = 1e-4\n",
    "method = 'pade'\n",
    "\n",
    "theta = 30.\n",
    "\n",
    "kdi = 1\n",
    "k = kdi_2_krhoi(kdi, betap)\n",
    "kz, kp = kzkp(k, theta)\n",
    "\n",
    "param = [kz, kp, betap, t_list, a_list, n_list, q_list,\n",
    "         m_list, v_list, n, method, aol]"
   ]
  },
  {
   "cell_type": "code",
   "execution_count": null,
   "metadata": {
    "collapsed": true
   },
   "outputs": [],
   "source": []
  },
  {
   "cell_type": "code",
   "execution_count": 4,
   "metadata": {
    "collapsed": false
   },
   "outputs": [
    {
     "name": "stdout",
     "output_type": "stream",
     "text": [
      "target_k = 10.00\n",
      "target_kde = 0.233\n"
     ]
    }
   ],
   "source": [
    "target_kdi = 10\n",
    "target_k = kdi_2_krhoi(target_kdi, betap)\n",
    "print('target_k = {0:.2f}'.format(target_k))\n",
    "print('target_kde = {0:.3g}'.format(target_kdi / np.sqrt(1836.)))\n",
    "\n",
    "seed_freq = fast_freq(k, theta, betap)\n",
    "\n",
    "freq = follow_k(seed_freq, target_k, param,\n",
    "                log_incrmt = 0.1, incrmt_method = 'log')"
   ]
  },
  {
   "cell_type": "code",
   "execution_count": 5,
   "metadata": {
    "collapsed": false
   },
   "outputs": [
    {
     "data": {
      "text/plain": [
       "((82.400603190721995-3.8371037753709594j),\n",
       " (8.6602540378443873,\n",
       "  4.9999999999999991,\n",
       "  1.0,\n",
       "  [1.0, 1],\n",
       "  [1.0, 1.0],\n",
       "  [1.0, 1.0],\n",
       "  [1.0, -1.0],\n",
       "  [1.0, 0.0005446623093681918],\n",
       "  [0.0, 0.0],\n",
       "  6,\n",
       "  'pade',\n",
       "  0.0001),\n",
       " [(1.6095996855849302-0.065893751461712863j),\n",
       "  (1.8321323770554709-0.065720706443916713j),\n",
       "  (2.0913941565438856-0.064580451249690182j),\n",
       "  (2.3946694441022753-0.062519453182165258j),\n",
       "  (2.7509845224113207-0.059779641361027133j),\n",
       "  (3.1715351825760045-0.056872287173225178j),\n",
       "  (3.6702065923530989-0.054642401305192392j),\n",
       "  (4.2641996550094499-0.054291827790677073j),\n",
       "  (4.9747538477405779-0.057328249379190593j),\n",
       "  (5.8279288027121723-0.065432544248710978j),\n",
       "  (6.8553964368407234-0.080293275210069626j),\n",
       "  (8.0952381435586087-0.10352728195578768j),\n",
       "  (9.5928541303381891-0.13682383068418266j),\n",
       "  (11.402194464968183-0.18233510022079494j),\n",
       "  (13.587452028623796-0.24315837449757716j),\n",
       "  (16.225157267510795-0.32373994941002365j),\n",
       "  (19.406526250039533-0.43017868890089989j),\n",
       "  (23.239983536555801-0.5705299505166942j),\n",
       "  (27.853910679633124-0.75522841480708536j),\n",
       "  (33.399714265913865-0.99766018992763472j),\n",
       "  (40.055155219733905-1.3148416121391437j),\n",
       "  (48.027593302860758-1.7281490686756031j),\n",
       "  (57.556431610046381-2.264018778653532j),\n",
       "  (68.91362653197443-2.9544646709575977j),\n",
       "  (82.400603190721995-3.8371037753709594j)])"
      ]
     },
     "execution_count": 5,
     "metadata": {},
     "output_type": "execute_result"
    }
   ],
   "source": [
    "freq"
   ]
  },
  {
   "cell_type": "markdown",
   "metadata": {},
   "source": [
    "# Parameter conversion\n",
    "\n",
    "$$\\frac{c}{v_A} = \\sqrt{\\frac{m_p}{m_e}} \\frac{\\omega_{pe}}{\\omega_{ce}}$$\n",
    "$$\\beta_p = \\frac{v_{Tp}^2}{v_A^2} = \\frac{m_e}{m_p} \\frac{T_p}{T_e} \\frac{v_{Te, h}^2}{v_A^2}$$"
   ]
  },
  {
   "cell_type": "markdown",
   "metadata": {},
   "source": [
    "Given that $$v_{Te, h} = 0.6 c \\omega_{ce} \\cos\\theta / \\omega_{pe}$$\n",
    "\n",
    "$$\\beta_p = \\frac{T_p}{T_e} 0.36 \\cos{\\theta}^2$$"
   ]
  },
  {
   "cell_type": "code",
   "execution_count": 6,
   "metadata": {
    "collapsed": false
   },
   "outputs": [
    {
     "name": "stdout",
     "output_type": "stream",
     "text": [
      "aol = 0.005835\n",
      "beta_p = 0.27\n"
     ]
    }
   ],
   "source": [
    "theta = 30\n",
    "wpe_wce = 4\n",
    "the_tp = 1\n",
    "fac = 0.6\n",
    "# ===============\n",
    "\n",
    "aol = 1/np.sqrt(1836)/wpe_wce\n",
    "betap = 1/the_tp * np.cos(np.deg2rad(theta))**2 * fac**2\n",
    "\n",
    "print('aol = {0:.4g}'.format(aol))\n",
    "print('beta_p = {0:.4g}'.format(betap))"
   ]
  },
  {
   "cell_type": "code",
   "execution_count": 37,
   "metadata": {
    "collapsed": false
   },
   "outputs": [],
   "source": [
    "tc_th = .001\n",
    "\n",
    "t_list=[1., the_tp, the_tp * tc_th]\n",
    "a_list=[1., 1., 1.]\n",
    "n_list=[1.,.2,.8] \n",
    "q_list=[1.,-1., -1.]\n",
    "m_list=[1., 1./1836., 1./1836]\n",
    "v_list=[0.,0.,0.]\n",
    "n = 6\n",
    "method = 'pade'\n",
    "\n",
    "kdi = 1\n",
    "\n",
    "target_kde = 3\n",
    "target_kdi = target_kde * np.sqrt(1836)\n",
    "\n",
    "k = kdi_2_krhoi(kdi, betap)\n",
    "kz, kp = kzkp(k, theta)\n",
    "\n",
    "param = [kz, kp, betap, t_list, a_list, n_list, q_list,\n",
    "         m_list, v_list, n, method, aol]"
   ]
  },
  {
   "cell_type": "code",
   "execution_count": 38,
   "metadata": {
    "collapsed": false
   },
   "outputs": [
    {
     "name": "stdout",
     "output_type": "stream",
     "text": [
      "target_k = 66.79\n",
      "target_kde = 3\n",
      "seed_freq = 1.32\n"
     ]
    }
   ],
   "source": [
    "target_k = kdi_2_krhoi(target_kdi, betap)\n",
    "print('target_k = {0:.2f}'.format(target_k))\n",
    "print('target_kde = {0:.3g}'.format(target_kdi / np.sqrt(1836.)))\n",
    "\n",
    "seed_freq = fast_freq(k, theta, betap)\n",
    "print('seed_freq = {0:.3g}'.format(seed_freq))\n",
    "freq = follow_k(seed_freq, target_k, param,\n",
    "                log_incrmt = 0.02, incrmt_method = 'log')"
   ]
  },
  {
   "cell_type": "code",
   "execution_count": 39,
   "metadata": {
    "collapsed": false
   },
   "outputs": [
    {
     "name": "stdout",
     "output_type": "stream",
     "text": [
      "[    1.49122893 -3.42724273e-03j     1.71573873 -3.09710221e-03j\n",
      "     1.98075832 -2.96586516e-03j     2.29525811 -3.04718338e-03j\n",
      "     2.66986623 -3.13963375e-03j     3.11751499 -3.36435166e-03j\n",
      "     3.65436459 -3.91292768e-03j     4.30021154 -4.81873800e-03j\n",
      "     5.07913966 -6.10459709e-03j     6.02047611 -7.82881091e-03j\n",
      "     7.15988850 -1.00946261e-02j     8.54069084 -1.30543785e-02j\n",
      "    10.21538566 -1.69085383e-02j    12.24748676 -2.19085568e-02j\n",
      "    14.71366692 -2.83612518e-02j    17.70626595 -3.66300737e-02j\n",
      "    21.33618203 -4.71285040e-02j    25.73614800 -6.02996819e-02j\n",
      "    31.06435748 -7.65748586e-02j    37.50834603 -9.63031521e-02j\n",
      "    45.28894316 -1.19649363e-01j    54.66398763 -1.46470676e-01j\n",
      "    65.93134508 -1.76214949e-01j    79.43059970 -2.07941075e-01j\n",
      "    95.54263087 -2.40644166e-01j   114.68614199 -2.74144516e-01j\n",
      "   137.31006448 -3.10788458e-01j   163.88057109 -3.57992253e-01j\n",
      "   194.86112971 -4.31176678e-01j   230.68349504 -5.56033821e-01j\n",
      "   271.70649202 -7.68687409e-01j   318.15639983 -1.11302331e+00j\n",
      "   370.03343879 -1.64349333e+00j   426.96769970 -2.49009707e+00j\n",
      "   488.13380632 -4.11876007e+00j   552.60172587 -7.68006448e+00j\n",
      "   620.11391168 -1.47619514e+01j   691.38779361 -2.63826786e+01j\n",
      "   767.57915219 -4.20633938e+01j   849.33081633 -5.94174131e+01j\n",
      "   935.53236615 -7.43841541e+01j  1022.19053005 -8.28131003e+01j\n",
      "  1103.34169939 -8.32739732e+01j  1174.54462033 -7.78274852e+01j\n",
      "  1234.79525834 -6.94977657e+01j  1285.28185478 -6.02955543e+01j\n",
      "  1327.74588497 -5.11908681e+01j  1363.72236599 -4.26319396e+01j\n",
      "  1394.35730423 -3.48569347e+01j  1420.44615706 -2.79987526e+01j]\n"
     ]
    }
   ],
   "source": [
    "freq_arr = np.array(freq[-1])\n",
    "print(freq_arr[::5])"
   ]
  },
  {
   "cell_type": "code",
   "execution_count": 40,
   "metadata": {
    "collapsed": false
   },
   "outputs": [],
   "source": [
    "kde_start = kdi / np.sqrt(1836)\n",
    "kde_end = np.sqrt(freq[1][0]**2 + freq[1][1]**2) /np.sqrt(1836) / np.sqrt(betap)"
   ]
  },
  {
   "cell_type": "code",
   "execution_count": 41,
   "metadata": {
    "collapsed": false
   },
   "outputs": [],
   "source": [
    "kde_list = np.logspace(np.log10(kde_start), np.log10(kde_end), len(freq_arr))"
   ]
  },
  {
   "cell_type": "code",
   "execution_count": 42,
   "metadata": {
    "collapsed": false
   },
   "outputs": [
    {
     "data": {
      "image/png": "[encoded data removed]",
      "text/plain": [
       "<matplotlib.figure.Figure at 0x1111b6978>"
      ]
     },
     "metadata": {},
     "output_type": "display_data"
    }
   ],
   "source": [
    "plt.plot(kde_list, freq_arr.real/1836/np.cos(np.deg2rad(theta)))\n",
    "plt.xlabel('$kc/\\omega_{pe}$')\n",
    "plt.ylabel(r'$\\omega_r/\\omega_{ce} \\cos \\theta $')\n",
    "plt.ylim([0, 1])\n",
    "plt.tight_layout()\n",
    "# plt.savefig('whistler_dispersion_real_1.png')"
   ]
  },
  {
   "cell_type": "code",
   "execution_count": 43,
   "metadata": {
    "collapsed": false
   },
   "outputs": [
    {
     "data": {
      "image/png": "[encoded data removed]",
      "text/plain": [
       "<matplotlib.figure.Figure at 0x1113ca0f0>"
      ]
     },
     "metadata": {},
     "output_type": "display_data"
    }
   ],
   "source": [
    "plt.plot(kde_list, freq_arr.imag/1836/np.cos(np.deg2rad(theta)))\n",
    "plt.xlabel('$kc/\\omega_{pe}$')\n",
    "plt.ylabel(r'$\\omega_i/\\omega_{ce} \\cos \\theta $')\n",
    "plt.tight_layout()\n",
    "# plt.savefig('whistler_dispersion_imag_1.png')"
   ]
  },
  {
   "cell_type": "markdown",
   "metadata": {},
   "source": [
    "# Transport ratios"
   ]
  },
  {
   "cell_type": "code",
   "execution_count": 34,
   "metadata": {
    "collapsed": false
   },
   "outputs": [],
   "source": [
    "k_end = np.sqrt(freq[1][0]**2 + freq[1][1]**2)\n",
    "k_start = kdi_2_krhoi(kdi, betap)\n",
    "k_list = np.logspace(np.log10(k_start), np.log10(k_end), len(freq_arr))\n",
    "\n",
    "ey_ez_list = []\n",
    "\n",
    "for i in range(len(k_list)):\n",
    "    freq_i = freq_arr[i]\n",
    "    kz, kp = kzkp(k_list[i], theta)\n",
    "    inp = input_gen(freq_i, kp, kz, betap)\n",
    "    tr = transport_ratios(inp, print_result = False)\n",
    "    eigen_e = tr['eigen_e']\n",
    "    kvec = np.array([kp, 0, kz])\n",
    "    khead = kvec/np.linalg.norm(k)\n",
    "    ez_prime = np.dot(eigen_e, khead)\n",
    "    ey_prime = eigen_e - ez_prime\n",
    "    ey_ez = np.linalg.norm(ey_prime) / ez_prime.real\n",
    "    ey_ez_list.append(ey_ez)\n",
    "        "
   ]
  },
  {
   "cell_type": "code",
   "execution_count": 35,
   "metadata": {
    "collapsed": false
   },
   "outputs": [
    {
     "data": {
      "text/plain": [
       "<matplotlib.text.Text at 0x1111c95f8>"
      ]
     },
     "execution_count": 35,
     "metadata": {},
     "output_type": "execute_result"
    },
    {
     "data": {
      "image/png": "[encoded data removed]",
      "text/plain": [
       "<matplotlib.figure.Figure at 0x1115a6860>"
      ]
     },
     "metadata": {},
     "output_type": "display_data"
    }
   ],
   "source": [
    "plt.plot(kde_list, ey_ez_list, '.')\n",
    "plt.xlabel('$kc/\\omega_{pe}$')\n",
    "plt.ylabel('$E_y/E_z$')\n"
   ]
  },
  {
   "cell_type": "code",
   "execution_count": 36,
   "metadata": {
    "collapsed": false
   },
   "outputs": [
    {
     "data": {
      "text/plain": [
       "array([ 20.29923248+5.96527683j,  21.56048249+5.01407063j,\n",
       "        21.45863614+5.81071375j])"
      ]
     },
     "execution_count": 36,
     "metadata": {},
     "output_type": "execute_result"
    }
   ],
   "source": [
    "ey_prime"
   ]
  },
  {
   "cell_type": "code",
   "execution_count": null,
   "metadata": {
    "collapsed": true
   },
   "outputs": [],
   "source": []
  }
 ],
 "metadata": {
  "kernelspec": {
   "display_name": "Python 3.6 (science)",
   "language": "python",
   "name": "science"
  },
  "language_info": {
   "codemirror_mode": {
    "name": "ipython",
    "version": 3
   },
   "file_extension": ".py",
   "mimetype": "text/x-python",
   "name": "python",
   "nbconvert_exporter": "python",
   "pygments_lexer": "ipython3",
   "version": "3.6.0"
  }
 },
 "nbformat": 4,
 "nbformat_minor": 2
}
