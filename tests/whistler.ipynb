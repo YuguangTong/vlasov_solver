{
 "cells": [
  {
   "cell_type": "code",
   "execution_count": 2,
   "metadata": {
    "collapsed": false,
    "deletable": true,
    "editable": true
   },
   "outputs": [],
   "source": [
    "import numpy as np\n",
    "import scipy.optimize\n",
    "from py_vlasov.util import zp, kzkp, list_to_complex, real_imag\n",
    "from py_vlasov.wrapper import oblique_wrapper\n",
    "from py_vlasov.transport_ratios import input_gen, transport_ratios\n",
    "from py_vlasov.follow_parameter import follow_k\n",
    "import matplotlib.pyplot as plt\n",
    "import matplotlib as mpl\n",
    "\n",
    "mpl.rcParams['axes.labelsize'] = 16\n",
    "mpl.rcParams['xtick.labelsize'] = 14\n",
    "mpl.rcParams['ytick.labelsize'] = 14\n",
    "\n",
    "\n",
    "%matplotlib inline"
   ]
  },
  {
   "cell_type": "code",
   "execution_count": 3,
   "metadata": {
    "collapsed": false,
    "deletable": true,
    "editable": true
   },
   "outputs": [],
   "source": [
    "def fast_freq(k, theta, betap):\n",
    "    kz, kp = kzkp(k, theta)\n",
    "    cos_theta = kz / k\n",
    "    kdi = k / np.sqrt(betap)\n",
    "    return kdi * np.sqrt(1 + kdi**2 * cos_theta**2)\n",
    "\n",
    "def kdi_2_krhoi(kdi, betap):\n",
    "    return kdi * np.sqrt(betap)"
   ]
  },
  {
   "cell_type": "markdown",
   "metadata": {
    "deletable": true,
    "editable": true
   },
   "source": [
    "# single k"
   ]
  },
  {
   "cell_type": "code",
   "execution_count": 4,
   "metadata": {
    "collapsed": false,
    "deletable": true,
    "editable": true
   },
   "outputs": [
    {
     "ename": "NameError",
     "evalue": "name 'kz' is not defined",
     "output_type": "error",
     "traceback": [
      "\u001b[0;31m---------------------------------------------------------------------------\u001b[0m",
      "\u001b[0;31mNameError\u001b[0m                                 Traceback (most recent call last)",
      "\u001b[0;32m<ipython-input-4-1187f799c2c5>\u001b[0m in \u001b[0;36m<module>\u001b[0;34m()\u001b[0m\n\u001b[1;32m      9\u001b[0m \u001b[0mtheta\u001b[0m \u001b[0;34m=\u001b[0m \u001b[0;36m20.\u001b[0m\u001b[0;34m\u001b[0m\u001b[0m\n\u001b[1;32m     10\u001b[0m \u001b[0;34m\u001b[0m\u001b[0m\n\u001b[0;32m---> 11\u001b[0;31m param = [kz, kp, betap, t_list, a_list, n_list, q_list,\n\u001b[0m\u001b[1;32m     12\u001b[0m          m_list, v_list, n, method, aol]\n",
      "\u001b[0;31mNameError\u001b[0m: name 'kz' is not defined"
     ]
    }
   ],
   "source": [
    "betap = .1\n",
    "t_list=[1.,1]\n",
    "a_list=[1., 1.]\n",
    "n_list=[1.,1.] \n",
    "q_list=[1.,-1.]\n",
    "m_list=[1., 1./1836.]\n",
    "v_list=[0.,0.]\n",
    "n = 5\n",
    "theta = 20.\n",
    "\n",
    "param = [kz, kp, betap, t_list, a_list, n_list, q_list,\n",
    "         m_list, v_list, n, method, aol]"
   ]
  },
  {
   "cell_type": "code",
   "execution_count": 4,
   "metadata": {
    "collapsed": false,
    "deletable": true,
    "editable": true
   },
   "outputs": [
    {
     "name": "stdout",
     "output_type": "stream",
     "text": [
      "guess fast mode freq = 846.26\n",
      "556.142177385\n",
      "-4.46095472232\n"
     ]
    }
   ],
   "source": [
    "kdi = 30\n",
    "k = kdi_2_krhoi(kdi, betap)\n",
    "kz, kp = kzkp(k, theta)\n",
    "fast = fast_freq(k, theta, betap)\n",
    "print('guess fast mode freq = {0:.2f}'.format(fast))\n",
    "\n",
    "f = lambda wrel:\\\n",
    "    real_imag(oblique_wrapper(list_to_complex(wrel), kz, kp, betap,\n",
    "                              t_list, a_list, n_list, q_list, \\\n",
    "                              m_list, v_list, method = 'numpy', n = 10, \\\n",
    "                              aol=1e-4))\n",
    "# guess = 1.55 - 0.01j\n",
    "guess = fast\n",
    "wr, wi = scipy.optimize.fsolve(f, real_imag(guess))\n",
    "\n",
    "print(wr)\n",
    "print(wi)"
   ]
  },
  {
   "cell_type": "code",
   "execution_count": null,
   "metadata": {
    "collapsed": false,
    "deletable": true,
    "editable": true
   },
   "outputs": [],
   "source": [
    "inp = input_gen(list_to_complex([wr, wi]), kp, kz, betap)\n",
    "\n",
    "tr = transport_ratios(inp, print_result = True);"
   ]
  },
  {
   "cell_type": "code",
   "execution_count": null,
   "metadata": {
    "collapsed": false,
    "deletable": true,
    "editable": true
   },
   "outputs": [],
   "source": [
    "tr['eigen_e']"
   ]
  },
  {
   "cell_type": "markdown",
   "metadata": {
    "collapsed": false,
    "deletable": true,
    "editable": true
   },
   "source": [
    "# Follow $k$"
   ]
  },
  {
   "cell_type": "code",
   "execution_count": 4,
   "metadata": {
    "collapsed": false,
    "deletable": true,
    "editable": true
   },
   "outputs": [],
   "source": [
    "betap = 1.\n",
    "t_list=[1.,1]\n",
    "a_list=[1., 1.]\n",
    "n_list=[1.,1.] \n",
    "q_list=[1.,-1.]\n",
    "m_list=[1., 1./1836.]\n",
    "v_list=[0.,0.]\n",
    "n = 6\n",
    "aol = 1e-4\n",
    "method = 'pade'\n",
    "\n",
    "theta = 30.\n",
    "\n",
    "kdi = 1\n",
    "k = kdi_2_krhoi(kdi, betap)\n",
    "kz, kp = kzkp(k, theta)\n",
    "\n",
    "param = [kz, kp, betap, t_list, a_list, n_list, q_list,\n",
    "         m_list, v_list, n, method, aol]"
   ]
  },
  {
   "cell_type": "code",
   "execution_count": null,
   "metadata": {
    "collapsed": true,
    "deletable": true,
    "editable": true
   },
   "outputs": [],
   "source": []
  },
  {
   "cell_type": "code",
   "execution_count": 40,
   "metadata": {
    "collapsed": false,
    "deletable": true,
    "editable": true
   },
   "outputs": [
    {
     "name": "stdout",
     "output_type": "stream",
     "text": [
      "target_k = 6.00\n",
      "target_kde = 0.233\n"
     ]
    },
    {
     "name": "stderr",
     "output_type": "stream",
     "text": [
      "/Users/Tong/Envs/science/lib/python3.6/site-packages/scipy/optimize/minpack.py:161: RuntimeWarning: The iteration is not making good progress, as measured by the \n",
      "  improvement from the last ten iterations.\n",
      "  warnings.warn(msg, RuntimeWarning)\n"
     ]
    }
   ],
   "source": [
    "target_kdi = 10\n",
    "target_k = kdi_2_krhoi(target_kdi, betap)\n",
    "print('target_k = {0:.2f}'.format(target_k))\n",
    "print('target_kde = {0:.3g}'.format(target_kdi / np.sqrt(1836.)))\n",
    "\n",
    "seed_freq = fast_freq(k, theta, betap)\n",
    "\n",
    "freq = follow_k(seed_freq, target_k, param,\n",
    "                log_incrmt = 0.1, incrmt_method = 'log')"
   ]
  },
  {
   "cell_type": "code",
   "execution_count": 6,
   "metadata": {
    "collapsed": false,
    "deletable": true,
    "editable": true
   },
   "outputs": [
    {
     "data": {
      "text/plain": [
       "((82.400603190721995-3.8371037753709594j),\n",
       " (8.6602540378443873,\n",
       "  4.9999999999999991,\n",
       "  1.0,\n",
       "  [1.0, 1],\n",
       "  [1.0, 1.0],\n",
       "  [1.0, 1.0],\n",
       "  [1.0, -1.0],\n",
       "  [1.0, 0.0005446623093681918],\n",
       "  [0.0, 0.0],\n",
       "  6,\n",
       "  'pade',\n",
       "  0.0001),\n",
       " [(1.6095996855849302-0.065893751461712863j),\n",
       "  (1.8321323770554709-0.065720706443916713j),\n",
       "  (2.0913941565438856-0.064580451249690182j),\n",
       "  (2.3946694441022753-0.062519453182165258j),\n",
       "  (2.7509845224113207-0.059779641361027133j),\n",
       "  (3.1715351825760045-0.056872287173225178j),\n",
       "  (3.6702065923530989-0.054642401305192392j),\n",
       "  (4.2641996550094499-0.054291827790677073j),\n",
       "  (4.9747538477405779-0.057328249379190593j),\n",
       "  (5.8279288027121723-0.065432544248710978j),\n",
       "  (6.8553964368407234-0.080293275210069626j),\n",
       "  (8.0952381435586087-0.10352728195578768j),\n",
       "  (9.5928541303381891-0.13682383068418266j),\n",
       "  (11.402194464968183-0.18233510022079494j),\n",
       "  (13.587452028623796-0.24315837449757716j),\n",
       "  (16.225157267510795-0.32373994941002365j),\n",
       "  (19.406526250039533-0.43017868890089989j),\n",
       "  (23.239983536555801-0.5705299505166942j),\n",
       "  (27.853910679633124-0.75522841480708536j),\n",
       "  (33.399714265913865-0.99766018992763472j),\n",
       "  (40.055155219733905-1.3148416121391437j),\n",
       "  (48.027593302860758-1.7281490686756031j),\n",
       "  (57.556431610046381-2.264018778653532j),\n",
       "  (68.91362653197443-2.9544646709575977j),\n",
       "  (82.400603190721995-3.8371037753709594j)])"
      ]
     },
     "execution_count": 6,
     "metadata": {},
     "output_type": "execute_result"
    }
   ],
   "source": [
    "freq"
   ]
  },
  {
   "cell_type": "markdown",
   "metadata": {
    "deletable": true,
    "editable": true
   },
   "source": [
    "# Parameter conversion\n",
    "\n",
    "$$\\frac{c}{v_A} = \\sqrt{\\frac{m_p}{m_e}} \\frac{\\omega_{pe}}{\\omega_{ce}}$$\n",
    "$$\\beta_p = \\frac{v_{Tp}^2}{v_A^2} = \\frac{m_e}{m_p} \\frac{T_p}{T_e} \\frac{v_{Te, h}^2}{v_A^2}$$"
   ]
  },
  {
   "cell_type": "markdown",
   "metadata": {
    "deletable": true,
    "editable": true
   },
   "source": [
    "Given that $$v_{Te, h} = 0.6 c \\omega_{ce} \\cos\\theta / \\omega_{pe}$$\n",
    "\n",
    "$$\\beta_p = \\frac{T_p}{T_e} 0.36 \\cos{\\theta}^2$$"
   ]
  },
  {
   "cell_type": "code",
   "execution_count": 20,
   "metadata": {
    "collapsed": false,
    "deletable": true,
    "editable": true
   },
   "outputs": [
    {
     "name": "stdout",
     "output_type": "stream",
     "text": [
      "aol = 0.005835\n",
      "beta_p = 0.0045\n"
     ]
    }
   ],
   "source": [
    "theta = 30\n",
    "wpe_wce = 4\n",
    "the_tp = 60\n",
    "fac = 0.6\n",
    "# ===============\n",
    "\n",
    "aol = 1/np.sqrt(1836)/wpe_wce\n",
    "betap = 1/the_tp * np.cos(np.deg2rad(theta))**2 * fac**2\n",
    "\n",
    "print('aol = {0:.4g}'.format(aol))\n",
    "print('beta_p = {0:.4g}'.format(betap))"
   ]
  },
  {
   "cell_type": "code",
   "execution_count": 73,
   "metadata": {
    "collapsed": false,
    "deletable": true,
    "editable": true
   },
   "outputs": [],
   "source": [
    "tc_th = 1e-5\n",
    "\n",
    "t_list=[1., the_tp, the_tp * tc_th]\n",
    "a_list=[1., 1., 1.]\n",
    "n_list=[1.,.2,.8] \n",
    "q_list=[1.,-1., -1.]\n",
    "m_list=[1., 1./1836., 1./1836]\n",
    "v_list=[0.,0.,0.]\n",
    "n = 6\n",
    "method = 'pade'\n",
    "\n",
    "kdi = 1\n",
    "\n",
    "target_kde = 5\n",
    "target_kdi = target_kde * np.sqrt(1836)\n",
    "\n",
    "k = kdi_2_krhoi(kdi, betap)\n",
    "kz, kp = kzkp(k, theta)\n",
    "\n",
    "param = [kz, kp, betap, t_list, a_list, n_list, q_list,\n",
    "         m_list, v_list, n, method, aol]"
   ]
  },
  {
   "cell_type": "code",
   "execution_count": 74,
   "metadata": {
    "collapsed": false,
    "deletable": true,
    "editable": true
   },
   "outputs": [
    {
     "name": "stdout",
     "output_type": "stream",
     "text": [
      "target_k = 14.37\n",
      "target_kde = 5\n",
      "seed_freq = 1.32\n"
     ]
    }
   ],
   "source": [
    "target_k = kdi_2_krhoi(target_kdi, betap)\n",
    "print('target_k = {0:.2f}'.format(target_k))\n",
    "print('target_kde = {0:.3g}'.format(target_kdi / np.sqrt(1836.)))\n",
    "\n",
    "seed_freq = fast_freq(k, theta, betap)\n",
    "print('seed_freq = {0:.3g}'.format(seed_freq))\n",
    "freq = follow_k(seed_freq, target_k, param,\n",
    "                log_incrmt = 0.01, incrmt_method = 'log')"
   ]
  },
  {
   "cell_type": "code",
   "execution_count": 75,
   "metadata": {
    "collapsed": false,
    "deletable": true,
    "editable": true
   },
   "outputs": [
    {
     "name": "stdout",
     "output_type": "stream",
     "text": [
      "[  1.46571632e+00 -1.02413698e-03j   1.57335101e+00 -1.12894881e-03j\n",
      "   1.69038614e+00 -1.24708854e-03j   1.81776281e+00 -1.38037953e-03j\n",
      "   1.95651489e+00 -1.57128618e-03j   2.10791236e+00 -1.71148588e-03j\n",
      "   2.27305597e+00 -1.89622641e-03j   2.45347995e+00 -2.11616434e-03j\n",
      "   2.65074745e+00 -2.36614994e-03j   2.86660533e+00 -2.65061782e-03j\n",
      "   3.10298961e+00 -2.97465740e-03j   3.36204321e+00 -3.34400566e-03j\n",
      "   3.64613815e+00 -3.76546745e-03j   3.95789809e+00 -4.24667532e-03j\n",
      "   4.30022402e+00 -4.79641602e-03j   4.67632217e+00 -5.42473998e-03j\n",
      "   5.08973454e+00 -6.14312360e-03j   5.54437227e+00 -6.96465078e-03j\n",
      "   6.04455207e+00 -7.90420812e-03j   6.59503610e+00 -8.97869576e-03j\n",
      "   7.20107548e+00 -1.02072519e-02j   7.86845772e+00 -1.16114876e-02j\n",
      "   8.60355852e+00 -1.32157264e-02j   9.41339807e+00 -1.50472416e-02j\n",
      "   1.03057023e+01 -1.71364886e-02j   1.12889696e+01 -1.95173023e-02j\n",
      "   1.23725423e+01 -2.22270653e-02j   1.35666853e+01 -2.53068016e-02j\n",
      "   1.48826693e+01 -2.88011851e-02j   1.63328613e+01 -3.27584185e-02j\n",
      "   1.79308211e+01 -3.72299313e-02j   1.96914036e+01 -4.22698722e-02j\n",
      "   2.16308683e+01 -4.79343038e-02j   2.37669936e+01 -5.42800596e-02j\n",
      "   2.61191969e+01 -6.13631826e-02j   2.87086591e+01 -6.92368897e-02j\n",
      "   3.15584520e+01 -7.79490074e-02j   3.46936675e+01 -8.75388593e-02j\n",
      "   3.81415461e+01 -9.80336578e-02j   4.19316023e+01 -1.09444464e-01j\n",
      "   4.60957427e+01 -1.21762049e-01j   5.06683742e+01 -1.34952995e-01j\n",
      "   5.56864952e+01 -1.48956759e-01j   6.11897655e+01 -1.63684657e-01j\n",
      "   6.72205472e+01 -1.79022109e-01j   7.38239101e+01 -1.94835909e-01j\n",
      "   8.10475913e+01 -2.10988609e-01j   8.89419023e+01 -2.27362446e-01j\n",
      "   9.75595729e+01 -2.43895221e-01j   1.06955523e+02 -2.60630210e-01j\n",
      "   1.17186553e+02 -2.77781247e-01j   1.28310944e+02 -2.95812593e-01j\n",
      "   1.40387955e+02 -3.15530870e-01j   1.53477212e+02 -3.38183680e-01j\n",
      "   1.67637966e+02 -3.65556572e-01j   1.82928217e+02 -4.00057590e-01j\n",
      "   1.99403667e+02 -4.44776975e-01j   2.17116493e+02 -5.03509119e-01j\n",
      "   2.36113885e+02 -5.80724615e-01j   2.56436304e+02 -6.81483914e-01j\n",
      "   2.78115369e+02 -8.11298747e-01j   3.01171197e+02 -9.76000800e-01j\n",
      "   3.25608944e+02 -1.18183623e+00j   3.51414244e+02 -1.43638428e+00j\n",
      "   3.78547564e+02 -1.75156206e+00j   4.06938700e+02 -2.15062645e+00j\n",
      "   4.36484949e+02 -2.68058049e+00j   4.67058612e+02 -3.42814394e+00j\n",
      "   4.98527910e+02 -4.53182204e+00j   5.30788054e+02 -6.17945236e+00j\n",
      "   5.63790627e+02 -8.58558994e+00j   5.97558416e+02 -1.19539672e+01j\n",
      "   6.32180993e+02 -1.64372509e+01j   6.67795417e+02 -2.21041278e+01j\n",
      "   7.04559412e+02 -2.89168635e+01j   7.42621432e+02 -3.67176632e+01j\n",
      "   7.82087676e+02 -4.52218979e+01j   8.22983507e+02 -5.40195587e+01j\n",
      "   8.65207723e+02 -6.25914581e+01j   9.08484328e+02 -7.03513057e+01j\n",
      "   9.52328657e+02 -7.67237623e+01j   9.96057491e+02 -8.12539410e+01j\n",
      "   1.03886931e+03 -8.37144561e+01j   1.07998523e+03 -8.41543676e+01j\n",
      "   1.11879270e+03 -8.28557639e+01j   1.15492508e+03 -8.02230059e+01j\n",
      "   1.18825667e+03 -7.66679674e+01j   1.21884346e+03 -7.25378581e+01j\n",
      "   1.24685177e+03 -6.80919448e+01j   1.27250006e+03 -6.35095684e+01j\n",
      "   1.29602011e+03 -5.89100496e+01j   1.31763452e+03 -5.43725797e+01j\n",
      "   1.33754531e+03 -4.99513528e+01j   1.35592950e+03 -4.56853478e+01j\n",
      "   1.37293874e+03 -4.16038735e+01j   1.38870129e+03 -3.77293308e+01j\n",
      "   1.40332504e+03 -3.40784194e+01j   1.41690094e+03 -3.06626381e+01j\n",
      "   1.42950640e+03 -2.74885720e+01j   1.44120820e+03 -2.45582133e+01j\n",
      "   1.45206510e+03 -2.18693995e+01j   1.46212980e+03 -1.94163677e+01j\n",
      "   1.47145051e+03 -1.71903844e+01j   1.48007211e+03 -1.51804021e+01j\n",
      "   1.48803690e+03 -1.33736980e+01j   1.49538517e+03 -1.17564614e+01j\n",
      "   1.50215547e+03 -1.03143083e+01j   1.50838485e+03 -9.03271386e+00j]\n"
     ]
    }
   ],
   "source": [
    "freq_arr = np.array(freq[-1])\n",
    "print(freq_arr[::5])"
   ]
  },
  {
   "cell_type": "code",
   "execution_count": 76,
   "metadata": {
    "collapsed": false,
    "deletable": true,
    "editable": true
   },
   "outputs": [],
   "source": [
    "kde_start = kdi / np.sqrt(1836)\n",
    "kde_end = np.sqrt(freq[1][0]**2 + freq[1][1]**2) /np.sqrt(1836) / np.sqrt(betap)"
   ]
  },
  {
   "cell_type": "code",
   "execution_count": 77,
   "metadata": {
    "collapsed": false,
    "deletable": true,
    "editable": true
   },
   "outputs": [],
   "source": [
    "kde_list = np.logspace(np.log10(kde_start), np.log10(kde_end), len(freq_arr))"
   ]
  },
  {
   "cell_type": "code",
   "execution_count": 78,
   "metadata": {
    "collapsed": false,
    "deletable": true,
    "editable": true
   },
   "outputs": [
    {
     "data": {
      "image/png": "[encoded data removed]",
      "text/plain": [
       "<matplotlib.figure.Figure at 0x106a74390>"
      ]
     },
     "metadata": {},
     "output_type": "display_data"
    }
   ],
   "source": [
    "plt.plot(kde_list, freq_arr.real/1836/np.cos(np.deg2rad(theta)))\n",
    "plt.xlabel('$kc/\\omega_{pe}$')\n",
    "plt.ylabel(r'$\\omega_r/\\omega_{ce} \\cos \\theta $')\n",
    "plt.ylim([0, 1])\n",
    "plt.tight_layout()\n",
    "# plt.savefig('whistler_dispersion_real_1.png')"
   ]
  },
  {
   "cell_type": "code",
   "execution_count": 79,
   "metadata": {
    "collapsed": false,
    "deletable": true,
    "editable": true
   },
   "outputs": [
    {
     "data": {
      "image/png": "[encoded data removed]",
      "text/plain": [
       "<matplotlib.figure.Figure at 0x10697d080>"
      ]
     },
     "metadata": {},
     "output_type": "display_data"
    }
   ],
   "source": [
    "plt.plot(kde_list, freq_arr.imag/1836/np.cos(np.deg2rad(theta)))\n",
    "plt.xlabel('$kc/\\omega_{pe}$')\n",
    "plt.ylabel(r'$\\omega_i/\\omega_{ce} \\cos \\theta $')\n",
    "plt.tight_layout()\n",
    "# plt.savefig('whistler_dispersion_imag_1.png')"
   ]
  },
  {
   "cell_type": "markdown",
   "metadata": {
    "deletable": true,
    "editable": true
   },
   "source": [
    "# Transport ratios"
   ]
  },
  {
   "cell_type": "code",
   "execution_count": 80,
   "metadata": {
    "collapsed": false,
    "deletable": true,
    "editable": true
   },
   "outputs": [],
   "source": [
    "k_end = np.sqrt(freq[1][0]**2 + freq[1][1]**2)\n",
    "k_start = kdi_2_krhoi(kdi, betap)\n",
    "k_list = np.logspace(np.log10(k_start), np.log10(k_end), len(freq_arr))\n",
    "\n",
    "ex_ez_list = []\n",
    "ey_ez_list = []\n",
    "by_bx_list = []\n",
    "\n",
    "for i in range(len(k_list)):\n",
    "    freq_i = freq_arr[i]\n",
    "    kz, kp = kzkp(k_list[i], theta)\n",
    "    inp = input_gen(freq_i, kp, kz, betap)\n",
    "    tr = transport_ratios(inp, print_result = False)\n",
    "    eigen_e = tr['eigen_e']\n",
    "    kvec = np.array([kp, 0, kz])\n",
    "    khat = kvec/np.linalg.norm(kvec)\n",
    "    ez_prime = np.dot(eigen_e, khat) * khat\n",
    "    ey_prime = np.array([0, eigen_e[1], 0])\n",
    "    ex_prime = eigen_e - ez_prime - ey_prime\n",
    "    ex_ez = np.linalg.norm(ex_prime) / np.linalg.norm(ez_prime)\n",
    "    ey_ez = np.linalg.norm(ey_prime) / np.linalg.norm(ez_prime)\n",
    "    ex_ez_list.append(ex_ez)\n",
    "    ey_ez_list.append(ey_ez)\n",
    "    \n",
    "    eigen_b = np.cross(kvec, eigen_e)\n",
    "    bz_prime = np.dot(eigen_b, khat) * khat\n",
    "    by_prime = np.array([0, eigen_b[1], 0])\n",
    "    bx_prime = eigen_b - bz_prime - by_prime\n",
    "    by_bx = np.linalg.norm(bx_prime) / np.linalg.norm(by_prime)\n",
    "    by_bx_list.append(by_bx)\n",
    "        "
   ]
  },
  {
   "cell_type": "code",
   "execution_count": 81,
   "metadata": {
    "collapsed": false,
    "deletable": true,
    "editable": true
   },
   "outputs": [
    {
     "name": "stdout",
     "output_type": "stream",
     "text": [
      "[ -8.09451875 +7.05419887j   0.00000000 -1.j         -11.89702373+11.91151195j]\n",
      "[-0.91932667+0.13281318j  0.00000000+0.j          0.53077350-0.07667972j]\n",
      "[ -7.17519208 +6.92138569j  -0.00000000 +0.j         -12.42779724+11.98819167j]\n",
      "[ 0.+0.j  0.-1.j  0.+0.j]\n"
     ]
    }
   ],
   "source": [
    "print(eigen_e)\n",
    "print(ex_prime)\n",
    "print(ez_prime)\n",
    "print(ey_prime)"
   ]
  },
  {
   "cell_type": "code",
   "execution_count": 82,
   "metadata": {
    "collapsed": false,
    "deletable": true,
    "editable": true
   },
   "outputs": [
    {
     "data": {
      "image/png": "[encoded data removed]",
      "text/plain": [
       "<matplotlib.figure.Figure at 0x10697ec50>"
      ]
     },
     "metadata": {},
     "output_type": "display_data"
    }
   ],
   "source": [
    "plt.plot(freq_arr.real/1836/np.cos(np.deg2rad(theta)), ex_ez_list, '-')\n",
    "plt.xlabel(r'$\\omega_i/\\omega_{ce} \\cos \\theta $')\n",
    "plt.ylabel('$E_y/E_z$')\n",
    "plt.axhline(1, linestyle='dashed', color='k')\n",
    "plt.axhline(0, linestyle='dashed', color='k')\n",
    "plt.ylim([-4, 4])\n",
    "plt.xlim([0, 0.7])\n",
    "plt.tight_layout()\n",
    "# plt.savefig('whistler_eyez_1.png')"
   ]
  },
  {
   "cell_type": "code",
   "execution_count": 83,
   "metadata": {
    "collapsed": false,
    "deletable": true,
    "editable": true
   },
   "outputs": [
    {
     "data": {
      "image/png": "[encoded data removed]",
      "text/plain": [
       "<matplotlib.figure.Figure at 0x106cf2dd8>"
      ]
     },
     "metadata": {},
     "output_type": "display_data"
    }
   ],
   "source": [
    "plt.plot(freq_arr.real/1836/np.cos(np.deg2rad(theta)), by_bx_list, '-o', markersize=1)\n",
    "plt.xlabel(r'$\\omega_i/\\omega_{ce} \\cos \\theta $')\n",
    "plt.ylabel('$B_y/B_x$')\n",
    "# plt.axhline(1, linestyle='dashed', color='k')\n",
    "plt.ylim([0.8, 2.6])\n",
    "plt.xlim([0, 1.])\n",
    "plt.tight_layout()\n",
    "# plt.savefig('whistler_byex_1.png')"
   ]
  },
  {
   "cell_type": "code",
   "execution_count": 84,
   "metadata": {
    "collapsed": false
   },
   "outputs": [],
   "source": [
    "np.save('data/whistler_freq_nh_02', freq_arr/1836/np.cos(np.deg2rad(theta)))\n",
    "np.save('data/whistler_eyez_nh_02', ey_ez_list)\n",
    "np.save('data/whistler_bybx_nh_02', by_bx_list)"
   ]
  },
  {
   "cell_type": "code",
   "execution_count": 86,
   "metadata": {
    "collapsed": true
   },
   "outputs": [],
   "source": [
    "np.save('data/whistler_kde', kde_list)"
   ]
  },
  {
   "cell_type": "markdown",
   "metadata": {},
   "source": [
    "# Dependence on fraction of hot components"
   ]
  },
  {
   "cell_type": "code",
   "execution_count": 87,
   "metadata": {
    "collapsed": true
   },
   "outputs": [],
   "source": [
    "kde = np.load('data/whistler_kde.npy')\n",
    "\n",
    "freq_01 = np.load('data/whistler_freq_nh_01.npy')\n",
    "freq_02 = np.load('data/whistler_freq_nh_02.npy')\n",
    "freq_04 = np.load('data/whistler_freq_nh_04.npy')\n",
    "\n",
    "eyez_01 = np.load('data/whistler_eyez_nh_01.npy')\n",
    "eyez_02 = np.load('data/whistler_eyez_nh_02.npy')\n",
    "eyez_04 = np.load('data/whistler_eyez_nh_04.npy')\n",
    "\n",
    "bybx_01 = np.load('data/whistler_bybx_nh_01.npy')\n",
    "bybx_02 = np.load('data/whistler_bybx_nh_02.npy')\n",
    "bybx_04 = np.load('data/whistler_bybx_nh_04.npy')"
   ]
  },
  {
   "cell_type": "code",
   "execution_count": 109,
   "metadata": {
    "collapsed": false
   },
   "outputs": [
    {
     "data": {
      "image/png": "[encoded data removed]",
      "text/plain": [
       "<matplotlib.figure.Figure at 0x1043719b0>"
      ]
     },
     "metadata": {},
     "output_type": "display_data"
    }
   ],
   "source": [
    "plt.plot(kde, freq_01.real, 'r', label=r'$n_{e,h}/n_0 = 0.1$')\n",
    "plt.plot(kde, freq_02.real, 'b', label=r'$n_{e,h}/n_0 = 0.2$')\n",
    "plt.plot(kde, freq_04.real, 'g', label=r'$n_{e,h}/n_0 = 0.4$')\n",
    "plt.xlabel('$kc/\\omega_{pe}$')\n",
    "plt.ylabel(r'$\\omega_r/\\omega_{ce} \\cos \\theta $')\n",
    "plt.ylim([0, 1])\n",
    "plt.legend(loc='best')\n",
    "plt.tight_layout()\n",
    "# plt.savefig('whistler_dispersion_real_comparison.png')"
   ]
  },
  {
   "cell_type": "code",
   "execution_count": 110,
   "metadata": {
    "collapsed": false
   },
   "outputs": [
    {
     "data": {
      "image/png": "[encoded data removed]",
      "text/plain": [
       "<matplotlib.figure.Figure at 0x106cd2b70>"
      ]
     },
     "metadata": {},
     "output_type": "display_data"
    }
   ],
   "source": [
    "plt.plot(kde, freq_01.imag, 'r', label=r'$n_{e,h}/n_0 = 0.1$')\n",
    "plt.plot(kde, freq_02.imag, 'b', label=r'$n_{e,h}/n_0 = 0.2$')\n",
    "plt.plot(kde, freq_04.imag, 'g', label=r'$n_{e,h}/n_0 = 0.4$')\n",
    "plt.xlabel('$kc/\\omega_{pe}$')\n",
    "plt.ylabel(r'$\\omega_i/\\omega_{ce} \\cos \\theta $')\n",
    "plt.ylim([-.3, 0.1])\n",
    "plt.axhline(0, linestyle='dashed', color = 'k')\n",
    "plt.legend(loc='best')\n",
    "plt.tight_layout()\n",
    "# plt.savefig('whistler_dispersion_imag_comparison.png')"
   ]
  },
  {
   "cell_type": "code",
   "execution_count": 117,
   "metadata": {
    "collapsed": false
   },
   "outputs": [
    {
     "data": {
      "image/png": "[encoded data removed]",
      "text/plain": [
       "<matplotlib.figure.Figure at 0x106f5f0b8>"
      ]
     },
     "metadata": {},
     "output_type": "display_data"
    }
   ],
   "source": [
    "plt.plot(freq_01.real, eyez_01, 'r', label=r'$n_{e,h}/n_0 = 0.1$')\n",
    "plt.plot(freq_02.real, eyez_02, 'b', label=r'$n_{e,h}/n_0 = 0.2$')\n",
    "plt.plot(freq_04.real, eyez_04, 'g', label=r'$n_{e,h}/n_0 = 0.4$')\n",
    "plt.xlabel(r'$\\omega_i/\\omega_{ce} \\cos \\theta $')\n",
    "plt.ylabel('$E_y/E_z$')\n",
    "plt.axhline(1, linestyle='dashed', color='k')\n",
    "plt.axhline(0, linestyle='dashed', color='k')\n",
    "plt.ylim([0, 2])\n",
    "# plt.xlim([0, 0.7])\n",
    "plt.legend(loc='best')\n",
    "plt.tight_layout()\n",
    "# plt.savefig('whistler_eyez_comparision.png')"
   ]
  },
  {
   "cell_type": "code",
   "execution_count": 118,
   "metadata": {
    "collapsed": false
   },
   "outputs": [
    {
     "data": {
      "image/png": "[encoded data removed]",
      "text/plain": [
       "<matplotlib.figure.Figure at 0x106cb14a8>"
      ]
     },
     "metadata": {},
     "output_type": "display_data"
    }
   ],
   "source": [
    "plt.plot(freq_01.real, bybx_01, 'r', label=r'$n_{e,h}/n_0 = 0.1$')\n",
    "plt.plot(freq_02.real, bybx_02, 'b', label=r'$n_{e,h}/n_0 = 0.2$')\n",
    "plt.plot(freq_04.real, bybx_04, 'g', label=r'$n_{e,h}/n_0 = 0.4$')\n",
    "plt.xlabel(r'$\\omega_i/\\omega_{ce} \\cos \\theta $')\n",
    "plt.ylabel('$B_y/B_x$')\n",
    "plt.axhline(1, linestyle='dashed', color='k')\n",
    "plt.axhline(0, linestyle='dashed', color='k')\n",
    "plt.ylim([0.5, 1.5])\n",
    "# plt.xlim([0, 0.7])\n",
    "plt.legend(loc='best')\n",
    "plt.tight_layout()\n",
    "# plt.savefig('whistler_bybx_comparision.png')"
   ]
  },
  {
   "cell_type": "code",
   "execution_count": 121,
   "metadata": {
    "collapsed": false
   },
   "outputs": [
    {
     "name": "stdout",
     "output_type": "stream",
     "text": [
      "whistler_bybx_comparision.png           whistler_dispersion_real_1.png\r\n",
      "whistler_byex_1.png                     whistler_dispersion_real_comparison.png\r\n",
      "whistler_dispersion_imag_1.png          whistler_eyez_1.png\r\n",
      "whistler_dispersion_imag_comparison.png whistler_eyez_comparision.png\r\n"
     ]
    }
   ],
   "source": [
    "!ls figure/"
   ]
  },
  {
   "cell_type": "code",
   "execution_count": null,
   "metadata": {
    "collapsed": true
   },
   "outputs": [],
   "source": []
  }
 ],
 "metadata": {
  "kernelspec": {
   "display_name": "Python 3",
   "language": "python",
   "name": "python3"
  },
  "language_info": {
   "codemirror_mode": {
    "name": "ipython",
    "version": 3
   },
   "file_extension": ".py",
   "mimetype": "text/x-python",
   "name": "python",
   "nbconvert_exporter": "python",
   "pygments_lexer": "ipython3",
   "version": "3.5.1"
  }
 },
 "nbformat": 4,
 "nbformat_minor": 2
}
