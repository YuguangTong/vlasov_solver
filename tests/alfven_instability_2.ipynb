{
 "cells": [
  {
   "cell_type": "markdown",
   "metadata": {},
   "source": [
    "# Calculate & plot Alfven wave instability threshold"
   ]
  },
  {
   "cell_type": "code",
   "execution_count": 9,
   "metadata": {},
   "outputs": [],
   "source": [
    "import numpy as np\n",
    "import scipy.optimize\n",
    "import scipy.interpolate\n",
    "from py_vlasov.util import kzkp\n",
    "# from py_vlasov.util import zp, kzkp, list_to_complex, real_imag\n",
    "# from py_vlasov.wrapper import oblique_wrapper, disp_det, input_gen\n",
    "# from py_vlasov.transport_ratios import transport_ratios\n",
    "# from py_vlasov.follow_parameter import generate_steps, solve_disp\n",
    "from KSpaceSearch import KThetaScan\n",
    "import matplotlib.pyplot as plt\n",
    "import matplotlib as mpl\n",
    "from math import ceil\n",
    "import os\n",
    "import pandas as pd\n",
    "\n",
    "mpl.rcParams['axes.labelsize'] = 20\n",
    "mpl.rcParams['xtick.labelsize'] = 16\n",
    "mpl.rcParams['ytick.labelsize'] = 16\n",
    "mpl.rcParams['axes.titlesize'] = 20\n",
    "mpl.rcParams['xtick.top'] = True\n",
    "mpl.rcParams['ytick.right'] = True\n",
    "mpl.rcParams['xtick.major.size'] = 6\n",
    "mpl.rcParams['ytick.major.size'] = 6\n",
    "mpl.rcParams['xtick.minor.size'] = 3.5\n",
    "mpl.rcParams['ytick.minor.size'] = 3.5\n",
    "mpl.rcParams['xtick.major.width'] = 1.1\n",
    "mpl.rcParams['ytick.major.width'] = 1.1\n",
    "mpl.rcParams['xtick.minor.width'] = .8\n",
    "mpl.rcParams['ytick.minor.width'] = .8\n",
    "mpl.rcParams['legend.fontsize'] = 14\n",
    "#xtick.major.size     : 3.5      # major tick size in points\n",
    "#xtick.minor.size     : 2      # minor tick size in points\n",
    "#xtick.major.width    : 0.8    # major tick width in points\n",
    "#xtick.minor.width    : 0.6    # minor tick width in points\n",
    "%matplotlib inline"
   ]
  },
  {
   "cell_type": "markdown",
   "metadata": {},
   "source": [
    "## Base parameters"
   ]
  },
  {
   "cell_type": "code",
   "execution_count": 4,
   "metadata": {},
   "outputs": [
    {
     "name": "stdout",
     "output_type": "stream",
     "text": [
      "aol =  0.0001\n",
      "vh_va = -95\n"
     ]
    }
   ],
   "source": [
    "# aol = np.sqrt(2.65e-8)\n",
    "aol = np.sqrt(1e-8)\n",
    "print('aol = ', aol)\n",
    "tc_tp = 2\n",
    "th_tc = 6\n",
    "nc_np = 0.95\n",
    "nh_np = 1 - nc_np\n",
    "# vc_va = 2.42\n",
    "vc_va = 5\n",
    "vh_va = -vc_va * nc_np / nh_np\n",
    "print('vh_va = {0:.3g}'.format(vh_va))\n",
    "\n",
    "# betap = 0.25\n",
    "betap = .5\n",
    "theta = 80\n",
    "\n",
    "\n",
    "t_list=[1., tc_tp, th_tc * tc_tp]\n",
    "a_list=[1., 1., 1.]\n",
    "n_list=[1., nc_np, nh_np] \n",
    "q_list=[1.,-1., -1.]\n",
    "m_list=[1., 1./1836., 1./1836]\n",
    "v_list=[0., vc_va, vh_va]\n",
    "n = 6\n",
    "method = 'pade'\n",
    "\n",
    "k = 0.2\n",
    "\n",
    "target_k = 2\n",
    "\n",
    "kz, kp = kzkp(k, theta)\n",
    "\n",
    "param = [kz, kp, betap, t_list, a_list, n_list, q_list,\n",
    "         m_list, v_list, n, method, aol]"
   ]
  },
  {
   "cell_type": "code",
   "execution_count": 5,
   "metadata": {},
   "outputs": [],
   "source": [
    "def genParam(betap, vcva, param):\n",
    "    newParam = param.copy()\n",
    "    newParam[2] = betap\n",
    "    n_list = param[5]\n",
    "    vhva = - vcva * n_list[1] / n_list[2]\n",
    "    newParam[8] = [0, vcva, vhva]\n",
    "    return newParam"
   ]
  },
  {
   "cell_type": "markdown",
   "metadata": {},
   "source": [
    "# data storage"
   ]
  },
  {
   "cell_type": "code",
   "execution_count": 77,
   "metadata": {},
   "outputs": [],
   "source": [
    "result_db_file = 'data/alfven_instability.csv'\n",
    "if os.path.exists(result_db_file):\n",
    "    df = pd.read_csv(result_db_file)\n",
    "else:\n",
    "    column_list = ['betap', 'vcva', 'tctp', 'thtc', 'vac', \n",
    "               'max_growth_rate', 'k_peak', 'theta_peak', \n",
    "               'theta_min', 'theta_max', 'k_max']\n",
    "    df = pd.DataFrame(columns= column_list)"
   ]
  },
  {
   "cell_type": "code",
   "execution_count": 78,
   "metadata": {},
   "outputs": [
    {
     "data": {
      "text/html": [
       "<div>\n",
       "<table border=\"1\" class=\"dataframe\">\n",
       "  <thead>\n",
       "    <tr style=\"text-align: right;\">\n",
       "      <th></th>\n",
       "      <th>betap</th>\n",
       "      <th>vcva</th>\n",
       "      <th>tctp</th>\n",
       "      <th>thtc</th>\n",
       "      <th>vac</th>\n",
       "      <th>max_growth_rate</th>\n",
       "      <th>k_peak</th>\n",
       "      <th>theta_peak</th>\n",
       "      <th>theta_min</th>\n",
       "      <th>theta_max</th>\n",
       "      <th>k_max</th>\n",
       "    </tr>\n",
       "  </thead>\n",
       "  <tbody>\n",
       "  </tbody>\n",
       "</table>\n",
       "</div>"
      ],
      "text/plain": [
       "Empty DataFrame\n",
       "Columns: [betap, vcva, tctp, thtc, vac, max_growth_rate, k_peak, theta_peak, theta_min, theta_max, k_max]\n",
       "Index: []"
      ]
     },
     "execution_count": 78,
     "metadata": {},
     "output_type": "execute_result"
    }
   ],
   "source": [
    "df"
   ]
  },
  {
   "cell_type": "code",
   "execution_count": 71,
   "metadata": {},
   "outputs": [],
   "source": [
    "# df.to_csv(result_db_file, float_format='%.3g', index=False)"
   ]
  },
  {
   "cell_type": "code",
   "execution_count": null,
   "metadata": {},
   "outputs": [],
   "source": [
    "alfven_stop_condition = lambda wrel: (wrel.real > 1) or (wrel.imag < -1.)\n",
    "ktscan = KThetaScan(param, \n",
    "                    lin_incrmt=.05, \n",
    "                    incrmt_method='linear', \n",
    "                    stop_condition=alfven_stop_condition)\n",
    "theta_arr = np.linspace(80, 89.5, 19)\n",
    "\n",
    "kz_2d, kp_2d, k_2d, wrel_2d = ktscan.fullScan(theta_arr, 0.2, 5)\n",
    "ktscan.makeDiagnostics1D(theta_arr, k_2d, wrel_2d)\n",
    "ktscan.makeDiagnostics2D(theta_arr, kz_2d, kp_2d, wrel_2d)"
   ]
  }
 ],
 "metadata": {
  "kernelspec": {
   "display_name": "Python 3.6 (science)",
   "language": "python",
   "name": "science"
  },
  "language_info": {
   "codemirror_mode": {
    "name": "ipython",
    "version": 3
   },
   "file_extension": ".py",
   "mimetype": "text/x-python",
   "name": "python",
   "nbconvert_exporter": "python",
   "pygments_lexer": "ipython3",
   "version": "3.6.0"
  }
 },
 "nbformat": 4,
 "nbformat_minor": 2
}
