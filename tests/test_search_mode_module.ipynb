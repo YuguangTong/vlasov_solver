{
 "cells": [
  {
   "cell_type": "code",
   "execution_count": null,
   "metadata": {
    "collapsed": false
   },
   "outputs": [],
   "source": [
    "import numpy as np\n",
    "from py_vlasov.dispersion_tensor import dt_wrapper, f_d, f_chi\n",
    "from py_vlasov.follow_parameter import change_angle, change_beta, change_k, change_tetp\n",
    "from py_vlasov.transport_ratios import input_gen, transport_ratios\n",
    "import py_vlasov.util as util\n",
    "import matplotlib.pyplot as plt\n",
    "%matplotlib inline\n",
    "\n",
    "np.set_printoptions(precision=2)"
   ]
  },
  {
   "cell_type": "markdown",
   "metadata": {},
   "source": [
    "###### Test change_angle function"
   ]
  },
  {
   "cell_type": "code",
   "execution_count": null,
   "metadata": {
    "collapsed": false
   },
   "outputs": [],
   "source": [
    "\"\"\"\n",
    "We use Alfven wave as an example\n",
    "\"\"\"\n",
    "k = 0.1\n",
    "theta = 85\n",
    "beta = 0.2\n",
    "tetp = 1\n",
    "method = 'numpy'\n",
    "mratio = 1836\n",
    "n = 10\n",
    "aol = 1/5000\n",
    "\"-------------------\"\n",
    "target_angle = 86\n",
    "freq = 1.95444741e-02 -6.32084029e-06j\n",
    "param = (k, theta, beta, tetp, method, mratio, n, aol)\n",
    "num = 10\n",
    "show_plot = True\n",
    "def follow_angle_fn(prev_freq, prev_angle, cur_angle):\n",
    "    cos_prev = np.cos(prev_angle * np.pi/180)\n",
    "    cos_cur = np.cos(cur_angle * np.pi/180)\n",
    "    return prev_freq * cos_cur/cos_prev"
   ]
  },
  {
   "cell_type": "code",
   "execution_count": null,
   "metadata": {
    "collapsed": false
   },
   "outputs": [],
   "source": [
    "change_angle(freq, param, target_angle, num, follow_angle_fn, show_plot=True)"
   ]
  },
  {
   "cell_type": "markdown",
   "metadata": {},
   "source": [
    "###### Test change_beta function"
   ]
  },
  {
   "cell_type": "code",
   "execution_count": null,
   "metadata": {
    "collapsed": false
   },
   "outputs": [],
   "source": [
    "\"\"\"\n",
    "We use Alfven wave as an example, again\n",
    "\"\"\"\n",
    "k = 0.1\n",
    "theta = 85\n",
    "beta = 0.2\n",
    "tetp = 1\n",
    "method = 'numpy'\n",
    "mratio = 1836\n",
    "n = 10\n",
    "aol = 1/5000\n",
    "\"-------------------\"\n",
    "target_beta = 1.5\n",
    "freq = 1.95444741e-02 -6.32084029e-06j\n",
    "param = (k, theta, beta, tetp, method, mratio, n, aol)\n",
    "num = 20"
   ]
  },
  {
   "cell_type": "code",
   "execution_count": null,
   "metadata": {
    "collapsed": false
   },
   "outputs": [],
   "source": [
    "change_beta(freq, param, target_beta, num, show_plot=True)"
   ]
  },
  {
   "cell_type": "markdown",
   "metadata": {},
   "source": [
    "###### Test change_k function"
   ]
  },
  {
   "cell_type": "code",
   "execution_count": null,
   "metadata": {
    "collapsed": false
   },
   "outputs": [],
   "source": [
    "\"\"\"\n",
    "We use Alfven wave as an example, again\n",
    "\"\"\"\n",
    "k = 0.1\n",
    "theta = 85\n",
    "beta = 0.2\n",
    "tetp = 1\n",
    "method = 'pade'#'numpy'\n",
    "mratio = 1836\n",
    "n = 10\n",
    "aol = 1/5000\n",
    "\"-------------------\"\n",
    "target_k = 10\n",
    "freq = 1.95444741e-02 -6.32084029e-06j\n",
    "param = (k, theta, beta, tetp, method, mratio, n, aol)\n",
    "num = 100"
   ]
  },
  {
   "cell_type": "code",
   "execution_count": null,
   "metadata": {
    "collapsed": false
   },
   "outputs": [],
   "source": [
    "change_k(freq, param, target_k, num, step_method='linear')"
   ]
  },
  {
   "cell_type": "markdown",
   "metadata": {},
   "source": [
    "###### Test change_tetp function"
   ]
  },
  {
   "cell_type": "code",
   "execution_count": null,
   "metadata": {
    "collapsed": false
   },
   "outputs": [],
   "source": [
    "\"\"\"\n",
    "We use Alfven wave as an example, again\n",
    "\"\"\"\n",
    "k = 0.1\n",
    "theta = 85\n",
    "beta = 0.2\n",
    "tetp = 1\n",
    "method = 'pade'#'numpy'\n",
    "mratio = 1836\n",
    "n = 10\n",
    "aol = 1/5000\n",
    "\"-------------------\"\n",
    "target_tetp = 10\n",
    "freq = 1.95444741e-02 -6.32084029e-06j\n",
    "param = (k, theta, beta, tetp, method, mratio, n, aol)\n",
    "num = 10"
   ]
  },
  {
   "cell_type": "code",
   "execution_count": null,
   "metadata": {
    "collapsed": false
   },
   "outputs": [],
   "source": [
    "change_tetp(freq, param, target_tetp, num, step_method='log')"
   ]
  },
  {
   "cell_type": "markdown",
   "metadata": {},
   "source": [
    "# quasi-parallel Alfven wave (Gary book, chp 6)"
   ]
  },
  {
   "cell_type": "code",
   "execution_count": null,
   "metadata": {
    "collapsed": false
   },
   "outputs": [],
   "source": [
    "\"\"\"\n",
    "We use Alfven wave as an example, again\n",
    "\"\"\"\n",
    "k = 0.1\n",
    "theta = 85\n",
    "beta = 0.2\n",
    "tetp = 1\n",
    "method = 'pade'#'numpy'\n",
    "mratio = 1836\n",
    "n = 10\n",
    "aol = 1/5000\n",
    "\"-------------------\"\n",
    "target_angle = 1\n",
    "freq = 1.95444741e-02 -6.32084029e-06j\n",
    "param = (k, theta, beta, tetp, method, mratio, n, aol)\n",
    "num = 20\n",
    "\n",
    "def follow_angle_fn(prev_freq, prev_angle, cur_angle):\n",
    "    cos_prev = np.cos(prev_angle * np.pi/180)\n",
    "    cos_cur = np.cos(cur_angle * np.pi/180)\n",
    "    return prev_freq * cos_cur/cos_prev"
   ]
  },
  {
   "cell_type": "code",
   "execution_count": null,
   "metadata": {
    "collapsed": false
   },
   "outputs": [],
   "source": [
    "result = change_angle(freq, param, target_angle, num, follow_angle_fn, show_plot=True)"
   ]
  },
  {
   "cell_type": "code",
   "execution_count": null,
   "metadata": {
    "collapsed": false
   },
   "outputs": [],
   "source": [
    "theta_rad = np.pi * target_angle/180\n",
    "kperp = k * np.sin(theta_rad)\n",
    "kpar = k * np.cos(theta_rad)\n",
    "inp = input_gen(result, kperp, kpar, beta, tetp)\n",
    "res = transport_ratios(inp, True);"
   ]
  },
  {
   "cell_type": "code",
   "execution_count": null,
   "metadata": {
    "collapsed": true
   },
   "outputs": [],
   "source": []
  },
  {
   "cell_type": "code",
   "execution_count": null,
   "metadata": {
    "collapsed": true
   },
   "outputs": [],
   "source": []
  }
 ],
 "metadata": {
  "kernelspec": {
   "display_name": "Python 3",
   "language": "python",
   "name": "python3"
  },
  "language_info": {
   "codemirror_mode": {
    "name": "ipython",
    "version": 3
   },
   "file_extension": ".py",
   "mimetype": "text/x-python",
   "name": "python",
   "nbconvert_exporter": "python",
   "pygments_lexer": "ipython3",
   "version": "3.4.3"
  }
 },
 "nbformat": 4,
 "nbformat_minor": 0
}
