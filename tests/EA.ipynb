{
 "cells": [
  {
   "cell_type": "markdown",
   "metadata": {
    "deletable": true,
    "editable": true
   },
   "source": [
    "# Electron acoustic waves"
   ]
  },
  {
   "cell_type": "code",
   "execution_count": 1,
   "metadata": {
    "collapsed": true,
    "deletable": true,
    "editable": true
   },
   "outputs": [],
   "source": [
    "import numpy as np\n",
    "import scipy.optimize\n",
    "from py_vlasov.util import zp, kzkp, list_to_complex, real_imag\n",
    "from py_vlasov.wrapper import oblique_wrapper\n",
    "from py_vlasov.transport_ratios import input_gen, transport_ratios\n",
    "from py_vlasov.follow_parameter import follow_k\n",
    "import matplotlib.pyplot as plt\n",
    "import matplotlib as mpl\n",
    "\n",
    "mpl.rcParams['axes.labelsize'] = 16\n",
    "mpl.rcParams['xtick.labelsize'] = 14\n",
    "mpl.rcParams['ytick.labelsize'] = 14\n",
    "\n",
    "%matplotlib inline"
   ]
  },
  {
   "cell_type": "code",
   "execution_count": 2,
   "metadata": {
    "collapsed": true,
    "deletable": true,
    "editable": true
   },
   "outputs": [],
   "source": [
    "def fast_freq(k, theta, betap):\n",
    "    kz, kp = kzkp(k, theta)\n",
    "    cos_theta = kz / k\n",
    "    kdi = k / np.sqrt(betap)\n",
    "    return kdi * np.sqrt(1 + kdi**2 * cos_theta**2)\n",
    "\n",
    "def ea_freq(k, theta, aol, the_tp, nc_nh):\n",
    "    kz, kp = kzkp(k, theta)\n",
    "    mp_me = 1836\n",
    "    num = kz * np.sqrt(0.5 * nc_nh/(1+nc_nh) * the_tp * mp_me)\n",
    "    k_rhose_2 = kp**2 * 0.5 * nc_nh/(1+nc_nh) * the_tp / mp_me\n",
    "    kp_debye_2 = (kz**2+kp**2) * 0.5 * aol**2 * the_tp\n",
    "    denom = np.sqrt(1 + k_rhose_2 + kp_debye_2)\n",
    "    print(denom)\n",
    "    return num / denom\n",
    "\n",
    "\n",
    "    \n",
    "def kdi_2_krhoi(kdi, betap):\n",
    "    return kdi * np.sqrt(betap)"
   ]
  },
  {
   "cell_type": "markdown",
   "metadata": {
    "deletable": true,
    "editable": true
   },
   "source": [
    "Given that $$v_{Te, h} = 0.6 c \\omega_{ce} \\cos\\theta / \\omega_{pe}$$\n",
    "\n",
    "$$\\beta_p = \\frac{T_p}{T_e} 0.36 \\cos{\\theta}^2$$"
   ]
  },
  {
   "cell_type": "code",
   "execution_count": 3,
   "metadata": {
    "collapsed": false,
    "deletable": true,
    "editable": true
   },
   "outputs": [
    {
     "name": "stdout",
     "output_type": "stream",
     "text": [
      "0.0116381557247\n",
      "aol = 0.005835\n",
      "beta_p = 0.01164\n",
      "beta_e = 0.6983\n"
     ]
    }
   ],
   "source": [
    "theta = 10\n",
    "wpe_wce = 4\n",
    "# wpe_wce = 1\n",
    "the_tp = 60\n",
    "# the_tp = 1\n",
    "fac = 0.6\n",
    "\n",
    "# ===============\n",
    "\n",
    "aol = 1/np.sqrt(1836)/wpe_wce\n",
    "betap = 1/the_tp * np.cos(np.deg2rad(theta))**2 * 2* fac**2\n",
    "print(betap)\n",
    "# betap = 1e-4\n",
    "\n",
    "print('aol = {0:.4g}'.format(aol))\n",
    "print('beta_p = {0:.4g}'.format(betap))\n",
    "print('beta_e = {0:.4g}'.format(betap * the_tp))"
   ]
  },
  {
   "cell_type": "code",
   "execution_count": 5,
   "metadata": {
    "collapsed": false,
    "deletable": true,
    "editable": true
   },
   "outputs": [
    {
     "name": "stdout",
     "output_type": "stream",
     "text": [
      "0.107880284226 0.106241340303 0.0187332147621\n"
     ]
    }
   ],
   "source": [
    "tc_th = 1e-3\n",
    "nh_nc = 1\n",
    "\n",
    "t_list=[1., the_tp, the_tp * tc_th]\n",
    "a_list=[1., 1., 1.]\n",
    "n_list=[1., nh_nc/(1+nh_nc),1/(1+nh_nc)] \n",
    "q_list=[1.,-1., -1.]\n",
    "m_list=[1., 1./1836., 1./1836]\n",
    "v_list=[0.,0.,0.]\n",
    "n = 10\n",
    "method = 'pade'\n",
    "\n",
    "kdi = 1\n",
    "\n",
    "target_kde = 5\n",
    "target_kdi = target_kde * np.sqrt(1836)\n",
    "\n",
    "k = kdi_2_krhoi(kdi, betap)\n",
    "kz, kp = kzkp(k, theta)\n",
    "print(k, kz, kp)\n",
    "\n",
    "param = [kz, kp, betap, t_list, a_list, n_list, q_list,\n",
    "         m_list, v_list, n, method, aol]"
   ]
  },
  {
   "cell_type": "code",
   "execution_count": 6,
   "metadata": {
    "collapsed": false,
    "deletable": true,
    "editable": true
   },
   "outputs": [
    {
     "name": "stdout",
     "output_type": "stream",
     "text": [
      "target_k = 23.11\n",
      "target_kde = 5\n",
      "1.00000737621\n",
      "seed_freq = 17.6-14.1j\n",
      "17.8374632979\n",
      "-9.89785080111\n",
      "0.00986526956491\n"
     ]
    }
   ],
   "source": [
    "target_k = kdi_2_krhoi(target_kdi, betap)\n",
    "print('target_k = {0:.2f}'.format(target_k))\n",
    "print('target_kde = {0:.3g}'.format(target_kdi / np.sqrt(1836.)))\n",
    "\n",
    "# seed_freq = fast_freq(k, theta, betap)\n",
    "seed_freq = ea_freq(k, theta, aol, the_tp, nc_nh=n_list[2]/n_list[1])\n",
    "f = lambda wrel:\\\n",
    "    real_imag(oblique_wrapper(list_to_complex(wrel), kz, kp, betap,\n",
    "                              t_list, a_list, n_list, q_list, \\\n",
    "                              m_list, v_list, method = 'pade', n = 10, \\\n",
    "                              aol=aol))\n",
    "guess = seed_freq * (1-.5j) #* .6\n",
    "# guess = wr + 1j * wi\n",
    "# guess = 123 - 115j\n",
    "print('seed_freq = {0:.3g}'.format(guess))\n",
    "\n",
    "wr, wi = scipy.optimize.fsolve(f, real_imag(guess))\n",
    "\n",
    "print(wr)\n",
    "print(wi)\n",
    "print(wr/1836/np.cos(np.deg2rad(theta)))\n",
    "freq = follow_k(guess, target_k, param,\n",
    "                log_incrmt = 0.02, incrmt_method = 'log')"
   ]
  },
  {
   "cell_type": "code",
   "execution_count": 7,
   "metadata": {
    "collapsed": false,
    "deletable": true,
    "editable": true
   },
   "outputs": [
    {
     "name": "stdout",
     "output_type": "stream",
     "text": [
      "[   17.83746330   -9.8978508j     19.69418612  -10.92815607j\n",
      "    21.74416974  -12.06571189j    24.00752745  -13.32168336j\n",
      "    26.50646493  -14.70839823j    29.26549757  -16.23946804j\n",
      "    32.31169036  -17.92992199j    35.67492249  -19.79635488j\n",
      "    39.38817932  -21.85709053j    43.48787438  -24.13236249j\n",
      "    48.01420454  -26.64451389j    53.01154169  -29.41821859j\n",
      "    58.52886456  -32.4807262j     64.62023500  -35.86213374j\n",
      "    71.34532317  -39.59568748j    78.76998705  -43.71811903j\n",
      "    86.96691258  -48.27002072j    96.01632195  -53.29626659j\n",
      "   106.00676010  -58.84648691j   117.03597294  -64.97560598j\n",
      "   129.21189683  -71.74445508j   142.65378901  -79.22047304j\n",
      "   157.49354414  -87.47850385j   173.87726457  -96.6016879j\n",
      "   191.96718003 -106.68240966j   211.94403662 -117.82319111j\n",
      "   234.01007569 -130.13726065j   258.39255239 -143.74811819j\n",
      "   285.34645588 -158.78674785j   315.15120786 -175.38736156j\n",
      "   348.09830613 -193.69379815j   384.48948033 -213.88744443j\n",
      "   424.66166065 -236.21404041j   469.01583589 -261.00056779j\n",
      "   518.05473847 -288.70318999j   572.52245152 -320.02633364j\n",
      "   633.94658835 -356.04578658j   706.24447274 -397.34173755j\n",
      "   796.06858163 -437.26175462j   887.71233305 -462.11634602j\n",
      "   974.81824818 -498.23348532j  1073.82085725 -543.76634717j\n",
      "  1185.97073514 -594.64033056j  1311.80096323 -649.93384674j\n",
      "  1452.10955261 -709.15739455j  1607.87394694 -771.4576367j\n",
      "  1780.31943294 -835.26956262j  1970.94568670 -898.17143174j\n",
      "  2181.30444591 -956.73891383j  2412.48864515-1006.29277489j\n",
      "  2664.21511479-1040.65764431j  2933.40858769-1052.30303279j\n",
      "  3212.49900517-1033.67521096j  3488.71950150 -980.45216162j\n",
      "  3746.77446286 -895.54569018j]\n"
     ]
    }
   ],
   "source": [
    "freq_arr = np.array(freq[-1])\n",
    "print(freq_arr[::5])"
   ]
  },
  {
   "cell_type": "code",
   "execution_count": 8,
   "metadata": {
    "collapsed": true,
    "deletable": true,
    "editable": true
   },
   "outputs": [],
   "source": [
    "kde_start = kdi / np.sqrt(1836)\n",
    "kde_end = np.sqrt(freq[1][0]**2 + freq[1][1]**2) /np.sqrt(1836) / np.sqrt(betap)\n",
    "kde_list = np.logspace(np.log10(kde_start), np.log10(kde_end), len(freq_arr))"
   ]
  },
  {
   "cell_type": "code",
   "execution_count": 9,
   "metadata": {
    "collapsed": true,
    "deletable": true,
    "editable": true
   },
   "outputs": [],
   "source": [
    "kde_whistler = np.load('data/whistler_kde.npy')\n",
    "freq_whistler = np.load('data/whistler_freq_nh_02.npy')"
   ]
  },
  {
   "cell_type": "code",
   "execution_count": 10,
   "metadata": {
    "collapsed": false,
    "deletable": true,
    "editable": true
   },
   "outputs": [
    {
     "data": {
      "image/png": "[encoded data removed]",
      "text/plain": [
       "<matplotlib.figure.Figure at 0x10a4955f8>"
      ]
     },
     "metadata": {},
     "output_type": "display_data"
    }
   ],
   "source": [
    "plt.plot(kde_list, freq_arr.real/1836/np.cos(np.deg2rad(theta)))\n",
    "plt.plot(kde_whistler, freq_whistler.real)\n",
    "plt.xlabel('$kc/\\omega_{pe}$')\n",
    "plt.ylabel(r'$\\omega_r/\\omega_{ce} \\cos \\theta $')\n",
    "# plt.ylim([0, .1])\n",
    "# plt.xlim([0, .5])\n",
    "plt.tight_layout()\n",
    "# plt.savefig('electron_acoustic_dispersion_real_1.png')"
   ]
  },
  {
   "cell_type": "code",
   "execution_count": 11,
   "metadata": {
    "collapsed": false,
    "deletable": true,
    "editable": true
   },
   "outputs": [
    {
     "data": {
      "image/png": "[encoded data removed]",
      "text/plain": [
       "<matplotlib.figure.Figure at 0x10a62aa58>"
      ]
     },
     "metadata": {},
     "output_type": "display_data"
    }
   ],
   "source": [
    "# plt.plot(kde_list, freq_arr.imag/1836/np.cos(np.deg2rad(theta)))\n",
    "plt.plot(kde_list, freq_arr.imag/freq_arr.real)\n",
    "plt.xlabel('$kc/\\omega_{pe}$')\n",
    "plt.ylabel(r'$\\omega_i/\\omega_r $')\n",
    "plt.tight_layout()\n",
    "# plt.savefig('electron_acoustic_dispersion_imag_1.png')"
   ]
  },
  {
   "cell_type": "markdown",
   "metadata": {
    "collapsed": true,
    "deletable": true,
    "editable": true
   },
   "source": [
    "# Transport ratio"
   ]
  },
  {
   "cell_type": "code",
   "execution_count": 30,
   "metadata": {
    "collapsed": false,
    "deletable": true,
    "editable": true
   },
   "outputs": [
    {
     "name": "stderr",
     "output_type": "stream",
     "text": [
      "/Users/Tong/Google_Drive/research/packages/vlasov_solver/py_vlasov/transport_ratios.py:118: RuntimeWarning: divide by zero encountered in cdouble_scalars\n",
      "  p_b_k = -1/alpha_xi\n",
      "/Users/Tong/Google_Drive/research/packages/vlasov_solver/py_vlasov/transport_ratios.py:118: RuntimeWarning: invalid value encountered in cdouble_scalars\n",
      "  p_b_k = -1/alpha_xi\n",
      "/Users/Tong/Envs/science/lib/python3.6/site-packages/ipykernel/__main__.py:29: RuntimeWarning: divide by zero encountered in double_scalars\n"
     ]
    }
   ],
   "source": [
    "k_end = np.sqrt(freq[1][0]**2 + freq[1][1]**2)\n",
    "k_start = kdi_2_krhoi(kdi, betap)\n",
    "k_list = np.logspace(np.log10(k_start), np.log10(k_end), len(freq_arr))\n",
    "\n",
    "ex_ez_list = []\n",
    "ey_ez_list = []\n",
    "by_bx_list = []\n",
    "\n",
    "for i in range(len(k_list)):\n",
    "    freq_i = freq_arr[i]\n",
    "    kz, kp = kzkp(k_list[i], theta)\n",
    "    inp = input_gen(freq_i, kp, kz, betap)\n",
    "    tr = transport_ratios(inp, print_result = False)\n",
    "    eigen_e = tr['eigen_e']\n",
    "    kvec = np.array([kp, 0, kz])\n",
    "    khat = kvec/np.linalg.norm(kvec)\n",
    "    ez_prime = np.dot(eigen_e, khat) * khat\n",
    "    ey_prime = np.array([0, eigen_e[1], 0])\n",
    "    ex_prime = eigen_e - ez_prime - ey_prime\n",
    "    ex_ez = np.linalg.norm(ex_prime) / np.linalg.norm(ez_prime)\n",
    "    ey_ez = np.linalg.norm(ey_prime) / np.linalg.norm(ez_prime)\n",
    "    ex_ez_list.append(ex_ez)\n",
    "    ey_ez_list.append(ey_ez)\n",
    "    \n",
    "    eigen_b = np.cross(kvec, eigen_e)\n",
    "    bz_prime = np.dot(eigen_b, khat) * khat\n",
    "    by_prime = np.array([0, eigen_b[1], 0])\n",
    "    bx_prime = eigen_b - bz_prime - by_prime\n",
    "    by_bx = np.linalg.norm(bx_prime) / np.linalg.norm(by_prime)\n",
    "    by_bx_list.append(by_bx)"
   ]
  },
  {
   "cell_type": "code",
   "execution_count": 31,
   "metadata": {
    "collapsed": false,
    "deletable": true,
    "editable": true
   },
   "outputs": [
    {
     "data": {
      "image/png": "[encoded data removed]",
      "text/plain": [
       "<matplotlib.figure.Figure at 0x107f1fac8>"
      ]
     },
     "metadata": {},
     "output_type": "display_data"
    }
   ],
   "source": [
    "plt.plot(freq_arr.real/1836/np.cos(np.deg2rad(theta)), ex_ez_list, '.-', markersize = 1)\n",
    "plt.xlabel(r'$\\omega_i/\\omega_{ce} \\cos \\theta $')\n",
    "plt.ylabel('$E_y/E_z$')\n",
    "plt.axhline(1, linestyle='dashed', color='k')\n",
    "plt.axhline(0, linestyle='dashed', color='k')\n",
    "plt.ylim([-4, 4])\n",
    "plt.xlim([0, 0.7])\n",
    "plt.tight_layout()\n",
    "# plt.savefig('ea_eyez_1.png')"
   ]
  },
  {
   "cell_type": "code",
   "execution_count": 256,
   "metadata": {
    "collapsed": false,
    "deletable": true,
    "editable": true
   },
   "outputs": [
    {
     "data": {
      "image/png": "[encoded data removed]",
      "text/plain": [
       "<matplotlib.figure.Figure at 0x10e116a90>"
      ]
     },
     "metadata": {},
     "output_type": "display_data"
    }
   ],
   "source": [
    "plt.plot(freq_arr.real/1836/np.cos(np.deg2rad(theta)), by_bx_list, '-o', markersize=1)\n",
    "plt.xlabel(r'$\\omega_i/\\omega_{ce} \\cos \\theta $')\n",
    "plt.ylabel('$B_y/B_x$')\n",
    "# plt.axhline(1, linestyle='dashed', color='k')\n",
    "# plt.ylim([0.8, 2.6])\n",
    "plt.xlim([0, 1.])\n",
    "plt.tight_layout()\n",
    "# plt.savefig('ea_byex_1.png')"
   ]
  },
  {
   "cell_type": "code",
   "execution_count": null,
   "metadata": {
    "collapsed": true,
    "deletable": true,
    "editable": true
   },
   "outputs": [],
   "source": []
  }
 ],
 "metadata": {
  "kernelspec": {
   "display_name": "Python 3.6 (science)",
   "language": "python",
   "name": "science"
  },
  "language_info": {
   "codemirror_mode": {
    "name": "ipython",
    "version": 3
   },
   "file_extension": ".py",
   "mimetype": "text/x-python",
   "name": "python",
   "nbconvert_exporter": "python",
   "pygments_lexer": "ipython3",
   "version": "3.6.0"
  }
 },
 "nbformat": 4,
 "nbformat_minor": 2
}
