{
 "metadata": {
  "name": "",
  "signature": "sha256:dc846766e64b75d861d70249b9191e040951449dcf47b4286eb25d1e93a512f0"
 },
 "nbformat": 3,
 "nbformat_minor": 0,
 "worksheets": [
  {
   "cells": [
    {
     "cell_type": "code",
     "collapsed": false,
     "input": [
      "import numpy as np\n",
      "from py_vlasov.dispersion_tensor import dt_wrapper, f_d, f_chi\n",
      "from py_vlasov.follow_parameter import change_angle, change_beta, change_k\n",
      "import matplotlib.pyplot as plt\n",
      "%matplotlib inline"
     ],
     "language": "python",
     "metadata": {},
     "outputs": [],
     "prompt_number": 1
    },
    {
     "cell_type": "heading",
     "level": 6,
     "metadata": {},
     "source": [
      "Test change_angle function"
     ]
    },
    {
     "cell_type": "code",
     "collapsed": false,
     "input": [
      "\"\"\"\n",
      "We use Alfven wave as an example\n",
      "\"\"\"\n",
      "k = 0.1\n",
      "theta = 85\n",
      "beta = 0.2\n",
      "tetp = 1\n",
      "method = 'numpy'\n",
      "mratio = 1836\n",
      "n = 10\n",
      "aol = 1/5000\n",
      "\"-------------------\"\n",
      "target_angle = 86\n",
      "freq = 1.95444741e-02 -6.32084029e-06j\n",
      "param = (k, theta, beta, tetp, method, mratio, n, aol)\n",
      "num = 10\n",
      "show_plot = True\n",
      "def follow_angle_fn(prev_freq, prev_angle, cur_angle):\n",
      "    cos_prev = np.cos(prev_angle * np.pi/180)\n",
      "    cos_cur = np.cos(cur_angle * np.pi/180)\n",
      "    return prev_freq * cos_cur/cos_prev"
     ],
     "language": "python",
     "metadata": {},
     "outputs": [],
     "prompt_number": 2
    },
    {
     "cell_type": "code",
     "collapsed": false,
     "input": [
      "change_angle(freq, param, target_angle, num, follow_angle_fn, show_plot=True)"
     ],
     "language": "python",
     "metadata": {},
     "outputs": [
      {
       "metadata": {},
       "output_type": "display_data",
       "png": "[encoded data removed]",
       "text": [
        "<matplotlib.figure.Figure at 0x1072b92e8>"
       ]
      },
      {
       "metadata": {},
       "output_type": "pyout",
       "prompt_number": 3,
       "text": [
        "(0.015643787987537034-5.0634470336769974e-06j)"
       ]
      }
     ],
     "prompt_number": 3
    },
    {
     "cell_type": "heading",
     "level": 6,
     "metadata": {},
     "source": [
      "Test change_beta function"
     ]
    },
    {
     "cell_type": "code",
     "collapsed": false,
     "input": [
      "\"\"\"\n",
      "We use Alfven wave as an example, again\n",
      "\"\"\"\n",
      "k = 0.1\n",
      "theta = 85\n",
      "beta = 0.2\n",
      "tetp = 1\n",
      "method = 'numpy'\n",
      "mratio = 1836\n",
      "n = 10\n",
      "aol = 1/5000\n",
      "\"-------------------\"\n",
      "target_beta = 1.5\n",
      "freq = 1.95444741e-02 -6.32084029e-06j\n",
      "param = (k, theta, beta, tetp, method, mratio, n, aol)\n",
      "num = 20"
     ],
     "language": "python",
     "metadata": {},
     "outputs": [],
     "prompt_number": 4
    },
    {
     "cell_type": "code",
     "collapsed": false,
     "input": [
      "change_beta(freq, param, target_beta, num, show_plot=True)"
     ],
     "language": "python",
     "metadata": {},
     "outputs": [
      {
       "metadata": {},
       "output_type": "display_data",
       "png": "[encoded data removed]",
       "text": [
        "<matplotlib.figure.Figure at 0x10bafa898>"
       ]
      },
      {
       "metadata": {},
       "output_type": "pyout",
       "prompt_number": 5,
       "text": [
        "(0.0071204757076591138-4.8992831362116715e-06j)"
       ]
      }
     ],
     "prompt_number": 5
    },
    {
     "cell_type": "heading",
     "level": 6,
     "metadata": {},
     "source": [
      "Test change_k function"
     ]
    },
    {
     "cell_type": "code",
     "collapsed": false,
     "input": [
      "\"\"\"\n",
      "We use Alfven wave as an example, again\n",
      "\"\"\"\n",
      "k = 0.1\n",
      "theta = 85\n",
      "beta = 0.2\n",
      "tetp = 1\n",
      "method = 'pade'#'numpy'\n",
      "mratio = 1836\n",
      "n = 10\n",
      "aol = 1/5000\n",
      "\"-------------------\"\n",
      "target_k = 10\n",
      "freq = 1.95444741e-02 -6.32084029e-06j\n",
      "param = (k, theta, beta, tetp, method, mratio, n, aol)\n",
      "num = 100"
     ],
     "language": "python",
     "metadata": {},
     "outputs": [],
     "prompt_number": 6
    },
    {
     "cell_type": "code",
     "collapsed": false,
     "input": [
      "change_k(freq, param, target_k, num, step_method='linear')"
     ],
     "language": "python",
     "metadata": {},
     "outputs": [
      {
       "metadata": {},
       "output_type": "display_data",
       "png": "[encoded data removed]",
       "text": [
        "<matplotlib.figure.Figure at 0x10bc87c50>"
       ]
      },
      {
       "metadata": {},
       "output_type": "pyout",
       "prompt_number": 7,
       "text": [
        "(0.94190504834332411-2.2069220485815766j)"
       ]
      }
     ],
     "prompt_number": 7
    },
    {
     "cell_type": "code",
     "collapsed": false,
     "input": [],
     "language": "python",
     "metadata": {},
     "outputs": []
    }
   ],
   "metadata": {}
  }
 ]
}