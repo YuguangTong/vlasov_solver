{
 "metadata": {
  "name": "",
  "signature": "sha256:a284bbe8599d6bec0aa99366f2f9528c515a6e6e9c466adefbc8446414f07f3b"
 },
 "nbformat": 3,
 "nbformat_minor": 0,
 "worksheets": [
  {
   "cells": [
    {
     "cell_type": "heading",
     "level": 5,
     "metadata": {},
     "source": [
      "Find transport ratios given dimensionless plasma parameters. Definition of transport ratios follow Krauss-Varban (1994) and are consistent with Gary (Theory of space plasma microinstabilities)"
     ]
    },
    {
     "cell_type": "code",
     "collapsed": false,
     "input": [
      "import numpy as np\n",
      "import scipy.special, scipy.optimize\n",
      "from scipy import linalg\n",
      "from py_vlasov.dispersion_tensor import dt_wrapper, f_d, f_chi\n",
      "from py_vlasov.util import (real_imag, list_to_complex, nullspace)\n",
      "from py_vlasov.util import (pmass, emass, echarge, permittivity, permeability, cspeed, boltzmann)\n",
      "import matplotlib.pyplot as plt\n",
      "%matplotlib inline"
     ],
     "language": "python",
     "metadata": {},
     "outputs": [],
     "prompt_number": 2
    },
    {
     "cell_type": "code",
     "collapsed": false,
     "input": [
      "mass_ratio = 1836\n",
      "seed_angle = 85\n",
      "seed_beta = 0.2\n",
      "seed_k = 0.1\n",
      "seed_freq = 0.01190802-0.00635779j # slow mode\n",
      "#seed_freq = 0.26147871 -0.00747444j # fast mode\n",
      "seed_freq = 1.95444741e-02 -6.32084029e-06j # alfven mode\n",
      "\n",
      "k = seed_k\n",
      "beta = seed_beta\n",
      "theta = seed_angle\n",
      "theta = theta * np.pi/180.\n",
      "guess = seed_freq"
     ],
     "language": "python",
     "metadata": {},
     "outputs": [],
     "prompt_number": 285
    },
    {
     "cell_type": "code",
     "collapsed": false,
     "input": [
      "def print_return(x):\n",
      "    print(x)\n",
      "    return x"
     ],
     "language": "python",
     "metadata": {},
     "outputs": [],
     "prompt_number": 286
    },
    {
     "cell_type": "code",
     "collapsed": false,
     "input": [
      "kz = k * np.cos(theta)\n",
      "kp = k * np.sin(theta)\n",
      "f = lambda wrel: real_imag(dt_wrapper(wrel[0] + 1j * wrel[1], kp, kz, beta, tetp = 1, method = 'numpy', mratio=mass_ratio))\n",
      "freq = scipy.optimize.fsolve(f, real_imag(guess))"
     ],
     "language": "python",
     "metadata": {},
     "outputs": [],
     "prompt_number": 287
    },
    {
     "cell_type": "code",
     "collapsed": false,
     "input": [
      "def input_gen(wrel, kperp, kpar, betap, tetp = 1, method = 'pade', mratio=1836, n=10, aol=1/5000):\n",
      "    \"\"\"\n",
      "    Generate input for f_d(), f_chi() functions from dimensionless plasma parameters\n",
      "    Assume that there are only protons and electrons.\n",
      "    No temperature anisotropy or bulk drifts. \n",
      "    \n",
      "    Keyword arguments\n",
      "    -----------------\n",
      "    kperp: k * rho_perp\n",
      "    kpar: k * rho_parallel\n",
      "    betap: proton plasma beta\n",
      "    tetp: electron proton temperature ratio\n",
      "    method: algorithm to calculate plasma dispersion function. \\\n",
      "            by default, pade approximation is used for speed. \\\n",
      "            'numpy' refers to complex error function modules in numpy/scipy library \\\n",
      "            which implement a fast algorithm Pope (1990) in C++.\n",
      "    mratio: mass ratio, m_p/m_e. If mratio != 1836, electron mass is adjusted.\n",
      "    n: the number of Bessel functions in summation.\n",
      "    aol: va/c, where c = lightspeed.\n",
      "    \n",
      "    Return\n",
      "    ------\n",
      "    determinant of dispersion tensor\n",
      "    \n",
      "    \"\"\"\n",
      "    if mratio == 1836:\n",
      "        emass_local = emass\n",
      "    else:\n",
      "        emass_local = pmass/mratio\n",
      "        \n",
      "    # by default add over 10 terms\n",
      "    b0 = 1e-8      # 10nT by default\n",
      "    vz = 0         # no bulk drift\n",
      "    va = cspeed * aol\n",
      "    nproton = (b0/va)**2 / (permeability * pmass)\n",
      "    tp = betap * b0**2 / (2 * permeability * nproton * boltzmann)\n",
      "    te = tp * tetp\n",
      "    wpp = np.sqrt(nproton * echarge**2 / (pmass * permittivity))\n",
      "    wpe = np.sqrt(nproton * echarge**2 / (emass_local * permittivity))\n",
      "    omega_p = echarge * b0/ pmass # proton gyro-freqeuncy\n",
      "    omega_e = -echarge * b0/emass_local\n",
      "    vthp = np.sqrt(2 * boltzmann * tp/pmass) # proton thermal speed\n",
      "    vthe = np.sqrt(2 * boltzmann * te/emass_local) # proton thermal speed\n",
      "    rhop = vthp/omega_p # proton gyroradius\n",
      "    w = wrel * omega_p\n",
      "    kz = kpar/rhop\n",
      "    kp = kperp/rhop\n",
      "    vthz = vthp # assume no temperature anisotropy\n",
      "    \n",
      "    proton = [n, w, kz, kp, wpp, tp, tp, vthp, vthp, omega_p, 0, method]\n",
      "    electron = [n, w, kz, kp, wpe, te, te, vthe, vthe, omega_e, 0, method]\n",
      "    \n",
      "    inp = [proton, electron]\n",
      "    return inp"
     ],
     "language": "python",
     "metadata": {},
     "outputs": [],
     "prompt_number": 288
    },
    {
     "cell_type": "code",
     "collapsed": false,
     "input": [
      "inp = input_gen(freq[0] + 1j * freq[1], kp, kz, beta, tetp = 1, method = 'numpy', mratio=mass_ratio)"
     ],
     "language": "python",
     "metadata": {},
     "outputs": [],
     "prompt_number": 289
    },
    {
     "cell_type": "code",
     "collapsed": false,
     "input": [
      "# chi tensor\n",
      "f_chi(*inp[0])"
     ],
     "language": "python",
     "metadata": {},
     "outputs": [
      {
       "metadata": {},
       "output_type": "pyout",
       "prompt_number": 290,
       "text": [
        "array([[  2.49195665e+07 -6.15526497e+00j,\n",
        "         -4.10474621e+05 +1.27018494e+09j,\n",
        "         -2.16267952e+04 +1.06921381e-02j],\n",
        "       [  4.10474621e+05 -1.27018494e+09j,\n",
        "         -7.20561112e+08 +1.62090540e+07j,\n",
        "         -3.74991769e+08 -2.26269091e+09j],\n",
        "       [ -2.16267952e+04 +1.06921381e-02j,\n",
        "          3.74991769e+08 +2.26269091e+09j,\n",
        "         -1.02129964e+11 +1.69574706e+10j]])"
       ]
      }
     ],
     "prompt_number": 290
    },
    {
     "cell_type": "code",
     "collapsed": false,
     "input": [
      "# input parameters to calculate dispersion tensor\n",
      "param = list(map(list, zip(*inp)))\n",
      "# dispersion tensor\n",
      "dt = f_d(param)"
     ],
     "language": "python",
     "metadata": {},
     "outputs": [],
     "prompt_number": 291
    },
    {
     "cell_type": "code",
     "collapsed": false,
     "input": [
      "# eigen electric field.\n",
      "eigen_e = nullspace(dt*1e-20).reshape((3,))"
     ],
     "language": "python",
     "metadata": {},
     "outputs": [],
     "prompt_number": 292
    },
    {
     "cell_type": "heading",
     "level": 6,
     "metadata": {},
     "source": [
      "Polarization vector $\\alpha = -i\\vec{E}/E_y$"
     ]
    },
    {
     "cell_type": "code",
     "collapsed": false,
     "input": [
      "e_y = eigen_e[1]\n",
      "alpha = -1j * eigen_e/ e_y"
     ],
     "language": "python",
     "metadata": {},
     "outputs": [],
     "prompt_number": 293
    },
    {
     "cell_type": "code",
     "collapsed": false,
     "input": [
      "alpha"
     ],
     "language": "python",
     "metadata": {},
     "outputs": [
      {
       "metadata": {},
       "output_type": "pyout",
       "prompt_number": 294,
       "text": [
        "array([ -2.56823647e+02-5.33327229j,   0.00000000e+00-1.j        ,\n",
        "         1.00374183e-01-0.01316917j])"
       ]
      }
     ],
     "prompt_number": 294
    },
    {
     "cell_type": "heading",
     "level": 6,
     "metadata": {},
     "source": [
      "Alternative coordinate system $(\\xi, y, k)$"
     ]
    },
    {
     "cell_type": "code",
     "collapsed": false,
     "input": [
      "xhead = np.array([1, 0, 0])\n",
      "yhead = np.array([0, 1, 0])\n",
      "zhead = np.array([0, 0, 1])\n",
      "kvec = np.array([kp, 0, kz])\n",
      "khead = kvec/linalg.norm(k)\n",
      "xihead = np.cross(yhead, khead)"
     ],
     "language": "python",
     "metadata": {},
     "outputs": [],
     "prompt_number": 295
    },
    {
     "cell_type": "heading",
     "level": 6,
     "metadata": {},
     "source": [
      "Different polarizations\n",
      "\\begin{eqnarray}\n",
      "P_{E, b_0} &=& iE_x/E_y=-\\alpha_x \\\\\n",
      "P_{B, b_0} &=& B_y/i B_x = -\\alpha_\\xi/\\cos\\theta \\\\\n",
      "P_{B, k}   &=& iB_\\xi/B_y = -1/\\alpha_\\xi\n",
      "\\end{eqnarray}"
     ]
    },
    {
     "cell_type": "code",
     "collapsed": false,
     "input": [
      "alpha_x = alpha[0]\n",
      "alpha_xi = np.dot(alpha, xihead)\n",
      "p_e_b0 = -alpha_x\n",
      "p_b_b0 = -alpha_xi/np.cos(theta)\n",
      "p_b_k = -1/alpha_xi"
     ],
     "language": "python",
     "metadata": {},
     "outputs": [],
     "prompt_number": 296
    },
    {
     "cell_type": "heading",
     "level": 6,
     "metadata": {},
     "source": [
      "Helicity\n",
      "\\begin{equation}\n",
      "\\sigma = |\\vec{n}|^2 \\vec{E}\\cdot (\\vec{k}\\times \\vec{E}^*)/|\\vec{B}|^2 = -2\\Re(\\alpha_\\xi)/(1+|\\alpha_\\xi|^2)\n",
      "\\end{equation}"
     ]
    },
    {
     "cell_type": "code",
     "collapsed": false,
     "input": [
      "sigma = -2*np.real(alpha_xi)/(1+linalg.norm(alpha_xi)**2)"
     ],
     "language": "python",
     "metadata": {},
     "outputs": [],
     "prompt_number": 297
    },
    {
     "cell_type": "heading",
     "level": 6,
     "metadata": {},
     "source": [
      "Generalized ellipticity\n",
      "\\begin{equation}\n",
      "\\epsilon_B = \\Re(\\frac{B_\\xi-iB_y}{B_\\xi + iB_y})=\\Re(\\frac{1-\\alpha_\\xi}{1+\\alpha_\\xi})\n",
      "\\end{equation}"
     ]
    },
    {
     "cell_type": "code",
     "collapsed": false,
     "input": [
      "epsilon_b = (1-alpha_xi)/(1+alpha_xi)"
     ],
     "language": "python",
     "metadata": {},
     "outputs": [],
     "prompt_number": 298
    },
    {
     "cell_type": "heading",
     "level": 6,
     "metadata": {},
     "source": [
      "magnetic compression ratio\n",
      "\\begin{equation}\n",
      "C_{BB} = (|B_\\parallel|/|B_\\perp|)^2/tan^2\\theta = 1/(1 + |\\alpha_\\xi|^2/\\cos^\\theta)\n",
      "\\end{equation}\n",
      "Ratio of longitudinal to total electric field power:\n",
      "\\begin{equation}\n",
      "(E_L/E_{tot})^2=|\\alpha_k|^2/|\\alpha|^2\n",
      "\\end{equation}"
     ]
    },
    {
     "cell_type": "code",
     "collapsed": false,
     "input": [
      "c_bb=1/(1+linalg.norm(alpha_xi)**2/np.cos(theta)**2)\n",
      "alpha_k = np.dot(alpha, khead)\n",
      "e_l_tot = linalg.norm(alpha_k)**2/ linalg.norm(alpha)**2"
     ],
     "language": "python",
     "metadata": {},
     "outputs": [],
     "prompt_number": 299
    },
    {
     "cell_type": "heading",
     "level": 6,
     "metadata": {},
     "source": [
      "Compressibility\n",
      "\\begin{equation}\n",
      "C_{Bn}^j=\\frac{n_j^2/n_{j0}^2}{|B|^2/B_0^2} = |\\frac{\\omega}{\\Omega_{cj}}|^2  (\\frac{\\Omega_{cj}}{\\omega_{pj}})^4 \\frac{|\\vec{k}\\cdot \\chi^j \\cdot \\vec{\\alpha}|^2}{1 + |\\alpha_\\xi|^2}\n",
      "\\end{equation}\n",
      "\n",
      "which can be written also as:\n",
      "\\begin{equation}\n",
      "C_{Bn}^j = |\\omega/\\Omega_{cp}|^2(n_p e/n_j q_j)^2 (v_A/c)^4 \\frac{|\\vec{k}\\cdot \\chi^j \\cdot \\vec{\\alpha}|^2}{1 + |\\alpha_\\xi|^2}\n",
      "\\end{equation}"
     ]
    },
    {
     "cell_type": "code",
     "collapsed": false,
     "input": [
      "# chi tensor for proton\n",
      "chi_proton = f_chi(*inp[0])\n",
      "chi_electron = f_chi(*inp[1])"
     ],
     "language": "python",
     "metadata": {},
     "outputs": [],
     "prompt_number": 300
    },
    {
     "cell_type": "code",
     "collapsed": false,
     "input": [
      "proton_inp = inp[0]\n"
     ],
     "language": "python",
     "metadata": {},
     "outputs": [],
     "prompt_number": 301
    },
    {
     "cell_type": "code",
     "collapsed": false,
     "input": [
      "def c_bn(inp):\n",
      "    \"\"\"\n",
      "    Compute compressibilities\n",
      "    \n",
      "    Keyword arguments\n",
      "    -----------------\n",
      "    inp: list\n",
      "        each entry is a list of parameters for a species that takes the form\n",
      "        [n, w, kz, kp, wpp, tp, tp, vthp, vthp, omega_p, vd, method]\n",
      "        \n",
      "    Return\n",
      "    ------\n",
      "    return a list of compressibilities, one for each species.\n",
      "        \n",
      "    \"\"\"\n",
      "    # number of species (at least one)\n",
      "    ns = np.array(inp).shape[0]\n",
      "    w = inp[0][1]\n",
      "    #omega_p = inp[0][9]\n",
      "    result = []\n",
      "    for j in range(ns):\n",
      "        omega_pj = inp[j][4]\n",
      "        Omega_cj = inp[j][9]\n",
      "        chi_j = f_chi(*inp[j])\n",
      "        chi_alpha_j = np.dot(chi_j, alpha)\n",
      "        tensor_prod_j = np.dot(khead, chi_alpha_j)\n",
      "        c_bn_j = np.abs(w/Omega_cj)**2 * (Omega_cj/omega_pj)**4\n",
      "        c_bn_j *= np.abs(tensor_prod_j)**2 / (1 + linalg.norm(alpha_xi)**2)\n",
      "        result += [c_bn_j]\n",
      "    return result    "
     ],
     "language": "python",
     "metadata": {},
     "outputs": [],
     "prompt_number": 302
    },
    {
     "cell_type": "code",
     "collapsed": false,
     "input": [
      "c_bn(inp)"
     ],
     "language": "python",
     "metadata": {},
     "outputs": [
      {
       "metadata": {},
       "output_type": "pyout",
       "prompt_number": 303,
       "text": [
        "[0.040398906802396717, 0.040398910331677203]"
       ]
      }
     ],
     "prompt_number": 303
    },
    {
     "cell_type": "heading",
     "level": 6,
     "metadata": {},
     "source": [
      "magnetic field-density correlation\n",
      "\\begin{equation}\n",
      "C_\\parallel^j = \\frac{n_j B_\\parallel^* / (n_{j0} B_0)}{|B|^2/B_0^2} = \\frac{\\omega}{\\Omega_{cj}} (\\frac{\\Omega_{cj}}{\\omega_{pj}})^2 \\frac{\\vec{k}\\cdot \\chi^j \\cdot \\vec{\\alpha}}{\\sin\\theta} \\text{sign}(q_j) \n",
      "\\end{equation}"
     ]
    },
    {
     "cell_type": "code",
     "collapsed": false,
     "input": [
      "def c_par(inp):\n",
      "    # number of species (at least one)\n",
      "    ns = np.array(inp).shape[0]\n",
      "    w = inp[0][1] # in unit of herz\n",
      "    #omega_p = inp[0][9]\n",
      "    result = []\n",
      "    for j in range(ns):\n",
      "        omega_pj = inp[j][4]\n",
      "        Omega_cj = inp[j][9]\n",
      "        chi_j = f_chi(*inp[j])\n",
      "        chi_alpha_j = np.dot(chi_j, alpha)\n",
      "        tensor_prod_j = np.dot(khead, chi_alpha_j)\n",
      "        c_par_j = w/Omega_cj * (Omega_cj/omega_pj)**2 * tensor_prod_j/np.sin(theta)\n",
      "        result += [c_par_j]\n",
      "    return result"
     ],
     "language": "python",
     "metadata": {},
     "outputs": [],
     "prompt_number": 304
    },
    {
     "cell_type": "code",
     "collapsed": false,
     "input": [
      "c_par(inp)"
     ],
     "language": "python",
     "metadata": {},
     "outputs": [
      {
       "metadata": {},
       "output_type": "pyout",
       "prompt_number": 305,
       "text": [
        "[(-4.5410412464480574+0.080659052601627354j),\n",
        " (-4.5410414449371812+0.08065904854433785j)]"
       ]
      }
     ],
     "prompt_number": 305
    },
    {
     "cell_type": "code",
     "collapsed": false,
     "input": [
      "c_par_p = c_par(inp)[0]\n",
      "(np.sin(theta) * np.abs(c_par_p))**2 * np.abs(p_b_k)**2/ (1 + np.abs(p_b_k)**2)"
     ],
     "language": "python",
     "metadata": {},
     "outputs": [
      {
       "metadata": {},
       "output_type": "pyout",
       "prompt_number": 306,
       "text": [
        "0.040398906802396689"
       ]
      }
     ],
     "prompt_number": 306
    },
    {
     "cell_type": "code",
     "collapsed": false,
     "input": [
      "c_bb * ( 1 + np.abs(p_b_b0)**2)"
     ],
     "language": "python",
     "metadata": {},
     "outputs": [
      {
       "metadata": {},
       "output_type": "pyout",
       "prompt_number": 307,
       "text": [
        "1.0000000000000002"
       ]
      }
     ],
     "prompt_number": 307
    },
    {
     "cell_type": "heading",
     "level": 6,
     "metadata": {},
     "source": [
      "Alfven ratio\n",
      "\\begin{equation}\n",
      "R_A^j = 4\\pi \\rho_j |v_j|^2/|B|^2=\\frac{\\rho_p}{\\rho_j}|\\omega/\\omega_{pj}|^2\\frac{|\\chi^j\\alpha|^2}{|\\vec{n}|^2(1+|\\alpha_\\xi|^2)}\n",
      "\\end{equation}"
     ]
    },
    {
     "cell_type": "code",
     "collapsed": false,
     "input": [
      "# assume that rho_p = rho_j, where rho is density\n",
      "\n",
      "\n",
      "def ra(inp):\n",
      "    # number of species (at least one)\n",
      "    ns = np.array(inp).shape[0]\n",
      "    w = inp[0][1] # in unit of herz\n",
      "    #omega_p = inp[0][9]\n",
      "    n_vec = kvec * cspeed/w\n",
      "    result = []\n",
      "    for j in range(ns):\n",
      "        omega_pj = inp[j][4]\n",
      "        chi_j = f_chi(*inp[j])\n",
      "        chi_alpha_j = np.dot(chi_j, alpha)\n",
      "        ra_j = np.abs(w/omega_pj)**2 * linalg.norm(chi_alpha_j)**2\n",
      "        ra_j /= linalg.norm(n_vec)**2 * (1 + linalg.norm(alpha_xi)**2)\n",
      "        result += [ra_j]\n",
      "    return result"
     ],
     "language": "python",
     "metadata": {},
     "outputs": [],
     "prompt_number": 308
    },
    {
     "cell_type": "code",
     "collapsed": false,
     "input": [
      "ra(inp)"
     ],
     "language": "python",
     "metadata": {},
     "outputs": [
      {
       "metadata": {},
       "output_type": "pyout",
       "prompt_number": 309,
       "text": [
        "[1.2568212905993872e-09, 7.3974110128085673e-13]"
       ]
      }
     ],
     "prompt_number": 309
    },
    {
     "cell_type": "heading",
     "level": 6,
     "metadata": {},
     "source": [
      "Cross helicity:\n",
      "\\begin{eqnarray}\n",
      "\\sigma_c^j &=& 2 \\frac{4\\pi\\rho_j\\Re(v_jB^*)}{4\\pi\\rho_j|v_j|^2 + |B|^2}\\\\\n",
      "&=& 2\\sqrt{\\rho_p/\\rho_j}(ck/\\omega_{pj}) \\frac{\\Im((\\chi^j\\cdot \\alpha)\\cdot (\\vec{k}\\times \\alpha^*)/N^2)}{(1 + |\\alpha_\\xi|^2)(1 + R_A^j)}\n",
      "\\end{eqnarray}"
     ]
    },
    {
     "cell_type": "code",
     "collapsed": false,
     "input": [
      "def sigma_c(inp):\n",
      "    ns = np.array(inp).shape[0]\n",
      "    w = inp[0][1] # in unit of herz\n",
      "    #omega_p = inp[0][9]\n",
      "    n_scalar = k * cspeed/w\n",
      "    ra_vec = ra(inp)\n",
      "    k_cross_alpha = np.cross(khead, np.conjugate(alpha))\n",
      "    result = []\n",
      "    for j in range(ns):\n",
      "        omega_pj = inp[j][4]\n",
      "        chi_j = f_chi(*inp[j])\n",
      "        chi_alpha_j = np.dot(chi_j, alpha)\n",
      "        numer = np.imag(np.dot(chi_alpha_j, k_cross_alpha)/n_scalar ** 2)\n",
      "        denom = (1 + linalg.norm(alpha_xi)**2) * (1 + ra_vec[j])    \n",
      "        sigma_c_j = 2 * (cspeed * k/omega_pj) * numer/ denom\n",
      "        result += [sigma_c_j]\n",
      "    return result"
     ],
     "language": "python",
     "metadata": {},
     "outputs": [],
     "prompt_number": 314
    },
    {
     "cell_type": "code",
     "collapsed": false,
     "input": [
      "sigma_c(inp)"
     ],
     "language": "python",
     "metadata": {},
     "outputs": [
      {
       "metadata": {},
       "output_type": "pyout",
       "prompt_number": 315,
       "text": [
        "[-7.0872446625306327e-05, 1.6870379842344992e-06]"
       ]
      }
     ],
     "prompt_number": 315
    },
    {
     "cell_type": "code",
     "collapsed": false,
     "input": [],
     "language": "python",
     "metadata": {},
     "outputs": []
    }
   ],
   "metadata": {}
  }
 ]
}