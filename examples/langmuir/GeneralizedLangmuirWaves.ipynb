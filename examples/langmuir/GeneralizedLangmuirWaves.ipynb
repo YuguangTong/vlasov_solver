{
 "cells": [
  {
   "cell_type": "markdown",
   "metadata": {},
   "source": [
    "# Generalized Langmuir waves in magnetized kinetic plasmas\n",
    "> - A. J. Willes, and Iver H. Cairns\n",
    "> - Physics of Plasmas 7, 3167 (2000); doi: 10.1063/1.874180"
   ]
  },
  {
   "cell_type": "code",
   "execution_count": 1,
   "metadata": {},
   "outputs": [],
   "source": [
    "import numpy as np\n",
    "import scipy.optimize\n",
    "from py_vlasov.util import zp, kzkp, list_to_complex, real_imag\n",
    "from py_vlasov.wrapper import oblique_wrapper, disp_det, input_gen\n",
    "from py_vlasov.transport_ratios import transport_ratios\n",
    "from py_vlasov.follow_parameter import follow_k\n",
    "import matplotlib.pyplot as plt\n",
    "import matplotlib as mpl\n",
    "\n",
    "mpl.rcParams['axes.labelsize'] = 20\n",
    "mpl.rcParams['xtick.labelsize'] = 16\n",
    "mpl.rcParams['ytick.labelsize'] = 16\n",
    "mpl.rcParams['axes.titlesize'] = 20\n",
    "mpl.rcParams['xtick.top'] = True\n",
    "mpl.rcParams['ytick.right'] = True\n",
    "mpl.rcParams['xtick.major.size'] = 6\n",
    "mpl.rcParams['ytick.major.size'] = 6\n",
    "mpl.rcParams['xtick.minor.size'] = 3.5\n",
    "mpl.rcParams['ytick.minor.size'] = 3.5\n",
    "mpl.rcParams['xtick.major.width'] = 1.1\n",
    "mpl.rcParams['ytick.major.width'] = 1.1\n",
    "mpl.rcParams['xtick.minor.width'] = .8\n",
    "mpl.rcParams['ytick.minor.width'] = .8\n",
    "#xtick.major.size     : 3.5      # major tick size in points\n",
    "#xtick.minor.size     : 2      # minor tick size in points\n",
    "#xtick.major.width    : 0.8    # major tick width in points\n",
    "#xtick.minor.width    : 0.6    # minor tick width in points\n",
    "%matplotlib inline"
   ]
  },
  {
   "cell_type": "markdown",
   "metadata": {},
   "source": [
    "## Longitudinal approximations to the generalized langmuir mode"
   ]
  },
  {
   "cell_type": "markdown",
   "metadata": {},
   "source": [
    "Asymptoic expression:\n",
    "    $$\\omega_L^2(k, \\theta) = \\omega_p^2 + \\Omega_e^2\\sin^2\\theta + 3 k^2 v_{Te}^2$$\n",
    "Logitudinal approximation:\n",
    "    See Eqn (19)-(21) in Willes & Cairns (2000)"
   ]
  },
  {
   "cell_type": "code",
   "execution_count": 80,
   "metadata": {},
   "outputs": [],
   "source": [
    "def f(x, t):\n",
    "    t = np.deg2rad(t)\n",
    "    s2, c2, x2 = np.sin(t)**2, np.cos(t)**2, x**2\n",
    "    ret = 3 * c2**2 \n",
    "    ret -= s2 * c2 / x2 \n",
    "    ret -= s2**2 / x2 / (1 - x2) \n",
    "    ret += (1 + 3 * x2) * s2 * c2 / x2 / (1 - x2)**3\n",
    "    ret += s2**2 / x2 / (1 - 4 * x2)\n",
    "    return ret\n",
    "    \n",
    "# define: wo = omega_p/Omega_e\n",
    "# define wpm = omega_{\\pm}\n",
    "def wpm2(wo, t, sub='plus'):\n",
    "    t = np.deg2rad(t)\n",
    "    assert sub in ['plus', 'p', 'minus', 'm']\n",
    "    wo2, c2 = wo**2, np.cos(t)**2\n",
    "    sign = 1 if sub in ['plus', 'p'] else -1\n",
    "    ret = wo2 + 1 + sign * np.sqrt((wo2 + 1)**2 - 4 * wo2 * c2)\n",
    "    ret /= 2\n",
    "    return ret\n",
    "\n",
    "# define: ke = k\\rho_e = k v_{Te}/\\Omega_e\n",
    "# define: v_{Te} = \\sqrt{k_BT_e/m_e}\n",
    "def wL(wo, ke, t, sub='plus'):\n",
    "    assert sub in ['plus', 'p', 'minus', 'm']\n",
    "    wo2 = wo**2\n",
    "    w2 = wpm2(wo, t, sub)\n",
    "    deltaW2 = wpm2(wo, t, 'p') -  wpm2(wo, t, 'm')\n",
    "    sign = 1 if sub in ['plus', 'p'] else -1\n",
    "    ret = w2 + sign * wo2 * (w2 - 1) / deltaW2 * ke**2 / w2 * f(1/np.sqrt(w2), t)\n",
    "    return  np.sqrt(ret)\n",
    "\n",
    "wLvec = np.vectorize(wL)\n",
    "\n",
    "def asymptoticWL(wo, klambdaD, t):\n",
    "    s2 = np.sin(np.deg2rad(t))**2\n",
    "    ret = 1 + 1/wo * s2 + 3 * klambdaD**2\n",
    "    return np.sqrt(ret)"
   ]
  },
  {
   "cell_type": "code",
   "execution_count": 128,
   "metadata": {},
   "outputs": [],
   "source": [
    "klambdaD = np.linspace(0.01, 0.4, 20)\n",
    "wo, t = 20, 30\n",
    "ke = klambdaD * wo"
   ]
  },
  {
   "cell_type": "code",
   "execution_count": 129,
   "metadata": {},
   "outputs": [],
   "source": [
    "# asymptotic expression when Omega_e << omega_p\n",
    "wl_asym = asymptoticWL(wo, klambdaD, t)\n",
    "\n",
    "# longitudinal approximation\n",
    "wl_long = wLvec(wo, ke, t, 'p') / wo"
   ]
  },
  {
   "cell_type": "code",
   "execution_count": 130,
   "metadata": {},
   "outputs": [
    {
     "data": {
      "image/png": "[encoded data removed]",
      "text/plain": [
       "<matplotlib.figure.Figure at 0x113c358d0>"
      ]
     },
     "metadata": {},
     "output_type": "display_data"
    }
   ],
   "source": [
    "plt.plot(klambdaD, wl_asym, label='asymptotic')\n",
    "plt.plot(klambdaD, wl_long, label='longitudinal approx')\n",
    "plt.xlabel(r'$k\\lambda_D$')\n",
    "plt.ylabel(r'$\\omega/\\omega_{p}$')\n",
    "plt.legend(loc='best', frameon=False)\n",
    "plt.ylim([-1, 2])\n",
    "plt.xlim([0, 0.4])\n",
    "plt.show()"
   ]
  },
  {
   "cell_type": "code",
   "execution_count": null,
   "metadata": {},
   "outputs": [],
   "source": [
    "# war"
   ]
  }
 ],
 "metadata": {
  "kernelspec": {
   "display_name": "Python 3.6 (science)",
   "language": "python",
   "name": "science"
  },
  "language_info": {
   "codemirror_mode": {
    "name": "ipython",
    "version": 3
   },
   "file_extension": ".py",
   "mimetype": "text/x-python",
   "name": "python",
   "nbconvert_exporter": "python",
   "pygments_lexer": "ipython3",
   "version": "3.6.0"
  }
 },
 "nbformat": 4,
 "nbformat_minor": 2
}
