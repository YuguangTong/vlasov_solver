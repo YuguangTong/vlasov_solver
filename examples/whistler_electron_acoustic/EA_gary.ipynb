{
 "cells": [
  {
   "cell_type": "markdown",
   "metadata": {},
   "source": [
    "# Tokar & Gary 1984"
   ]
  },
  {
   "cell_type": "code",
   "execution_count": 1,
   "metadata": {
    "collapsed": true
   },
   "outputs": [],
   "source": [
    "import numpy as np\n",
    "import scipy.optimize\n",
    "from py_vlasov.util import zp, kzkp, list_to_complex, real_imag, nullspace\n",
    "from py_vlasov.wrapper import oblique_wrapper, disp_det, input_gen\n",
    "from py_vlasov.transport_ratios import transport_ratios\n",
    "from py_vlasov.follow_parameter import follow_k\n",
    "from py_vlasov.dispersion_tensor import f_d\n",
    "\n",
    "import matplotlib.pyplot as plt\n",
    "import matplotlib as mpl\n",
    "\n",
    "mpl.rcParams['axes.labelsize'] = 16\n",
    "mpl.rcParams['xtick.labelsize'] = 14\n",
    "mpl.rcParams['ytick.labelsize'] = 14\n",
    "\n",
    "%matplotlib inline"
   ]
  },
  {
   "cell_type": "code",
   "execution_count": 2,
   "metadata": {},
   "outputs": [],
   "source": [
    "def fast_freq(k, theta, betap):\n",
    "    kz, kp = kzkp(k, theta)\n",
    "    cos_theta = kz / k\n",
    "    kdi = k / np.sqrt(betap)\n",
    "    return kdi * np.sqrt(1 + kdi**2 * cos_theta**2)\n",
    "\n",
    "def ea_freq(k, theta, aol, the_tp, nc_nh):\n",
    "    kz, kp = kzkp(k, theta)\n",
    "    mp_me = 1836\n",
    "    num = kz * np.sqrt(0.5 * nc_nh/(1+nc_nh) * the_tp * mp_me)\n",
    "    k_rhose_2 = kp**2 * 0.5 * nc_nh * the_tp / mp_me\n",
    "    kp_debye_2 = (kz**2+kp**2) * 0.5 * aol**2 * the_tp\n",
    "    denom = np.sqrt(1 + k_rhose_2 + kp_debye_2)\n",
    "    print(denom)\n",
    "    return num / denom\n",
    "\n",
    "def kdi_2_krhoi(kdi, betap):\n",
    "    return kdi * np.sqrt(betap)"
   ]
  },
  {
   "cell_type": "markdown",
   "metadata": {},
   "source": [
    "$$\\omega_{pe} = \\Omega_e \\Rightarrow \\frac{v_A^2}{c^2} = \\frac{1}{1836}$$\n",
    "\n",
    "$$\\beta_p = 10^{-4}$$\n",
    "\n",
    "$$T_h/T_c=10^3$$\n",
    "$$n_h = n_c$$\n",
    "$$T_h/T_p = 10$$"
   ]
  },
  {
   "cell_type": "code",
   "execution_count": 3,
   "metadata": {},
   "outputs": [
    {
     "name": "stdout",
     "output_type": "stream",
     "text": [
      "aol =  0.0233380014005\n",
      "0.1 0.0999998476913 0.00017453283659\n"
     ]
    }
   ],
   "source": [
    "tc_th = 1e-3\n",
    "the_tp = 10\n",
    "aol = np.sqrt(1/1836)\n",
    "print('aol = ', aol)\n",
    "betap = 1e-4\n",
    "theta = 0.1\n",
    "\n",
    "t_list=[1., the_tp, the_tp * tc_th]\n",
    "a_list=[1., 1., 1.]\n",
    "n_list=[1.,.5,.5] \n",
    "q_list=[1.,-1., -1.]\n",
    "m_list=[1., 1./1836., 1./1836]\n",
    "v_list=[0.,0.,0.]\n",
    "n = 10\n",
    "method = 'pade'\n",
    "\n",
    "kdi = 10\n",
    "\n",
    "# target_kde = 1\n",
    "# target_kdi = target_kde * np.sqrt(1836)\n",
    "target_kdi = 1000 * np.sqrt(2)\n",
    "\n",
    "k = kdi_2_krhoi(kdi, betap)\n",
    "kz, kp = kzkp(k, theta)\n",
    "print(k, kz, kp)\n",
    "\n",
    "param = [kz, kp, betap, t_list, a_list, n_list, q_list,\n",
    "         m_list, v_list, n, method, aol]"
   ]
  },
  {
   "cell_type": "code",
   "execution_count": 4,
   "metadata": {},
   "outputs": [
    {
     "name": "stdout",
     "output_type": "stream",
     "text": [
      "target_k = 14.14\n",
      "target_kde = 33\n",
      "1.00001361651\n",
      "seed_freq = 6.77-4.06j\n",
      "6.85437078182\n",
      "-3.80332779102\n",
      "0.00373332310547\n"
     ]
    }
   ],
   "source": [
    "target_k = kdi_2_krhoi(target_kdi, betap)\n",
    "print('target_k = {0:.2f}'.format(target_k))\n",
    "print('target_kde = {0:.3g}'.format(target_kdi / np.sqrt(1836.)))\n",
    "\n",
    "# seed_freq = fast_freq(k, theta, betap)\n",
    "seed_freq = ea_freq(k, theta, aol, the_tp, nc_nh=n_list[2]/n_list[1])\n",
    "f = lambda wrel:\\\n",
    "    real_imag(oblique_wrapper(list_to_complex(wrel), kz, kp, betap,\n",
    "                              t_list, a_list, n_list, q_list, \\\n",
    "                              m_list, v_list, method = method, n = n, \\\n",
    "                              aol=aol))\n",
    "guess = seed_freq * (1-.6j)\n",
    "print('seed_freq = {0:.3g}'.format(guess))\n",
    "\n",
    "wr, wi = scipy.optimize.fsolve(f, real_imag(guess))\n",
    "\n",
    "print(wr)\n",
    "print(wi)\n",
    "print(wr/1836/np.cos(np.deg2rad(theta)))\n",
    "freq = follow_k(guess, target_k, param,\n",
    "                log_incrmt = 0.02, incrmt_method = 'log')"
   ]
  },
  {
   "cell_type": "code",
   "execution_count": 5,
   "metadata": {},
   "outputs": [
    {
     "name": "stdout",
     "output_type": "stream",
     "text": [
      "[   6.85437078  -3.80332779j    7.56795451  -4.19924793j\n",
      "    8.35582946  -4.63637677j    9.22573101  -5.11900138j\n",
      "   10.18620024  -5.65185415j   11.24666805  -6.24015873j\n",
      "   12.41754789  -6.88968076j   13.71033844  -7.60678362j\n",
      "   15.13773689  -8.39848982j   16.71376423  -9.27254844j\n",
      "   18.45390378 -10.23750923j   20.37525430 -11.30280387j\n",
      "   22.49669942 -12.47883496j   24.83909510 -13.77707329j\n",
      "   27.42547721 -15.21016395j   30.28129145 -16.79204168j\n",
      "   33.43464824 -18.53805586j   36.91660558 -20.46510527j\n",
      "   40.76148316 -22.59178258j   45.00721168 -24.93852798j\n",
      "   49.69572187 -27.52779093j   54.87337851 -30.3841981j\n",
      "   60.59146556 -33.53472431j   66.90672976 -37.00886194j\n",
      "   73.88199145 -40.83878145j   81.58683305 -45.05947307j\n",
      "   90.09837782 -49.70885473j   99.50217425 -54.82782546j\n",
      "  109.89320459 -60.46023485j  121.37704012 -66.65272701j\n",
      "  134.07117035 -73.45440127j  148.10653830 -80.91620787j\n",
      "  163.62931971 -89.08996468j  180.80298774 -98.02683395j\n",
      "  199.81070577-107.7750321j   220.85808314-118.3764506j\n",
      "  244.17630307-129.86172955j  270.02556875-142.24312813j\n",
      "  298.69867669-155.5042526j   330.52424174-169.58529688j\n",
      "  365.86852550-184.36189156j  405.13368381-199.61493904j\n",
      "  448.74802693-214.98807127j  497.13963458-229.92918311j\n",
      "  550.67692726-243.61476219j  609.54735808-254.86573679j\n",
      "  673.53209983-262.09361128j  741.64647804-263.38437882j\n",
      "  811.73268451-256.92100191j  880.39635967-241.87961615j\n",
      "  943.86038797-219.35920443j]\n"
     ]
    }
   ],
   "source": [
    "freq_arr = np.array(freq[-1])\n",
    "print(freq_arr[::5])"
   ]
  },
  {
   "cell_type": "code",
   "execution_count": 6,
   "metadata": {
    "collapsed": true
   },
   "outputs": [],
   "source": [
    "# kde_start = kdi / np.sqrt(1836)\n",
    "# kde_end = np.sqrt(freq[1][0]**2 + freq[1][1]**2) /np.sqrt(1836) / np.sqrt(betap)\n",
    "# kde_list = np.logspace(np.log10(kde_start), np.log10(kde_end), len(freq_arr))\n",
    "\n",
    "krhoi_list = np.logspace(np.log10(k), np.log10(target_k), len(freq_arr))/np.sqrt(2)"
   ]
  },
  {
   "cell_type": "code",
   "execution_count": 7,
   "metadata": {},
   "outputs": [],
   "source": [
    "# np.save('data/ea_gary_krhoi', krhoi_list)\n",
    "# np.save('data/ea_gary_freq_theta_01', freq_arr/1836)"
   ]
  },
  {
   "cell_type": "code",
   "execution_count": 8,
   "metadata": {},
   "outputs": [],
   "source": [
    "nc_nh = n_list[2] / n_list[1]\n",
    "freq_ea_theory = krhoi_list * np.cos(np.deg2rad(theta)) * np.sqrt(1836 * the_tp * (nc_nh/(1+nc_nh)))"
   ]
  },
  {
   "cell_type": "code",
   "execution_count": 9,
   "metadata": {},
   "outputs": [
    {
     "data": {
      "text/plain": [
       "<matplotlib.text.Text at 0x108d0b748>"
      ]
     },
     "execution_count": 9,
     "metadata": {},
     "output_type": "execute_result"
    },
    {
     "data": {
      "image/png": "[encoded data removed]",
      "text/plain": [
       "<matplotlib.figure.Figure at 0x108cbbb70>"
      ]
     },
     "metadata": {},
     "output_type": "display_data"
    }
   ],
   "source": [
    "plt.plot(krhoi_list, freq_arr.real/1836)\n",
    "plt.plot(krhoi_list, freq_ea_theory/1836)\n",
    "plt.xlabel(r'$k\\rho_i$')\n",
    "plt.ylabel(r'$\\omega_r/\\omega_{ce}$')\n",
    "# plt.xlim([0.1, 2])\n",
    "# plt.ylim([0,.1])\n",
    "# plt.yscale('log')\n",
    "# plt.xscale('log')"
   ]
  },
  {
   "cell_type": "code",
   "execution_count": 10,
   "metadata": {},
   "outputs": [
    {
     "data": {
      "text/plain": [
       "<matplotlib.text.Text at 0x108dd5c50>"
      ]
     },
     "execution_count": 10,
     "metadata": {},
     "output_type": "execute_result"
    },
    {
     "data": {
      "image/png": "[encoded data removed]",
      "text/plain": [
       "<matplotlib.figure.Figure at 0x108e2e0f0>"
      ]
     },
     "metadata": {},
     "output_type": "display_data"
    }
   ],
   "source": [
    "plt.plot(krhoi_list, -freq_arr.imag/freq_arr.real)\n",
    "plt.xlabel(r'$k\\rho_i$')\n",
    "plt.ylabel(r'$-\\omega_i/\\omega_r$')\n",
    "# plt.ylim([0,.1])\n",
    "# plt.yscale('log')\n",
    "# plt.xscale('log')"
   ]
  },
  {
   "cell_type": "code",
   "execution_count": 25,
   "metadata": {},
   "outputs": [],
   "source": [
    "krhoi_list = np.load('data/ea_gary_krhoi.npy')\n",
    "freq_arr_01 = np.load('data/ea_gary_freq_theta_01.npy')\n",
    "freq_arr_30 = np.load('data/ea_gary_freq_theta_30.npy')\n",
    "freq_arr_60 = np.load('data/ea_gary_freq_theta_60.npy')"
   ]
  },
  {
   "cell_type": "code",
   "execution_count": 26,
   "metadata": {},
   "outputs": [
    {
     "data": {
      "text/plain": [
       "<matplotlib.legend.Legend at 0x11255ca20>"
      ]
     },
     "execution_count": 26,
     "metadata": {},
     "output_type": "execute_result"
    },
    {
     "data": {
      "image/png": "[encoded data removed]",
      "text/plain": [
       "<matplotlib.figure.Figure at 0x1122ce080>"
      ]
     },
     "metadata": {},
     "output_type": "display_data"
    }
   ],
   "source": [
    "plt.plot(krhoi_list, freq_arr_01.real, label = r'$\\theta=0.1^\\circ$')\n",
    "plt.plot(krhoi_list, freq_arr_30.real, label = r'$\\theta=30^\\circ$')\n",
    "plt.plot(krhoi_list, freq_arr_60.real, label = r'$\\theta=60^\\circ$')\n",
    "\n",
    "plt.xlabel(r'$k\\rho_i$')\n",
    "plt.ylabel(r'$\\omega_r/\\omega_{ce}$')\n",
    "plt.ylim([0, 1])\n",
    "plt.xlim([0, 30])\n",
    "plt.tight_layout()\n",
    "plt.grid()\n",
    "plt.legend(frameon = False)\n",
    "# plt.savefig('figure/ea_gary_dispersion_real.png')"
   ]
  },
  {
   "cell_type": "code",
   "execution_count": 27,
   "metadata": {},
   "outputs": [
    {
     "data": {
      "image/png": "[encoded data removed]",
      "text/plain": [
       "<matplotlib.figure.Figure at 0x1125bfd68>"
      ]
     },
     "metadata": {},
     "output_type": "display_data"
    }
   ],
   "source": [
    "# plt.plot(kde_list, freq_arr.imag/1836/np.cos(np.deg2rad(theta)))\n",
    "plt.plot(krhoi_list, -freq_arr_01.imag/freq_arr_01.real, label = r'$\\theta=0.1^\\circ$')\n",
    "plt.plot(krhoi_list, -freq_arr_30.imag/freq_arr_30.real, label = r'$\\theta=30^\\circ$')\n",
    "plt.plot(krhoi_list, -freq_arr_60.imag/freq_arr_60.real, label = r'$\\theta=60^\\circ$')\n",
    "plt.xlabel('$kc/\\omega_{pe}$')\n",
    "plt.ylabel(r'$-\\omega_i/\\omega_r $')\n",
    "plt.ylim([0, .6])\n",
    "plt.xlim([0, 30])\n",
    "plt.grid()\n",
    "plt.tight_layout()\n",
    "# plt.savefig('figure/ea_gary_dispersion_imag_1.png')"
   ]
  },
  {
   "cell_type": "code",
   "execution_count": 11,
   "metadata": {
    "collapsed": true
   },
   "outputs": [],
   "source": [
    "k_end = np.sqrt(freq[1][0]**2 + freq[1][1]**2)\n",
    "k_start = kdi_2_krhoi(kdi, betap)\n",
    "k_list = np.logspace(np.log10(k_start), np.log10(k_end), len(freq_arr))\n",
    "\n",
    "ex_ez_list = []\n",
    "ey_ez_list = []\n",
    "by_bx_list = []\n",
    "\n",
    "for i in range(len(k_list)):\n",
    "    freq_i = freq_arr[i]\n",
    "    kz, kp = kzkp(k_list[i], theta)\n",
    "#     inp = input_gen(freq_i, kp, kz, betap)\n",
    "    inp = input_gen(freq_i, kz, kp, betap, t_list, \\\n",
    "              a_list, n_list, q_list, m_list, v_list, \\\n",
    "              n, method = method, aol=aol)\n",
    "    tr = transport_ratios(inp, print_result = False)\n",
    "    eigen_e = tr['eigen_e']\n",
    "    kvec = np.array([kp, 0, kz])\n",
    "    khat = kvec/np.linalg.norm(kvec)\n",
    "    ez_prime = np.dot(eigen_e, khat) * khat\n",
    "    ey_prime = np.array([0, eigen_e[1], 0])\n",
    "    ex_prime = eigen_e - ez_prime - ey_prime\n",
    "    ex_ez = np.linalg.norm(ex_prime) / np.linalg.norm(ez_prime)\n",
    "    ey_ez = np.linalg.norm(ey_prime) / np.linalg.norm(ez_prime)\n",
    "    ex_ez_list.append(ex_ez)\n",
    "    ey_ez_list.append(ey_ez)\n",
    "    \n",
    "    eigen_b = np.cross(kvec, eigen_e)\n",
    "    bz_prime = np.dot(eigen_b, khat) * khat\n",
    "    by_prime = np.array([0, eigen_b[1], 0])\n",
    "    bx_prime = eigen_b - bz_prime - by_prime\n",
    "    by_bx = np.linalg.norm(bx_prime) / np.linalg.norm(by_prime)\n",
    "    by_bx_list.append(by_bx)"
   ]
  },
  {
   "cell_type": "code",
   "execution_count": 13,
   "metadata": {},
   "outputs": [
    {
     "data": {
      "image/png": "[encoded data removed]",
      "text/plain": [
       "<matplotlib.figure.Figure at 0x108d89128>"
      ]
     },
     "metadata": {},
     "output_type": "display_data"
    }
   ],
   "source": [
    "plt.plot(freq_arr.real/1836/np.cos(np.deg2rad(theta)), ex_ez_list, '.-', markersize = 1)\n",
    "plt.xlabel(r'$\\omega_i/\\omega_{ce} \\cos \\theta $')\n",
    "plt.ylabel('$E_y/E_z$')\n",
    "plt.axhline(1, linestyle='dashed', color='k')\n",
    "plt.axhline(0, linestyle='dashed', color='k')\n",
    "# plt.ylim([-4, 4])\n",
    "plt.xlim([0, 0.7])\n",
    "plt.tight_layout()\n",
    "# plt.savefig('ea_eyez_1.png')"
   ]
  },
  {
   "cell_type": "code",
   "execution_count": 15,
   "metadata": {
    "collapsed": true
   },
   "outputs": [],
   "source": [
    "def get_eigen_e(d):\n",
    "    det_22 = d[1,1]*d[2,2] - d[1,2]*d[2,1]\n",
    "    num_1 = -d[2,2]*d[1,0] + d[1,2]*d[2,0]\n",
    "    num_2 = d[2,1]*d[1,0] - d[1,1]*d[2,0]\n",
    "    return np.array([1, num_1/det_22, num_2/det_22])\n",
    "\n",
    "def get_transport_ratios(k_list, freq_arr):\n",
    "    ex_ez_list = []\n",
    "    ey_ez_list = []\n",
    "    by_bx_list = []\n",
    "    \n",
    "    eigen_e_list = []\n",
    "    eigen_b_list = []\n",
    "    dt_list = []\n",
    "\n",
    "    for i in range(len(k_list)):\n",
    "        freq_i = freq_arr[i]\n",
    "        kz, kp = kzkp(k_list[i], theta)\n",
    "#         inp = input_gen(freq_i, kp, kz, betap)\n",
    "        inp = input_gen(freq_i, kz, kp, betap, t_list, \\\n",
    "              a_list, n_list, q_list, m_list, v_list, \\\n",
    "              n, method = method, aol=aol)\n",
    "        \n",
    "    \n",
    "        # reshape the parameters to calculate dispersion tensor\n",
    "        param = list(map(list, zip(*inp)))\n",
    "        # dispersion tensor\n",
    "        dt = f_d(param)\n",
    "        dt_list.append(dt)\n",
    "        \n",
    "        tr = transport_ratios(inp, print_result = False)\n",
    "        eigen_e = tr['eigen_e']\n",
    "#         eigen_e = get_eigen_e(dt)\n",
    "        kvec = np.array([kp, 0, kz])\n",
    "        khat = kvec/np.linalg.norm(kvec)\n",
    "        ez_prime = np.dot(eigen_e, khat) * khat\n",
    "        ey_prime = np.array([0, eigen_e[1], 0])\n",
    "        ex_prime = eigen_e - ez_prime - ey_prime\n",
    "        ex_ez = np.linalg.norm(ex_prime) / np.linalg.norm(ez_prime)\n",
    "        ey_ez = np.linalg.norm(ey_prime) / np.linalg.norm(ez_prime)\n",
    "        ex_ez_list.append(ex_ez)\n",
    "        ey_ez_list.append(ey_ez)\n",
    "        \n",
    "        eigen_e_list.append(eigen_e)\n",
    "\n",
    "        eigen_b = np.cross(kvec, eigen_e)\n",
    "        bz_prime = np.dot(eigen_b, khat) * khat\n",
    "        by_prime = np.array([0, eigen_b[1], 0])\n",
    "        bx_prime = eigen_b - bz_prime - by_prime\n",
    "        by_bx = np.linalg.norm(bx_prime) / np.linalg.norm(by_prime)\n",
    "        by_bx_list.append(by_bx)\n",
    "        \n",
    "        eigen_b_list.append(eigen_b)\n",
    "    return {'exez': ex_ez_list, 'eyez': ey_ez_list, 'bybx': by_bx_list, 'eigen_e':eigen_e_list, 'eigen_b':eigen_b_list, 'dt': dt_list}"
   ]
  },
  {
   "cell_type": "code",
   "execution_count": 16,
   "metadata": {},
   "outputs": [],
   "source": [
    "k_end = np.sqrt(freq[1][0]**2 + freq[1][1]**2)\n",
    "k_start = kdi_2_krhoi(kdi, betap)\n",
    "k_list = np.logspace(np.log10(k_start), np.log10(k_end), len(freq_arr))"
   ]
  },
  {
   "cell_type": "code",
   "execution_count": 17,
   "metadata": {},
   "outputs": [],
   "source": [
    "ea_tr = get_transport_ratios(k_list, freq_arr)"
   ]
  },
  {
   "cell_type": "code",
   "execution_count": 18,
   "metadata": {},
   "outputs": [
    {
     "data": {
      "image/png": "[encoded data removed]",
      "text/plain": [
       "<matplotlib.figure.Figure at 0x108f0a978>"
      ]
     },
     "metadata": {},
     "output_type": "display_data"
    }
   ],
   "source": [
    "plt.plot(freq_arr.real/1836/np.cos(np.deg2rad(theta)), ea_tr['exez'], '.r', markersize = 1, label='electron acoustic')\n",
    "plt.xlabel(r'$\\omega_r/\\omega_{ce} \\cos \\theta $')\n",
    "plt.ylabel('$E_y/E_z$')\n",
    "plt.axhline(0, linestyle='dashed', color='k')\n",
    "# plt.ylim([-1, 6])\n",
    "# plt.xlim([0, 1])\n",
    "plt.tight_layout()\n",
    "# plt.savefig('whistler_ea_eyez_1.png')"
   ]
  },
  {
   "cell_type": "markdown",
   "metadata": {},
   "source": [
    "# Study the if proper eigen vectors are returned"
   ]
  },
  {
   "cell_type": "code",
   "execution_count": 19,
   "metadata": {},
   "outputs": [
    {
     "data": {
      "image/png": "[encoded data removed]",
      "text/plain": [
       "<matplotlib.figure.Figure at 0x108ffb470>"
      ]
     },
     "metadata": {},
     "output_type": "display_data"
    }
   ],
   "source": [
    "plt.plot(freq_arr.real/1836/np.cos(np.deg2rad(theta)), list(map(lambda x: abs(x[0]/x[1]), ea_tr['eigen_e'])), '.r', markersize = 1, label='electron acoustic')\n",
    "plt.xlabel(r'$\\omega_r/\\omega_{ce} \\cos \\theta $')\n",
    "plt.ylabel('$E_x/E_y$')\n",
    "plt.axhline(0, linestyle='dashed', color='k')\n",
    "# plt.ylim([-1, 6])\n",
    "# plt.xlim([0, 1])\n",
    "plt.yscale('log')\n",
    "plt.tight_layout()\n",
    "# plt.savefig('whistler_ea_eyez_1.png')"
   ]
  },
  {
   "cell_type": "code",
   "execution_count": 20,
   "metadata": {},
   "outputs": [
    {
     "name": "stdout",
     "output_type": "stream",
     "text": [
      "[[ -1.70099231e+05 -1.19473635e+02j  -6.29958240e+03 -1.17351185e+04j\n",
      "    2.94018092e+02 -4.17950789e-04j]\n",
      " [  6.29958240e+03 +1.17351185e+04j  -1.70099744e+05 -1.19473307e+02j\n",
      "    8.43120663e+00 -1.50584450e+01j]\n",
      " [  2.94018092e+02 -4.17950789e-04j  -8.43120663e+00 +1.50584450e+01j\n",
      "   -5.06161738e-01 +1.53128021e-03j]]\n"
     ]
    }
   ],
   "source": [
    "M = ea_tr['dt'][0]\n",
    "print(M)"
   ]
  },
  {
   "cell_type": "code",
   "execution_count": 21,
   "metadata": {},
   "outputs": [
    {
     "name": "stdout",
     "output_type": "stream",
     "text": [
      "[  1.00000000e+00+0.j           6.60610530e-02+0.01783487j\n",
      "   5.79236777e+02+3.42598716j]\n",
      "[   -3.80912268 -1.41091425e+01j     0.00000000 -1.00000000e+00j\n",
      " -2158.04620287 -8.18558424e+03j]\n"
     ]
    }
   ],
   "source": [
    "v = nullspace(M*1e-20)\n",
    "print(v/v[0])\n",
    "print(ea_tr['eigen_e'][0])"
   ]
  },
  {
   "cell_type": "code",
   "execution_count": 22,
   "metadata": {},
   "outputs": [],
   "source": [
    "u, s, vh = np.linalg.svd(M*1e-20)"
   ]
  },
  {
   "cell_type": "code",
   "execution_count": 23,
   "metadata": {},
   "outputs": [
    {
     "data": {
      "text/plain": [
       "array([  1.81939861e-15,   1.58494654e-15,   5.43132012e-26])"
      ]
     },
     "execution_count": 23,
     "metadata": {},
     "output_type": "execute_result"
    }
   ],
   "source": [
    "s"
   ]
  },
  {
   "cell_type": "code",
   "execution_count": 24,
   "metadata": {},
   "outputs": [
    {
     "data": {
      "text/plain": [
       "array([[  7.07105654e-01 +0.00000000e+00j,\n",
       "         -1.35052337e-07 +7.07106888e-01j,\n",
       "         -1.19941706e-03 -7.35502948e-05j],\n",
       "       [ -7.07105801e-01 +0.00000000e+00j,\n",
       "          1.43388151e-07 +7.07106665e-01j,\n",
       "          1.24200589e-03 -8.79904585e-05j],\n",
       "       [  1.72637693e-03 +0.00000000e+00j,\n",
       "          1.14046278e-04 -3.07896999e-05j,\n",
       "          9.99981012e-01 -5.91454521e-03j]])"
      ]
     },
     "execution_count": 24,
     "metadata": {},
     "output_type": "execute_result"
    }
   ],
   "source": [
    "vh"
   ]
  },
  {
   "cell_type": "code",
   "execution_count": 27,
   "metadata": {},
   "outputs": [
    {
     "data": {
      "text/plain": [
       "(489980.55932010605+125083.44683526622j)"
      ]
     },
     "execution_count": 27,
     "metadata": {},
     "output_type": "execute_result"
    }
   ],
   "source": [
    "np.linalg.det(ea_tr['dt'][10])"
   ]
  },
  {
   "cell_type": "code",
   "execution_count": 102,
   "metadata": {},
   "outputs": [
    {
     "data": {
      "text/plain": [
       "array([  1.00000000e+00 +0.00000000e+00j,\n",
       "         3.70567664e-02 +6.89611899e-02j,   6.27235443e-07 -9.72202511e-07j])"
      ]
     },
     "execution_count": 102,
     "metadata": {},
     "output_type": "execute_result"
    }
   ],
   "source": [
    "get_eigen_e(M)"
   ]
  },
  {
   "cell_type": "code",
   "execution_count": null,
   "metadata": {
    "collapsed": true
   },
   "outputs": [],
   "source": []
  }
 ],
 "metadata": {
  "kernelspec": {
   "display_name": "Python 3.6 (science)",
   "language": "python",
   "name": "science"
  },
  "language_info": {
   "codemirror_mode": {
    "name": "ipython",
    "version": 3
   },
   "file_extension": ".py",
   "mimetype": "text/x-python",
   "name": "python",
   "nbconvert_exporter": "python",
   "pygments_lexer": "ipython3",
   "version": "3.6.5"
  }
 },
 "nbformat": 4,
 "nbformat_minor": 2
}
