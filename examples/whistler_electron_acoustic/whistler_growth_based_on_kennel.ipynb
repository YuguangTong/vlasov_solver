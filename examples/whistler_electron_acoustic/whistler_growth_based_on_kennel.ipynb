{
 "cells": [
  {
   "cell_type": "code",
   "execution_count": 2,
   "metadata": {},
   "outputs": [],
   "source": [
    "import sys, os\n",
    "sys.path.insert(1, '../python')\n",
    "sys.path.insert(1, os.path.join(os.environ['GOOGLE_DRIVE'], 'research/packages/vlasov_solver'))"
   ]
  },
  {
   "cell_type": "code",
   "execution_count": 3,
   "metadata": {},
   "outputs": [],
   "source": [
    "import numpy as np\n",
    "import scipy.optimize\n",
    "from py_vlasov.util import zp, kzkp, list_to_complex, real_imag\n",
    "from py_vlasov.wrapper import oblique_wrapper, disp_det, input_gen\n",
    "from py_vlasov.transport_ratios import transport_ratios\n",
    "from py_vlasov.follow_parameter import follow_k\n",
    "import matplotlib.pyplot as plt\n",
    "import matplotlib as mpl\n",
    "\n",
    "mpl.rcParams['axes.labelsize'] = 20\n",
    "mpl.rcParams['xtick.labelsize'] = 16\n",
    "mpl.rcParams['ytick.labelsize'] = 16\n",
    "mpl.rcParams['axes.titlesize'] = 20\n",
    "mpl.rcParams['xtick.top'] = True\n",
    "mpl.rcParams['ytick.right'] = True\n",
    "mpl.rcParams['xtick.major.size'] = 6\n",
    "mpl.rcParams['ytick.major.size'] = 6\n",
    "mpl.rcParams['xtick.minor.size'] = 3.5\n",
    "mpl.rcParams['ytick.minor.size'] = 3.5\n",
    "mpl.rcParams['xtick.major.width'] = 1.1\n",
    "mpl.rcParams['ytick.major.width'] = 1.1\n",
    "mpl.rcParams['xtick.minor.width'] = .8\n",
    "mpl.rcParams['ytick.minor.width'] = .8\n",
    "#xtick.major.size     : 3.5      # major tick size in points\n",
    "#xtick.minor.size     : 2      # minor tick size in points\n",
    "#xtick.major.width    : 0.8    # major tick width in points\n",
    "#xtick.minor.width    : 0.6    # minor tick width in points\n",
    "%matplotlib inline"
   ]
  },
  {
   "cell_type": "code",
   "execution_count": 4,
   "metadata": {},
   "outputs": [],
   "source": [
    "def fast_freq(k, theta, betap):\n",
    "    kz, kp = kzkp(k, theta)\n",
    "    cos_theta = kz / k\n",
    "    kdi = k / np.sqrt(betap)\n",
    "    return kdi * np.sqrt(1 + kdi**2 * cos_theta**2)\n",
    "\n",
    "def whistler_freq(k, theta, betap):\n",
    "    kz, kp = kzkp(k, theta)\n",
    "    cos_theta = kz / k\n",
    "    kdi = k / np.sqrt(betap)\n",
    "    return 1836 * kdi**2 / (1836 + kdi**2) * cos_theta   \n",
    "\n",
    "def alfven_freq(k, theta, betap):\n",
    "    kz, kp = kzkp(k, theta)\n",
    "    return kz / np.sqrt(betap)\n",
    "\n",
    "def kdi_2_krhoi(kdi, betap):\n",
    "    return kdi * np.sqrt(betap)"
   ]
  },
  {
   "cell_type": "code",
   "execution_count": null,
   "metadata": {},
   "outputs": [],
   "source": [
    "theta = 0.1\n",
    "betap = 1.\n",
    "aol = 1e-4\n",
    "the_tp = 1\n",
    "tc_th = 5\n",
    "\n",
    "t_list=[1., the_tp, the_tp * tc_th]\n",
    "a_list=[1., 1., 1.]\n",
    "n_list=[1.,.95,.05] \n",
    "q_list=[1.,-1., -1.]\n",
    "m_list=[1., 1./1836., 1./1836]\n",
    "v_list=[0., -2, 38]\n",
    "n = 10\n",
    "method = 'pade'\n",
    "\n",
    "kdi = 1\n",
    "\n",
    "target_kde = 2\n",
    "target_kdi = target_kde * np.sqrt(1836)\n",
    "\n",
    "k = kdi_2_krhoi(kdi, betap)\n",
    "kz, kp = kzkp(k, theta)\n",
    "\n",
    "param = [kz, kp, betap, t_list, a_list, n_list, q_list,\n",
    "         m_list, v_list, n, method, aol]"
   ]
  },
  {
   "cell_type": "code",
   "execution_count": null,
   "metadata": {},
   "outputs": [],
   "source": [
    "freqs = []\n",
    "vdc_va_arr = [0, 0.3, 0.6, 1.0, 1.5, 2.0]\n",
    "target_k = kdi_2_krhoi(target_kdi, betap)\n",
    "print('target_k = {0:.2f}'.format(target_k))\n",
    "print('target_kde = {0:.3g}'.format(target_kdi / np.sqrt(1836.)))\n",
    "\n",
    "seed_freq = fast_freq(k, theta, betap)\n",
    "print('seed_freq = {0:.3g}'.format(seed_freq))\n",
    "for vdc_va in vdc_va_arr:\n",
    "    v_list = [0, -vdc_va, n_list[1]/n_list[2]*vdc_va]\n",
    "    param[8] = v_list\n",
    "    freq = follow_k(seed_freq, target_k, param,\n",
    "                    log_incrmt = 0.01, incrmt_method = 'log')\n",
    "    freqs.append(freq)"
   ]
  },
  {
   "cell_type": "code",
   "execution_count": null,
   "metadata": {},
   "outputs": [],
   "source": [
    "kde_start = kdi / np.sqrt(1836)\n",
    "kde_end = np.sqrt(freq[1][0]**2 + freq[1][1]**2) /np.sqrt(1836) / np.sqrt(betap)\n",
    "kde_list = np.logspace(np.log10(kde_start), np.log10(kde_end), len(freq[-1]))"
   ]
  },
  {
   "cell_type": "code",
   "execution_count": null,
   "metadata": {},
   "outputs": [],
   "source": [
    "plt.figure(figsize=[8, 6])\n",
    "plt.subplot(211)\n",
    "for i, vdc_va in enumerate(vdc_va_arr):\n",
    "    plt.plot(kde_list, list(map(lambda x: x.real/1836,freqs[i][-1])))\n",
    "plt.plot(kde_list, [whistler_freq(k*43, theta=0, betap=betap)/1836 for k in kde_list], label='analytic')\n",
    "plt.xlim([2e-2, 1])\n",
    "plt.ylim([1e-4, 0.4])\n",
    "plt.xscale('log')\n",
    "plt.yscale('log')\n",
    "plt.ylabel(r'$\\omega_r/\\Omega_{ce}$')\n",
    "plt.legend(loc='lower right')\n",
    "\n",
    "plt.subplot(212)\n",
    "for i, vdc_va in enumerate(vdc_va_arr):\n",
    "    plt.plot(kde_list, list(map(lambda x: x.imag/1836,freqs[i][-1])), label=r'$v_{0c}/v_A=$' +'{0:.2g}'.format(vdc_va))\n",
    "plt.ylim([-1e-3, 2e-3])\n",
    "plt.xlim([2e-2, 1])\n",
    "plt.xscale('log')\n",
    "plt.legend(loc='upper right')\n",
    "plt.ylabel(r'$\\omega_i/\\Omega_{ce}$')\n",
    "plt.xlabel(r'$kc/\\omega_{pe}$')\n",
    "plt.tight_layout()\n",
    "# plt.savefig('figure/whistler_heatflux_vs_drift.png', dpi=100)"
   ]
  },
  {
   "cell_type": "code",
   "execution_count": null,
   "metadata": {},
   "outputs": [],
   "source": [
    "!ls figure/"
   ]
  },
  {
   "cell_type": "markdown",
   "metadata": {},
   "source": [
    "## Compare with Kennel 1966"
   ]
  },
  {
   "cell_type": "code",
   "execution_count": 8,
   "metadata": {},
   "outputs": [],
   "source": [
    "# v0c_va = -0\n",
    "nc_nh = 19\n",
    "# v0h_va = - nc_nh * nc_nh\n",
    "a_c = 1\n",
    "a_h = 1\n",
    "thpar_tcpar = 5\n",
    "tcpar_tp = 1\n",
    "beta_p = 1\n",
    "mi_me = 1836\n",
    "thpar_tp = tcpar_tp * thpar_tcpar\n",
    "# k: kdi\n",
    "# omega: w / Omega_ci\n",
    "def A(k, omega, v0c_va):\n",
    "    v0h_va = - v0c_va * nc_nh\n",
    "    v0c_vr = v0c_va / mi_me * k / (omega / mi_me - 1)\n",
    "    v0h_vr = - v0c_vr * nc_nh\n",
    "    vr_wparc = (omega / mi_me - 1) / k * np.sqrt(mi_me * 1/ tcpar_tp) / np.sqrt(beta_p)\n",
    "    vr_wparh = (omega / mi_me - 1) / k * np.sqrt(mi_me * 1/ thpar_tp) / np.sqrt(beta_p)\n",
    "    denominator_c = np.exp(- (vr_wparc * (1 - v0c_vr))**2)\n",
    "    denominator_h = (1 / nc_nh / np.sqrt(thpar_tcpar)) * np.exp(-(vr_wparh * (1 - v0h_vr))**2)\n",
    "    numerator_c = ((1 - v0c_vr) * a_c - 1) * denominator_c\n",
    "    numerator_h = ((1 - v0h_vr) * a_h - 1) * denominator_h\n",
    "    numerator = numerator_c + numerator_h\n",
    "    denominator = denominator_c + denominator_h\n",
    "    if numerator == 0:\n",
    "        return 0\n",
    "    result = numerator / denominator - 1 / (mi_me / omega - 1)\n",
    "#     print('k={0:.2g}, vr_v0h={1:.2g}, vr_wparh={2:.2g}, result={3:.2g}'.format(k, 1/v0h_vr, vr_wparh, result))\n",
    "    return result"
   ]
  },
  {
   "cell_type": "code",
   "execution_count": 16,
   "metadata": {},
   "outputs": [],
   "source": [
    "kde_list = np.linspace(0.01, 1., 100)\n",
    "kdi_list = kde_list * np.sqrt(mi_me)\n",
    "# omega_list = np.array(list(map(lambda x: x.real,freqs[0][-1])))\n",
    "omega_list = [whistler_freq(k, theta=0, betap=1) for k in kdi_list]"
   ]
  },
  {
   "cell_type": "code",
   "execution_count": 17,
   "metadata": {},
   "outputs": [],
   "source": [
    "A_list = [A(k, omega, v0c_va=-1) for k, omega in zip(kdi_list, omega_list)]"
   ]
  },
  {
   "cell_type": "code",
   "execution_count": 18,
   "metadata": {},
   "outputs": [
    {
     "data": {
      "text/plain": [
       "[<matplotlib.lines.Line2D at 0x114288710>]"
      ]
     },
     "execution_count": 18,
     "metadata": {},
     "output_type": "execute_result"
    },
    {
     "data": {
      "image/png": "[encoded data removed]",
      "text/plain": [
       "<Figure size 432x288 with 1 Axes>"
      ]
     },
     "metadata": {},
     "output_type": "display_data"
    }
   ],
   "source": [
    "plt.plot(np.array(omega_list)/1836, A_list)"
   ]
  },
  {
   "cell_type": "code",
   "execution_count": 12,
   "metadata": {},
   "outputs": [
    {
     "data": {
      "image/png": "[encoded data removed]",
      "text/plain": [
       "<Figure size 432x288 with 1 Axes>"
      ]
     },
     "metadata": {},
     "output_type": "display_data"
    }
   ],
   "source": [
    "for v0c_va in [ -4]:\n",
    "    A_list = [A(k, omega, v0c_va=v0c_va) for k, omega in zip(kdi_list, omega_list)]\n",
    "    plt.plot(kdi_list / np.sqrt(mi_me), A_list, label=r'$v_{0c}/v_A=$' +'{0:.2g}'.format(v0c_va))\n",
    "plt.xlabel(r'$kd_e$')\n",
    "plt.ylabel(r'$A^{-} - \\omega / (|\\Omega_{ce}| - \\omega)$')\n",
    "plt.axhline(0, linestyle='dashed', color='k')\n",
    "plt.xlim([0, 1])\n",
    "plt.ylim([-2, 1])\n",
    "plt.legend(loc='lower left', fontsize=12)\n",
    "plt.show()"
   ]
  },
  {
   "cell_type": "code",
   "execution_count": null,
   "metadata": {},
   "outputs": [],
   "source": []
  }
 ],
 "metadata": {
  "kernelspec": {
   "display_name": "Python 3.6 (science)",
   "language": "python",
   "name": "science"
  },
  "language_info": {
   "codemirror_mode": {
    "name": "ipython",
    "version": 3
   },
   "file_extension": ".py",
   "mimetype": "text/x-python",
   "name": "python",
   "nbconvert_exporter": "python",
   "pygments_lexer": "ipython3",
   "version": "3.6.5"
  }
 },
 "nbformat": 4,
 "nbformat_minor": 2
}
