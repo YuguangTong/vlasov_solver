{
 "cells": [
  {
   "cell_type": "code",
   "execution_count": 6,
   "metadata": {},
   "outputs": [
    {
     "name": "stdout",
     "output_type": "stream",
     "text": [
      "The autoreload extension is already loaded. To reload it, use:\n",
      "  %reload_ext autoreload\n"
     ]
    }
   ],
   "source": [
    "import sys, os\n",
    "sys.path.insert(1, '../python')\n",
    "sys.path.insert(1, os.path.join(os.environ['GOOGLE_DRIVE'], 'research/projects/my_dshark/py_dshark'))\n",
    "sys.path.insert(1, os.path.join(os.environ['GOOGLE_DRIVE'], 'research/projects/electron_drifts/extended_python'))\n",
    "sys.path.insert(1, os.path.join(os.environ['GOOGLE_DRIVE'], 'research/packages/vlasov_solver'))\n",
    "%load_ext autoreload\n",
    "%autoreload 2"
   ]
  },
  {
   "cell_type": "code",
   "execution_count": 7,
   "metadata": {},
   "outputs": [
    {
     "name": "stdout",
     "output_type": "stream",
     "text": [
      "The autoreload extension is already loaded. To reload it, use:\n",
      "  %reload_ext autoreload\n"
     ]
    }
   ],
   "source": [
    "import numpy as np\n",
    "import pandas as pd\n",
    "import matplotlib.pyplot as plt\n",
    "import matplotlib as mpl\n",
    "import py_dshark\n",
    "import pickle\n",
    "import glob\n",
    "from extended_util import (kaw_disp_k_space_search,\n",
    "                           kaw_disp_k_space_interval_search,\n",
    "                           save_disp_data, \n",
    "                           process_stage_1_data, \n",
    "                           disp_fix_angle_search,\n",
    "                           disp_fix_angle_interval_search,\n",
    "                           kaw_disp_fixed_k_search,\n",
    "                           kaw_disp_core_drift_search\n",
    "                          )\n",
    "from py_vlasov.util import zp, kzkp, list_to_complex, real_imag\n",
    "from py_vlasov.follow_parameter import follow_k\n",
    "\n",
    "import time\n",
    "\n",
    "mpl.rcParams['axes.labelsize'] = 20\n",
    "mpl.rcParams['xtick.labelsize'] = 16\n",
    "mpl.rcParams['ytick.labelsize'] = 16\n",
    "mpl.rcParams['axes.titlesize'] = 20\n",
    "mpl.rcParams['xtick.top'] = True\n",
    "mpl.rcParams['ytick.right'] = True\n",
    "mpl.rcParams['xtick.major.size'] = 6\n",
    "mpl.rcParams['ytick.major.size'] = 6\n",
    "mpl.rcParams['xtick.minor.size'] = 3.5\n",
    "mpl.rcParams['ytick.minor.size'] = 3.5\n",
    "mpl.rcParams['xtick.major.width'] = 1.1\n",
    "mpl.rcParams['ytick.major.width'] = 1.1\n",
    "mpl.rcParams['xtick.minor.width'] = .8\n",
    "mpl.rcParams['ytick.minor.width'] = .8\n",
    "mpl.rcParams['legend.fontsize'] = 14\n",
    "#xtick.major.size     : 3.5      # major tick size in points\n",
    "#xtick.minor.size     : 2      # minor tick size in points\n",
    "#xtick.major.width    : 0.8    # major tick width in points\n",
    "#xtick.minor.width    : 0.6    # minor tick width in points\n",
    "\n",
    "%load_ext autoreload\n",
    "%autoreload 2\n",
    "%matplotlib inline"
   ]
  },
  {
   "cell_type": "code",
   "execution_count": null,
   "metadata": {},
   "outputs": [],
   "source": []
  },
  {
   "cell_type": "markdown",
   "metadata": {},
   "source": [
    "# dshark"
   ]
  },
  {
   "cell_type": "code",
   "execution_count": 8,
   "metadata": {},
   "outputs": [],
   "source": [
    "def fast_freq(kdi, theta):\n",
    "    return kdi * np.sqrt(1 + kdi**2 * np.cos(np.deg2rad(theta))**2)\n",
    "\n",
    "def whistler_freq(kdi, theta):\n",
    "    return 1836 * kdi**2 / (1836 + kdi**2) * np.cos(np.deg2rad(theta))\n",
    "\n",
    "p_global = {}\n",
    "p_global['nspecies_in'] = 3\n",
    "p_global['q_in'] = np.array([1., -1., -1.])\n",
    "p_global['mu_in'] = np.array([1., 1836., 1836.])\n",
    "p_global['dens_in'] = np.array([1., .8, .2])\n",
    "v0c_va = -2.5\n",
    "p_global['drift_in'] = np.array([0., v0c_va, -p_global['dens_in'][1]/p_global['dens_in'][2]* v0c_va])\n",
    "t_in = np.array([1, 1, 6])\n",
    "beta_0 = 1.\n",
    "anisotropy = np.array([1, 1, 1.2])\n",
    "p_global['beta_para_in'] = beta_0 * t_in * p_global['dens_in']\n",
    "p_global['beta_perp_in'] = beta_0 * t_in * p_global['dens_in'] * anisotropy\n",
    "p_global['kappa_in'] = np.array([50, 50, 50])\n",
    "p_global['delta_in'] = 1e-3\n",
    "p_global['increment_r'] = 0\n",
    "p_global['increment_i'] = 0\n",
    "p_global['rf_error_in'] = 1e-4\n",
    "p_global['eps_error_in'] = 1e-6\n",
    "p_global['omega_r_range'] = [0, 2000]\n",
    "p_global['omega_i_range'] = [-2000, 2000]\n",
    "p_global['omega_i_omega_r_range'] = 1.\n",
    "p_global['parallel_mode_in'] = 0"
   ]
  },
  {
   "cell_type": "code",
   "execution_count": 9,
   "metadata": {},
   "outputs": [
    {
     "name": "stdout",
     "output_type": "stream",
     "text": [
      "guess=1.41\n",
      "found: 1.8-0.00135j\n"
     ]
    }
   ],
   "source": [
    "k_intervals=[1, 5, 20, 45]\n",
    "nks=[20, 30, 25]\n",
    "theta = 0\n",
    "# init_guess = 1.4 - 0.9j\n",
    "init_guess = fast_freq(k_intervals[0], theta) * (1 + p_global['drift_in'][0]) \n",
    "# init_guess = whistler_freq(k_intervals[0], theta) * (1 + p_global['drift_in'][0])\n",
    "print('guess={0:.3g}'.format(init_guess))\n",
    "dshark_k, dshark_disp = disp_fix_angle_interval_search(p_global, theta, init_guess, k_intervals=k_intervals, nks=nks)\n",
    "print('found: {0:.3g}'.format(dshark_disp[0]))"
   ]
  },
  {
   "cell_type": "markdown",
   "metadata": {},
   "source": [
    "# vlasov_solver"
   ]
  },
  {
   "cell_type": "code",
   "execution_count": 10,
   "metadata": {},
   "outputs": [],
   "source": [
    "def kdi_2_krhoi(kdi, betap):\n",
    "    return kdi * np.sqrt(betap)"
   ]
  },
  {
   "cell_type": "code",
   "execution_count": 11,
   "metadata": {},
   "outputs": [],
   "source": [
    "theta = 0\n",
    "aol = p_global['delta_in']\n",
    "\n",
    "t_list=t_in\n",
    "a_list=anisotropy\n",
    "n_list=p_global['dens_in']\n",
    "q_list=[1.,-1., -1.]\n",
    "m_list=[1., 1./1836., 1./1836]\n",
    "v_list=p_global['drift_in']\n",
    "n = 10\n",
    "method = 'numpy'\n",
    "\n",
    "kdi = 1\n",
    "\n",
    "target_kde = 1\n",
    "target_kdi = target_kde * np.sqrt(1836)\n",
    "target_k = kdi_2_krhoi(target_kdi, beta_0)\n",
    "\n",
    "k = kdi_2_krhoi(kdi, beta_0)\n",
    "kz, kp = kzkp(k, theta)\n",
    "\n",
    "param = [kz, kp, beta_0, t_list, a_list, n_list, q_list,\n",
    "         m_list, v_list, n, method, aol]"
   ]
  },
  {
   "cell_type": "code",
   "execution_count": 12,
   "metadata": {},
   "outputs": [],
   "source": [
    "seed_freq = init_guess\n",
    "freq = follow_k(seed_freq, target_k, param,\n",
    "                log_incrmt = 0.01, incrmt_method = 'log')"
   ]
  },
  {
   "cell_type": "code",
   "execution_count": 13,
   "metadata": {},
   "outputs": [],
   "source": [
    "kde_start = kdi / np.sqrt(1836)\n",
    "kde_end = np.sqrt(freq[1][0]**2 + freq[1][1]**2) /np.sqrt(1836) / np.sqrt(beta_0)\n",
    "vs_k = np.logspace(np.log10(kde_start), np.log10(kde_end), len(freq[-1]))\n",
    "vs_disp = np.array(freq[-1])"
   ]
  },
  {
   "cell_type": "markdown",
   "metadata": {},
   "source": [
    "# Kennel's formula"
   ]
  },
  {
   "cell_type": "code",
   "execution_count": 14,
   "metadata": {},
   "outputs": [],
   "source": [
    "def kennel_growth_rate(k, omega, nc_n0, beta_cpar, beta_hpar, v0c_vae, a_c, a_h):\n",
    "    nh_n0 = 1 - nc_n0\n",
    "    v0h_vae = - v0c_vae * nc_n0 / nh_n0\n",
    "    vr_wparc = (omega - 1) / k / np.sqrt(beta_cpar)\n",
    "    vr_wparh = (omega - 1) / k / np.sqrt(beta_hpar)\n",
    "    v0c_vr = v0c_vae * k / (omega - 1)\n",
    "    v0h_vr = v0h_vae * k / (omega - 1)\n",
    "    \n",
    "    q_c = np.exp(- (vr_wparc * (1 - v0c_vr))**2)\n",
    "    q_h = np.exp(- (vr_wparh * (1 - v0h_vr))**2)\n",
    "    B_c = (1 -  v0c_vr) * a_c - 1\n",
    "    B_h = (1 - v0h_vr) * a_h - 1\n",
    "    A_numerator = nc_n0 * B_c * q_c / np.sqrt(beta_cpar) + nh_n0 * B_h * q_h / np.sqrt(beta_hpar)\n",
    "    A_denominator = nc_n0 * q_c / np.sqrt(beta_cpar) + nh_n0 * q_h / np.sqrt(beta_hpar)\n",
    "    eta = (1 - omega) / np.sqrt(np.pi) / k * (nc_n0 * q_c / np.sqrt(beta_cpar) + nh_n0 * q_h / np.sqrt(beta_hpar))\n",
    "    if A_denominator == 0:\n",
    "        A = 0\n",
    "    else:\n",
    "        A = A_numerator / A_denominator\n",
    "    growth_rate = np.pi * (1 - omega)**2 * eta * (A - omega / (1 - omega))\n",
    "    return growth_rate"
   ]
  },
  {
   "cell_type": "code",
   "execution_count": 15,
   "metadata": {},
   "outputs": [],
   "source": [
    "v0c_va = v_list[1]\n",
    "nc_n0 = n_list[1]\n",
    "beta_cpar = beta_0 * t_list[1]\n",
    "beta_hpar = beta_0 * t_list[2]\n",
    "v0c_vae = v0c_va / np.sqrt(1836)\n",
    "a_c = a_list[1]\n",
    "a_h = a_list[2]\n",
    "def helper(k, omega):\n",
    "    return kennel_growth_rate(k, omega, nc_n0, beta_cpar, beta_hpar, v0c_vae, a_c, a_h)\n",
    "kennel_k = vs_k\n",
    "kennel_omega = vs_disp.real / 1836\n",
    "kennel_gamma = np.array([helper(k, omega) for k, omega in zip(kennel_k, kennel_omega)])"
   ]
  },
  {
   "cell_type": "code",
   "execution_count": 16,
   "metadata": {},
   "outputs": [
    {
     "data": {
      "text/plain": [
       "<matplotlib.legend.Legend at 0x109948240>"
      ]
     },
     "execution_count": 16,
     "metadata": {},
     "output_type": "execute_result"
    },
    {
     "data": {
      "image/png": "[encoded data removed]",
      "text/plain": [
       "<Figure size 432x288 with 1 Axes>"
      ]
     },
     "metadata": {},
     "output_type": "display_data"
    }
   ],
   "source": [
    "plt.plot(vs_disp.real/1836, vs_disp.imag/1836, label='vs')\n",
    "plt.plot(dshark_disp.real / 1836, dshark_disp.imag / 1836, '--', label='dshark')\n",
    "plt.plot(kennel_omega, kennel_gamma/1.2, ':', label='Kennel')\n",
    "plt.ylim([-3e-4, 3e-2])\n",
    "plt.xlim([0, 0.2])\n",
    "plt.legend()"
   ]
  },
  {
   "cell_type": "code",
   "execution_count": 12,
   "metadata": {},
   "outputs": [
    {
     "data": {
      "image/png": "[encoded data removed]",
      "text/plain": [
       "<Figure size 432x288 with 1 Axes>"
      ]
     },
     "metadata": {},
     "output_type": "display_data"
    }
   ],
   "source": [
    "plt.plot(vs_k, vs_disp.real)\n",
    "plt.plot(dshark_k/43, dshark_disp.real, '--')\n",
    "plt.yscale('log')\n",
    "plt.xscale('log')"
   ]
  },
  {
   "cell_type": "code",
   "execution_count": null,
   "metadata": {},
   "outputs": [],
   "source": []
  }
 ],
 "metadata": {
  "kernelspec": {
   "display_name": "Python 3.6 (science)",
   "language": "python",
   "name": "science"
  },
  "language_info": {
   "codemirror_mode": {
    "name": "ipython",
    "version": 3
   },
   "file_extension": ".py",
   "mimetype": "text/x-python",
   "name": "python",
   "nbconvert_exporter": "python",
   "pygments_lexer": "ipython3",
   "version": "3.6.5"
  }
 },
 "nbformat": 4,
 "nbformat_minor": 2
}
