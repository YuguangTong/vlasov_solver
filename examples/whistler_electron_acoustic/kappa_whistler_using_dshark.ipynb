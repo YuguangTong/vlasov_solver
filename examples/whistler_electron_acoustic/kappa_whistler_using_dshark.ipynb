{
 "cells": [
  {
   "cell_type": "code",
   "execution_count": 33,
   "metadata": {},
   "outputs": [
    {
     "name": "stdout",
     "output_type": "stream",
     "text": [
      "The autoreload extension is already loaded. To reload it, use:\n",
      "  %reload_ext autoreload\n"
     ]
    }
   ],
   "source": [
    "import sys, os\n",
    "sys.path.insert(1, '../python')\n",
    "sys.path.insert(1, os.path.join(os.environ['GOOGLE_DRIVE'], 'research/projects/my_dshark/py_dshark'))\n",
    "sys.path.insert(1, os.path.join(os.environ['GOOGLE_DRIVE'], 'research/projects/electron_drifts/extended_python'))\n",
    "%load_ext autoreload\n",
    "%autoreload 2"
   ]
  },
  {
   "cell_type": "code",
   "execution_count": 2,
   "metadata": {},
   "outputs": [
    {
     "name": "stdout",
     "output_type": "stream",
     "text": [
      "The autoreload extension is already loaded. To reload it, use:\n",
      "  %reload_ext autoreload\n"
     ]
    }
   ],
   "source": [
    "import numpy as np\n",
    "import pandas as pd\n",
    "import matplotlib.pyplot as plt\n",
    "import matplotlib as mpl\n",
    "import py_dshark\n",
    "import pickle\n",
    "import glob\n",
    "from extended_util import (kaw_disp_k_space_search,\n",
    "                           kaw_disp_k_space_interval_search,\n",
    "                           save_disp_data, \n",
    "                           process_stage_1_data, \n",
    "                           disp_fix_angle_search,\n",
    "                           disp_fix_angle_interval_search,\n",
    "                           kaw_disp_fixed_k_search,\n",
    "                           kaw_disp_core_drift_search\n",
    "                          )\n",
    "import multiprocessing as mp\n",
    "from scipy import interpolate\n",
    "import time\n",
    "\n",
    "mpl.rcParams['axes.labelsize'] = 20\n",
    "mpl.rcParams['xtick.labelsize'] = 16\n",
    "mpl.rcParams['ytick.labelsize'] = 16\n",
    "mpl.rcParams['axes.titlesize'] = 20\n",
    "mpl.rcParams['xtick.top'] = True\n",
    "mpl.rcParams['ytick.right'] = True\n",
    "mpl.rcParams['xtick.major.size'] = 6\n",
    "mpl.rcParams['ytick.major.size'] = 6\n",
    "mpl.rcParams['xtick.minor.size'] = 3.5\n",
    "mpl.rcParams['ytick.minor.size'] = 3.5\n",
    "mpl.rcParams['xtick.major.width'] = 1.1\n",
    "mpl.rcParams['ytick.major.width'] = 1.1\n",
    "mpl.rcParams['xtick.minor.width'] = .8\n",
    "mpl.rcParams['ytick.minor.width'] = .8\n",
    "mpl.rcParams['legend.fontsize'] = 14\n",
    "#xtick.major.size     : 3.5      # major tick size in points\n",
    "#xtick.minor.size     : 2      # minor tick size in points\n",
    "#xtick.major.width    : 0.8    # major tick width in points\n",
    "#xtick.minor.width    : 0.6    # minor tick width in points\n",
    "\n",
    "%load_ext autoreload\n",
    "%autoreload 2\n",
    "%matplotlib inline"
   ]
  },
  {
   "cell_type": "code",
   "execution_count": 18,
   "metadata": {},
   "outputs": [],
   "source": [
    "def fast_freq(kdi, theta):\n",
    "    return kdi * np.sqrt(1 + kdi**2 * np.cos(np.deg2rad(theta))**2)\n",
    "\n",
    "def whistler_freq(kdi, theta):\n",
    "    return 1836 * kdi**2 / (1836 + kdi**2) * np.cos(np.deg2rad(theta))\n",
    "\n",
    "p_global = {}\n",
    "p_global['nspecies_in'] = 3\n",
    "p_global['q_in'] = np.array([1., -1., -1.])\n",
    "p_global['mu_in'] = np.array([1., 1836., 1836.])\n",
    "p_global['dens_in'] = np.array([1., .95, .05])\n",
    "vdc_va = 0\n",
    "p_global['drift_in'] = np.array([0., vdc_va, -p_global['dens_in'][1]/p_global['dens_in'][2]* vdc_va])\n",
    "t_in = np.array([1, 1, 10])\n",
    "beta_0 = 0.04\n",
    "anisotropy = np.array([1, 1, 1])\n",
    "p_global['beta_para_in'] = beta_0 * t_in * p_global['dens_in']\n",
    "p_global['beta_perp_in'] = beta_0 * t_in * p_global['dens_in'] * anisotropy\n",
    "p_global['kappa_in'] = np.array([50, 50, 50])\n",
    "p_global['delta_in'] = 1e-4\n",
    "p_global['increment_r'] = 0\n",
    "p_global['increment_i'] = 0\n",
    "p_global['rf_error_in'] = 1e-4\n",
    "p_global['eps_error_in'] = 1e-6\n",
    "p_global['omega_r_range'] = [0, 2000]\n",
    "p_global['omega_i_range'] = [-2000, 2000]\n",
    "p_global['omega_i_omega_r_range'] = 1.\n",
    "p_global['parallel_mode_in'] = 0"
   ]
  },
  {
   "cell_type": "code",
   "execution_count": 19,
   "metadata": {},
   "outputs": [
    {
     "name": "stdout",
     "output_type": "stream",
     "text": [
      "guess=1.41\n",
      "found: 1.62-6.05e-11j\n"
     ]
    }
   ],
   "source": [
    "k_intervals=[1, 5, 20]\n",
    "nks=[20, 30]\n",
    "theta = 0\n",
    "# init_guess = 1.4 - 0.9j\n",
    "init_guess = fast_freq(k_intervals[0], theta) * (1 + p_global['drift_in'][0]) \n",
    "# init_guess = whistler_freq(k_intervals[0], theta) * (1 + p_global['drift_in'][0])\n",
    "print('guess={0:.3g}'.format(init_guess))\n",
    "k_range, disp = disp_fix_angle_interval_search(p_global, theta, init_guess, k_intervals=k_intervals, nks=nks)\n",
    "print('found: {0:.3g}'.format(disp[0]))"
   ]
  },
  {
   "cell_type": "code",
   "execution_count": 15,
   "metadata": {},
   "outputs": [
    {
     "name": "stdout",
     "output_type": "stream",
     "text": [
      "guess=1.41\n",
      "found: 1.6+1.86e-12j\n",
      "guess=1.41\n",
      "found: 1.6-9.56e-12j\n",
      "guess=1.41\n",
      "found: 1.6-7.06e-12j\n"
     ]
    }
   ],
   "source": [
    "k_intervals=[1, 5, 20, 45]\n",
    "nks=[20, 30, 25]\n",
    "theta = 0\n",
    "init_guess = fast_freq(k_intervals[0], theta) * (1 + p_global['drift_in'][0]) \n",
    "result = {}\n",
    "for kappa in [4, 8, 50]:\n",
    "    print('guess={0:.3g}'.format(init_guess))\n",
    "    p = p_global.copy()\n",
    "    p['kappa_in'] = [50, 50, kappa]\n",
    "    k_range, disp = disp_fix_angle_interval_search(p, theta, init_guess, k_intervals=k_intervals, nks=nks)\n",
    "    print('found: {0:.3g}'.format(disp[0]))\n",
    "    result[kappa] = (k_range, disp)\n",
    "    "
   ]
  },
  {
   "cell_type": "code",
   "execution_count": 23,
   "metadata": {},
   "outputs": [
    {
     "data": {
      "image/png": "[encoded data removed]",
      "text/plain": [
       "<Figure size 576x432 with 2 Axes>"
      ]
     },
     "metadata": {},
     "output_type": "display_data"
    }
   ],
   "source": [
    "plt.figure(figsize=[8, 6])\n",
    "plt.subplot(211)\n",
    "for kappa in [4, 8, 50]:\n",
    "    k_range, disp = result[kappa]\n",
    "    plt.plot(k_range/43, disp.real/1836, '-', label=f'$\\kappa=${kappa}')\n",
    "\n",
    "plt.subplot(212)\n",
    "for kappa in [4, 8, 50]:\n",
    "    k_range, disp = result[kappa]\n",
    "    plt.plot(k_range/43, disp.imag/1836, '-', label=f'$\\kappa=${kappa}')\n",
    "plt.legend(loc='upper left')\n",
    "plt.ylim([-1e-4, 3e-4])\n",
    "plt.tight_layout()\n",
    "plt.show()"
   ]
  },
  {
   "cell_type": "code",
   "execution_count": 24,
   "metadata": {},
   "outputs": [
    {
     "name": "stdout",
     "output_type": "stream",
     "text": [
      "guess=1.41\n",
      "found: 1.62-6.05e-11j\n"
     ]
    }
   ],
   "source": [
    "k_intervals=[1, 5, 20, 45]\n",
    "nks=[20, 30, 25]\n",
    "theta = 0\n",
    "p = p_global.copy()\n",
    "p['drift_in'] = [0, 0, 0]\n",
    "init_guess = fast_freq(k_intervals[0], theta) \n",
    "print('guess={0:.3g}'.format(init_guess))\n",
    "k_range, disp = disp_fix_angle_interval_search(p, theta, init_guess, k_intervals=k_intervals, nks=nks)\n",
    "print('found: {0:.3g}'.format(disp[0]))"
   ]
  },
  {
   "cell_type": "code",
   "execution_count": 26,
   "metadata": {},
   "outputs": [
    {
     "data": {
      "image/png": "[encoded data removed]",
      "text/plain": [
       "<Figure size 432x288 with 1 Axes>"
      ]
     },
     "metadata": {},
     "output_type": "display_data"
    }
   ],
   "source": [
    "plt.plot(k_range, disp.real)\n",
    "for kappa in [4, 8, 50]:\n",
    "    k_range, disp = result[kappa]\n",
    "    plt.plot(k_range/43, disp.real/1836, '-', label=f'$\\kappa=${kappa}')"
   ]
  },
  {
   "cell_type": "code",
   "execution_count": 28,
   "metadata": {},
   "outputs": [
    {
     "data": {
      "text/plain": [
       "array([ 1. ,  1.2,  1.4,  1.6,  1.8,  2. ,  2.2,  2.4,  2.6,  2.8,  3. ,\n",
       "        3.2,  3.4,  3.6,  3.8,  4. ,  4.2,  4.4,  4.6,  4.8,  5. ,  5.5,\n",
       "        6. ,  6.5,  7. ,  7.5,  8. ,  8.5,  9. ,  9.5, 10. , 10.5, 11. ,\n",
       "       11.5, 12. , 12.5, 13. , 13.5, 14. , 14.5, 15. , 15.5, 16. , 16.5,\n",
       "       17. , 17.5, 18. , 18.5, 19. , 19.5, 20. , 21. , 22. , 23. , 24. ,\n",
       "       25. , 26. , 27. , 28. , 29. , 30. , 31. , 32. , 33. , 34. , 35. ,\n",
       "       36. , 37. , 38. , 39. , 40. , 41. , 42. , 43. , 44. ])"
      ]
     },
     "execution_count": 28,
     "metadata": {},
     "output_type": "execute_result"
    }
   ],
   "source": [
    "k_range"
   ]
  },
  {
   "cell_type": "code",
   "execution_count": null,
   "metadata": {},
   "outputs": [],
   "source": []
  }
 ],
 "metadata": {
  "kernelspec": {
   "display_name": "Python 3.6 (science)",
   "language": "python",
   "name": "science"
  },
  "language_info": {
   "codemirror_mode": {
    "name": "ipython",
    "version": 3
   },
   "file_extension": ".py",
   "mimetype": "text/x-python",
   "name": "python",
   "nbconvert_exporter": "python",
   "pygments_lexer": "ipython3",
   "version": "3.6.5"
  }
 },
 "nbformat": 4,
 "nbformat_minor": 2
}
