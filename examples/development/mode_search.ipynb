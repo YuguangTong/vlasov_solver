{
 "cells": [
  {
   "cell_type": "markdown",
   "metadata": {},
   "source": [
    "# Script to find MHD modes"
   ]
  },
  {
   "cell_type": "code",
   "execution_count": 1,
   "metadata": {
    "collapsed": false
   },
   "outputs": [
    {
     "ename": "ImportError",
     "evalue": "No module named 'py_vlasov'",
     "output_type": "error",
     "traceback": [
      "\u001b[0;31m---------------------------------------------------------------------------\u001b[0m",
      "\u001b[0;31mImportError\u001b[0m                               Traceback (most recent call last)",
      "\u001b[0;32m<ipython-input-1-e57fa5ffeea0>\u001b[0m in \u001b[0;36m<module>\u001b[0;34m()\u001b[0m\n\u001b[1;32m      1\u001b[0m \u001b[0;32mimport\u001b[0m \u001b[0mnumpy\u001b[0m \u001b[0;32mas\u001b[0m \u001b[0mnp\u001b[0m\u001b[0;34m\u001b[0m\u001b[0m\n\u001b[1;32m      2\u001b[0m \u001b[0;32mimport\u001b[0m \u001b[0mscipy\u001b[0m\u001b[0;34m.\u001b[0m\u001b[0mspecial\u001b[0m\u001b[0;34m,\u001b[0m \u001b[0mscipy\u001b[0m\u001b[0;34m.\u001b[0m\u001b[0moptimize\u001b[0m\u001b[0;34m\u001b[0m\u001b[0m\n\u001b[0;32m----> 3\u001b[0;31m \u001b[0;32mfrom\u001b[0m \u001b[0mpy_vlasov\u001b[0m\u001b[0;34m.\u001b[0m\u001b[0mdispersion_tensor\u001b[0m \u001b[0;32mimport\u001b[0m \u001b[0mdt_wrapper\u001b[0m\u001b[0;34m\u001b[0m\u001b[0m\n\u001b[0m\u001b[1;32m      4\u001b[0m \u001b[0;32mfrom\u001b[0m \u001b[0mpy_vlasov\u001b[0m\u001b[0;34m.\u001b[0m\u001b[0mutil\u001b[0m \u001b[0;32mimport\u001b[0m \u001b[0;34m(\u001b[0m\u001b[0mreal_imag\u001b[0m\u001b[0;34m,\u001b[0m \u001b[0mlist_to_complex\u001b[0m\u001b[0;34m)\u001b[0m\u001b[0;34m\u001b[0m\u001b[0m\n\u001b[1;32m      5\u001b[0m \u001b[0;32mimport\u001b[0m \u001b[0mmatplotlib\u001b[0m\u001b[0;34m.\u001b[0m\u001b[0mpyplot\u001b[0m \u001b[0;32mas\u001b[0m \u001b[0mplt\u001b[0m\u001b[0;34m\u001b[0m\u001b[0m\n",
      "\u001b[0;31mImportError\u001b[0m: No module named 'py_vlasov'"
     ]
    }
   ],
   "source": [
    "import numpy as np\n",
    "import scipy.special, scipy.optimize\n",
    "from py_vlasov.dispersion_tensor import dt_wrapper\n",
    "from py_vlasov.util import (real_imag, list_to_complex)\n",
    "import matplotlib.pyplot as plt\n",
    "%matplotlib inline"
   ]
  },
  {
   "cell_type": "code",
   "execution_count": 3,
   "metadata": {
    "collapsed": false
   },
   "outputs": [],
   "source": [
    "import os"
   ]
  },
  {
   "cell_type": "code",
   "execution_count": 4,
   "metadata": {
    "collapsed": true
   },
   "outputs": [],
   "source": [
    "os.getenv('PYTHONPATH')"
   ]
  },
  {
   "cell_type": "markdown",
   "metadata": {},
   "source": [
    "###### To find the dispersion relation of Alfven or slow mode, we first adjust beta, then adjust angle, and finally deal with the right k"
   ]
  },
  {
   "cell_type": "markdown",
   "metadata": {},
   "source": [
    "###### seed"
   ]
  },
  {
   "cell_type": "markdown",
   "metadata": {},
   "source": [
    "###### angle = 85 k = 0.1 beta = 0.2 freq = 0.01190802-0.00635779j"
   ]
  },
  {
   "cell_type": "code",
   "execution_count": null,
   "metadata": {
    "collapsed": false
   },
   "outputs": [],
   "source": [
    "mass_ratio = 100\n",
    "seed_angle = 85\n",
    "seed_beta = 0.2\n",
    "seed_k = 0.1\n",
    "seed_freq = 0.01190802-0.00635779j # slow mode\n",
    "#seed_freq = 0.26147871 -0.00747444j # fast mode\n",
    "#seed_freq = 1.95444741e-02 -6.32084029e-06j # alfven mode\n",
    "target_angle = 89.95\n",
    "target_beta = 1.\n",
    "target_k = 4."
   ]
  },
  {
   "cell_type": "markdown",
   "metadata": {},
   "source": [
    "###### now lets first adjust angle to 89.9 degrees"
   ]
  },
  {
   "cell_type": "code",
   "execution_count": null,
   "metadata": {
    "collapsed": false
   },
   "outputs": [],
   "source": [
    "beta = seed_beta\n",
    "k = seed_k\n",
    "theta = seed_angle\n",
    "start = seed_angle\n",
    "stop = target_angle\n",
    "num = 20\n",
    "angle_list_1 = np.linspace(start, stop, num, endpoint=True)\n",
    "print(angle_list_1)"
   ]
  },
  {
   "cell_type": "code",
   "execution_count": null,
   "metadata": {
    "collapsed": false
   },
   "outputs": [],
   "source": [
    "theta = seed_angle\n",
    "theta = theta * np.pi/180.\n",
    "result_1 = [seed_freq]\n",
    "for i in list(range(num))[1:]:\n",
    "    theta = angle_list_1[i]\n",
    "    theta = theta * np.pi/180.\n",
    "    kz = k * np.cos(theta)\n",
    "    kp = k * np.sin(theta)\n",
    "    f = lambda wrel: real_imag(dt_wrapper(wrel[0] + 1j * wrel[1], kp, kz, beta, tetp = 1, method = 'numpy', mratio=mass_ratio))\n",
    "    prev_angle = angle_list_1[i-1]\n",
    "    guess = result_1[-1] * np.cos(theta)/ np.cos( prev_angle * np.pi/180)\n",
    "    freq = scipy.optimize.fsolve(f, real_imag(guess))\n",
    "    result_1 += [list_to_complex(freq)]"
   ]
  },
  {
   "cell_type": "code",
   "execution_count": null,
   "metadata": {
    "collapsed": false
   },
   "outputs": [],
   "source": [
    "result_1"
   ]
  },
  {
   "cell_type": "markdown",
   "metadata": {},
   "source": [
    "###### then we adjust beta value"
   ]
  },
  {
   "cell_type": "code",
   "execution_count": null,
   "metadata": {
    "collapsed": false
   },
   "outputs": [],
   "source": [
    "theta = target_angle\n",
    "theta = theta * np.pi/180\n",
    "kz = 0.1 * np.cos(theta)\n",
    "kp = 0.1 * np.sin(theta)\n",
    "beta = seed_beta"
   ]
  },
  {
   "cell_type": "code",
   "execution_count": null,
   "metadata": {
    "collapsed": false
   },
   "outputs": [],
   "source": [
    "start = np.log10(seed_beta)\n",
    "stop = np.log10(target_beta)\n",
    "num = 10\n",
    "beta_list = np.logspace(start, stop, num, endpoint = True)\n",
    "print(beta_list)"
   ]
  },
  {
   "cell_type": "code",
   "execution_count": null,
   "metadata": {
    "collapsed": false
   },
   "outputs": [],
   "source": [
    "result_2 = [result_1[-1]]\n",
    "for beta in beta_list[1:]:\n",
    "    f = lambda wrel: real_imag(dt_wrapper(wrel[0] + 1j * wrel[1], kp, kz, beta, tetp = 1, method = 'numpy', mratio=mass_ratio))\n",
    "    freq = scipy.optimize.fsolve(f, real_imag(result_2[-1]))\n",
    "    print(result_2[-1])\n",
    "    result_2 += [list_to_complex(freq)]"
   ]
  },
  {
   "cell_type": "markdown",
   "metadata": {},
   "source": [
    "###### then we extend to larger k value"
   ]
  },
  {
   "cell_type": "code",
   "execution_count": null,
   "metadata": {
    "collapsed": false
   },
   "outputs": [],
   "source": [
    "beta = target_beta\n",
    "theta = target_angle\n",
    "theta = theta * np.pi/180"
   ]
  },
  {
   "cell_type": "code",
   "execution_count": null,
   "metadata": {
    "collapsed": false
   },
   "outputs": [],
   "source": [
    "start = np.log10(seed_k)\n",
    "stop = np.log10(target_k)\n",
    "num = 20\n",
    "klist = np.logspace(start, stop, num=num, endpoint=True)\n",
    "print(klist)"
   ]
  },
  {
   "cell_type": "code",
   "execution_count": null,
   "metadata": {
    "collapsed": false
   },
   "outputs": [],
   "source": [
    "result_3 = [result_2[-1]]\n",
    "for k in klist[1:]:\n",
    "    kz = k * np.cos(theta)\n",
    "    kp = k * np.sin(theta)\n",
    "    f = lambda wrel: real_imag(dt_wrapper(wrel[0] + 1j * wrel[1], kp, kz, beta, tetp = 1, method = 'numpy', mratio=mass_ratio))\n",
    "    freq = scipy.optimize.fsolve(f, real_imag(result_3[-1]))\n",
    "    result_3 += [list_to_complex(freq)]"
   ]
  },
  {
   "cell_type": "code",
   "execution_count": null,
   "metadata": {
    "collapsed": false
   },
   "outputs": [],
   "source": [
    "result_3"
   ]
  },
  {
   "cell_type": "markdown",
   "metadata": {},
   "source": [
    "###### normalize to dimensionless frequency: $\\bar{\\omega}\\equiv \\omega/k_z v_A$"
   ]
  },
  {
   "cell_type": "code",
   "execution_count": null,
   "metadata": {
    "collapsed": false
   },
   "outputs": [],
   "source": [
    "theta = target_angle * np.pi/180\n",
    "kz = target_k * np.cos(theta)\n",
    "print(kz)\n",
    "w = result_3[-1]\n",
    "print(w)\n",
    "w_bar = w/kz * np.sqrt(target_beta)\n",
    "print(w_bar)"
   ]
  },
  {
   "cell_type": "markdown",
   "metadata": {},
   "source": [
    "### Reference: Alfven mode guess"
   ]
  },
  {
   "cell_type": "code",
   "execution_count": null,
   "metadata": {
    "collapsed": false
   },
   "outputs": [],
   "source": [
    "theta = target_angle * np.pi/180\n",
    "kz = target_k * np.cos(theta)\n",
    "kp = target_k * np.sin(theta)\n",
    "beta = target_beta\n",
    "alfven = kz/np.sqrt(beta)\n",
    "print(alfven)"
   ]
  },
  {
   "cell_type": "code",
   "execution_count": null,
   "metadata": {
    "collapsed": false
   },
   "outputs": [],
   "source": [
    "f = lambda wrel: real_imag(dt_wrapper(wrel[0] + 1j * wrel[1], kp, kz, beta, tetp = 1, method = 'numpy'))\n",
    "freq = scipy.optimize.fsolve(f, [alfven, 0])\n",
    "print(freq)"
   ]
  },
  {
   "cell_type": "code",
   "execution_count": null,
   "metadata": {
    "collapsed": false
   },
   "outputs": [],
   "source": []
  }
 ],
 "metadata": {
  "kernelspec": {
   "display_name": "Python 3",
   "language": "python",
   "name": "python3"
  },
  "language_info": {
   "codemirror_mode": {
    "name": "ipython",
    "version": 3
   },
   "file_extension": ".py",
   "mimetype": "text/x-python",
   "name": "python",
   "nbconvert_exporter": "python",
   "pygments_lexer": "ipython3",
   "version": "3.4.3"
  }
 },
 "nbformat": 4,
 "nbformat_minor": 0
}
